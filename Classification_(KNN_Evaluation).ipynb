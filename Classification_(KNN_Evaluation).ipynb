{
  "nbformat": 4,
  "nbformat_minor": 0,
  "metadata": {
    "colab": {
      "name": "Classification_(KNN_Evaluation).ipynb",
      "provenance": [],
      "authorship_tag": "ABX9TyP9CJX/PcbbnpiQYMZpsTT1",
      "include_colab_link": true
    },
    "kernelspec": {
      "name": "python3",
      "display_name": "Python 3"
    },
    "language_info": {
      "name": "python"
    }
  },
  "cells": [
    {
      "cell_type": "markdown",
      "metadata": {
        "id": "view-in-github",
        "colab_type": "text"
      },
      "source": [
        "<a href=\"https://colab.research.google.com/github/Anusarakh/DPDM2021/blob/main/Classification_(KNN_Evaluation).ipynb\" target=\"_parent\"><img src=\"https://colab.research.google.com/assets/colab-badge.svg\" alt=\"Open In Colab\"/></a>"
      ]
    },
    {
      "cell_type": "markdown",
      "metadata": {
        "id": "XbB4aEXs3E2W"
      },
      "source": [
        "## Load data"
      ]
    },
    {
      "cell_type": "code",
      "metadata": {
        "id": "81gEHBjI3Aqj"
      },
      "source": [
        "from sklearn import datasets\n",
        "mnist_data = datasets.load_digits()\n",
        "\n",
        "X = mnist_data['data']\n",
        "Y = mnist_data['target']"
      ],
      "execution_count": 1,
      "outputs": []
    },
    {
      "cell_type": "markdown",
      "metadata": {
        "id": "ElVzsPIA3S6y"
      },
      "source": [
        "## Split data"
      ]
    },
    {
      "cell_type": "code",
      "metadata": {
        "id": "ASm6kHk93M9f"
      },
      "source": [
        "from sklearn.model_selection import train_test_split\n",
        "X_train, X_test, y_train, y_test = train_test_split(X, Y, test_size=0.5, random_state=6)\n",
        "X_traintrain, X_val, y_traintrain, y_val = train_test_split(X_train, y_train, test_size=0.3, random_state=6)"
      ],
      "execution_count": 2,
      "outputs": []
    },
    {
      "cell_type": "markdown",
      "metadata": {
        "id": "Iq1cHQ_83frw"
      },
      "source": [
        "## KNN"
      ]
    },
    {
      "cell_type": "markdown",
      "metadata": {
        "id": "HOnRwMbs3l93"
      },
      "source": [
        "### import"
      ]
    },
    {
      "cell_type": "code",
      "metadata": {
        "id": "wGnZPy763ScP"
      },
      "source": [
        "from sklearn.neighbors import KNeighborsClassifier"
      ],
      "execution_count": 4,
      "outputs": []
    },
    {
      "cell_type": "markdown",
      "metadata": {
        "id": "0Nw0jao_3sM_"
      },
      "source": [
        "### Define-Train Model1"
      ]
    },
    {
      "cell_type": "code",
      "metadata": {
        "colab": {
          "base_uri": "https://localhost:8080/"
        },
        "id": "eD7TPTRx3bju",
        "outputId": "cedcafb8-f5a1-4f57-d835-1ac1f27ea19f"
      },
      "source": [
        "neigh1 = KNeighborsClassifier(n_neighbors=1) #เชื่อใกล้สุดแค่คนเดียว\n",
        "neigh1.fit(X_traintrain,y_traintrain)"
      ],
      "execution_count": 6,
      "outputs": [
        {
          "output_type": "execute_result",
          "data": {
            "text/plain": [
              "KNeighborsClassifier(algorithm='auto', leaf_size=30, metric='minkowski',\n",
              "                     metric_params=None, n_jobs=None, n_neighbors=1, p=2,\n",
              "                     weights='uniform')"
            ]
          },
          "metadata": {},
          "execution_count": 6
        }
      ]
    },
    {
      "cell_type": "markdown",
      "metadata": {
        "id": "JUXLXbrZ31i7"
      },
      "source": [
        "### Define-Train Model2"
      ]
    },
    {
      "cell_type": "code",
      "metadata": {
        "colab": {
          "base_uri": "https://localhost:8080/"
        },
        "id": "EEUslhd43vUU",
        "outputId": "b5ff4939-8e48-4a63-f7c5-6e0f67eac067"
      },
      "source": [
        "neigh2 = KNeighborsClassifier(n_neighbors=5,weights='distance') #เชื่อคนใกล้มากว่าคนไกล\n",
        "neigh2.fit(X_traintrain,y_traintrain)"
      ],
      "execution_count": 7,
      "outputs": [
        {
          "output_type": "execute_result",
          "data": {
            "text/plain": [
              "KNeighborsClassifier(algorithm='auto', leaf_size=30, metric='minkowski',\n",
              "                     metric_params=None, n_jobs=None, n_neighbors=5, p=2,\n",
              "                     weights='distance')"
            ]
          },
          "metadata": {},
          "execution_count": 7
        }
      ]
    },
    {
      "cell_type": "markdown",
      "metadata": {
        "id": "j0OYfvyW39QD"
      },
      "source": [
        "### Define-Train Model3"
      ]
    },
    {
      "cell_type": "code",
      "metadata": {
        "colab": {
          "base_uri": "https://localhost:8080/"
        },
        "id": "Y_hlMKTb33Nc",
        "outputId": "cea15050-8a18-4f77-b4eb-cbfa8e2a34e7"
      },
      "source": [
        "neigh3 = KNeighborsClassifier(n_neighbors=9,weights='distance') #เชื่อทุกคนเท่ากัน\n",
        "neigh3.fit(X_traintrain,y_traintrain)"
      ],
      "execution_count": 8,
      "outputs": [
        {
          "output_type": "execute_result",
          "data": {
            "text/plain": [
              "KNeighborsClassifier(algorithm='auto', leaf_size=30, metric='minkowski',\n",
              "                     metric_params=None, n_jobs=None, n_neighbors=9, p=2,\n",
              "                     weights='distance')"
            ]
          },
          "metadata": {},
          "execution_count": 8
        }
      ]
    },
    {
      "cell_type": "markdown",
      "metadata": {
        "id": "Nu3J94Qe4DGv"
      },
      "source": [
        "### Validate model"
      ]
    },
    {
      "cell_type": "code",
      "metadata": {
        "id": "u5wE9AlW4AaN"
      },
      "source": [
        "from sklearn.metrics import accuracy_score"
      ],
      "execution_count": 9,
      "outputs": []
    },
    {
      "cell_type": "code",
      "metadata": {
        "colab": {
          "base_uri": "https://localhost:8080/"
        },
        "id": "DHf6Y5-F4Gfj",
        "outputId": "2caae493-27d7-47ab-ff3e-9738aca571b5"
      },
      "source": [
        "knn1_result = neigh1.predict(X_val)\n",
        "accuracy_score(y_val,knn1_result)"
      ],
      "execution_count": 10,
      "outputs": [
        {
          "output_type": "execute_result",
          "data": {
            "text/plain": [
              "0.9777777777777777"
            ]
          },
          "metadata": {},
          "execution_count": 10
        }
      ]
    },
    {
      "cell_type": "code",
      "metadata": {
        "colab": {
          "base_uri": "https://localhost:8080/"
        },
        "id": "DAfAspPR4ILL",
        "outputId": "4ff32008-e894-47b2-d738-0fe7d9ef1712"
      },
      "source": [
        "knn2_result = neigh2.predict(X_val)\n",
        "accuracy_score(y_val,knn2_result)"
      ],
      "execution_count": 11,
      "outputs": [
        {
          "output_type": "execute_result",
          "data": {
            "text/plain": [
              "0.9777777777777777"
            ]
          },
          "metadata": {},
          "execution_count": 11
        }
      ]
    },
    {
      "cell_type": "code",
      "metadata": {
        "colab": {
          "base_uri": "https://localhost:8080/"
        },
        "id": "6UBXXMbw4Kwy",
        "outputId": "e3ff07ff-536b-4543-f764-d0858e2a9b77"
      },
      "source": [
        "knn3_result = neigh3.predict(X_val)\n",
        "accuracy_score(y_val,knn3_result)"
      ],
      "execution_count": 12,
      "outputs": [
        {
          "output_type": "execute_result",
          "data": {
            "text/plain": [
              "0.9703703703703703"
            ]
          },
          "metadata": {},
          "execution_count": 12
        }
      ]
    },
    {
      "cell_type": "markdown",
      "metadata": {
        "id": "j0IeA07k4QGH"
      },
      "source": [
        "## Evaluation"
      ]
    },
    {
      "cell_type": "markdown",
      "metadata": {
        "id": "bfRJAy8k4UJF"
      },
      "source": [
        "### retrain model with full training data"
      ]
    },
    {
      "cell_type": "code",
      "metadata": {
        "colab": {
          "base_uri": "https://localhost:8080/"
        },
        "id": "zR66tdKh4NPr",
        "outputId": "ec3b53b2-a643-4056-90d0-baa4b976a31b"
      },
      "source": [
        "neigh1full = KNeighborsClassifier(n_neighbors=1) #เชื่อใกล้สุดแค่คนเดียว\n",
        "neigh1full.fit(X_train,y_train)"
      ],
      "execution_count": 13,
      "outputs": [
        {
          "output_type": "execute_result",
          "data": {
            "text/plain": [
              "KNeighborsClassifier(algorithm='auto', leaf_size=30, metric='minkowski',\n",
              "                     metric_params=None, n_jobs=None, n_neighbors=1, p=2,\n",
              "                     weights='uniform')"
            ]
          },
          "metadata": {},
          "execution_count": 13
        }
      ]
    },
    {
      "cell_type": "code",
      "metadata": {
        "colab": {
          "base_uri": "https://localhost:8080/"
        },
        "id": "jJk3YSxY4Wxc",
        "outputId": "df0897e3-f481-498f-8bd4-94eb68ce8aa7"
      },
      "source": [
        "neigh2full = KNeighborsClassifier(n_neighbors=5,weights='distance') #เชื่อคนใกล้มากว่าคนไกล\n",
        "neigh2full.fit(X_train,y_train)"
      ],
      "execution_count": 14,
      "outputs": [
        {
          "output_type": "execute_result",
          "data": {
            "text/plain": [
              "KNeighborsClassifier(algorithm='auto', leaf_size=30, metric='minkowski',\n",
              "                     metric_params=None, n_jobs=None, n_neighbors=5, p=2,\n",
              "                     weights='distance')"
            ]
          },
          "metadata": {},
          "execution_count": 14
        }
      ]
    },
    {
      "cell_type": "markdown",
      "metadata": {
        "id": "vCQ7LmNX4dXL"
      },
      "source": [
        "### Evaluation"
      ]
    },
    {
      "cell_type": "code",
      "metadata": {
        "id": "QNcE7RWL4amT"
      },
      "source": [
        "from sklearn.metrics import classification_report, confusion_matrix"
      ],
      "execution_count": 15,
      "outputs": []
    },
    {
      "cell_type": "code",
      "metadata": {
        "colab": {
          "base_uri": "https://localhost:8080/"
        },
        "id": "HPQMDizD4lFz",
        "outputId": "218f94af-d6d2-4f59-f7a7-23646cccc856"
      },
      "source": [
        "cm1 = confusion_matrix(y_test,neigh1full.predict(X_test))\n",
        "cm1"
      ],
      "execution_count": 16,
      "outputs": [
        {
          "output_type": "execute_result",
          "data": {
            "text/plain": [
              "array([[99,  0,  0,  0,  0,  0,  0,  0,  0,  0],\n",
              "       [ 0, 92,  0,  0,  0,  0,  0,  0,  1,  0],\n",
              "       [ 1,  0, 98,  0,  0,  0,  0,  0,  1,  0],\n",
              "       [ 0,  0,  1, 77,  0,  0,  0,  0,  0,  1],\n",
              "       [ 0,  0,  0,  0, 95,  0,  0,  0,  0,  1],\n",
              "       [ 0,  0,  0,  0,  0, 91,  1,  0,  0,  0],\n",
              "       [ 0,  1,  0,  0,  0,  0, 84,  0,  0,  0],\n",
              "       [ 0,  0,  0,  0,  0,  0,  0, 94,  0,  0],\n",
              "       [ 0,  1,  0,  1,  0,  0,  0,  0, 80,  1],\n",
              "       [ 0,  0,  0,  2,  0,  3,  0,  0,  0, 73]])"
            ]
          },
          "metadata": {},
          "execution_count": 16
        }
      ]
    },
    {
      "cell_type": "code",
      "metadata": {
        "colab": {
          "base_uri": "https://localhost:8080/"
        },
        "id": "x4Ag_M7B4mfL",
        "outputId": "d483b180-31ec-4e16-ca7b-6b56b1ae86bd"
      },
      "source": [
        "cm2 = confusion_matrix(y_test,neigh2full.predict(X_test))\n",
        "cm2"
      ],
      "execution_count": 17,
      "outputs": [
        {
          "output_type": "execute_result",
          "data": {
            "text/plain": [
              "array([[99,  0,  0,  0,  0,  0,  0,  0,  0,  0],\n",
              "       [ 0, 93,  0,  0,  0,  0,  0,  0,  0,  0],\n",
              "       [ 1,  0, 97,  1,  0,  0,  0,  1,  0,  0],\n",
              "       [ 0,  0,  1, 78,  0,  0,  0,  0,  0,  0],\n",
              "       [ 0,  0,  0,  0, 95,  0,  0,  0,  0,  1],\n",
              "       [ 0,  0,  0,  0,  0, 92,  0,  0,  0,  0],\n",
              "       [ 0,  1,  0,  0,  0,  0, 84,  0,  0,  0],\n",
              "       [ 0,  0,  0,  0,  0,  0,  0, 94,  0,  0],\n",
              "       [ 0,  2,  0,  2,  0,  0,  1,  0, 77,  1],\n",
              "       [ 0,  0,  0,  2,  0,  2,  0,  0,  0, 74]])"
            ]
          },
          "metadata": {},
          "execution_count": 17
        }
      ]
    },
    {
      "cell_type": "code",
      "metadata": {
        "colab": {
          "base_uri": "https://localhost:8080/"
        },
        "id": "uMhtNGZC4of7",
        "outputId": "574d4bf9-7102-4ea0-eb97-985e97f7ed3f"
      },
      "source": [
        "cr1 = classification_report(y_test,neigh1full.predict(X_test))\n",
        "print(cr1)"
      ],
      "execution_count": 18,
      "outputs": [
        {
          "output_type": "stream",
          "name": "stdout",
          "text": [
            "              precision    recall  f1-score   support\n",
            "\n",
            "           0       0.99      1.00      0.99        99\n",
            "           1       0.98      0.99      0.98        93\n",
            "           2       0.99      0.98      0.98       100\n",
            "           3       0.96      0.97      0.97        79\n",
            "           4       1.00      0.99      0.99        96\n",
            "           5       0.97      0.99      0.98        92\n",
            "           6       0.99      0.99      0.99        85\n",
            "           7       1.00      1.00      1.00        94\n",
            "           8       0.98      0.96      0.97        83\n",
            "           9       0.96      0.94      0.95        78\n",
            "\n",
            "    accuracy                           0.98       899\n",
            "   macro avg       0.98      0.98      0.98       899\n",
            "weighted avg       0.98      0.98      0.98       899\n",
            "\n"
          ]
        }
      ]
    },
    {
      "cell_type": "code",
      "metadata": {
        "colab": {
          "base_uri": "https://localhost:8080/"
        },
        "id": "niN-P6tr4rkc",
        "outputId": "09836701-89a0-4143-fd72-3305b3555d3e"
      },
      "source": [
        "cr2 = classification_report(y_test,neigh2full.predict(X_test))\n",
        "print(cr2)"
      ],
      "execution_count": 19,
      "outputs": [
        {
          "output_type": "stream",
          "name": "stdout",
          "text": [
            "              precision    recall  f1-score   support\n",
            "\n",
            "           0       0.99      1.00      0.99        99\n",
            "           1       0.97      1.00      0.98        93\n",
            "           2       0.99      0.97      0.98       100\n",
            "           3       0.94      0.99      0.96        79\n",
            "           4       1.00      0.99      0.99        96\n",
            "           5       0.98      1.00      0.99        92\n",
            "           6       0.99      0.99      0.99        85\n",
            "           7       0.99      1.00      0.99        94\n",
            "           8       1.00      0.93      0.96        83\n",
            "           9       0.97      0.95      0.96        78\n",
            "\n",
            "    accuracy                           0.98       899\n",
            "   macro avg       0.98      0.98      0.98       899\n",
            "weighted avg       0.98      0.98      0.98       899\n",
            "\n"
          ]
        }
      ]
    },
    {
      "cell_type": "code",
      "metadata": {
        "id": "0IiAXFTs4tqz"
      },
      "source": [
        ""
      ],
      "execution_count": null,
      "outputs": []
    }
  ]
}