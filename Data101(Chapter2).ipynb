{
  "nbformat": 4,
  "nbformat_minor": 0,
  "metadata": {
    "colab": {
      "name": "Data101(Chapter2).ipynb",
      "provenance": [],
      "authorship_tag": "ABX9TyOwusK9QkdQrikSuiC91tro",
      "include_colab_link": true
    },
    "kernelspec": {
      "name": "python3",
      "display_name": "Python 3"
    },
    "language_info": {
      "name": "python"
    }
  },
  "cells": [
    {
      "cell_type": "markdown",
      "metadata": {
        "id": "view-in-github",
        "colab_type": "text"
      },
      "source": [
        "<a href=\"https://colab.research.google.com/github/Anusarakh/DPDM2021/blob/main/Data101(Chapter2).ipynb\" target=\"_parent\"><img src=\"https://colab.research.google.com/assets/colab-badge.svg\" alt=\"Open In Colab\"/></a>"
      ]
    },
    {
      "cell_type": "code",
      "metadata": {
        "id": "k9hqd0W1_Ao-"
      },
      "source": [
        "import pandas \n"
      ],
      "execution_count": null,
      "outputs": []
    },
    {
      "cell_type": "code",
      "metadata": {
        "id": "pon1KRH1_xmG"
      },
      "source": [
        "import pandas as pd #โหลด packge ที่ชื่อว่า pandas มาใช้ แล้วตั้งชื่อว่า pd"
      ],
      "execution_count": null,
      "outputs": []
    },
    {
      "cell_type": "markdown",
      "metadata": {
        "id": "rjPgurYdBO8E"
      },
      "source": [
        "ไฟล์ csv. (csv=comma separated values)"
      ]
    },
    {
      "cell_type": "code",
      "metadata": {
        "id": "FTeo05mhF-5p",
        "colab": {
          "base_uri": "https://localhost:8080/",
          "height": 555
        },
        "outputId": "898649d3-a25b-44e9-9018-236b10adc067"
      },
      "source": [
        "from google.colab import drive\n",
        "drive.mount('/content/drive')"
      ],
      "execution_count": null,
      "outputs": [
        {
          "output_type": "error",
          "ename": "KeyboardInterrupt",
          "evalue": "ignored",
          "traceback": [
            "\u001b[0;31m---------------------------------------------------------------------------\u001b[0m",
            "\u001b[0;31mKeyboardInterrupt\u001b[0m                         Traceback (most recent call last)",
            "\u001b[0;32m/usr/local/lib/python3.7/dist-packages/ipykernel/kernelbase.py\u001b[0m in \u001b[0;36m_input_request\u001b[0;34m(self, prompt, ident, parent, password)\u001b[0m\n\u001b[1;32m    728\u001b[0m             \u001b[0;32mtry\u001b[0m\u001b[0;34m:\u001b[0m\u001b[0;34m\u001b[0m\u001b[0;34m\u001b[0m\u001b[0m\n\u001b[0;32m--> 729\u001b[0;31m                 \u001b[0mident\u001b[0m\u001b[0;34m,\u001b[0m \u001b[0mreply\u001b[0m \u001b[0;34m=\u001b[0m \u001b[0mself\u001b[0m\u001b[0;34m.\u001b[0m\u001b[0msession\u001b[0m\u001b[0;34m.\u001b[0m\u001b[0mrecv\u001b[0m\u001b[0;34m(\u001b[0m\u001b[0mself\u001b[0m\u001b[0;34m.\u001b[0m\u001b[0mstdin_socket\u001b[0m\u001b[0;34m,\u001b[0m \u001b[0;36m0\u001b[0m\u001b[0;34m)\u001b[0m\u001b[0;34m\u001b[0m\u001b[0;34m\u001b[0m\u001b[0m\n\u001b[0m\u001b[1;32m    730\u001b[0m             \u001b[0;32mexcept\u001b[0m \u001b[0mException\u001b[0m\u001b[0;34m:\u001b[0m\u001b[0;34m\u001b[0m\u001b[0;34m\u001b[0m\u001b[0m\n",
            "\u001b[0;32m/usr/local/lib/python3.7/dist-packages/jupyter_client/session.py\u001b[0m in \u001b[0;36mrecv\u001b[0;34m(self, socket, mode, content, copy)\u001b[0m\n\u001b[1;32m    802\u001b[0m         \u001b[0;32mtry\u001b[0m\u001b[0;34m:\u001b[0m\u001b[0;34m\u001b[0m\u001b[0;34m\u001b[0m\u001b[0m\n\u001b[0;32m--> 803\u001b[0;31m             \u001b[0mmsg_list\u001b[0m \u001b[0;34m=\u001b[0m \u001b[0msocket\u001b[0m\u001b[0;34m.\u001b[0m\u001b[0mrecv_multipart\u001b[0m\u001b[0;34m(\u001b[0m\u001b[0mmode\u001b[0m\u001b[0;34m,\u001b[0m \u001b[0mcopy\u001b[0m\u001b[0;34m=\u001b[0m\u001b[0mcopy\u001b[0m\u001b[0;34m)\u001b[0m\u001b[0;34m\u001b[0m\u001b[0;34m\u001b[0m\u001b[0m\n\u001b[0m\u001b[1;32m    804\u001b[0m         \u001b[0;32mexcept\u001b[0m \u001b[0mzmq\u001b[0m\u001b[0;34m.\u001b[0m\u001b[0mZMQError\u001b[0m \u001b[0;32mas\u001b[0m \u001b[0me\u001b[0m\u001b[0;34m:\u001b[0m\u001b[0;34m\u001b[0m\u001b[0;34m\u001b[0m\u001b[0m\n",
            "\u001b[0;32m/usr/local/lib/python3.7/dist-packages/zmq/sugar/socket.py\u001b[0m in \u001b[0;36mrecv_multipart\u001b[0;34m(self, flags, copy, track)\u001b[0m\n\u001b[1;32m    582\u001b[0m         \"\"\"\n\u001b[0;32m--> 583\u001b[0;31m         \u001b[0mparts\u001b[0m \u001b[0;34m=\u001b[0m \u001b[0;34m[\u001b[0m\u001b[0mself\u001b[0m\u001b[0;34m.\u001b[0m\u001b[0mrecv\u001b[0m\u001b[0;34m(\u001b[0m\u001b[0mflags\u001b[0m\u001b[0;34m,\u001b[0m \u001b[0mcopy\u001b[0m\u001b[0;34m=\u001b[0m\u001b[0mcopy\u001b[0m\u001b[0;34m,\u001b[0m \u001b[0mtrack\u001b[0m\u001b[0;34m=\u001b[0m\u001b[0mtrack\u001b[0m\u001b[0;34m)\u001b[0m\u001b[0;34m]\u001b[0m\u001b[0;34m\u001b[0m\u001b[0;34m\u001b[0m\u001b[0m\n\u001b[0m\u001b[1;32m    584\u001b[0m         \u001b[0;31m# have first part already, only loop while more to receive\u001b[0m\u001b[0;34m\u001b[0m\u001b[0;34m\u001b[0m\u001b[0;34m\u001b[0m\u001b[0m\n",
            "\u001b[0;32mzmq/backend/cython/socket.pyx\u001b[0m in \u001b[0;36mzmq.backend.cython.socket.Socket.recv\u001b[0;34m()\u001b[0m\n",
            "\u001b[0;32mzmq/backend/cython/socket.pyx\u001b[0m in \u001b[0;36mzmq.backend.cython.socket.Socket.recv\u001b[0;34m()\u001b[0m\n",
            "\u001b[0;32mzmq/backend/cython/socket.pyx\u001b[0m in \u001b[0;36mzmq.backend.cython.socket._recv_copy\u001b[0;34m()\u001b[0m\n",
            "\u001b[0;32m/usr/local/lib/python3.7/dist-packages/zmq/backend/cython/checkrc.pxd\u001b[0m in \u001b[0;36mzmq.backend.cython.checkrc._check_rc\u001b[0;34m()\u001b[0m\n",
            "\u001b[0;31mKeyboardInterrupt\u001b[0m: ",
            "\nDuring handling of the above exception, another exception occurred:\n",
            "\u001b[0;31mKeyboardInterrupt\u001b[0m                         Traceback (most recent call last)",
            "\u001b[0;32m<ipython-input-9-d5df0069828e>\u001b[0m in \u001b[0;36m<module>\u001b[0;34m()\u001b[0m\n\u001b[1;32m      1\u001b[0m \u001b[0;32mfrom\u001b[0m \u001b[0mgoogle\u001b[0m\u001b[0;34m.\u001b[0m\u001b[0mcolab\u001b[0m \u001b[0;32mimport\u001b[0m \u001b[0mdrive\u001b[0m\u001b[0;34m\u001b[0m\u001b[0;34m\u001b[0m\u001b[0m\n\u001b[0;32m----> 2\u001b[0;31m \u001b[0mdrive\u001b[0m\u001b[0;34m.\u001b[0m\u001b[0mmount\u001b[0m\u001b[0;34m(\u001b[0m\u001b[0;34m'/content/drive'\u001b[0m\u001b[0;34m)\u001b[0m\u001b[0;34m\u001b[0m\u001b[0;34m\u001b[0m\u001b[0m\n\u001b[0m",
            "\u001b[0;32m/usr/local/lib/python3.7/dist-packages/google/colab/drive.py\u001b[0m in \u001b[0;36mmount\u001b[0;34m(mountpoint, force_remount, timeout_ms, use_metadata_server)\u001b[0m\n\u001b[1;32m    258\u001b[0m       \u001b[0;32mwith\u001b[0m \u001b[0m_output\u001b[0m\u001b[0;34m.\u001b[0m\u001b[0muse_tags\u001b[0m\u001b[0;34m(\u001b[0m\u001b[0;34m'dfs-auth-dance'\u001b[0m\u001b[0;34m)\u001b[0m\u001b[0;34m:\u001b[0m\u001b[0;34m\u001b[0m\u001b[0;34m\u001b[0m\u001b[0m\n\u001b[1;32m    259\u001b[0m         \u001b[0;32mwith\u001b[0m \u001b[0mopen\u001b[0m\u001b[0;34m(\u001b[0m\u001b[0mfifo\u001b[0m\u001b[0;34m,\u001b[0m \u001b[0;34m'w'\u001b[0m\u001b[0;34m)\u001b[0m \u001b[0;32mas\u001b[0m \u001b[0mfifo_file\u001b[0m\u001b[0;34m:\u001b[0m\u001b[0;34m\u001b[0m\u001b[0;34m\u001b[0m\u001b[0m\n\u001b[0;32m--> 260\u001b[0;31m           \u001b[0mfifo_file\u001b[0m\u001b[0;34m.\u001b[0m\u001b[0mwrite\u001b[0m\u001b[0;34m(\u001b[0m\u001b[0mget_code\u001b[0m\u001b[0;34m(\u001b[0m\u001b[0mauth_prompt\u001b[0m\u001b[0;34m)\u001b[0m \u001b[0;34m+\u001b[0m \u001b[0;34m'\\n'\u001b[0m\u001b[0;34m)\u001b[0m\u001b[0;34m\u001b[0m\u001b[0;34m\u001b[0m\u001b[0m\n\u001b[0m\u001b[1;32m    261\u001b[0m       \u001b[0mwrote_to_fifo\u001b[0m \u001b[0;34m=\u001b[0m \u001b[0;32mTrue\u001b[0m\u001b[0;34m\u001b[0m\u001b[0;34m\u001b[0m\u001b[0m\n\u001b[1;32m    262\u001b[0m     \u001b[0;32melif\u001b[0m \u001b[0mcase\u001b[0m \u001b[0;34m==\u001b[0m \u001b[0;36m5\u001b[0m\u001b[0;34m:\u001b[0m\u001b[0;34m\u001b[0m\u001b[0;34m\u001b[0m\u001b[0m\n",
            "\u001b[0;32m/usr/local/lib/python3.7/dist-packages/ipykernel/kernelbase.py\u001b[0m in \u001b[0;36mraw_input\u001b[0;34m(self, prompt)\u001b[0m\n\u001b[1;32m    702\u001b[0m             \u001b[0mself\u001b[0m\u001b[0;34m.\u001b[0m\u001b[0m_parent_ident\u001b[0m\u001b[0;34m,\u001b[0m\u001b[0;34m\u001b[0m\u001b[0;34m\u001b[0m\u001b[0m\n\u001b[1;32m    703\u001b[0m             \u001b[0mself\u001b[0m\u001b[0;34m.\u001b[0m\u001b[0m_parent_header\u001b[0m\u001b[0;34m,\u001b[0m\u001b[0;34m\u001b[0m\u001b[0;34m\u001b[0m\u001b[0m\n\u001b[0;32m--> 704\u001b[0;31m             \u001b[0mpassword\u001b[0m\u001b[0;34m=\u001b[0m\u001b[0;32mFalse\u001b[0m\u001b[0;34m,\u001b[0m\u001b[0;34m\u001b[0m\u001b[0;34m\u001b[0m\u001b[0m\n\u001b[0m\u001b[1;32m    705\u001b[0m         )\n\u001b[1;32m    706\u001b[0m \u001b[0;34m\u001b[0m\u001b[0m\n",
            "\u001b[0;32m/usr/local/lib/python3.7/dist-packages/ipykernel/kernelbase.py\u001b[0m in \u001b[0;36m_input_request\u001b[0;34m(self, prompt, ident, parent, password)\u001b[0m\n\u001b[1;32m    732\u001b[0m             \u001b[0;32mexcept\u001b[0m \u001b[0mKeyboardInterrupt\u001b[0m\u001b[0;34m:\u001b[0m\u001b[0;34m\u001b[0m\u001b[0;34m\u001b[0m\u001b[0m\n\u001b[1;32m    733\u001b[0m                 \u001b[0;31m# re-raise KeyboardInterrupt, to truncate traceback\u001b[0m\u001b[0;34m\u001b[0m\u001b[0;34m\u001b[0m\u001b[0;34m\u001b[0m\u001b[0m\n\u001b[0;32m--> 734\u001b[0;31m                 \u001b[0;32mraise\u001b[0m \u001b[0mKeyboardInterrupt\u001b[0m\u001b[0;34m\u001b[0m\u001b[0;34m\u001b[0m\u001b[0m\n\u001b[0m\u001b[1;32m    735\u001b[0m             \u001b[0;32melse\u001b[0m\u001b[0;34m:\u001b[0m\u001b[0;34m\u001b[0m\u001b[0;34m\u001b[0m\u001b[0m\n\u001b[1;32m    736\u001b[0m                 \u001b[0;32mbreak\u001b[0m\u001b[0;34m\u001b[0m\u001b[0;34m\u001b[0m\u001b[0m\n",
            "\u001b[0;31mKeyboardInterrupt\u001b[0m: "
          ]
        }
      ]
    },
    {
      "cell_type": "code",
      "metadata": {
        "id": "NAIU6eFtBFzO"
      },
      "source": [
        "data_df = pd.read_csv('data.csv')"
      ],
      "execution_count": null,
      "outputs": []
    },
    {
      "cell_type": "code",
      "metadata": {
        "id": "_o5rvm3uEF-_",
        "colab": {
          "base_uri": "https://localhost:8080/",
          "height": 110
        },
        "outputId": "d4694328-1d66-4887-acf9-77aa80c35d78"
      },
      "source": [
        "data_df"
      ],
      "execution_count": null,
      "outputs": [
        {
          "output_type": "execute_result",
          "data": {
            "text/html": [
              "<div>\n",
              "<style scoped>\n",
              "    .dataframe tbody tr th:only-of-type {\n",
              "        vertical-align: middle;\n",
              "    }\n",
              "\n",
              "    .dataframe tbody tr th {\n",
              "        vertical-align: top;\n",
              "    }\n",
              "\n",
              "    .dataframe thead th {\n",
              "        text-align: right;\n",
              "    }\n",
              "</style>\n",
              "<table border=\"1\" class=\"dataframe\">\n",
              "  <thead>\n",
              "    <tr style=\"text-align: right;\">\n",
              "      <th></th>\n",
              "      <th>car_id</th>\n",
              "      <th>model</th>\n",
              "      <th>year</th>\n",
              "      <th>value</th>\n",
              "      <th>person_id</th>\n",
              "    </tr>\n",
              "  </thead>\n",
              "  <tbody>\n",
              "    <tr>\n",
              "      <th>0</th>\n",
              "      <td>101</td>\n",
              "      <td>bentley</td>\n",
              "      <td>1973</td>\n",
              "      <td>100000</td>\n",
              "      <td>1</td>\n",
              "    </tr>\n",
              "    <tr>\n",
              "      <th>1</th>\n",
              "      <td>102</td>\n",
              "      <td>rolls royce</td>\n",
              "      <td>1965</td>\n",
              "      <td>330000</td>\n",
              "      <td>1</td>\n",
              "    </tr>\n",
              "  </tbody>\n",
              "</table>\n",
              "</div>"
            ],
            "text/plain": [
              "   car_id        model  year   value  person_id\n",
              "0     101      bentley  1973  100000          1\n",
              "1     102  rolls royce  1965  330000          1"
            ]
          },
          "metadata": {
            "tags": []
          },
          "execution_count": 11
        }
      ]
    },
    {
      "cell_type": "markdown",
      "metadata": {
        "id": "ERpbUKzmKXcr"
      },
      "source": [
        "# Basic Python"
      ]
    },
    {
      "cell_type": "markdown",
      "metadata": {
        "id": "bEOxfb3yKtej"
      },
      "source": [
        "## variable  \n",
        "กล่องของการเก็บข้อมูล  (ตัวแปรในภาษา python จะไม่ต้องกำหนดว่า เป็นตัวแปรชนิดอะไร สามารถตั้งชื่อตัวแปรได้ง่ายตามความเข้าใจ"
      ]
    },
    {
      "cell_type": "markdown",
      "metadata": {
        "id": "27WoQQbjL9VW"
      },
      "source": [
        "## ข้อกำหนดในการตั้งชื่อตัวแปร\n",
        "### 1.ชื่อห้ามมีเว้นวรรค\n",
        "### 2.(พยายาม)ใช้ภาษาอังกฤษ\n",
        "### 3.ตัวเล็กกับตัวใหญ่แตกตต่างกัน(case sensitive)\n",
        "### 4.ห้ามใช้ตัวเลขเป็นตัวหน้า"
      ]
    },
    {
      "cell_type": "code",
      "metadata": {
        "id": "0cmMc-mqEPpg"
      },
      "source": [
        "variable_a = 12\n",
        "variable_b = 3.14\n",
        "variable_c = 'A' # \" คือ quote  หรือ \" (double quote)\n",
        "variable_d = 'MSc Stat KKU'"
      ],
      "execution_count": 4,
      "outputs": []
    },
    {
      "cell_type": "code",
      "metadata": {
        "id": "jWvNp2T__aUZ"
      },
      "source": [
        "variable_e = '11'"
      ],
      "execution_count": 5,
      "outputs": []
    },
    {
      "cell_type": "markdown",
      "metadata": {
        "id": "A-aMnLCtOPAZ"
      },
      "source": [
        "บรรทัดที่มีการใช้ Code  คือ Output ไปอยู่ที่ memmory"
      ]
    },
    {
      "cell_type": "code",
      "metadata": {
        "colab": {
          "base_uri": "https://localhost:8080/"
        },
        "id": "D0d7bHqe_cui",
        "outputId": "6abb0354-da07-4652-8a13-98dac103bbb4"
      },
      "source": [
        "variable_a"
      ],
      "execution_count": 6,
      "outputs": [
        {
          "output_type": "execute_result",
          "data": {
            "text/plain": [
              "12"
            ]
          },
          "metadata": {
            "tags": []
          },
          "execution_count": 6
        }
      ]
    },
    {
      "cell_type": "markdown",
      "metadata": {
        "id": "ctBTVffDOhhW"
      },
      "source": [
        "output ถูกแสดงออกมา"
      ]
    },
    {
      "cell_type": "code",
      "metadata": {
        "id": "B0EflZ-ePGQk"
      },
      "source": [
        ""
      ],
      "execution_count": 6,
      "outputs": []
    },
    {
      "cell_type": "markdown",
      "metadata": {
        "id": "bieGB7aWPM_t"
      },
      "source": [
        "## print คือ คำสั่งที่ให้แสดงค่า"
      ]
    },
    {
      "cell_type": "code",
      "metadata": {
        "id": "Taj0YyUlP_M_"
      },
      "source": [
        "variable_x = variable_a + variable_b"
      ],
      "execution_count": 7,
      "outputs": []
    },
    {
      "cell_type": "markdown",
      "metadata": {
        "id": "gPA6SB_dQo6z"
      },
      "source": [
        "ใช้ code variable_x เพื่อเป็นการเก็บตัวแปร ไว้เรียกเมื่อต้องการใช้"
      ]
    },
    {
      "cell_type": "code",
      "metadata": {
        "id": "tkNALzj5QFtg",
        "colab": {
          "base_uri": "https://localhost:8080/"
        },
        "outputId": "071ae7f2-0bfb-4c4a-e13f-cf7366581233"
      },
      "source": [
        "variable_x"
      ],
      "execution_count": 8,
      "outputs": [
        {
          "output_type": "execute_result",
          "data": {
            "text/plain": [
              "15.14"
            ]
          },
          "metadata": {
            "tags": []
          },
          "execution_count": 8
        }
      ]
    },
    {
      "cell_type": "code",
      "metadata": {
        "colab": {
          "base_uri": "https://localhost:8080/"
        },
        "id": "zZyEXuJ8_zWf",
        "outputId": "e8659d5f-f7d5-41b8-b26e-6cdc0ca57832"
      },
      "source": [
        "variable_a + variable_b"
      ],
      "execution_count": 9,
      "outputs": [
        {
          "output_type": "execute_result",
          "data": {
            "text/plain": [
              "15.14"
            ]
          },
          "metadata": {
            "tags": []
          },
          "execution_count": 9
        }
      ]
    },
    {
      "cell_type": "code",
      "metadata": {
        "id": "2X0CpaBzQIcf",
        "colab": {
          "base_uri": "https://localhost:8080/"
        },
        "outputId": "04829a2e-b1d0-4cf9-9b74-79c92a3f6f7d"
      },
      "source": [
        "variable_x = variable_a + variable_b + 5\n",
        "print(variable_x)"
      ],
      "execution_count": 10,
      "outputs": [
        {
          "output_type": "stream",
          "text": [
            "20.14\n"
          ],
          "name": "stdout"
        }
      ]
    },
    {
      "cell_type": "code",
      "metadata": {
        "id": "qYtFmT8pI6kG"
      },
      "source": [
        "variable_z = variable_a"
      ],
      "execution_count": 11,
      "outputs": []
    },
    {
      "cell_type": "code",
      "metadata": {
        "id": "jjj8IwD8JTlx",
        "colab": {
          "base_uri": "https://localhost:8080/"
        },
        "outputId": "e628eb35-691d-4888-faba-27cf212a779f"
      },
      "source": [
        "print(variable_z)"
      ],
      "execution_count": 12,
      "outputs": [
        {
          "output_type": "stream",
          "text": [
            "12\n"
          ],
          "name": "stdout"
        }
      ]
    },
    {
      "cell_type": "code",
      "metadata": {
        "id": "oVX3q2t9LnUK",
        "colab": {
          "base_uri": "https://localhost:8080/"
        },
        "outputId": "dfc375a7-15d8-4085-9759-07a67faa734d"
      },
      "source": [
        "variable_a = variable_z + 3\n",
        "print(variable_a)\n",
        "print(variable_z)"
      ],
      "execution_count": 13,
      "outputs": [
        {
          "output_type": "stream",
          "text": [
            "15\n",
            "12\n"
          ],
          "name": "stdout"
        }
      ]
    },
    {
      "cell_type": "code",
      "metadata": {
        "colab": {
          "base_uri": "https://localhost:8080/",
          "height": 35
        },
        "id": "ScavQ3Wt_8Qw",
        "outputId": "56d581cf-d4bd-452f-9e1f-2fffa71b0148"
      },
      "source": [
        "variable_c + variable_d"
      ],
      "execution_count": 14,
      "outputs": [
        {
          "output_type": "execute_result",
          "data": {
            "application/vnd.google.colaboratory.intrinsic+json": {
              "type": "string"
            },
            "text/plain": [
              "'AMSc Stat KKU'"
            ]
          },
          "metadata": {
            "tags": []
          },
          "execution_count": 14
        }
      ]
    },
    {
      "cell_type": "markdown",
      "metadata": {
        "id": "ms6iaFg-AYn7"
      },
      "source": [
        "casting เปลี่ยนชนิดตัวแปร int() float() Str()"
      ]
    },
    {
      "cell_type": "code",
      "metadata": {
        "colab": {
          "base_uri": "https://localhost:8080/"
        },
        "id": "60a07qR1AFGg",
        "outputId": "98244c78-22be-4caa-8099-d9b771aa449e"
      },
      "source": [
        "variable_a + int(variable_e)\n"
      ],
      "execution_count": 15,
      "outputs": [
        {
          "output_type": "execute_result",
          "data": {
            "text/plain": [
              "26"
            ]
          },
          "metadata": {
            "tags": []
          },
          "execution_count": 15
        }
      ]
    },
    {
      "cell_type": "code",
      "metadata": {
        "colab": {
          "base_uri": "https://localhost:8080/",
          "height": 35
        },
        "id": "rEiLgaIHBBi3",
        "outputId": "eb302cb7-beac-405c-afea-8b5d73930af1"
      },
      "source": [
        "variable_e"
      ],
      "execution_count": 16,
      "outputs": [
        {
          "output_type": "execute_result",
          "data": {
            "application/vnd.google.colaboratory.intrinsic+json": {
              "type": "string"
            },
            "text/plain": [
              "'11'"
            ]
          },
          "metadata": {
            "tags": []
          },
          "execution_count": 16
        }
      ]
    },
    {
      "cell_type": "code",
      "metadata": {
        "id": "2pbSFpbkMIg1",
        "colab": {
          "base_uri": "https://localhost:8080/",
          "height": 35
        },
        "outputId": "4eee590b-180b-4545-e940-775dfaac2ebb"
      },
      "source": [
        "variable_e + str(variable_a)"
      ],
      "execution_count": 17,
      "outputs": [
        {
          "output_type": "execute_result",
          "data": {
            "application/vnd.google.colaboratory.intrinsic+json": {
              "type": "string"
            },
            "text/plain": [
              "'1115'"
            ]
          },
          "metadata": {
            "tags": []
          },
          "execution_count": 17
        }
      ]
    },
    {
      "cell_type": "code",
      "metadata": {
        "colab": {
          "base_uri": "https://localhost:8080/"
        },
        "id": "suF9TPsfBL5G",
        "outputId": "2205b6ee-4589-4695-c0ae-3db8dc93cd2a"
      },
      "source": [
        "print(variable_e)"
      ],
      "execution_count": 18,
      "outputs": [
        {
          "output_type": "stream",
          "text": [
            "11\n"
          ],
          "name": "stdout"
        }
      ]
    },
    {
      "cell_type": "markdown",
      "metadata": {
        "id": "QqSfGyb1MvSq"
      },
      "source": [
        "หากพิมพ์ชื่อตัวแปร จะแสดงค่าที่เป็นประเภท ส่วน พิมพ์ปริ้นจะแสดงแค่ค่าของตัวแปร ซึ่งจะไม่ทราบเป็นตัวแปรชนิดใด"
      ]
    },
    {
      "cell_type": "markdown",
      "metadata": {
        "id": "oJ0M09OwNYl5"
      },
      "source": [
        "การตรวจสอบชนิดของตัวแปร"
      ]
    },
    {
      "cell_type": "code",
      "metadata": {
        "id": "PfnPsYZbNRTa",
        "colab": {
          "base_uri": "https://localhost:8080/"
        },
        "outputId": "d3971feb-ff67-4c37-8b30-8028283c8c53"
      },
      "source": [
        "type(variable_a)"
      ],
      "execution_count": 19,
      "outputs": [
        {
          "output_type": "execute_result",
          "data": {
            "text/plain": [
              "int"
            ]
          },
          "metadata": {
            "tags": []
          },
          "execution_count": 19
        }
      ]
    },
    {
      "cell_type": "code",
      "metadata": {
        "id": "H4U7a7kmMobL",
        "colab": {
          "base_uri": "https://localhost:8080/"
        },
        "outputId": "6a332040-459a-4416-da0b-3c4f856cbffc"
      },
      "source": [
        "type(variable_e)"
      ],
      "execution_count": 20,
      "outputs": [
        {
          "output_type": "execute_result",
          "data": {
            "text/plain": [
              "str"
            ]
          },
          "metadata": {
            "tags": []
          },
          "execution_count": 20
        }
      ]
    },
    {
      "cell_type": "markdown",
      "metadata": {
        "id": "SnXbxf3HBnQO"
      },
      "source": [
        "ตรวจสอบชนิดของตัวแปรด้วย type"
      ]
    },
    {
      "cell_type": "code",
      "metadata": {
        "colab": {
          "base_uri": "https://localhost:8080/"
        },
        "id": "LGHVrcngBSHM",
        "outputId": "04d80e29-fc49-40a8-895b-104a60a498d4"
      },
      "source": [
        "type(variable_e)"
      ],
      "execution_count": 21,
      "outputs": [
        {
          "output_type": "execute_result",
          "data": {
            "text/plain": [
              "str"
            ]
          },
          "metadata": {
            "tags": []
          },
          "execution_count": 21
        }
      ]
    },
    {
      "cell_type": "markdown",
      "metadata": {
        "id": "cDekaHpoNmsK"
      },
      "source": [
        "Data structure  โครงสร้างข้อมูล"
      ]
    },
    {
      "cell_type": "markdown",
      "metadata": {
        "id": "3jiX7Qe9NyGD"
      },
      "source": [
        "list\n",
        "การเอาตัวแปรมาเรียงกัน โดยสนใจลำดับ"
      ]
    },
    {
      "cell_type": "code",
      "metadata": {
        "id": "LSDsQLa1CW2W"
      },
      "source": [
        "list_a = [1,2,3,0.9,'aaz',variable_b] ## [] [sqaure barckeets] วงเล็บ 4 เหลี่ยม"
      ],
      "execution_count": 22,
      "outputs": []
    },
    {
      "cell_type": "code",
      "metadata": {
        "colab": {
          "base_uri": "https://localhost:8080/"
        },
        "id": "d0aze7NdCqoe",
        "outputId": "dc72e0f9-9e35-497c-be1c-3c43c77f90ab"
      },
      "source": [
        "list_a"
      ],
      "execution_count": 23,
      "outputs": [
        {
          "output_type": "execute_result",
          "data": {
            "text/plain": [
              "[1, 2, 3, 0.9, 'aaz', 3.14]"
            ]
          },
          "metadata": {
            "tags": []
          },
          "execution_count": 23
        }
      ]
    },
    {
      "cell_type": "markdown",
      "metadata": {
        "id": "HgH7Vd_iOX4U"
      },
      "source": [
        "### indexing "
      ]
    },
    {
      "cell_type": "markdown",
      "metadata": {
        "id": "GV6caNEhTCa8"
      },
      "source": [
        "1. ใช้ลำดับที่อยู่ใน list มนการชี้\n",
        "2. เริ่มจาก 0 \n",
        "3. นับจากด้านหลัง โดยใช้ negative index"
      ]
    },
    {
      "cell_type": "code",
      "metadata": {
        "colab": {
          "base_uri": "https://localhost:8080/"
        },
        "id": "OI4Top6WDHQN",
        "outputId": "50c36ca6-4e8f-4f88-d572-08b69c245775"
      },
      "source": [
        "list_a[5]"
      ],
      "execution_count": 104,
      "outputs": [
        {
          "output_type": "execute_result",
          "data": {
            "text/plain": [
              "3.14"
            ]
          },
          "metadata": {
            "tags": []
          },
          "execution_count": 104
        }
      ]
    },
    {
      "cell_type": "code",
      "metadata": {
        "colab": {
          "base_uri": "https://localhost:8080/"
        },
        "id": "6U2KeD0iDNPG",
        "outputId": "b842fc3f-c0a6-4bbf-e1dc-00cc11633da7"
      },
      "source": [
        "list_a[0]"
      ],
      "execution_count": 105,
      "outputs": [
        {
          "output_type": "execute_result",
          "data": {
            "text/plain": [
              "1"
            ]
          },
          "metadata": {
            "tags": []
          },
          "execution_count": 105
        }
      ]
    },
    {
      "cell_type": "markdown",
      "metadata": {
        "id": "XrncJpkNOvuO"
      },
      "source": [
        "negative index คือ การใส่ -  ชี้ค่าจะแสดงจากตัวหลังมาตัวหน้า"
      ]
    },
    {
      "cell_type": "code",
      "metadata": {
        "id": "ryWBH_n2O9Rk",
        "colab": {
          "base_uri": "https://localhost:8080/"
        },
        "outputId": "8c359387-7bb2-4b02-815f-a8a700df57da"
      },
      "source": [
        "list_a[-1]"
      ],
      "execution_count": 106,
      "outputs": [
        {
          "output_type": "execute_result",
          "data": {
            "text/plain": [
              "3.14"
            ]
          },
          "metadata": {
            "tags": []
          },
          "execution_count": 106
        }
      ]
    },
    {
      "cell_type": "code",
      "metadata": {
        "colab": {
          "base_uri": "https://localhost:8080/",
          "height": 35
        },
        "id": "Wo7CQk9FDYe_",
        "outputId": "91258f15-7c5b-48e3-a64f-0dbb9f87c0cb"
      },
      "source": [
        "list_a[-2]"
      ],
      "execution_count": 107,
      "outputs": [
        {
          "output_type": "execute_result",
          "data": {
            "application/vnd.google.colaboratory.intrinsic+json": {
              "type": "string"
            },
            "text/plain": [
              "'aaz'"
            ]
          },
          "metadata": {
            "tags": []
          },
          "execution_count": 107
        }
      ]
    },
    {
      "cell_type": "code",
      "metadata": {
        "colab": {
          "base_uri": "https://localhost:8080/"
        },
        "id": "GFHA9l0RDd1v",
        "outputId": "9f321ea8-e552-4f3b-ff1a-d5cda973085a"
      },
      "source": [
        "list_b = ['pizza',list_a]\n",
        "list_b"
      ],
      "execution_count": 108,
      "outputs": [
        {
          "output_type": "execute_result",
          "data": {
            "text/plain": [
              "['pizza', [1, 2, 3, 0.9, 'aaz', 3.14]]"
            ]
          },
          "metadata": {
            "tags": []
          },
          "execution_count": 108
        }
      ]
    },
    {
      "cell_type": "code",
      "metadata": {
        "id": "qBRinFzoRO7l",
        "colab": {
          "base_uri": "https://localhost:8080/"
        },
        "outputId": "028c0235-bd4f-4cb6-d678-ec8f7217c11a"
      },
      "source": [
        "list_b[1]"
      ],
      "execution_count": 109,
      "outputs": [
        {
          "output_type": "execute_result",
          "data": {
            "text/plain": [
              "[1, 2, 3, 0.9, 'aaz', 3.14]"
            ]
          },
          "metadata": {
            "tags": []
          },
          "execution_count": 109
        }
      ]
    },
    {
      "cell_type": "code",
      "metadata": {
        "id": "uXz8hwlJRds7",
        "colab": {
          "base_uri": "https://localhost:8080/"
        },
        "outputId": "0dc05c1c-c707-4067-d2f6-3de619cf608a"
      },
      "source": [
        "list_b[1][3]"
      ],
      "execution_count": 110,
      "outputs": [
        {
          "output_type": "execute_result",
          "data": {
            "text/plain": [
              "0.9"
            ]
          },
          "metadata": {
            "tags": []
          },
          "execution_count": 110
        }
      ]
    },
    {
      "cell_type": "code",
      "metadata": {
        "colab": {
          "base_uri": "https://localhost:8080/",
          "height": 35
        },
        "id": "r3mLf2vyD-Nh",
        "outputId": "03e20eda-dc04-47fc-ae43-9e1e7a09b68b"
      },
      "source": [
        "x = 'shabu'\n",
        "x[3]"
      ],
      "execution_count": 111,
      "outputs": [
        {
          "output_type": "execute_result",
          "data": {
            "application/vnd.google.colaboratory.intrinsic+json": {
              "type": "string"
            },
            "text/plain": [
              "'b'"
            ]
          },
          "metadata": {
            "tags": []
          },
          "execution_count": 111
        }
      ]
    },
    {
      "cell_type": "code",
      "metadata": {
        "colab": {
          "base_uri": "https://localhost:8080/"
        },
        "id": "VGaHiME9EYi8",
        "outputId": "7794509a-06d7-47e7-a810-01c89efb01ce"
      },
      "source": [
        "print(list_a)\n",
        "print(list_b)"
      ],
      "execution_count": 112,
      "outputs": [
        {
          "output_type": "stream",
          "text": [
            "[1, 2, 3, 0.9, 'aaz', 3.14]\n",
            "['pizza', [1, 2, 3, 0.9, 'aaz', 3.14]]\n"
          ],
          "name": "stdout"
        }
      ]
    },
    {
      "cell_type": "code",
      "metadata": {
        "colab": {
          "base_uri": "https://localhost:8080/"
        },
        "id": "E625hbvlEq5U",
        "outputId": "3a2e597a-8a55-42ee-fb79-d68402f34e46"
      },
      "source": [
        "list_a + list_b"
      ],
      "execution_count": 113,
      "outputs": [
        {
          "output_type": "execute_result",
          "data": {
            "text/plain": [
              "[1, 2, 3, 0.9, 'aaz', 3.14, 'pizza', [1, 2, 3, 0.9, 'aaz', 3.14]]"
            ]
          },
          "metadata": {
            "tags": []
          },
          "execution_count": 113
        }
      ]
    },
    {
      "cell_type": "markdown",
      "metadata": {
        "id": "rzJL0w3P6cMy"
      },
      "source": [
        "### การสร้าง list"
      ]
    },
    {
      "cell_type": "markdown",
      "metadata": {
        "id": "kIUKiEbOE9fc"
      },
      "source": [
        "การสร้าง list\n",
        "1.การสร้าง lisr ว่าง\n",
        "2.เพิ่มสมาชิกลงใน list"
      ]
    },
    {
      "cell_type": "markdown",
      "metadata": {
        "id": "4rBsVK4NFRiD"
      },
      "source": [
        "1.การสร้าง list ว่าง \n"
      ]
    },
    {
      "cell_type": "code",
      "metadata": {
        "id": "cWfGlPgdE0bJ"
      },
      "source": [
        "list_aa = []"
      ],
      "execution_count": 119,
      "outputs": []
    },
    {
      "cell_type": "code",
      "metadata": {
        "colab": {
          "base_uri": "https://localhost:8080/"
        },
        "id": "ZsKvcENeFdD3",
        "outputId": "92488649-d715-4397-860e-7513a9863f3c"
      },
      "source": [
        "list_aa"
      ],
      "execution_count": 120,
      "outputs": [
        {
          "output_type": "execute_result",
          "data": {
            "text/plain": [
              "[]"
            ]
          },
          "metadata": {
            "tags": []
          },
          "execution_count": 120
        }
      ]
    },
    {
      "cell_type": "markdown",
      "metadata": {
        "id": "wQTTD6ngFpQs"
      },
      "source": [
        "2.การเพิ่มสมาชิกลงไปใน list (.append)"
      ]
    },
    {
      "cell_type": "markdown",
      "metadata": {
        "id": "6mk_ynN6S76k"
      },
      "source": [
        ""
      ]
    },
    {
      "cell_type": "markdown",
      "metadata": {
        "id": "IPZuVu6LSS5o"
      },
      "source": [
        ""
      ]
    },
    {
      "cell_type": "code",
      "metadata": {
        "id": "QfouJe4WFfvb"
      },
      "source": [
        "list_aa.append('chiken')\n",
        "list_aa.append('water')\n",
        "list_aa.append('vegetable')\n",
        "list_aa.append('plate')"
      ],
      "execution_count": 121,
      "outputs": []
    },
    {
      "cell_type": "code",
      "metadata": {
        "id": "E-mAiPAbIjhl",
        "colab": {
          "base_uri": "https://localhost:8080/"
        },
        "outputId": "27948ca6-e451-4207-c351-006816d42fcb"
      },
      "source": [
        "list_aa"
      ],
      "execution_count": 122,
      "outputs": [
        {
          "output_type": "execute_result",
          "data": {
            "text/plain": [
              "['chiken', 'water', 'vegetable', 'plate']"
            ]
          },
          "metadata": {
            "tags": []
          },
          "execution_count": 122
        }
      ]
    },
    {
      "cell_type": "code",
      "metadata": {
        "id": "6KCU3RVRSwME",
        "colab": {
          "base_uri": "https://localhost:8080/",
          "height": 35
        },
        "outputId": "11646512-b018-40cf-ae22-d08a8a56c142"
      },
      "source": [
        "list_aa[-1]"
      ],
      "execution_count": 123,
      "outputs": [
        {
          "output_type": "execute_result",
          "data": {
            "application/vnd.google.colaboratory.intrinsic+json": {
              "type": "string"
            },
            "text/plain": [
              "'plate'"
            ]
          },
          "metadata": {
            "tags": []
          },
          "execution_count": 123
        }
      ]
    },
    {
      "cell_type": "markdown",
      "metadata": {
        "id": "FP8dzkZYTZUd"
      },
      "source": [
        "### list slicing"
      ]
    },
    {
      "cell_type": "markdown",
      "metadata": {
        "id": "u4Sj6m45UMWd"
      },
      "source": [
        ": (colon)\n",
        "เราจะตัด list โดยเอาตั้งแต่ [ตัวหน้า:ตัวก่อนตัวหลัง]\n",
        "ถ้าเป็นสัญลักษณ์คณิตศาสตร์ [ตัวหน้า:ตัวหลัง] ->[ตัวหน้า,ตัวหลัง]"
      ]
    },
    {
      "cell_type": "code",
      "metadata": {
        "id": "oZj8Mj3JT4Jl",
        "colab": {
          "base_uri": "https://localhost:8080/"
        },
        "outputId": "088e5690-ebd9-4b74-8788-f27f406c6ee4"
      },
      "source": [
        "list_aa"
      ],
      "execution_count": 124,
      "outputs": [
        {
          "output_type": "execute_result",
          "data": {
            "text/plain": [
              "['chiken', 'water', 'vegetable', 'plate']"
            ]
          },
          "metadata": {
            "tags": []
          },
          "execution_count": 124
        }
      ]
    },
    {
      "cell_type": "code",
      "metadata": {
        "id": "jt5I6DKiT7-P",
        "colab": {
          "base_uri": "https://localhost:8080/"
        },
        "outputId": "f3b834c5-40af-4e74-9ce0-e08178816d9a"
      },
      "source": [
        "list_aa[1:3]"
      ],
      "execution_count": 125,
      "outputs": [
        {
          "output_type": "execute_result",
          "data": {
            "text/plain": [
              "['water', 'vegetable']"
            ]
          },
          "metadata": {
            "tags": []
          },
          "execution_count": 125
        }
      ]
    },
    {
      "cell_type": "markdown",
      "metadata": {
        "id": "eTtuywJqIkPN"
      },
      "source": [
        "Quiz 1\n",
        "ตัดส่วนของ list เหล่านี้มาจาก list_aa\n",
        "1 'iken'\n",
        "2 'get'\n",
        "3 'tab'"
      ]
    },
    {
      "cell_type": "code",
      "metadata": {
        "colab": {
          "base_uri": "https://localhost:8080/",
          "height": 35
        },
        "id": "XIIKcgkSI58o",
        "outputId": "18845fd2-17e1-42f9-c68b-00d85ab63ae1"
      },
      "source": [
        "list_aa[0]\n"
      ],
      "execution_count": 126,
      "outputs": [
        {
          "output_type": "execute_result",
          "data": {
            "application/vnd.google.colaboratory.intrinsic+json": {
              "type": "string"
            },
            "text/plain": [
              "'chiken'"
            ]
          },
          "metadata": {
            "tags": []
          },
          "execution_count": 126
        }
      ]
    },
    {
      "cell_type": "code",
      "metadata": {
        "colab": {
          "base_uri": "https://localhost:8080/",
          "height": 35
        },
        "id": "ZN115HggJ1YS",
        "outputId": "86e17f2e-7dae-4043-eed1-51a1982dd4b8"
      },
      "source": [
        "list_aa[0][2:6]"
      ],
      "execution_count": 127,
      "outputs": [
        {
          "output_type": "execute_result",
          "data": {
            "application/vnd.google.colaboratory.intrinsic+json": {
              "type": "string"
            },
            "text/plain": [
              "'iken'"
            ]
          },
          "metadata": {
            "tags": []
          },
          "execution_count": 127
        }
      ]
    },
    {
      "cell_type": "code",
      "metadata": {
        "colab": {
          "base_uri": "https://localhost:8080/",
          "height": 35
        },
        "id": "dHlUfvpaN314",
        "outputId": "2a7bf9a2-eaa1-42fb-9c78-61bc34d4df08"
      },
      "source": [
        "list_aa[2]"
      ],
      "execution_count": 128,
      "outputs": [
        {
          "output_type": "execute_result",
          "data": {
            "application/vnd.google.colaboratory.intrinsic+json": {
              "type": "string"
            },
            "text/plain": [
              "'vegetable'"
            ]
          },
          "metadata": {
            "tags": []
          },
          "execution_count": 128
        }
      ]
    },
    {
      "cell_type": "code",
      "metadata": {
        "colab": {
          "base_uri": "https://localhost:8080/",
          "height": 35
        },
        "id": "vTdf8s7aOLs2",
        "outputId": "5c5ae885-0ac7-4ba8-fa81-97faa03c7b7b"
      },
      "source": [
        "list_aa[2][2:5]"
      ],
      "execution_count": 129,
      "outputs": [
        {
          "output_type": "execute_result",
          "data": {
            "application/vnd.google.colaboratory.intrinsic+json": {
              "type": "string"
            },
            "text/plain": [
              "'get'"
            ]
          },
          "metadata": {
            "tags": []
          },
          "execution_count": 129
        }
      ]
    },
    {
      "cell_type": "code",
      "metadata": {
        "colab": {
          "base_uri": "https://localhost:8080/",
          "height": 35
        },
        "id": "7NYyU2bbOXdl",
        "outputId": "82e5f4b0-add4-42f7-aacb-4f2afd7f5da0"
      },
      "source": [
        "list_aa[2][4:7]"
      ],
      "execution_count": 130,
      "outputs": [
        {
          "output_type": "execute_result",
          "data": {
            "application/vnd.google.colaboratory.intrinsic+json": {
              "type": "string"
            },
            "text/plain": [
              "'tab'"
            ]
          },
          "metadata": {
            "tags": []
          },
          "execution_count": 130
        }
      ]
    },
    {
      "cell_type": "code",
      "metadata": {
        "id": "v-prkt2ZOjzU",
        "colab": {
          "base_uri": "https://localhost:8080/",
          "height": 35
        },
        "outputId": "6fc202d3-8a73-4fda-c831-3bbd602c0e3c"
      },
      "source": [
        "list_aa[2]"
      ],
      "execution_count": 131,
      "outputs": [
        {
          "output_type": "execute_result",
          "data": {
            "application/vnd.google.colaboratory.intrinsic+json": {
              "type": "string"
            },
            "text/plain": [
              "'vegetable'"
            ]
          },
          "metadata": {
            "tags": []
          },
          "execution_count": 131
        }
      ]
    },
    {
      "cell_type": "markdown",
      "metadata": {
        "id": "GOjVNTy07CnC"
      },
      "source": [
        "### Advance list slicing\n",
        "\n",
        "::\n",
        "เราจะตัด list โดยเอาตั้งแต่ [ตัวหน้า:ก่อนตัวหลัง:Step]\n",
        "้ถ้าเป็นสัญลักษณ์คณิตศาสตร์ [ตัวหน้า:ตัวหลัง]-> [ตัวหน้า:ตัวหลัง)"
      ]
    },
    {
      "cell_type": "code",
      "metadata": {
        "colab": {
          "base_uri": "https://localhost:8080/",
          "height": 35
        },
        "id": "t3pFWrdISo6D",
        "outputId": "162d869c-4f4a-4dcf-89f5-5b3438c097c6"
      },
      "source": [
        "list_aa[2][::2]"
      ],
      "execution_count": 132,
      "outputs": [
        {
          "output_type": "execute_result",
          "data": {
            "application/vnd.google.colaboratory.intrinsic+json": {
              "type": "string"
            },
            "text/plain": [
              "'vgtbe'"
            ]
          },
          "metadata": {
            "tags": []
          },
          "execution_count": 132
        }
      ]
    },
    {
      "cell_type": "code",
      "metadata": {
        "colab": {
          "base_uri": "https://localhost:8080/",
          "height": 35
        },
        "id": "0jV9L8ujTA1E",
        "outputId": "a69f55ce-e699-41df-f3f0-d7ee87af98cd"
      },
      "source": [
        "list_aa[2][::-1]"
      ],
      "execution_count": 133,
      "outputs": [
        {
          "output_type": "execute_result",
          "data": {
            "application/vnd.google.colaboratory.intrinsic+json": {
              "type": "string"
            },
            "text/plain": [
              "'elbategev'"
            ]
          },
          "metadata": {
            "tags": []
          },
          "execution_count": 133
        }
      ]
    },
    {
      "cell_type": "markdown",
      "metadata": {
        "id": "7vHl1djETXEe"
      },
      "source": [
        "format string\n",
        "\n",
        "\n",
        "f'string{variable}\n",
        "\n",
        "formate string  สามารที่จะจัดการข้อความที่เป็นตัวอักษร \n",
        "โดยสามารถแทรกตัวแปรเข้ามาเป็นตัวหนังสือได้\n",
        "\n",
        "\n"
      ]
    },
    {
      "cell_type": "code",
      "metadata": {
        "colab": {
          "base_uri": "https://localhost:8080/",
          "height": 35
        },
        "id": "aThzwP9ITKn4",
        "outputId": "11916fe2-b0c9-4fad-a8fe-c99b97f6f4d0"
      },
      "source": [
        "f'I like to eat {list_aa[2]}' # curly brackets"
      ],
      "execution_count": 153,
      "outputs": [
        {
          "output_type": "execute_result",
          "data": {
            "application/vnd.google.colaboratory.intrinsic+json": {
              "type": "string"
            },
            "text/plain": [
              "'I like to eat vegetable'"
            ]
          },
          "metadata": {
            "tags": []
          },
          "execution_count": 153
        }
      ]
    },
    {
      "cell_type": "code",
      "metadata": {
        "colab": {
          "base_uri": "https://localhost:8080/",
          "height": 35
        },
        "id": "Kn2GhIvpUDYh",
        "outputId": "d479f586-3bdb-4b50-bece-ce3459f1437d"
      },
      "source": [
        "f'9x10 = {9*10}'"
      ],
      "execution_count": 135,
      "outputs": [
        {
          "output_type": "execute_result",
          "data": {
            "application/vnd.google.colaboratory.intrinsic+json": {
              "type": "string"
            },
            "text/plain": [
              "'9x10 = 90'"
            ]
          },
          "metadata": {
            "tags": []
          },
          "execution_count": 135
        }
      ]
    },
    {
      "cell_type": "markdown",
      "metadata": {
        "id": "JIrLoVl_-Jzb"
      },
      "source": [
        "สามารถเขียนโปรแกรมเข้าไปได้ "
      ]
    },
    {
      "cell_type": "markdown",
      "metadata": {
        "id": "qUxznlYPUm3f"
      },
      "source": [
        "## Loop"
      ]
    },
    {
      "cell_type": "markdown",
      "metadata": {
        "id": "HPJ_jlw-UtbD"
      },
      "source": [
        "การให้คอมทำงานที่ซ้ำๆ หรือคล้ายๆกันหลายๆรอบ โดยเราไม่ต้องทำเอง\n",
        "\n",
        "\n",
        "for ตัวแปรที่จะรับค่าจากลิสต์  in ลิสต์ที่ต้องการจะวนลูป:\n",
        "    do something\n",
        "    do another thing\n",
        "this is out the loop"
      ]
    },
    {
      "cell_type": "markdown",
      "metadata": {
        "id": "SXWD_oReAAQK"
      },
      "source": [
        " ในภาษา python จะใช้กำหนดขอบเขตโดยการเว้นวรรค ที่เรียกว่า idndent  โดยจะกำหนดระยะด้วย 1 เคาะ จะทำให้วนลูปในตัวแปร for  \n",
        "\n",
        " หากขึ้นบรรทัดใหม่โดยระยะตรงกับ for จะเป็นการรันนอก for"
      ]
    },
    {
      "cell_type": "code",
      "metadata": {
        "colab": {
          "base_uri": "https://localhost:8080/"
        },
        "id": "OVP0KgsXUlLu",
        "outputId": "b19786f1-8668-4e92-9b3d-c745b2625418"
      },
      "source": [
        "list_aa"
      ],
      "execution_count": 154,
      "outputs": [
        {
          "output_type": "execute_result",
          "data": {
            "text/plain": [
              "['chiken', 'water', 'vegetable', 'plate']"
            ]
          },
          "metadata": {
            "tags": []
          },
          "execution_count": 154
        }
      ]
    },
    {
      "cell_type": "code",
      "metadata": {
        "colab": {
          "base_uri": "https://localhost:8080/"
        },
        "id": "Sd7WAlmcUU8X",
        "outputId": "e1409eec-f228-4278-9390-2b524c8ac698"
      },
      "source": [
        "for i in list_aa:\n",
        "   print(f'now i is {i}')\n",
        "   print(f'i like to eat {i}')"
      ],
      "execution_count": 155,
      "outputs": [
        {
          "output_type": "stream",
          "text": [
            "now i is chiken\n",
            "i like to eat chiken\n",
            "now i is water\n",
            "i like to eat water\n",
            "now i is vegetable\n",
            "i like to eat vegetable\n",
            "now i is plate\n",
            "i like to eat plate\n"
          ],
          "name": "stdout"
        }
      ]
    },
    {
      "cell_type": "markdown",
      "metadata": {
        "id": "_c4E3gBjAuRc"
      },
      "source": [
        "คิดก่อนว่าจะใช้list ไหน วนลูป  i คือตัวแปรที่ต้องการให้วนลูป"
      ]
    },
    {
      "cell_type": "code",
      "metadata": {
        "colab": {
          "base_uri": "https://localhost:8080/"
        },
        "id": "eYQLa6xJXwYi",
        "outputId": "f8b97cac-8b18-4266-bbdd-f413c6ff6894"
      },
      "source": [
        "for i in list_aa:\n",
        "   print('Ha')"
      ],
      "execution_count": 138,
      "outputs": [
        {
          "output_type": "stream",
          "text": [
            "Ha\n",
            "Ha\n",
            "Ha\n",
            "Ha\n"
          ],
          "name": "stdout"
        }
      ]
    },
    {
      "cell_type": "code",
      "metadata": {
        "colab": {
          "base_uri": "https://localhost:8080/"
        },
        "id": "ylPxkTuVYKy8",
        "outputId": "9bae7163-0500-417a-f4d2-a8b9ab78dc64"
      },
      "source": [
        "for x in  [1,3,5,7,9]:\n",
        "   print(f'this x = {x} x/2 = {x/2}')"
      ],
      "execution_count": 139,
      "outputs": [
        {
          "output_type": "stream",
          "text": [
            "this x = 1 x/2 = 0.5\n",
            "this x = 3 x/2 = 1.5\n",
            "this x = 5 x/2 = 2.5\n",
            "this x = 7 x/2 = 3.5\n",
            "this x = 9 x/2 = 4.5\n"
          ],
          "name": "stdout"
        }
      ]
    },
    {
      "cell_type": "code",
      "metadata": {
        "colab": {
          "base_uri": "https://localhost:8080/"
        },
        "id": "xl1JgaUnYkSt",
        "outputId": "11e11474-c5e7-4467-e4ec-412fb761f8f4"
      },
      "source": [
        "list(range(10))"
      ],
      "execution_count": 140,
      "outputs": [
        {
          "output_type": "execute_result",
          "data": {
            "text/plain": [
              "[0, 1, 2, 3, 4, 5, 6, 7, 8, 9]"
            ]
          },
          "metadata": {
            "tags": []
          },
          "execution_count": 140
        }
      ]
    },
    {
      "cell_type": "code",
      "metadata": {
        "colab": {
          "base_uri": "https://localhost:8080/"
        },
        "id": "TCtZ3qpwYz1v",
        "outputId": "f0397546-6abd-446a-fc2f-516c93cb7d19"
      },
      "source": [
        "for i in range(100):\n",
        " print(f'Ha{i}',end='')"
      ],
      "execution_count": 141,
      "outputs": [
        {
          "output_type": "stream",
          "text": [
            "Ha0Ha1Ha2Ha3Ha4Ha5Ha6Ha7Ha8Ha9Ha10Ha11Ha12Ha13Ha14Ha15Ha16Ha17Ha18Ha19Ha20Ha21Ha22Ha23Ha24Ha25Ha26Ha27Ha28Ha29Ha30Ha31Ha32Ha33Ha34Ha35Ha36Ha37Ha38Ha39Ha40Ha41Ha42Ha43Ha44Ha45Ha46Ha47Ha48Ha49Ha50Ha51Ha52Ha53Ha54Ha55Ha56Ha57Ha58Ha59Ha60Ha61Ha62Ha63Ha64Ha65Ha66Ha67Ha68Ha69Ha70Ha71Ha72Ha73Ha74Ha75Ha76Ha77Ha78Ha79Ha80Ha81Ha82Ha83Ha84Ha85Ha86Ha87Ha88Ha89Ha90Ha91Ha92Ha93Ha94Ha95Ha96Ha97Ha98Ha99"
          ],
          "name": "stdout"
        }
      ]
    },
    {
      "cell_type": "markdown",
      "metadata": {
        "id": "IjE0EiI3BuLv"
      },
      "source": [
        "end = ''  แปลว่า end = ไม่มีอะไรเลย  \n",
        "range จะใช้วนลูปทที่ละเยอะๆ"
      ]
    },
    {
      "cell_type": "code",
      "metadata": {
        "colab": {
          "base_uri": "https://localhost:8080/"
        },
        "id": "s2sCaHA-ZNDA",
        "outputId": "25645ecc-260a-4619-d99a-abb0608aa2f1"
      },
      "source": [
        "list(range(5,10))"
      ],
      "execution_count": 142,
      "outputs": [
        {
          "output_type": "execute_result",
          "data": {
            "text/plain": [
              "[5, 6, 7, 8, 9]"
            ]
          },
          "metadata": {
            "tags": []
          },
          "execution_count": 142
        }
      ]
    },
    {
      "cell_type": "code",
      "metadata": {
        "colab": {
          "base_uri": "https://localhost:8080/"
        },
        "id": "KOm264UlZtb8",
        "outputId": "2a45d467-7c1b-4334-80e7-79fa84765d14"
      },
      "source": [
        "list(range(5,100,5))"
      ],
      "execution_count": 143,
      "outputs": [
        {
          "output_type": "execute_result",
          "data": {
            "text/plain": [
              "[5, 10, 15, 20, 25, 30, 35, 40, 45, 50, 55, 60, 65, 70, 75, 80, 85, 90, 95]"
            ]
          },
          "metadata": {
            "tags": []
          },
          "execution_count": 143
        }
      ]
    },
    {
      "cell_type": "markdown",
      "metadata": {
        "id": "yRsoL6b7Z34V"
      },
      "source": [
        "### Nested loop"
      ]
    },
    {
      "cell_type": "code",
      "metadata": {
        "colab": {
          "base_uri": "https://localhost:8080/"
        },
        "id": "gKHZQzGmZ2Nb",
        "outputId": "5fe0eb84-1dda-4b55-fd0e-2113cfbd6af2"
      },
      "source": [
        "for i in range(3):\n",
        "   print(f'i = {i}')\n",
        "   for j in range (2):\n",
        "      print(f'i = {i}, j = {j}, i+j = {i+j}')"
      ],
      "execution_count": 144,
      "outputs": [
        {
          "output_type": "stream",
          "text": [
            "i = 0\n",
            "i = 0, j = 0, i+j = 0\n",
            "i = 0, j = 1, i+j = 1\n",
            "i = 1\n",
            "i = 1, j = 0, i+j = 1\n",
            "i = 1, j = 1, i+j = 2\n",
            "i = 2\n",
            "i = 2, j = 0, i+j = 2\n",
            "i = 2, j = 1, i+j = 3\n"
          ],
          "name": "stdout"
        }
      ]
    },
    {
      "cell_type": "code",
      "metadata": {
        "id": "VdfVcGtLaqFE"
      },
      "source": [
        ""
      ],
      "execution_count": 144,
      "outputs": []
    },
    {
      "cell_type": "markdown",
      "metadata": {
        "id": "4tglXTWtbFnF"
      },
      "source": [
        "Quiz 2\n",
        " สร้าง list\n",
        " [[1],[1,1],[1,1,1],...,[1,1,1,1,1,1,1,1,1,1]  โดยใช้ for loop\n"
      ]
    },
    {
      "cell_type": "code",
      "metadata": {
        "colab": {
          "base_uri": "https://localhost:8080/"
        },
        "id": "Gal-7CNLbpvV",
        "outputId": "f42a39c1-499f-4c73-c9b5-bd912f7dc905"
      },
      "source": [
        "list_ans = []\n",
        "print(f'list_ans = {list_ans}')\n",
        "for i in range(1,11):\n",
        " temp = []\n",
        " print(f'temp = {temp} i = {i}')\n",
        " for j in range(i):\n",
        "   temp.append(1)\n",
        " print(f'temp = {temp}')\n",
        " list_ans.append(temp)\n",
        " print(f'list_ans = {list_ans}')\n",
        "print(list_ans)"
      ],
      "execution_count": 157,
      "outputs": [
        {
          "output_type": "stream",
          "text": [
            "list_ans = []\n",
            "temp = [] i = 1\n",
            "temp = [1]\n",
            "list_ans = [[1]]\n",
            "temp = [] i = 2\n",
            "temp = [1, 1]\n",
            "list_ans = [[1], [1, 1]]\n",
            "temp = [] i = 3\n",
            "temp = [1, 1, 1]\n",
            "list_ans = [[1], [1, 1], [1, 1, 1]]\n",
            "temp = [] i = 4\n",
            "temp = [1, 1, 1, 1]\n",
            "list_ans = [[1], [1, 1], [1, 1, 1], [1, 1, 1, 1]]\n",
            "temp = [] i = 5\n",
            "temp = [1, 1, 1, 1, 1]\n",
            "list_ans = [[1], [1, 1], [1, 1, 1], [1, 1, 1, 1], [1, 1, 1, 1, 1]]\n",
            "temp = [] i = 6\n",
            "temp = [1, 1, 1, 1, 1, 1]\n",
            "list_ans = [[1], [1, 1], [1, 1, 1], [1, 1, 1, 1], [1, 1, 1, 1, 1], [1, 1, 1, 1, 1, 1]]\n",
            "temp = [] i = 7\n",
            "temp = [1, 1, 1, 1, 1, 1, 1]\n",
            "list_ans = [[1], [1, 1], [1, 1, 1], [1, 1, 1, 1], [1, 1, 1, 1, 1], [1, 1, 1, 1, 1, 1], [1, 1, 1, 1, 1, 1, 1]]\n",
            "temp = [] i = 8\n",
            "temp = [1, 1, 1, 1, 1, 1, 1, 1]\n",
            "list_ans = [[1], [1, 1], [1, 1, 1], [1, 1, 1, 1], [1, 1, 1, 1, 1], [1, 1, 1, 1, 1, 1], [1, 1, 1, 1, 1, 1, 1], [1, 1, 1, 1, 1, 1, 1, 1]]\n",
            "temp = [] i = 9\n",
            "temp = [1, 1, 1, 1, 1, 1, 1, 1, 1]\n",
            "list_ans = [[1], [1, 1], [1, 1, 1], [1, 1, 1, 1], [1, 1, 1, 1, 1], [1, 1, 1, 1, 1, 1], [1, 1, 1, 1, 1, 1, 1], [1, 1, 1, 1, 1, 1, 1, 1], [1, 1, 1, 1, 1, 1, 1, 1, 1]]\n",
            "temp = [] i = 10\n",
            "temp = [1, 1, 1, 1, 1, 1, 1, 1, 1, 1]\n",
            "list_ans = [[1], [1, 1], [1, 1, 1], [1, 1, 1, 1], [1, 1, 1, 1, 1], [1, 1, 1, 1, 1, 1], [1, 1, 1, 1, 1, 1, 1], [1, 1, 1, 1, 1, 1, 1, 1], [1, 1, 1, 1, 1, 1, 1, 1, 1], [1, 1, 1, 1, 1, 1, 1, 1, 1, 1]]\n",
            "[[1], [1, 1], [1, 1, 1], [1, 1, 1, 1], [1, 1, 1, 1, 1], [1, 1, 1, 1, 1, 1], [1, 1, 1, 1, 1, 1, 1], [1, 1, 1, 1, 1, 1, 1, 1], [1, 1, 1, 1, 1, 1, 1, 1, 1], [1, 1, 1, 1, 1, 1, 1, 1, 1, 1]]\n"
          ],
          "name": "stdout"
        }
      ]
    },
    {
      "cell_type": "markdown",
      "metadata": {
        "id": "V38rTVizhDrf"
      },
      "source": [
        "Quiz 2 สร้าง list [[1],[1,2],[1,2,3],...,[1,2,3,4,5,6,7,8,9,10] โดยใช้ for loop"
      ]
    },
    {
      "cell_type": "code",
      "metadata": {
        "colab": {
          "base_uri": "https://localhost:8080/"
        },
        "id": "Gh6l137ocTmM",
        "outputId": "9b934739-6d36-4cee-e0a3-92cb2e2df5ba"
      },
      "source": [
        "list_ans = []\n",
        "print(f'list_ans = {list_ans}')\n",
        "for i in range(1,11):\n",
        " temp = []\n",
        " print(f'temp = {temp} i = {i}')\n",
        " for j in range(i):\n",
        "   temp.append(j+1)\n",
        " print(f'temp = {temp}')\n",
        " list_ans.append(temp)\n",
        " print(f'list_ans = {list_ans}')\n",
        "print(list_ans)\n",
        "  "
      ],
      "execution_count": 158,
      "outputs": [
        {
          "output_type": "stream",
          "text": [
            "list_ans = []\n",
            "temp = [] i = 1\n",
            "temp = [1]\n",
            "list_ans = [[1]]\n",
            "temp = [] i = 2\n",
            "temp = [1, 2]\n",
            "list_ans = [[1], [1, 2]]\n",
            "temp = [] i = 3\n",
            "temp = [1, 2, 3]\n",
            "list_ans = [[1], [1, 2], [1, 2, 3]]\n",
            "temp = [] i = 4\n",
            "temp = [1, 2, 3, 4]\n",
            "list_ans = [[1], [1, 2], [1, 2, 3], [1, 2, 3, 4]]\n",
            "temp = [] i = 5\n",
            "temp = [1, 2, 3, 4, 5]\n",
            "list_ans = [[1], [1, 2], [1, 2, 3], [1, 2, 3, 4], [1, 2, 3, 4, 5]]\n",
            "temp = [] i = 6\n",
            "temp = [1, 2, 3, 4, 5, 6]\n",
            "list_ans = [[1], [1, 2], [1, 2, 3], [1, 2, 3, 4], [1, 2, 3, 4, 5], [1, 2, 3, 4, 5, 6]]\n",
            "temp = [] i = 7\n",
            "temp = [1, 2, 3, 4, 5, 6, 7]\n",
            "list_ans = [[1], [1, 2], [1, 2, 3], [1, 2, 3, 4], [1, 2, 3, 4, 5], [1, 2, 3, 4, 5, 6], [1, 2, 3, 4, 5, 6, 7]]\n",
            "temp = [] i = 8\n",
            "temp = [1, 2, 3, 4, 5, 6, 7, 8]\n",
            "list_ans = [[1], [1, 2], [1, 2, 3], [1, 2, 3, 4], [1, 2, 3, 4, 5], [1, 2, 3, 4, 5, 6], [1, 2, 3, 4, 5, 6, 7], [1, 2, 3, 4, 5, 6, 7, 8]]\n",
            "temp = [] i = 9\n",
            "temp = [1, 2, 3, 4, 5, 6, 7, 8, 9]\n",
            "list_ans = [[1], [1, 2], [1, 2, 3], [1, 2, 3, 4], [1, 2, 3, 4, 5], [1, 2, 3, 4, 5, 6], [1, 2, 3, 4, 5, 6, 7], [1, 2, 3, 4, 5, 6, 7, 8], [1, 2, 3, 4, 5, 6, 7, 8, 9]]\n",
            "temp = [] i = 10\n",
            "temp = [1, 2, 3, 4, 5, 6, 7, 8, 9, 10]\n",
            "list_ans = [[1], [1, 2], [1, 2, 3], [1, 2, 3, 4], [1, 2, 3, 4, 5], [1, 2, 3, 4, 5, 6], [1, 2, 3, 4, 5, 6, 7], [1, 2, 3, 4, 5, 6, 7, 8], [1, 2, 3, 4, 5, 6, 7, 8, 9], [1, 2, 3, 4, 5, 6, 7, 8, 9, 10]]\n",
            "[[1], [1, 2], [1, 2, 3], [1, 2, 3, 4], [1, 2, 3, 4, 5], [1, 2, 3, 4, 5, 6], [1, 2, 3, 4, 5, 6, 7], [1, 2, 3, 4, 5, 6, 7, 8], [1, 2, 3, 4, 5, 6, 7, 8, 9], [1, 2, 3, 4, 5, 6, 7, 8, 9, 10]]\n"
          ],
          "name": "stdout"
        }
      ]
    },
    {
      "cell_type": "code",
      "metadata": {
        "id": "KO34ZSXkjAdr"
      },
      "source": [
        ""
      ],
      "execution_count": 146,
      "outputs": []
    },
    {
      "cell_type": "markdown",
      "metadata": {
        "id": "HVr-npizjxUQ"
      },
      "source": [
        "## conditional ststement "
      ]
    },
    {
      "cell_type": "markdown",
      "metadata": {
        "id": "Yw2yyS8vj4Wp"
      },
      "source": [
        "\n",
        "\n",
        "if  เงื่อนไขที่เราจะตรวจสอบ (โดยอาศัยสัญลักษณ์เหล่านี้ ==, !=, <, >, <=, >= : in is_null())\n",
        "  ถ้าเงื่อนไขเป็นจริง ทำ\n",
        "  ถ้าเงื่อนไขเป็นจริง ทำ"
      ]
    },
    {
      "cell_type": "markdown",
      "metadata": {
        "id": "cooejewzHXlH"
      },
      "source": [
        "ตรวจสอบทางคณิตศาสตร์  ค่าเป็นอย่างไร น้อยกว่า มากกว่า เท่ากับ หรือไม่เท่ากับยังไง"
      ]
    },
    {
      "cell_type": "code",
      "metadata": {
        "colab": {
          "base_uri": "https://localhost:8080/"
        },
        "id": "jXTzvVu4j3cL",
        "outputId": "85520656-fdee-422c-b024-1defe3d1b2e1"
      },
      "source": [
        "if 1 < 5:\n",
        "   print('yes')"
      ],
      "execution_count": 147,
      "outputs": [
        {
          "output_type": "stream",
          "text": [
            "yes\n"
          ],
          "name": "stdout"
        }
      ]
    },
    {
      "cell_type": "code",
      "metadata": {
        "colab": {
          "base_uri": "https://localhost:8080/"
        },
        "id": "e7RaOiYdkVFR",
        "outputId": "bb780474-e684-4d3f-ad7e-9f26aa2d4951"
      },
      "source": [
        "x = -12\n",
        "\n",
        "if x < 5:\n",
        "  print('yes')\n",
        "else:\n",
        "  print('no')"
      ],
      "execution_count": 148,
      "outputs": [
        {
          "output_type": "stream",
          "text": [
            "yes\n"
          ],
          "name": "stdout"
        }
      ]
    },
    {
      "cell_type": "markdown",
      "metadata": {
        "id": "auRgZC1sH2ge"
      },
      "source": [
        "if  เงื่อนไขที่เราจะตรวจสอบ (โดยอาศัยสัญลักษณ์เหล่านี้ ==, !=, <, >, <=, >= : \n",
        "\n",
        "  ถ้ามีเงื่อนไขเป็นจริง ทำงานที่ 1\n",
        "  ถ้ามีเงื่อนไขเป็นจริง ทำงานที่ 2\n",
        "\n",
        "elif เงื่อนไขที่จะตรวตสอบต่อไป ถ้าเงื่อนไขข้างบนไม่เป็นจริง\n",
        "  ถ้าเงื่อไขเป็นจริง ทำงานที่a1\n",
        "  ถ้าเงื่อไขเป็นจริง ทำงานที่a2\n",
        "\n",
        "elif เงื่อนไขที่จะตรวตสอบต่อไป ถ้าเงื่อนไขข้างบนไม่เป็นจริง\n",
        "  ถ้าเงื่อไขเป็นจริง ทำงานที่b1\n",
        "  ถ้าเงื่อไขเป็นจริง ทำงานที่b2\n",
        "\n",
        "elif # เงื่อนไขที่จะตรวตสอบต่อไป ถ้าเงื่อนไขข้างบนไม่เป็นจริง\n",
        "     ทำงานที่ x\n",
        "\n"
      ]
    },
    {
      "cell_type": "code",
      "metadata": {
        "id": "cmi2fyjPlfco"
      },
      "source": [
        "list_ex = [1,5,9,-19,-2,0]\n",
        "\n",
        "min = 1000000\n",
        "for x in list_ex:\n",
        "  if x < min:\n",
        "    min = x\n"
      ],
      "execution_count": 149,
      "outputs": []
    },
    {
      "cell_type": "code",
      "metadata": {
        "colab": {
          "base_uri": "https://localhost:8080/"
        },
        "id": "mgNRr65Dl7BD",
        "outputId": "ef7aed45-0c2c-4752-8d0d-05ce433f4452"
      },
      "source": [
        "print(min)"
      ],
      "execution_count": 150,
      "outputs": [
        {
          "output_type": "stream",
          "text": [
            "-19\n"
          ],
          "name": "stdout"
        }
      ]
    },
    {
      "cell_type": "markdown",
      "metadata": {
        "id": "xTzu4Tg4pO_T"
      },
      "source": [
        "### Quiz 4 "
      ]
    },
    {
      "cell_type": "code",
      "metadata": {
        "id": "SCgBKnnAomiM"
      },
      "source": [
        "list_ex = [1,5,9,-19,-2,0]\n",
        "max = 0\n",
        "for x in list_ex:\n",
        "  if x > max:\n",
        "    max = x"
      ],
      "execution_count": 151,
      "outputs": []
    },
    {
      "cell_type": "code",
      "metadata": {
        "colab": {
          "base_uri": "https://localhost:8080/"
        },
        "id": "QSyjPHKVo9M9",
        "outputId": "b5a022e0-8491-4a72-a149-678b6a128bd1"
      },
      "source": [
        "print(max)"
      ],
      "execution_count": 152,
      "outputs": [
        {
          "output_type": "stream",
          "text": [
            "9\n"
          ],
          "name": "stdout"
        }
      ]
    }
  ]
}