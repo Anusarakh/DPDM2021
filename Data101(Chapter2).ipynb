{
  "nbformat": 4,
  "nbformat_minor": 0,
  "metadata": {
    "colab": {
      "name": "Data101(Chapter2).ipynb",
      "provenance": [],
      "authorship_tag": "ABX9TyNJW30Xn3nK1HrMo9Zfl0q5",
      "include_colab_link": true
    },
    "kernelspec": {
      "name": "python3",
      "display_name": "Python 3"
    },
    "language_info": {
      "name": "python"
    }
  },
  "cells": [
    {
      "cell_type": "markdown",
      "metadata": {
        "id": "view-in-github",
        "colab_type": "text"
      },
      "source": [
        "<a href=\"https://colab.research.google.com/github/Anusarakh/DPDM2021/blob/main/Data101(Chapter2).ipynb\" target=\"_parent\"><img src=\"https://colab.research.google.com/assets/colab-badge.svg\" alt=\"Open In Colab\"/></a>"
      ]
    },
    {
      "cell_type": "code",
      "metadata": {
        "id": "k9hqd0W1_Ao-"
      },
      "source": [
        "import pandas \n"
      ],
      "execution_count": null,
      "outputs": []
    },
    {
      "cell_type": "code",
      "metadata": {
        "id": "pon1KRH1_xmG"
      },
      "source": [
        "import pandas as pd #โหลด packge ที่ชื่อว่า pandas มาใช้ แล้วตั้งชื่อว่า pd"
      ],
      "execution_count": null,
      "outputs": []
    },
    {
      "cell_type": "markdown",
      "metadata": {
        "id": "rjPgurYdBO8E"
      },
      "source": [
        "ไฟล์ csv. (csv=comma separated values)"
      ]
    },
    {
      "cell_type": "code",
      "metadata": {
        "id": "FTeo05mhF-5p",
        "colab": {
          "base_uri": "https://localhost:8080/",
          "height": 555
        },
        "outputId": "898649d3-a25b-44e9-9018-236b10adc067"
      },
      "source": [
        "from google.colab import drive\n",
        "drive.mount('/content/drive')"
      ],
      "execution_count": null,
      "outputs": [
        {
          "output_type": "error",
          "ename": "KeyboardInterrupt",
          "evalue": "ignored",
          "traceback": [
            "\u001b[0;31m---------------------------------------------------------------------------\u001b[0m",
            "\u001b[0;31mKeyboardInterrupt\u001b[0m                         Traceback (most recent call last)",
            "\u001b[0;32m/usr/local/lib/python3.7/dist-packages/ipykernel/kernelbase.py\u001b[0m in \u001b[0;36m_input_request\u001b[0;34m(self, prompt, ident, parent, password)\u001b[0m\n\u001b[1;32m    728\u001b[0m             \u001b[0;32mtry\u001b[0m\u001b[0;34m:\u001b[0m\u001b[0;34m\u001b[0m\u001b[0;34m\u001b[0m\u001b[0m\n\u001b[0;32m--> 729\u001b[0;31m                 \u001b[0mident\u001b[0m\u001b[0;34m,\u001b[0m \u001b[0mreply\u001b[0m \u001b[0;34m=\u001b[0m \u001b[0mself\u001b[0m\u001b[0;34m.\u001b[0m\u001b[0msession\u001b[0m\u001b[0;34m.\u001b[0m\u001b[0mrecv\u001b[0m\u001b[0;34m(\u001b[0m\u001b[0mself\u001b[0m\u001b[0;34m.\u001b[0m\u001b[0mstdin_socket\u001b[0m\u001b[0;34m,\u001b[0m \u001b[0;36m0\u001b[0m\u001b[0;34m)\u001b[0m\u001b[0;34m\u001b[0m\u001b[0;34m\u001b[0m\u001b[0m\n\u001b[0m\u001b[1;32m    730\u001b[0m             \u001b[0;32mexcept\u001b[0m \u001b[0mException\u001b[0m\u001b[0;34m:\u001b[0m\u001b[0;34m\u001b[0m\u001b[0;34m\u001b[0m\u001b[0m\n",
            "\u001b[0;32m/usr/local/lib/python3.7/dist-packages/jupyter_client/session.py\u001b[0m in \u001b[0;36mrecv\u001b[0;34m(self, socket, mode, content, copy)\u001b[0m\n\u001b[1;32m    802\u001b[0m         \u001b[0;32mtry\u001b[0m\u001b[0;34m:\u001b[0m\u001b[0;34m\u001b[0m\u001b[0;34m\u001b[0m\u001b[0m\n\u001b[0;32m--> 803\u001b[0;31m             \u001b[0mmsg_list\u001b[0m \u001b[0;34m=\u001b[0m \u001b[0msocket\u001b[0m\u001b[0;34m.\u001b[0m\u001b[0mrecv_multipart\u001b[0m\u001b[0;34m(\u001b[0m\u001b[0mmode\u001b[0m\u001b[0;34m,\u001b[0m \u001b[0mcopy\u001b[0m\u001b[0;34m=\u001b[0m\u001b[0mcopy\u001b[0m\u001b[0;34m)\u001b[0m\u001b[0;34m\u001b[0m\u001b[0;34m\u001b[0m\u001b[0m\n\u001b[0m\u001b[1;32m    804\u001b[0m         \u001b[0;32mexcept\u001b[0m \u001b[0mzmq\u001b[0m\u001b[0;34m.\u001b[0m\u001b[0mZMQError\u001b[0m \u001b[0;32mas\u001b[0m \u001b[0me\u001b[0m\u001b[0;34m:\u001b[0m\u001b[0;34m\u001b[0m\u001b[0;34m\u001b[0m\u001b[0m\n",
            "\u001b[0;32m/usr/local/lib/python3.7/dist-packages/zmq/sugar/socket.py\u001b[0m in \u001b[0;36mrecv_multipart\u001b[0;34m(self, flags, copy, track)\u001b[0m\n\u001b[1;32m    582\u001b[0m         \"\"\"\n\u001b[0;32m--> 583\u001b[0;31m         \u001b[0mparts\u001b[0m \u001b[0;34m=\u001b[0m \u001b[0;34m[\u001b[0m\u001b[0mself\u001b[0m\u001b[0;34m.\u001b[0m\u001b[0mrecv\u001b[0m\u001b[0;34m(\u001b[0m\u001b[0mflags\u001b[0m\u001b[0;34m,\u001b[0m \u001b[0mcopy\u001b[0m\u001b[0;34m=\u001b[0m\u001b[0mcopy\u001b[0m\u001b[0;34m,\u001b[0m \u001b[0mtrack\u001b[0m\u001b[0;34m=\u001b[0m\u001b[0mtrack\u001b[0m\u001b[0;34m)\u001b[0m\u001b[0;34m]\u001b[0m\u001b[0;34m\u001b[0m\u001b[0;34m\u001b[0m\u001b[0m\n\u001b[0m\u001b[1;32m    584\u001b[0m         \u001b[0;31m# have first part already, only loop while more to receive\u001b[0m\u001b[0;34m\u001b[0m\u001b[0;34m\u001b[0m\u001b[0;34m\u001b[0m\u001b[0m\n",
            "\u001b[0;32mzmq/backend/cython/socket.pyx\u001b[0m in \u001b[0;36mzmq.backend.cython.socket.Socket.recv\u001b[0;34m()\u001b[0m\n",
            "\u001b[0;32mzmq/backend/cython/socket.pyx\u001b[0m in \u001b[0;36mzmq.backend.cython.socket.Socket.recv\u001b[0;34m()\u001b[0m\n",
            "\u001b[0;32mzmq/backend/cython/socket.pyx\u001b[0m in \u001b[0;36mzmq.backend.cython.socket._recv_copy\u001b[0;34m()\u001b[0m\n",
            "\u001b[0;32m/usr/local/lib/python3.7/dist-packages/zmq/backend/cython/checkrc.pxd\u001b[0m in \u001b[0;36mzmq.backend.cython.checkrc._check_rc\u001b[0;34m()\u001b[0m\n",
            "\u001b[0;31mKeyboardInterrupt\u001b[0m: ",
            "\nDuring handling of the above exception, another exception occurred:\n",
            "\u001b[0;31mKeyboardInterrupt\u001b[0m                         Traceback (most recent call last)",
            "\u001b[0;32m<ipython-input-9-d5df0069828e>\u001b[0m in \u001b[0;36m<module>\u001b[0;34m()\u001b[0m\n\u001b[1;32m      1\u001b[0m \u001b[0;32mfrom\u001b[0m \u001b[0mgoogle\u001b[0m\u001b[0;34m.\u001b[0m\u001b[0mcolab\u001b[0m \u001b[0;32mimport\u001b[0m \u001b[0mdrive\u001b[0m\u001b[0;34m\u001b[0m\u001b[0;34m\u001b[0m\u001b[0m\n\u001b[0;32m----> 2\u001b[0;31m \u001b[0mdrive\u001b[0m\u001b[0;34m.\u001b[0m\u001b[0mmount\u001b[0m\u001b[0;34m(\u001b[0m\u001b[0;34m'/content/drive'\u001b[0m\u001b[0;34m)\u001b[0m\u001b[0;34m\u001b[0m\u001b[0;34m\u001b[0m\u001b[0m\n\u001b[0m",
            "\u001b[0;32m/usr/local/lib/python3.7/dist-packages/google/colab/drive.py\u001b[0m in \u001b[0;36mmount\u001b[0;34m(mountpoint, force_remount, timeout_ms, use_metadata_server)\u001b[0m\n\u001b[1;32m    258\u001b[0m       \u001b[0;32mwith\u001b[0m \u001b[0m_output\u001b[0m\u001b[0;34m.\u001b[0m\u001b[0muse_tags\u001b[0m\u001b[0;34m(\u001b[0m\u001b[0;34m'dfs-auth-dance'\u001b[0m\u001b[0;34m)\u001b[0m\u001b[0;34m:\u001b[0m\u001b[0;34m\u001b[0m\u001b[0;34m\u001b[0m\u001b[0m\n\u001b[1;32m    259\u001b[0m         \u001b[0;32mwith\u001b[0m \u001b[0mopen\u001b[0m\u001b[0;34m(\u001b[0m\u001b[0mfifo\u001b[0m\u001b[0;34m,\u001b[0m \u001b[0;34m'w'\u001b[0m\u001b[0;34m)\u001b[0m \u001b[0;32mas\u001b[0m \u001b[0mfifo_file\u001b[0m\u001b[0;34m:\u001b[0m\u001b[0;34m\u001b[0m\u001b[0;34m\u001b[0m\u001b[0m\n\u001b[0;32m--> 260\u001b[0;31m           \u001b[0mfifo_file\u001b[0m\u001b[0;34m.\u001b[0m\u001b[0mwrite\u001b[0m\u001b[0;34m(\u001b[0m\u001b[0mget_code\u001b[0m\u001b[0;34m(\u001b[0m\u001b[0mauth_prompt\u001b[0m\u001b[0;34m)\u001b[0m \u001b[0;34m+\u001b[0m \u001b[0;34m'\\n'\u001b[0m\u001b[0;34m)\u001b[0m\u001b[0;34m\u001b[0m\u001b[0;34m\u001b[0m\u001b[0m\n\u001b[0m\u001b[1;32m    261\u001b[0m       \u001b[0mwrote_to_fifo\u001b[0m \u001b[0;34m=\u001b[0m \u001b[0;32mTrue\u001b[0m\u001b[0;34m\u001b[0m\u001b[0;34m\u001b[0m\u001b[0m\n\u001b[1;32m    262\u001b[0m     \u001b[0;32melif\u001b[0m \u001b[0mcase\u001b[0m \u001b[0;34m==\u001b[0m \u001b[0;36m5\u001b[0m\u001b[0;34m:\u001b[0m\u001b[0;34m\u001b[0m\u001b[0;34m\u001b[0m\u001b[0m\n",
            "\u001b[0;32m/usr/local/lib/python3.7/dist-packages/ipykernel/kernelbase.py\u001b[0m in \u001b[0;36mraw_input\u001b[0;34m(self, prompt)\u001b[0m\n\u001b[1;32m    702\u001b[0m             \u001b[0mself\u001b[0m\u001b[0;34m.\u001b[0m\u001b[0m_parent_ident\u001b[0m\u001b[0;34m,\u001b[0m\u001b[0;34m\u001b[0m\u001b[0;34m\u001b[0m\u001b[0m\n\u001b[1;32m    703\u001b[0m             \u001b[0mself\u001b[0m\u001b[0;34m.\u001b[0m\u001b[0m_parent_header\u001b[0m\u001b[0;34m,\u001b[0m\u001b[0;34m\u001b[0m\u001b[0;34m\u001b[0m\u001b[0m\n\u001b[0;32m--> 704\u001b[0;31m             \u001b[0mpassword\u001b[0m\u001b[0;34m=\u001b[0m\u001b[0;32mFalse\u001b[0m\u001b[0;34m,\u001b[0m\u001b[0;34m\u001b[0m\u001b[0;34m\u001b[0m\u001b[0m\n\u001b[0m\u001b[1;32m    705\u001b[0m         )\n\u001b[1;32m    706\u001b[0m \u001b[0;34m\u001b[0m\u001b[0m\n",
            "\u001b[0;32m/usr/local/lib/python3.7/dist-packages/ipykernel/kernelbase.py\u001b[0m in \u001b[0;36m_input_request\u001b[0;34m(self, prompt, ident, parent, password)\u001b[0m\n\u001b[1;32m    732\u001b[0m             \u001b[0;32mexcept\u001b[0m \u001b[0mKeyboardInterrupt\u001b[0m\u001b[0;34m:\u001b[0m\u001b[0;34m\u001b[0m\u001b[0;34m\u001b[0m\u001b[0m\n\u001b[1;32m    733\u001b[0m                 \u001b[0;31m# re-raise KeyboardInterrupt, to truncate traceback\u001b[0m\u001b[0;34m\u001b[0m\u001b[0;34m\u001b[0m\u001b[0;34m\u001b[0m\u001b[0m\n\u001b[0;32m--> 734\u001b[0;31m                 \u001b[0;32mraise\u001b[0m \u001b[0mKeyboardInterrupt\u001b[0m\u001b[0;34m\u001b[0m\u001b[0;34m\u001b[0m\u001b[0m\n\u001b[0m\u001b[1;32m    735\u001b[0m             \u001b[0;32melse\u001b[0m\u001b[0;34m:\u001b[0m\u001b[0;34m\u001b[0m\u001b[0;34m\u001b[0m\u001b[0m\n\u001b[1;32m    736\u001b[0m                 \u001b[0;32mbreak\u001b[0m\u001b[0;34m\u001b[0m\u001b[0;34m\u001b[0m\u001b[0m\n",
            "\u001b[0;31mKeyboardInterrupt\u001b[0m: "
          ]
        }
      ]
    },
    {
      "cell_type": "code",
      "metadata": {
        "id": "NAIU6eFtBFzO"
      },
      "source": [
        "data_df = pd.read_csv('data.csv')"
      ],
      "execution_count": null,
      "outputs": []
    },
    {
      "cell_type": "code",
      "metadata": {
        "id": "_o5rvm3uEF-_",
        "colab": {
          "base_uri": "https://localhost:8080/",
          "height": 110
        },
        "outputId": "d4694328-1d66-4887-acf9-77aa80c35d78"
      },
      "source": [
        "data_df"
      ],
      "execution_count": null,
      "outputs": [
        {
          "output_type": "execute_result",
          "data": {
            "text/html": [
              "<div>\n",
              "<style scoped>\n",
              "    .dataframe tbody tr th:only-of-type {\n",
              "        vertical-align: middle;\n",
              "    }\n",
              "\n",
              "    .dataframe tbody tr th {\n",
              "        vertical-align: top;\n",
              "    }\n",
              "\n",
              "    .dataframe thead th {\n",
              "        text-align: right;\n",
              "    }\n",
              "</style>\n",
              "<table border=\"1\" class=\"dataframe\">\n",
              "  <thead>\n",
              "    <tr style=\"text-align: right;\">\n",
              "      <th></th>\n",
              "      <th>car_id</th>\n",
              "      <th>model</th>\n",
              "      <th>year</th>\n",
              "      <th>value</th>\n",
              "      <th>person_id</th>\n",
              "    </tr>\n",
              "  </thead>\n",
              "  <tbody>\n",
              "    <tr>\n",
              "      <th>0</th>\n",
              "      <td>101</td>\n",
              "      <td>bentley</td>\n",
              "      <td>1973</td>\n",
              "      <td>100000</td>\n",
              "      <td>1</td>\n",
              "    </tr>\n",
              "    <tr>\n",
              "      <th>1</th>\n",
              "      <td>102</td>\n",
              "      <td>rolls royce</td>\n",
              "      <td>1965</td>\n",
              "      <td>330000</td>\n",
              "      <td>1</td>\n",
              "    </tr>\n",
              "  </tbody>\n",
              "</table>\n",
              "</div>"
            ],
            "text/plain": [
              "   car_id        model  year   value  person_id\n",
              "0     101      bentley  1973  100000          1\n",
              "1     102  rolls royce  1965  330000          1"
            ]
          },
          "metadata": {
            "tags": []
          },
          "execution_count": 11
        }
      ]
    },
    {
      "cell_type": "markdown",
      "metadata": {
        "id": "ERpbUKzmKXcr"
      },
      "source": [
        "# Basic Python"
      ]
    },
    {
      "cell_type": "markdown",
      "metadata": {
        "id": "bEOxfb3yKtej"
      },
      "source": [
        "## variable  \n",
        "กล่องของการเก็บข้อมูล  (ตัวแปรในภาษา python จะไม่ต้องกำหนดว่า เป็นตัวแปรชนิดอะไร สามารถตั้งชื่อตัวแปรได้ง่ายตามความเข้าใจ"
      ]
    },
    {
      "cell_type": "markdown",
      "metadata": {
        "id": "27WoQQbjL9VW"
      },
      "source": [
        "## ข้อกำหนดในการตั้งชื่อตัวแปร\n",
        "### 1.ชื่อห้ามมีเว้นวรรค\n",
        "### 2.(พยายาม)ใช้ภาษาอังกฤษ\n",
        "### 3.ตัวเล็กกับตัวใหญ่แตกตต่างกัน(case sensitive)\n",
        "### 4.ห้ามใช้ตัวเลขเป็นตัวหน้า"
      ]
    },
    {
      "cell_type": "code",
      "metadata": {
        "id": "0cmMc-mqEPpg"
      },
      "source": [
        "variable_a = 12\n",
        "variable_b = 3.14\n",
        "variable_c = 'A' # \" คือ quote  หรือ \" (double quote)\n",
        "variable_d = 'MSc Stat KKU'"
      ],
      "execution_count": 4,
      "outputs": []
    },
    {
      "cell_type": "code",
      "metadata": {
        "id": "jWvNp2T__aUZ"
      },
      "source": [
        "variable_e = '11'"
      ],
      "execution_count": 5,
      "outputs": []
    },
    {
      "cell_type": "markdown",
      "metadata": {
        "id": "A-aMnLCtOPAZ"
      },
      "source": [
        "บรรทัดที่มีการใช้ Code  คือ Output ไปอยู่ที่ memmory"
      ]
    },
    {
      "cell_type": "code",
      "metadata": {
        "colab": {
          "base_uri": "https://localhost:8080/"
        },
        "id": "D0d7bHqe_cui",
        "outputId": "ef39fbfa-39f3-4214-8744-65fa40880f4d"
      },
      "source": [
        "variable_a"
      ],
      "execution_count": 6,
      "outputs": [
        {
          "output_type": "execute_result",
          "data": {
            "text/plain": [
              "12"
            ]
          },
          "metadata": {
            "tags": []
          },
          "execution_count": 6
        }
      ]
    },
    {
      "cell_type": "markdown",
      "metadata": {
        "id": "ctBTVffDOhhW"
      },
      "source": [
        "output ถูกแสดงออกมา"
      ]
    },
    {
      "cell_type": "code",
      "metadata": {
        "id": "B0EflZ-ePGQk"
      },
      "source": [
        ""
      ],
      "execution_count": 6,
      "outputs": []
    },
    {
      "cell_type": "markdown",
      "metadata": {
        "id": "bieGB7aWPM_t"
      },
      "source": [
        "## print คือ คำสั่งที่ให้แสดงค่า"
      ]
    },
    {
      "cell_type": "code",
      "metadata": {
        "id": "Taj0YyUlP_M_"
      },
      "source": [
        "variable_x = variable_a + variable_b"
      ],
      "execution_count": 7,
      "outputs": []
    },
    {
      "cell_type": "markdown",
      "metadata": {
        "id": "gPA6SB_dQo6z"
      },
      "source": [
        "ใช้ code variable_x เพื่อเป็นการเก็บตัวแปร ไว้เรียกเมื่อต้องการใช้"
      ]
    },
    {
      "cell_type": "code",
      "metadata": {
        "id": "tkNALzj5QFtg",
        "colab": {
          "base_uri": "https://localhost:8080/"
        },
        "outputId": "d7264bf4-b16d-4b80-df8c-51038030237f"
      },
      "source": [
        "variable_x"
      ],
      "execution_count": 8,
      "outputs": [
        {
          "output_type": "execute_result",
          "data": {
            "text/plain": [
              "15.14"
            ]
          },
          "metadata": {
            "tags": []
          },
          "execution_count": 8
        }
      ]
    },
    {
      "cell_type": "code",
      "metadata": {
        "colab": {
          "base_uri": "https://localhost:8080/"
        },
        "id": "zZyEXuJ8_zWf",
        "outputId": "9470ac81-cebc-4dab-fc7f-d893e118bca4"
      },
      "source": [
        "variable_a + variable_b"
      ],
      "execution_count": 9,
      "outputs": [
        {
          "output_type": "execute_result",
          "data": {
            "text/plain": [
              "15.14"
            ]
          },
          "metadata": {
            "tags": []
          },
          "execution_count": 9
        }
      ]
    },
    {
      "cell_type": "code",
      "metadata": {
        "id": "2X0CpaBzQIcf",
        "colab": {
          "base_uri": "https://localhost:8080/"
        },
        "outputId": "40e3cd8e-62a9-405a-f90f-2312a242ad00"
      },
      "source": [
        "variable_x = variable_a + variable_b + 5\n",
        "print(variable_x)"
      ],
      "execution_count": 10,
      "outputs": [
        {
          "output_type": "stream",
          "text": [
            "20.14\n"
          ],
          "name": "stdout"
        }
      ]
    },
    {
      "cell_type": "code",
      "metadata": {
        "id": "qYtFmT8pI6kG"
      },
      "source": [
        "variable_z = variable_a"
      ],
      "execution_count": 11,
      "outputs": []
    },
    {
      "cell_type": "code",
      "metadata": {
        "id": "jjj8IwD8JTlx",
        "colab": {
          "base_uri": "https://localhost:8080/"
        },
        "outputId": "cd7876ce-c8e7-4c3b-f228-a00fbab27c88"
      },
      "source": [
        "print(variable_z)"
      ],
      "execution_count": 12,
      "outputs": [
        {
          "output_type": "stream",
          "text": [
            "12\n"
          ],
          "name": "stdout"
        }
      ]
    },
    {
      "cell_type": "code",
      "metadata": {
        "id": "oVX3q2t9LnUK",
        "colab": {
          "base_uri": "https://localhost:8080/"
        },
        "outputId": "f2f0bb1a-7a62-4bb6-cead-057e47e55baf"
      },
      "source": [
        "variable_a = variable_z + 3\n",
        "print(variable_a)\n",
        "print(variable_z)"
      ],
      "execution_count": 13,
      "outputs": [
        {
          "output_type": "stream",
          "text": [
            "15\n",
            "12\n"
          ],
          "name": "stdout"
        }
      ]
    },
    {
      "cell_type": "code",
      "metadata": {
        "colab": {
          "base_uri": "https://localhost:8080/",
          "height": 36
        },
        "id": "ScavQ3Wt_8Qw",
        "outputId": "6bb48d25-2e69-44d3-caf7-f43fff8eb1b7"
      },
      "source": [
        "variable_c + variable_d"
      ],
      "execution_count": 14,
      "outputs": [
        {
          "output_type": "execute_result",
          "data": {
            "application/vnd.google.colaboratory.intrinsic+json": {
              "type": "string"
            },
            "text/plain": [
              "'AMSc Stat KKU'"
            ]
          },
          "metadata": {
            "tags": []
          },
          "execution_count": 14
        }
      ]
    },
    {
      "cell_type": "markdown",
      "metadata": {
        "id": "ms6iaFg-AYn7"
      },
      "source": [
        "casting เปลี่ยนชนิดตัวแปร int() float() Str()"
      ]
    },
    {
      "cell_type": "code",
      "metadata": {
        "colab": {
          "base_uri": "https://localhost:8080/"
        },
        "id": "60a07qR1AFGg",
        "outputId": "23087394-dbec-4509-9e86-b6310271365e"
      },
      "source": [
        "variable_a + int(variable_e)\n"
      ],
      "execution_count": 15,
      "outputs": [
        {
          "output_type": "execute_result",
          "data": {
            "text/plain": [
              "26"
            ]
          },
          "metadata": {
            "tags": []
          },
          "execution_count": 15
        }
      ]
    },
    {
      "cell_type": "code",
      "metadata": {
        "colab": {
          "base_uri": "https://localhost:8080/",
          "height": 36
        },
        "id": "rEiLgaIHBBi3",
        "outputId": "aa33c1c0-993c-409d-ffab-154d9b5ffb36"
      },
      "source": [
        "variable_e"
      ],
      "execution_count": 16,
      "outputs": [
        {
          "output_type": "execute_result",
          "data": {
            "application/vnd.google.colaboratory.intrinsic+json": {
              "type": "string"
            },
            "text/plain": [
              "'11'"
            ]
          },
          "metadata": {
            "tags": []
          },
          "execution_count": 16
        }
      ]
    },
    {
      "cell_type": "code",
      "metadata": {
        "id": "2pbSFpbkMIg1",
        "colab": {
          "base_uri": "https://localhost:8080/",
          "height": 36
        },
        "outputId": "1a605262-1159-4aa8-805e-4c8c74f8a9b8"
      },
      "source": [
        "variable_e + str(variable_a)"
      ],
      "execution_count": 17,
      "outputs": [
        {
          "output_type": "execute_result",
          "data": {
            "application/vnd.google.colaboratory.intrinsic+json": {
              "type": "string"
            },
            "text/plain": [
              "'1115'"
            ]
          },
          "metadata": {
            "tags": []
          },
          "execution_count": 17
        }
      ]
    },
    {
      "cell_type": "code",
      "metadata": {
        "colab": {
          "base_uri": "https://localhost:8080/"
        },
        "id": "suF9TPsfBL5G",
        "outputId": "c45e68fc-1dfe-4552-ce08-1162e0f8f9f0"
      },
      "source": [
        "print(variable_e)"
      ],
      "execution_count": 18,
      "outputs": [
        {
          "output_type": "stream",
          "text": [
            "11\n"
          ],
          "name": "stdout"
        }
      ]
    },
    {
      "cell_type": "markdown",
      "metadata": {
        "id": "QqSfGyb1MvSq"
      },
      "source": [
        "หากพิมพ์ชื่อตัวแปร จะแสดงค่าที่เป็นประเภท ส่วน พิมพ์ปริ้นจะแสดงแค่ค่าของตัวแปร ซึ่งจะไม่ทราบเป็นตัวแปรชนิดใด"
      ]
    },
    {
      "cell_type": "markdown",
      "metadata": {
        "id": "oJ0M09OwNYl5"
      },
      "source": [
        "การตรวจสอบชนิดของตัวแปร"
      ]
    },
    {
      "cell_type": "code",
      "metadata": {
        "id": "PfnPsYZbNRTa",
        "colab": {
          "base_uri": "https://localhost:8080/"
        },
        "outputId": "a5e3a3b6-3bfc-4e52-ff82-e9757ca9ce8c"
      },
      "source": [
        "type(variable_a)"
      ],
      "execution_count": 19,
      "outputs": [
        {
          "output_type": "execute_result",
          "data": {
            "text/plain": [
              "int"
            ]
          },
          "metadata": {
            "tags": []
          },
          "execution_count": 19
        }
      ]
    },
    {
      "cell_type": "code",
      "metadata": {
        "id": "H4U7a7kmMobL",
        "colab": {
          "base_uri": "https://localhost:8080/"
        },
        "outputId": "64416e1b-f777-4643-c0aa-08b6487d37ef"
      },
      "source": [
        "type(variable_e)"
      ],
      "execution_count": 20,
      "outputs": [
        {
          "output_type": "execute_result",
          "data": {
            "text/plain": [
              "str"
            ]
          },
          "metadata": {
            "tags": []
          },
          "execution_count": 20
        }
      ]
    },
    {
      "cell_type": "markdown",
      "metadata": {
        "id": "SnXbxf3HBnQO"
      },
      "source": [
        "ตรวจสอบชนิดของตัวแปรด้วย type"
      ]
    },
    {
      "cell_type": "code",
      "metadata": {
        "colab": {
          "base_uri": "https://localhost:8080/"
        },
        "id": "LGHVrcngBSHM",
        "outputId": "a7da4d5d-823f-4c37-b6d2-db5da6aa7158"
      },
      "source": [
        "type(variable_e)"
      ],
      "execution_count": 21,
      "outputs": [
        {
          "output_type": "execute_result",
          "data": {
            "text/plain": [
              "str"
            ]
          },
          "metadata": {
            "tags": []
          },
          "execution_count": 21
        }
      ]
    },
    {
      "cell_type": "markdown",
      "metadata": {
        "id": "cDekaHpoNmsK"
      },
      "source": [
        "Data structure  โครงสร้างข้อมูล"
      ]
    },
    {
      "cell_type": "markdown",
      "metadata": {
        "id": "3jiX7Qe9NyGD"
      },
      "source": [
        "list\n",
        "การเอาตัวแปรมาเรียงกัน โดยสนใจลำดับ"
      ]
    },
    {
      "cell_type": "code",
      "metadata": {
        "id": "LSDsQLa1CW2W"
      },
      "source": [
        "list_a = [1,2,3,0.9,'aaz',variable_b] ## [] [sqaure barckeets] วงเล็บ 4 เหลี่ยม"
      ],
      "execution_count": 22,
      "outputs": []
    },
    {
      "cell_type": "code",
      "metadata": {
        "colab": {
          "base_uri": "https://localhost:8080/"
        },
        "id": "d0aze7NdCqoe",
        "outputId": "32be3011-9b8e-43ce-a850-2244096c3c86"
      },
      "source": [
        "list_a"
      ],
      "execution_count": 23,
      "outputs": [
        {
          "output_type": "execute_result",
          "data": {
            "text/plain": [
              "[1, 2, 3, 0.9, 'aaz', 3.14]"
            ]
          },
          "metadata": {
            "tags": []
          },
          "execution_count": 23
        }
      ]
    },
    {
      "cell_type": "markdown",
      "metadata": {
        "id": "HgH7Vd_iOX4U"
      },
      "source": [
        "### indexing "
      ]
    },
    {
      "cell_type": "markdown",
      "metadata": {
        "id": "GV6caNEhTCa8"
      },
      "source": [
        "1. ใช้ลำดับที่อยู่ใน list มนการชี้\n",
        "2. เริ่มจาก 0 \n",
        "3. นับจากด้านหลัง โดยใช้ negative index"
      ]
    },
    {
      "cell_type": "code",
      "metadata": {
        "colab": {
          "base_uri": "https://localhost:8080/"
        },
        "id": "OI4Top6WDHQN",
        "outputId": "b0b2a35c-0239-4326-8e48-2ae1eab6e9e1"
      },
      "source": [
        "list_a[5]"
      ],
      "execution_count": 24,
      "outputs": [
        {
          "output_type": "execute_result",
          "data": {
            "text/plain": [
              "3.14"
            ]
          },
          "metadata": {
            "tags": []
          },
          "execution_count": 24
        }
      ]
    },
    {
      "cell_type": "code",
      "metadata": {
        "colab": {
          "base_uri": "https://localhost:8080/"
        },
        "id": "6U2KeD0iDNPG",
        "outputId": "0522758d-1f93-4518-93c2-5d7b4eb26511"
      },
      "source": [
        "list_a[0]"
      ],
      "execution_count": 25,
      "outputs": [
        {
          "output_type": "execute_result",
          "data": {
            "text/plain": [
              "1"
            ]
          },
          "metadata": {
            "tags": []
          },
          "execution_count": 25
        }
      ]
    },
    {
      "cell_type": "markdown",
      "metadata": {
        "id": "XrncJpkNOvuO"
      },
      "source": [
        "negative index คือ การใส่ -  ชี้ค่าจะแสดงจากตัวหลังมาตัวหน้า"
      ]
    },
    {
      "cell_type": "code",
      "metadata": {
        "id": "ryWBH_n2O9Rk",
        "colab": {
          "base_uri": "https://localhost:8080/"
        },
        "outputId": "41df4cdb-f6c6-4bbe-ac5d-d44680d6ce15"
      },
      "source": [
        "list_a[-1]"
      ],
      "execution_count": 26,
      "outputs": [
        {
          "output_type": "execute_result",
          "data": {
            "text/plain": [
              "3.14"
            ]
          },
          "metadata": {
            "tags": []
          },
          "execution_count": 26
        }
      ]
    },
    {
      "cell_type": "code",
      "metadata": {
        "colab": {
          "base_uri": "https://localhost:8080/",
          "height": 0
        },
        "id": "Wo7CQk9FDYe_",
        "outputId": "f48094c9-e124-4878-e487-cb3cecf6970a"
      },
      "source": [
        "list_a[-2]"
      ],
      "execution_count": 27,
      "outputs": [
        {
          "output_type": "execute_result",
          "data": {
            "application/vnd.google.colaboratory.intrinsic+json": {
              "type": "string"
            },
            "text/plain": [
              "'aaz'"
            ]
          },
          "metadata": {
            "tags": []
          },
          "execution_count": 27
        }
      ]
    },
    {
      "cell_type": "code",
      "metadata": {
        "colab": {
          "base_uri": "https://localhost:8080/"
        },
        "id": "GFHA9l0RDd1v",
        "outputId": "a8b1093c-78a1-4453-fdbf-539e49253454"
      },
      "source": [
        "list_b = ['pizza',list_a]\n",
        "list_b"
      ],
      "execution_count": 28,
      "outputs": [
        {
          "output_type": "execute_result",
          "data": {
            "text/plain": [
              "['pizza', [1, 2, 3, 0.9, 'aaz', 3.14]]"
            ]
          },
          "metadata": {
            "tags": []
          },
          "execution_count": 28
        }
      ]
    },
    {
      "cell_type": "code",
      "metadata": {
        "id": "qBRinFzoRO7l",
        "colab": {
          "base_uri": "https://localhost:8080/"
        },
        "outputId": "2f083eea-5502-4691-8cb8-ffa6e3f844e0"
      },
      "source": [
        "list_b[1]"
      ],
      "execution_count": 29,
      "outputs": [
        {
          "output_type": "execute_result",
          "data": {
            "text/plain": [
              "[1, 2, 3, 0.9, 'aaz', 3.14]"
            ]
          },
          "metadata": {
            "tags": []
          },
          "execution_count": 29
        }
      ]
    },
    {
      "cell_type": "code",
      "metadata": {
        "id": "uXz8hwlJRds7",
        "colab": {
          "base_uri": "https://localhost:8080/"
        },
        "outputId": "53bfd29a-e021-4d3c-d9cb-75feaea4e37b"
      },
      "source": [
        "list_b[1][3]"
      ],
      "execution_count": 30,
      "outputs": [
        {
          "output_type": "execute_result",
          "data": {
            "text/plain": [
              "0.9"
            ]
          },
          "metadata": {
            "tags": []
          },
          "execution_count": 30
        }
      ]
    },
    {
      "cell_type": "code",
      "metadata": {
        "colab": {
          "base_uri": "https://localhost:8080/",
          "height": 0
        },
        "id": "r3mLf2vyD-Nh",
        "outputId": "2f712366-fe55-48cb-998a-9501dec5b325"
      },
      "source": [
        "x = 'shabu'\n",
        "x[3]"
      ],
      "execution_count": 31,
      "outputs": [
        {
          "output_type": "execute_result",
          "data": {
            "application/vnd.google.colaboratory.intrinsic+json": {
              "type": "string"
            },
            "text/plain": [
              "'b'"
            ]
          },
          "metadata": {
            "tags": []
          },
          "execution_count": 31
        }
      ]
    },
    {
      "cell_type": "code",
      "metadata": {
        "colab": {
          "base_uri": "https://localhost:8080/"
        },
        "id": "VGaHiME9EYi8",
        "outputId": "90cc1c6e-374c-4e44-bf41-ff26f53209b7"
      },
      "source": [
        "print(list_a)\n",
        "print(list_b)"
      ],
      "execution_count": 32,
      "outputs": [
        {
          "output_type": "stream",
          "text": [
            "[1, 2, 3, 0.9, 'aaz', 3.14]\n",
            "['pizza', [1, 2, 3, 0.9, 'aaz', 3.14]]\n"
          ],
          "name": "stdout"
        }
      ]
    },
    {
      "cell_type": "code",
      "metadata": {
        "colab": {
          "base_uri": "https://localhost:8080/"
        },
        "id": "E625hbvlEq5U",
        "outputId": "fa4f8415-5950-4b90-8c5d-b2bef6daf4ba"
      },
      "source": [
        "list_a + list_b"
      ],
      "execution_count": 33,
      "outputs": [
        {
          "output_type": "execute_result",
          "data": {
            "text/plain": [
              "[1, 2, 3, 0.9, 'aaz', 3.14, 'pizza', [1, 2, 3, 0.9, 'aaz', 3.14]]"
            ]
          },
          "metadata": {
            "tags": []
          },
          "execution_count": 33
        }
      ]
    },
    {
      "cell_type": "markdown",
      "metadata": {
        "id": "rzJL0w3P6cMy"
      },
      "source": [
        "### การสร้าง list"
      ]
    },
    {
      "cell_type": "markdown",
      "metadata": {
        "id": "kIUKiEbOE9fc"
      },
      "source": [
        "การสร้าง list\n",
        "1.การสร้าง lisr ว่าง\n",
        "2.เพิ่มสมาชิกลงใน list"
      ]
    },
    {
      "cell_type": "markdown",
      "metadata": {
        "id": "4rBsVK4NFRiD"
      },
      "source": [
        "1.การสร้าง list ว่าง \n"
      ]
    },
    {
      "cell_type": "code",
      "metadata": {
        "id": "cWfGlPgdE0bJ"
      },
      "source": [
        "list_aa = []"
      ],
      "execution_count": 34,
      "outputs": []
    },
    {
      "cell_type": "code",
      "metadata": {
        "colab": {
          "base_uri": "https://localhost:8080/"
        },
        "id": "ZsKvcENeFdD3",
        "outputId": "f7196919-e86a-4b82-e0df-5ccd03c59eec"
      },
      "source": [
        "list_aa"
      ],
      "execution_count": 35,
      "outputs": [
        {
          "output_type": "execute_result",
          "data": {
            "text/plain": [
              "[]"
            ]
          },
          "metadata": {
            "tags": []
          },
          "execution_count": 35
        }
      ]
    },
    {
      "cell_type": "markdown",
      "metadata": {
        "id": "wQTTD6ngFpQs"
      },
      "source": [
        "2.การเพิ่มสมาชิกลงไปใน list (.append)"
      ]
    },
    {
      "cell_type": "markdown",
      "metadata": {
        "id": "6mk_ynN6S76k"
      },
      "source": [
        ""
      ]
    },
    {
      "cell_type": "markdown",
      "metadata": {
        "id": "IPZuVu6LSS5o"
      },
      "source": [
        ""
      ]
    },
    {
      "cell_type": "code",
      "metadata": {
        "id": "QfouJe4WFfvb"
      },
      "source": [
        "list_aa.append('chiken')\n",
        "list_aa.append('water')\n",
        "list_aa.append('vegetable')\n",
        "list_aa.append('plate')"
      ],
      "execution_count": 36,
      "outputs": []
    },
    {
      "cell_type": "code",
      "metadata": {
        "id": "E-mAiPAbIjhl",
        "colab": {
          "base_uri": "https://localhost:8080/"
        },
        "outputId": "054edada-3ca1-4cd4-a0df-604f7761a872"
      },
      "source": [
        "list_aa"
      ],
      "execution_count": 37,
      "outputs": [
        {
          "output_type": "execute_result",
          "data": {
            "text/plain": [
              "['chiken', 'water', 'vegetable', 'plate']"
            ]
          },
          "metadata": {
            "tags": []
          },
          "execution_count": 37
        }
      ]
    },
    {
      "cell_type": "code",
      "metadata": {
        "id": "6KCU3RVRSwME",
        "colab": {
          "base_uri": "https://localhost:8080/",
          "height": 0
        },
        "outputId": "cc894874-92be-4a15-dc71-495ed3570c0b"
      },
      "source": [
        "list_aa[-1]"
      ],
      "execution_count": 38,
      "outputs": [
        {
          "output_type": "execute_result",
          "data": {
            "application/vnd.google.colaboratory.intrinsic+json": {
              "type": "string"
            },
            "text/plain": [
              "'plate'"
            ]
          },
          "metadata": {
            "tags": []
          },
          "execution_count": 38
        }
      ]
    },
    {
      "cell_type": "markdown",
      "metadata": {
        "id": "FP8dzkZYTZUd"
      },
      "source": [
        "### list slicing"
      ]
    },
    {
      "cell_type": "markdown",
      "metadata": {
        "id": "u4Sj6m45UMWd"
      },
      "source": [
        ": (colon)\n",
        "เราจะตัด list โดยเอาตั้งแต่ [ตัวหน้า:ตัวก่อนตัวหลัง]\n",
        "ถ้าเป็นสัญลักษณ์คณิตศาสตร์ [ตัวหน้า:ตัวหลัง] ->[ตัวหน้า,ตัวหลัง]"
      ]
    },
    {
      "cell_type": "code",
      "metadata": {
        "id": "oZj8Mj3JT4Jl",
        "colab": {
          "base_uri": "https://localhost:8080/"
        },
        "outputId": "f417ae7f-034e-493f-b4c2-880c946de28b"
      },
      "source": [
        "list_aa"
      ],
      "execution_count": 39,
      "outputs": [
        {
          "output_type": "execute_result",
          "data": {
            "text/plain": [
              "['chiken', 'water', 'vegetable', 'plate']"
            ]
          },
          "metadata": {
            "tags": []
          },
          "execution_count": 39
        }
      ]
    },
    {
      "cell_type": "code",
      "metadata": {
        "id": "jt5I6DKiT7-P",
        "colab": {
          "base_uri": "https://localhost:8080/"
        },
        "outputId": "13c0e064-eacc-4cb4-bf88-e9076219b552"
      },
      "source": [
        "list_aa[1:3]"
      ],
      "execution_count": 40,
      "outputs": [
        {
          "output_type": "execute_result",
          "data": {
            "text/plain": [
              "['water', 'vegetable']"
            ]
          },
          "metadata": {
            "tags": []
          },
          "execution_count": 40
        }
      ]
    },
    {
      "cell_type": "markdown",
      "metadata": {
        "id": "eTtuywJqIkPN"
      },
      "source": [
        "Quiz 1\n",
        "ตัดส่วนของ list เหล่านี้มาจาก list_aa\n",
        "1 'iken'\n",
        "2 'get'\n",
        "3 'tab'"
      ]
    },
    {
      "cell_type": "code",
      "metadata": {
        "colab": {
          "base_uri": "https://localhost:8080/",
          "height": 0
        },
        "id": "XIIKcgkSI58o",
        "outputId": "6aa9adb5-6931-4d9c-cda3-a201f4dbe478"
      },
      "source": [
        "list_aa[0]\n"
      ],
      "execution_count": 41,
      "outputs": [
        {
          "output_type": "execute_result",
          "data": {
            "application/vnd.google.colaboratory.intrinsic+json": {
              "type": "string"
            },
            "text/plain": [
              "'chiken'"
            ]
          },
          "metadata": {
            "tags": []
          },
          "execution_count": 41
        }
      ]
    },
    {
      "cell_type": "code",
      "metadata": {
        "colab": {
          "base_uri": "https://localhost:8080/",
          "height": 0
        },
        "id": "ZN115HggJ1YS",
        "outputId": "a237a6cb-0e8f-4011-b442-fe11370dddc4"
      },
      "source": [
        "list_aa[0][2:6]"
      ],
      "execution_count": 42,
      "outputs": [
        {
          "output_type": "execute_result",
          "data": {
            "application/vnd.google.colaboratory.intrinsic+json": {
              "type": "string"
            },
            "text/plain": [
              "'iken'"
            ]
          },
          "metadata": {
            "tags": []
          },
          "execution_count": 42
        }
      ]
    },
    {
      "cell_type": "code",
      "metadata": {
        "colab": {
          "base_uri": "https://localhost:8080/",
          "height": 0
        },
        "id": "dHlUfvpaN314",
        "outputId": "88249150-ad8e-4cb9-8229-ba9cf5e2fbc3"
      },
      "source": [
        "list_aa[2]"
      ],
      "execution_count": 43,
      "outputs": [
        {
          "output_type": "execute_result",
          "data": {
            "application/vnd.google.colaboratory.intrinsic+json": {
              "type": "string"
            },
            "text/plain": [
              "'vegetable'"
            ]
          },
          "metadata": {
            "tags": []
          },
          "execution_count": 43
        }
      ]
    },
    {
      "cell_type": "code",
      "metadata": {
        "colab": {
          "base_uri": "https://localhost:8080/",
          "height": 0
        },
        "id": "vTdf8s7aOLs2",
        "outputId": "04bdbf63-d988-45f4-b5fe-86a8c721fce8"
      },
      "source": [
        "list_aa[2][2:5]"
      ],
      "execution_count": 44,
      "outputs": [
        {
          "output_type": "execute_result",
          "data": {
            "application/vnd.google.colaboratory.intrinsic+json": {
              "type": "string"
            },
            "text/plain": [
              "'get'"
            ]
          },
          "metadata": {
            "tags": []
          },
          "execution_count": 44
        }
      ]
    },
    {
      "cell_type": "code",
      "metadata": {
        "colab": {
          "base_uri": "https://localhost:8080/",
          "height": 0
        },
        "id": "7NYyU2bbOXdl",
        "outputId": "944bc0d3-7175-4d80-b689-783dcf7a5dab"
      },
      "source": [
        "list_aa[2][4:7]"
      ],
      "execution_count": 45,
      "outputs": [
        {
          "output_type": "execute_result",
          "data": {
            "application/vnd.google.colaboratory.intrinsic+json": {
              "type": "string"
            },
            "text/plain": [
              "'tab'"
            ]
          },
          "metadata": {
            "tags": []
          },
          "execution_count": 45
        }
      ]
    },
    {
      "cell_type": "code",
      "metadata": {
        "id": "v-prkt2ZOjzU",
        "colab": {
          "base_uri": "https://localhost:8080/",
          "height": 0
        },
        "outputId": "e322e64a-c580-45cc-f382-696b3790e893"
      },
      "source": [
        "list_aa[2]"
      ],
      "execution_count": 46,
      "outputs": [
        {
          "output_type": "execute_result",
          "data": {
            "application/vnd.google.colaboratory.intrinsic+json": {
              "type": "string"
            },
            "text/plain": [
              "'vegetable'"
            ]
          },
          "metadata": {
            "tags": []
          },
          "execution_count": 46
        }
      ]
    },
    {
      "cell_type": "markdown",
      "metadata": {
        "id": "GOjVNTy07CnC"
      },
      "source": [
        "### Advance list slicing\n",
        "\n",
        "::\n",
        "เราจะตัด list โดยเอาตั้งแต่ [ตัวหน้า:ก่อนตัวหลัง:Step]\n",
        "้ถ้าเป็นสัญลักษณ์คณิตศาสตร์ [ตัวหน้า:ตัวหลัง]-> [ตัวหน้า:ตัวหลัง)"
      ]
    },
    {
      "cell_type": "code",
      "metadata": {
        "colab": {
          "base_uri": "https://localhost:8080/",
          "height": 0
        },
        "id": "t3pFWrdISo6D",
        "outputId": "76238608-249b-45ab-87af-15c5fcc251b2"
      },
      "source": [
        "list_aa[2][::2]"
      ],
      "execution_count": 47,
      "outputs": [
        {
          "output_type": "execute_result",
          "data": {
            "application/vnd.google.colaboratory.intrinsic+json": {
              "type": "string"
            },
            "text/plain": [
              "'vgtbe'"
            ]
          },
          "metadata": {
            "tags": []
          },
          "execution_count": 47
        }
      ]
    },
    {
      "cell_type": "code",
      "metadata": {
        "colab": {
          "base_uri": "https://localhost:8080/",
          "height": 0
        },
        "id": "0jV9L8ujTA1E",
        "outputId": "673aee36-1359-46c0-e6e0-496328dcf6c9"
      },
      "source": [
        "list_aa[2][::-1]"
      ],
      "execution_count": 48,
      "outputs": [
        {
          "output_type": "execute_result",
          "data": {
            "application/vnd.google.colaboratory.intrinsic+json": {
              "type": "string"
            },
            "text/plain": [
              "'elbategev'"
            ]
          },
          "metadata": {
            "tags": []
          },
          "execution_count": 48
        }
      ]
    },
    {
      "cell_type": "markdown",
      "metadata": {
        "id": "7vHl1djETXEe"
      },
      "source": [
        "format string\n",
        "\n",
        "\n",
        "f'string{variable}\n",
        "\n",
        "formate string  สามารที่จะจัดการข้อความที่เป็นตัวอักษร \n",
        "โดยสามารถแทรกตัวแปรเข้ามาเป็นตัวหนังสือได้\n",
        "\n",
        "\n"
      ]
    },
    {
      "cell_type": "code",
      "metadata": {
        "colab": {
          "base_uri": "https://localhost:8080/",
          "height": 0
        },
        "id": "aThzwP9ITKn4",
        "outputId": "f3e203ba-57e1-4f1a-e89f-8a2c4fb7a245"
      },
      "source": [
        "f'I like to eat {list_aa[2]}' # curly brackets"
      ],
      "execution_count": 49,
      "outputs": [
        {
          "output_type": "execute_result",
          "data": {
            "application/vnd.google.colaboratory.intrinsic+json": {
              "type": "string"
            },
            "text/plain": [
              "'I like to eat vegetable'"
            ]
          },
          "metadata": {
            "tags": []
          },
          "execution_count": 49
        }
      ]
    },
    {
      "cell_type": "code",
      "metadata": {
        "colab": {
          "base_uri": "https://localhost:8080/",
          "height": 0
        },
        "id": "Kn2GhIvpUDYh",
        "outputId": "ed99cfd8-888a-4f56-aed4-cd9513fb02d0"
      },
      "source": [
        "f'9x10 = {9*10}'"
      ],
      "execution_count": 50,
      "outputs": [
        {
          "output_type": "execute_result",
          "data": {
            "application/vnd.google.colaboratory.intrinsic+json": {
              "type": "string"
            },
            "text/plain": [
              "'9x10 = 90'"
            ]
          },
          "metadata": {
            "tags": []
          },
          "execution_count": 50
        }
      ]
    },
    {
      "cell_type": "markdown",
      "metadata": {
        "id": "JIrLoVl_-Jzb"
      },
      "source": [
        "สามารถเขียนโปรแกรมเข้าไปได้ "
      ]
    },
    {
      "cell_type": "markdown",
      "metadata": {
        "id": "qUxznlYPUm3f"
      },
      "source": [
        "## Loop"
      ]
    },
    {
      "cell_type": "markdown",
      "metadata": {
        "id": "HPJ_jlw-UtbD"
      },
      "source": [
        "การให้คอมทำงานที่ซ้ำๆ หรือคล้ายๆกันหลายๆรอบ โดยเราไม่ต้องทำเอง\n",
        "\n",
        "\n",
        "for ตัวแปรที่จะรับค่าจากลิสต์  in ลิสต์ที่ต้องการจะวนลูป:\n",
        "    do something\n",
        "    do another thing\n",
        "this is out the loop"
      ]
    },
    {
      "cell_type": "markdown",
      "metadata": {
        "id": "SXWD_oReAAQK"
      },
      "source": [
        " ในภาษา python จะใช้กำหนดขอบเขตโดยการเว้นวรรค ที่เรียกว่า idndent  โดยจะกำหนดระยะด้วย 1 เคาะ จะทำให้วนลูปในตัวแปร for  \n",
        "\n",
        " หากขึ้นบรรทัดใหม่โดยระยะตรงกับ for จะเป็นการรันนอก for"
      ]
    },
    {
      "cell_type": "code",
      "metadata": {
        "colab": {
          "base_uri": "https://localhost:8080/"
        },
        "id": "OVP0KgsXUlLu",
        "outputId": "6020ed15-f3dd-4016-d7df-7837dc2bc679"
      },
      "source": [
        "list_aa"
      ],
      "execution_count": 51,
      "outputs": [
        {
          "output_type": "execute_result",
          "data": {
            "text/plain": [
              "['chiken', 'water', 'vegetable', 'plate']"
            ]
          },
          "metadata": {
            "tags": []
          },
          "execution_count": 51
        }
      ]
    },
    {
      "cell_type": "code",
      "metadata": {
        "colab": {
          "base_uri": "https://localhost:8080/"
        },
        "id": "Sd7WAlmcUU8X",
        "outputId": "c8577753-137a-4345-8af5-ee1e6f82ff22"
      },
      "source": [
        "for i in list_aa:\n",
        "   print(f'now i is {i}')\n",
        "   print(f'i like to eat {i}')"
      ],
      "execution_count": 52,
      "outputs": [
        {
          "output_type": "stream",
          "text": [
            "now i is chiken\n",
            "i like to eat chiken\n",
            "now i is water\n",
            "i like to eat water\n",
            "now i is vegetable\n",
            "i like to eat vegetable\n",
            "now i is plate\n",
            "i like to eat plate\n"
          ],
          "name": "stdout"
        }
      ]
    },
    {
      "cell_type": "markdown",
      "metadata": {
        "id": "_c4E3gBjAuRc"
      },
      "source": [
        "คิดก่อนว่าจะใช้list ไหน วนลูป  i คือตัวแปรที่ต้องการให้วนลูป"
      ]
    },
    {
      "cell_type": "code",
      "metadata": {
        "colab": {
          "base_uri": "https://localhost:8080/"
        },
        "id": "eYQLa6xJXwYi",
        "outputId": "f21fc9ae-067e-47df-fff6-27fdfb4a5058"
      },
      "source": [
        "for i in list_aa:\n",
        "   print('Ha')"
      ],
      "execution_count": 53,
      "outputs": [
        {
          "output_type": "stream",
          "text": [
            "Ha\n",
            "Ha\n",
            "Ha\n",
            "Ha\n"
          ],
          "name": "stdout"
        }
      ]
    },
    {
      "cell_type": "code",
      "metadata": {
        "colab": {
          "base_uri": "https://localhost:8080/"
        },
        "id": "ylPxkTuVYKy8",
        "outputId": "9ec41beb-00db-4305-a342-b5fef57932bd"
      },
      "source": [
        "for x in  [1,3,5,7,9]:\n",
        "   print(f'this x = {x} x/2 = {x/2}')"
      ],
      "execution_count": 54,
      "outputs": [
        {
          "output_type": "stream",
          "text": [
            "this x = 1 x/2 = 0.5\n",
            "this x = 3 x/2 = 1.5\n",
            "this x = 5 x/2 = 2.5\n",
            "this x = 7 x/2 = 3.5\n",
            "this x = 9 x/2 = 4.5\n"
          ],
          "name": "stdout"
        }
      ]
    },
    {
      "cell_type": "code",
      "metadata": {
        "colab": {
          "base_uri": "https://localhost:8080/"
        },
        "id": "xl1JgaUnYkSt",
        "outputId": "2e3510d5-89bd-4fee-e9a7-c9066d09b31c"
      },
      "source": [
        "list(range(10))"
      ],
      "execution_count": 55,
      "outputs": [
        {
          "output_type": "execute_result",
          "data": {
            "text/plain": [
              "[0, 1, 2, 3, 4, 5, 6, 7, 8, 9]"
            ]
          },
          "metadata": {
            "tags": []
          },
          "execution_count": 55
        }
      ]
    },
    {
      "cell_type": "code",
      "metadata": {
        "colab": {
          "base_uri": "https://localhost:8080/"
        },
        "id": "TCtZ3qpwYz1v",
        "outputId": "9947f0a1-aed3-40f3-cb2c-9847d20f64f6"
      },
      "source": [
        "for i in range(100):\n",
        " print(f'Ha{i}',end='')"
      ],
      "execution_count": 56,
      "outputs": [
        {
          "output_type": "stream",
          "text": [
            "Ha0Ha1Ha2Ha3Ha4Ha5Ha6Ha7Ha8Ha9Ha10Ha11Ha12Ha13Ha14Ha15Ha16Ha17Ha18Ha19Ha20Ha21Ha22Ha23Ha24Ha25Ha26Ha27Ha28Ha29Ha30Ha31Ha32Ha33Ha34Ha35Ha36Ha37Ha38Ha39Ha40Ha41Ha42Ha43Ha44Ha45Ha46Ha47Ha48Ha49Ha50Ha51Ha52Ha53Ha54Ha55Ha56Ha57Ha58Ha59Ha60Ha61Ha62Ha63Ha64Ha65Ha66Ha67Ha68Ha69Ha70Ha71Ha72Ha73Ha74Ha75Ha76Ha77Ha78Ha79Ha80Ha81Ha82Ha83Ha84Ha85Ha86Ha87Ha88Ha89Ha90Ha91Ha92Ha93Ha94Ha95Ha96Ha97Ha98Ha99"
          ],
          "name": "stdout"
        }
      ]
    },
    {
      "cell_type": "markdown",
      "metadata": {
        "id": "IjE0EiI3BuLv"
      },
      "source": [
        "end = ''  แปลว่า end = ไม่มีอะไรเลย  \n",
        "range จะใช้วนลูปทที่ละเยอะๆ"
      ]
    },
    {
      "cell_type": "code",
      "metadata": {
        "colab": {
          "base_uri": "https://localhost:8080/"
        },
        "id": "s2sCaHA-ZNDA",
        "outputId": "fc84dd2a-99b3-498b-fdb0-d75a9583abf4"
      },
      "source": [
        "list(range(5,10))"
      ],
      "execution_count": 57,
      "outputs": [
        {
          "output_type": "execute_result",
          "data": {
            "text/plain": [
              "[5, 6, 7, 8, 9]"
            ]
          },
          "metadata": {
            "tags": []
          },
          "execution_count": 57
        }
      ]
    },
    {
      "cell_type": "code",
      "metadata": {
        "colab": {
          "base_uri": "https://localhost:8080/"
        },
        "id": "KOm264UlZtb8",
        "outputId": "a4dd8f7e-be11-43fd-e8fb-01678daad19c"
      },
      "source": [
        "list(range(5,100,5))"
      ],
      "execution_count": 58,
      "outputs": [
        {
          "output_type": "execute_result",
          "data": {
            "text/plain": [
              "[5, 10, 15, 20, 25, 30, 35, 40, 45, 50, 55, 60, 65, 70, 75, 80, 85, 90, 95]"
            ]
          },
          "metadata": {
            "tags": []
          },
          "execution_count": 58
        }
      ]
    },
    {
      "cell_type": "markdown",
      "metadata": {
        "id": "yRsoL6b7Z34V"
      },
      "source": [
        "### Nested loop"
      ]
    },
    {
      "cell_type": "code",
      "metadata": {
        "colab": {
          "base_uri": "https://localhost:8080/"
        },
        "id": "gKHZQzGmZ2Nb",
        "outputId": "a92f47b7-abf4-49ca-97d2-ba1e4afcab0e"
      },
      "source": [
        "for i in range(3):\n",
        "   print(f'i = {i}')\n",
        "   for j in range (2):\n",
        "      print(f'i = {i}, j = {j}, i+j = {i+j}')"
      ],
      "execution_count": 59,
      "outputs": [
        {
          "output_type": "stream",
          "text": [
            "i = 0\n",
            "i = 0, j = 0, i+j = 0\n",
            "i = 0, j = 1, i+j = 1\n",
            "i = 1\n",
            "i = 1, j = 0, i+j = 1\n",
            "i = 1, j = 1, i+j = 2\n",
            "i = 2\n",
            "i = 2, j = 0, i+j = 2\n",
            "i = 2, j = 1, i+j = 3\n"
          ],
          "name": "stdout"
        }
      ]
    },
    {
      "cell_type": "code",
      "metadata": {
        "id": "VdfVcGtLaqFE"
      },
      "source": [
        ""
      ],
      "execution_count": 59,
      "outputs": []
    },
    {
      "cell_type": "markdown",
      "metadata": {
        "id": "4tglXTWtbFnF"
      },
      "source": [
        "Quiz 2\n",
        " สร้าง list\n",
        " [[1],[1,1],[1,1,1],...,[1,1,1,1,1,1,1,1,1,1]  โดยใช้ for loop\n"
      ]
    },
    {
      "cell_type": "code",
      "metadata": {
        "colab": {
          "base_uri": "https://localhost:8080/"
        },
        "id": "Gal-7CNLbpvV",
        "outputId": "c9280483-4133-494f-a419-0eefd29c261b"
      },
      "source": [
        "list_ans = []\n",
        "print(f'list_ans = {list_ans}')\n",
        "for i in range(1,11):\n",
        " temp = []\n",
        " print(f'temp = {temp} i = {i}')\n",
        " for j in range(i):\n",
        "   temp.append(1)\n",
        " print(f'temp = {temp}')\n",
        " list_ans.append(temp)\n",
        " print(f'list_ans = {list_ans}')\n",
        "print(list_ans)"
      ],
      "execution_count": 60,
      "outputs": [
        {
          "output_type": "stream",
          "text": [
            "list_ans = []\n",
            "temp = [] i = 1\n",
            "temp = [1]\n",
            "list_ans = [[1]]\n",
            "temp = [] i = 2\n",
            "temp = [1, 1]\n",
            "list_ans = [[1], [1, 1]]\n",
            "temp = [] i = 3\n",
            "temp = [1, 1, 1]\n",
            "list_ans = [[1], [1, 1], [1, 1, 1]]\n",
            "temp = [] i = 4\n",
            "temp = [1, 1, 1, 1]\n",
            "list_ans = [[1], [1, 1], [1, 1, 1], [1, 1, 1, 1]]\n",
            "temp = [] i = 5\n",
            "temp = [1, 1, 1, 1, 1]\n",
            "list_ans = [[1], [1, 1], [1, 1, 1], [1, 1, 1, 1], [1, 1, 1, 1, 1]]\n",
            "temp = [] i = 6\n",
            "temp = [1, 1, 1, 1, 1, 1]\n",
            "list_ans = [[1], [1, 1], [1, 1, 1], [1, 1, 1, 1], [1, 1, 1, 1, 1], [1, 1, 1, 1, 1, 1]]\n",
            "temp = [] i = 7\n",
            "temp = [1, 1, 1, 1, 1, 1, 1]\n",
            "list_ans = [[1], [1, 1], [1, 1, 1], [1, 1, 1, 1], [1, 1, 1, 1, 1], [1, 1, 1, 1, 1, 1], [1, 1, 1, 1, 1, 1, 1]]\n",
            "temp = [] i = 8\n",
            "temp = [1, 1, 1, 1, 1, 1, 1, 1]\n",
            "list_ans = [[1], [1, 1], [1, 1, 1], [1, 1, 1, 1], [1, 1, 1, 1, 1], [1, 1, 1, 1, 1, 1], [1, 1, 1, 1, 1, 1, 1], [1, 1, 1, 1, 1, 1, 1, 1]]\n",
            "temp = [] i = 9\n",
            "temp = [1, 1, 1, 1, 1, 1, 1, 1, 1]\n",
            "list_ans = [[1], [1, 1], [1, 1, 1], [1, 1, 1, 1], [1, 1, 1, 1, 1], [1, 1, 1, 1, 1, 1], [1, 1, 1, 1, 1, 1, 1], [1, 1, 1, 1, 1, 1, 1, 1], [1, 1, 1, 1, 1, 1, 1, 1, 1]]\n",
            "temp = [] i = 10\n",
            "temp = [1, 1, 1, 1, 1, 1, 1, 1, 1, 1]\n",
            "list_ans = [[1], [1, 1], [1, 1, 1], [1, 1, 1, 1], [1, 1, 1, 1, 1], [1, 1, 1, 1, 1, 1], [1, 1, 1, 1, 1, 1, 1], [1, 1, 1, 1, 1, 1, 1, 1], [1, 1, 1, 1, 1, 1, 1, 1, 1], [1, 1, 1, 1, 1, 1, 1, 1, 1, 1]]\n",
            "[[1], [1, 1], [1, 1, 1], [1, 1, 1, 1], [1, 1, 1, 1, 1], [1, 1, 1, 1, 1, 1], [1, 1, 1, 1, 1, 1, 1], [1, 1, 1, 1, 1, 1, 1, 1], [1, 1, 1, 1, 1, 1, 1, 1, 1], [1, 1, 1, 1, 1, 1, 1, 1, 1, 1]]\n"
          ],
          "name": "stdout"
        }
      ]
    },
    {
      "cell_type": "markdown",
      "metadata": {
        "id": "V38rTVizhDrf"
      },
      "source": [
        "Quiz 2 สร้าง list [[1],[1,2],[1,2,3],...,[1,2,3,4,5,6,7,8,9,10] โดยใช้ for loop"
      ]
    },
    {
      "cell_type": "code",
      "metadata": {
        "colab": {
          "base_uri": "https://localhost:8080/"
        },
        "id": "Gh6l137ocTmM",
        "outputId": "44bb9964-5e62-4c8c-e7c7-59cf92e2fbd9"
      },
      "source": [
        "list_ans = []\n",
        "print(f'list_ans = {list_ans}')\n",
        "for i in range(1,11):\n",
        " temp = []\n",
        " print(f'temp = {temp} i = {i}')\n",
        " for j in range(i):\n",
        "   temp.append(j+1)\n",
        " print(f'temp = {temp}')\n",
        " list_ans.append(temp)\n",
        " print(f'list_ans = {list_ans}')\n",
        "print(list_ans)\n",
        "  "
      ],
      "execution_count": 61,
      "outputs": [
        {
          "output_type": "stream",
          "text": [
            "list_ans = []\n",
            "temp = [] i = 1\n",
            "temp = [1]\n",
            "list_ans = [[1]]\n",
            "temp = [] i = 2\n",
            "temp = [1, 2]\n",
            "list_ans = [[1], [1, 2]]\n",
            "temp = [] i = 3\n",
            "temp = [1, 2, 3]\n",
            "list_ans = [[1], [1, 2], [1, 2, 3]]\n",
            "temp = [] i = 4\n",
            "temp = [1, 2, 3, 4]\n",
            "list_ans = [[1], [1, 2], [1, 2, 3], [1, 2, 3, 4]]\n",
            "temp = [] i = 5\n",
            "temp = [1, 2, 3, 4, 5]\n",
            "list_ans = [[1], [1, 2], [1, 2, 3], [1, 2, 3, 4], [1, 2, 3, 4, 5]]\n",
            "temp = [] i = 6\n",
            "temp = [1, 2, 3, 4, 5, 6]\n",
            "list_ans = [[1], [1, 2], [1, 2, 3], [1, 2, 3, 4], [1, 2, 3, 4, 5], [1, 2, 3, 4, 5, 6]]\n",
            "temp = [] i = 7\n",
            "temp = [1, 2, 3, 4, 5, 6, 7]\n",
            "list_ans = [[1], [1, 2], [1, 2, 3], [1, 2, 3, 4], [1, 2, 3, 4, 5], [1, 2, 3, 4, 5, 6], [1, 2, 3, 4, 5, 6, 7]]\n",
            "temp = [] i = 8\n",
            "temp = [1, 2, 3, 4, 5, 6, 7, 8]\n",
            "list_ans = [[1], [1, 2], [1, 2, 3], [1, 2, 3, 4], [1, 2, 3, 4, 5], [1, 2, 3, 4, 5, 6], [1, 2, 3, 4, 5, 6, 7], [1, 2, 3, 4, 5, 6, 7, 8]]\n",
            "temp = [] i = 9\n",
            "temp = [1, 2, 3, 4, 5, 6, 7, 8, 9]\n",
            "list_ans = [[1], [1, 2], [1, 2, 3], [1, 2, 3, 4], [1, 2, 3, 4, 5], [1, 2, 3, 4, 5, 6], [1, 2, 3, 4, 5, 6, 7], [1, 2, 3, 4, 5, 6, 7, 8], [1, 2, 3, 4, 5, 6, 7, 8, 9]]\n",
            "temp = [] i = 10\n",
            "temp = [1, 2, 3, 4, 5, 6, 7, 8, 9, 10]\n",
            "list_ans = [[1], [1, 2], [1, 2, 3], [1, 2, 3, 4], [1, 2, 3, 4, 5], [1, 2, 3, 4, 5, 6], [1, 2, 3, 4, 5, 6, 7], [1, 2, 3, 4, 5, 6, 7, 8], [1, 2, 3, 4, 5, 6, 7, 8, 9], [1, 2, 3, 4, 5, 6, 7, 8, 9, 10]]\n",
            "[[1], [1, 2], [1, 2, 3], [1, 2, 3, 4], [1, 2, 3, 4, 5], [1, 2, 3, 4, 5, 6], [1, 2, 3, 4, 5, 6, 7], [1, 2, 3, 4, 5, 6, 7, 8], [1, 2, 3, 4, 5, 6, 7, 8, 9], [1, 2, 3, 4, 5, 6, 7, 8, 9, 10]]\n"
          ],
          "name": "stdout"
        }
      ]
    },
    {
      "cell_type": "code",
      "metadata": {
        "id": "KO34ZSXkjAdr"
      },
      "source": [
        ""
      ],
      "execution_count": 61,
      "outputs": []
    },
    {
      "cell_type": "markdown",
      "metadata": {
        "id": "HVr-npizjxUQ"
      },
      "source": [
        "## conditional ststement "
      ]
    },
    {
      "cell_type": "markdown",
      "metadata": {
        "id": "Yw2yyS8vj4Wp"
      },
      "source": [
        "\n",
        "\n",
        "if  เงื่อนไขที่เราจะตรวจสอบ (โดยอาศัยสัญลักษณ์เหล่านี้ ==, !=, <, >, <=, >= : in is_null())\n",
        "  ถ้าเงื่อนไขเป็นจริง ทำ\n",
        "  ถ้าเงื่อนไขเป็นจริง ทำ"
      ]
    },
    {
      "cell_type": "markdown",
      "metadata": {
        "id": "cooejewzHXlH"
      },
      "source": [
        "ตรวจสอบทางคณิตศาสตร์  ค่าเป็นอย่างไร น้อยกว่า มากกว่า เท่ากับ หรือไม่เท่ากับยังไง"
      ]
    },
    {
      "cell_type": "code",
      "metadata": {
        "colab": {
          "base_uri": "https://localhost:8080/"
        },
        "id": "jXTzvVu4j3cL",
        "outputId": "f6998a7e-a11d-46f1-ee4f-8c616064c0a6"
      },
      "source": [
        "if 1 < 5:\n",
        "   print('yes')"
      ],
      "execution_count": 68,
      "outputs": [
        {
          "output_type": "stream",
          "text": [
            "yes\n"
          ],
          "name": "stdout"
        }
      ]
    },
    {
      "cell_type": "code",
      "metadata": {
        "colab": {
          "base_uri": "https://localhost:8080/"
        },
        "id": "e7RaOiYdkVFR",
        "outputId": "93e5cda6-8368-4334-d4fe-72d3cbbeab8a"
      },
      "source": [
        "x = -12\n",
        "\n",
        "if x < 5:\n",
        "  print('yes')\n",
        "else:\n",
        "  print('no')"
      ],
      "execution_count": 69,
      "outputs": [
        {
          "output_type": "stream",
          "text": [
            "yes\n"
          ],
          "name": "stdout"
        }
      ]
    },
    {
      "cell_type": "markdown",
      "metadata": {
        "id": "auRgZC1sH2ge"
      },
      "source": [
        "if  เงื่อนไขที่เราจะตรวจสอบ (โดยอาศัยสัญลักษณ์เหล่านี้ ==, !=, <, >, <=, >= : \n",
        "\n",
        "  ถ้ามีเงื่อนไขเป็นจริง ทำงานที่ 1\n",
        "  ถ้ามีเงื่อนไขเป็นจริง ทำงานที่ 2\n",
        "\n",
        "elif เงื่อนไขที่จะตรวตสอบต่อไป ถ้าเงื่อนไขข้างบนไม่เป็นจริง\n",
        "  ถ้าเงื่อไขเป็นจริง ทำงานที่a1\n",
        "  ถ้าเงื่อไขเป็นจริง ทำงานที่a2\n",
        "\n",
        "elif เงื่อนไขที่จะตรวตสอบต่อไป ถ้าเงื่อนไขข้างบนไม่เป็นจริง\n",
        "  ถ้าเงื่อไขเป็นจริง ทำงานที่b1\n",
        "  ถ้าเงื่อไขเป็นจริง ทำงานที่b2\n",
        "\n",
        "elif # เงื่อนไขที่จะตรวตสอบต่อไป ถ้าเงื่อนไขข้างบนไม่เป็นจริง\n",
        "     ทำงานที่ x\n",
        "\n"
      ]
    },
    {
      "cell_type": "code",
      "metadata": {
        "id": "cmi2fyjPlfco"
      },
      "source": [
        "list_ex = [1,5,9,-19,-2,0]\n",
        "\n",
        "min = 1000000\n",
        "for x in list_ex:\n",
        "  if x < min:\n",
        "    min = x\n"
      ],
      "execution_count": 70,
      "outputs": []
    },
    {
      "cell_type": "code",
      "metadata": {
        "colab": {
          "base_uri": "https://localhost:8080/"
        },
        "id": "mgNRr65Dl7BD",
        "outputId": "2ebe2b58-3d13-472f-97ee-9e66744735d7"
      },
      "source": [
        "print(min)"
      ],
      "execution_count": 71,
      "outputs": [
        {
          "output_type": "stream",
          "text": [
            "-19\n"
          ],
          "name": "stdout"
        }
      ]
    },
    {
      "cell_type": "markdown",
      "metadata": {
        "id": "xTzu4Tg4pO_T"
      },
      "source": [
        "### Quiz 4 "
      ]
    },
    {
      "cell_type": "code",
      "metadata": {
        "id": "SCgBKnnAomiM"
      },
      "source": [
        "list_ex = [1,5,9,-19,-2,0]\n",
        "max = 0\n",
        "for x in list_ex:\n",
        "  if x > max:\n",
        "    max = x"
      ],
      "execution_count": 72,
      "outputs": []
    },
    {
      "cell_type": "code",
      "metadata": {
        "colab": {
          "base_uri": "https://localhost:8080/"
        },
        "id": "QSyjPHKVo9M9",
        "outputId": "4f0cc3b2-7d12-4a70-dfab-fcd5f19fc670"
      },
      "source": [
        "print(max)"
      ],
      "execution_count": 73,
      "outputs": [
        {
          "output_type": "stream",
          "text": [
            "9\n"
          ],
          "name": "stdout"
        }
      ]
    },
    {
      "cell_type": "markdown",
      "metadata": {
        "id": "Wv9UuWyS4yvL"
      },
      "source": [
        "### Function"
      ]
    },
    {
      "cell_type": "markdown",
      "metadata": {
        "id": "d_n0syXt5S4d"
      },
      "source": [
        "#### example1"
      ]
    },
    {
      "cell_type": "code",
      "metadata": {
        "id": "4FrLwzxU4Njq"
      },
      "source": [
        "def find_min(list_ex):\n",
        " min = 1000000\n",
        " for x in list_ex:\n",
        "   if x < min:\n",
        "     min = x\n",
        " return min"
      ],
      "execution_count": 82,
      "outputs": []
    },
    {
      "cell_type": "code",
      "metadata": {
        "id": "UTsZm5rS5unS",
        "outputId": "fd26f4e9-2791-44df-f068-30b9bcd450ac",
        "colab": {
          "base_uri": "https://localhost:8080/"
        }
      },
      "source": [
        "list_A = [1,5,9,-19,-2,0]\n",
        "xxx = find_min(list_A)\n",
        "print(xxx)"
      ],
      "execution_count": 84,
      "outputs": [
        {
          "output_type": "stream",
          "text": [
            "-19\n"
          ],
          "name": "stdout"
        }
      ]
    },
    {
      "cell_type": "markdown",
      "metadata": {
        "id": "Ui-81b0k60rj"
      },
      "source": [
        "#### Exmample 2"
      ]
    },
    {
      "cell_type": "code",
      "metadata": {
        "id": "l7k-zS0G6hLb"
      },
      "source": [
        "YYY = find_min(list_A)"
      ],
      "execution_count": 85,
      "outputs": []
    },
    {
      "cell_type": "code",
      "metadata": {
        "id": "fUeNX7pg67_K"
      },
      "source": [
        ""
      ],
      "execution_count": null,
      "outputs": []
    },
    {
      "cell_type": "markdown",
      "metadata": {
        "id": "C9TDadwM6_Gk"
      },
      "source": [
        "#### Example 3"
      ]
    },
    {
      "cell_type": "code",
      "metadata": {
        "id": "piKHUjEu7Cxo"
      },
      "source": [
        "def pi_val():\n",
        "   return 3.1416"
      ],
      "execution_count": 86,
      "outputs": []
    },
    {
      "cell_type": "code",
      "metadata": {
        "id": "L4EHc6m17Mgo",
        "outputId": "ba6a930b-0600-44a8-9970-459ef832f13a",
        "colab": {
          "base_uri": "https://localhost:8080/",
          "height": 186
        }
      },
      "source": [
        "r = 10\n",
        "Print(f'พื้นที่วงกลมมีเส้นผ่าศูนย์กลางเท่ากับ {r} คือ {Pi_val()*r*r}')"
      ],
      "execution_count": 96,
      "outputs": [
        {
          "output_type": "error",
          "ename": "NameError",
          "evalue": "ignored",
          "traceback": [
            "\u001b[0;31m---------------------------------------------------------------------------\u001b[0m",
            "\u001b[0;31mNameError\u001b[0m                                 Traceback (most recent call last)",
            "\u001b[0;32m<ipython-input-96-997d5291f7c7>\u001b[0m in \u001b[0;36m<module>\u001b[0;34m()\u001b[0m\n\u001b[1;32m      1\u001b[0m \u001b[0mr\u001b[0m \u001b[0;34m=\u001b[0m \u001b[0;36m10\u001b[0m\u001b[0;34m\u001b[0m\u001b[0;34m\u001b[0m\u001b[0m\n\u001b[0;32m----> 2\u001b[0;31m \u001b[0mPrint\u001b[0m\u001b[0;34m(\u001b[0m\u001b[0;34mf'พื้นที่วงกลมมีเส้นผ่าศูนย์กลางเท่ากับ {r} คือ {Pi_val()*r*r}'\u001b[0m\u001b[0;34m)\u001b[0m\u001b[0;34m\u001b[0m\u001b[0;34m\u001b[0m\u001b[0m\n\u001b[0m",
            "\u001b[0;31mNameError\u001b[0m: name 'Print' is not defined"
          ]
        }
      ]
    },
    {
      "cell_type": "markdown",
      "metadata": {
        "id": "k3fJKGau9LpX"
      },
      "source": [
        "#### Example 4"
      ]
    },
    {
      "cell_type": "code",
      "metadata": {
        "id": "R7IfOg5j7OL7"
      },
      "source": [
        "def draw_rectangle():\n",
        "  print('======')\n",
        "  print('I    I')\n",
        "  print('======')"
      ],
      "execution_count": 97,
      "outputs": []
    },
    {
      "cell_type": "code",
      "metadata": {
        "id": "ioaMV0E4-Y0_"
      },
      "source": [
        ""
      ],
      "execution_count": null,
      "outputs": []
    },
    {
      "cell_type": "markdown",
      "metadata": {
        "id": "i9xTnrE_9QsX"
      },
      "source": [
        "ลักษณะของ input   (paramiter) (agr\n",
        "  จำเป็นต้องใส่\n",
        "  ไม่จำเป็นต้องใส่"
      ]
    },
    {
      "cell_type": "code",
      "metadata": {
        "id": "oXuEMEc-9f_o"
      },
      "source": [
        "def draw_rectangle(dbbound=True):\n",
        "  if dbbound:\n",
        "    print('======')\n",
        "    print('I    I')\n",
        "    print('======')\n",
        "  else:\n",
        "    print('------')\n",
        "    print('I    I')\n",
        "    print('------')"
      ],
      "execution_count": 101,
      "outputs": []
    },
    {
      "cell_type": "code",
      "metadata": {
        "id": "HC0wb4sy_Zq_"
      },
      "source": [
        "def draw_rectangle(size,dbbound=True):\n",
        "  if dbbound:\n",
        "    up = '='\n",
        "    space = ' '\n",
        "    print(f'{(size+4)*up}')\n",
        "    print(f'll{(size*space)}ll')\n",
        "    print(f'{(size+4)*up}')\n",
        "  else:\n",
        "    up = '-'\n",
        "    space = ' '\n",
        "    print(f'{(size+4)*up}')\n",
        "    print(f'l{(size*space)}l')\n",
        "    print(f'{(size+4)*up}')"
      ],
      "execution_count": 105,
      "outputs": []
    },
    {
      "cell_type": "code",
      "metadata": {
        "id": "4raIHzz5BYou",
        "outputId": "a646f72e-0ea4-46b7-86c9-bce0d61c631b",
        "colab": {
          "base_uri": "https://localhost:8080/",
          "height": 168
        }
      },
      "source": [
        "draw_rectangle()"
      ],
      "execution_count": 103,
      "outputs": [
        {
          "output_type": "error",
          "ename": "TypeError",
          "evalue": "ignored",
          "traceback": [
            "\u001b[0;31m---------------------------------------------------------------------------\u001b[0m",
            "\u001b[0;31mTypeError\u001b[0m                                 Traceback (most recent call last)",
            "\u001b[0;32m<ipython-input-103-58aa09896f8d>\u001b[0m in \u001b[0;36m<module>\u001b[0;34m()\u001b[0m\n\u001b[0;32m----> 1\u001b[0;31m \u001b[0mdraw_rectangle\u001b[0m\u001b[0;34m(\u001b[0m\u001b[0;34m)\u001b[0m\u001b[0;34m\u001b[0m\u001b[0;34m\u001b[0m\u001b[0m\n\u001b[0m",
            "\u001b[0;31mTypeError\u001b[0m: draw_rectangle() missing 1 required positional argument: 'size'"
          ]
        }
      ]
    },
    {
      "cell_type": "code",
      "metadata": {
        "id": "G5cqE5ZABcYC",
        "outputId": "19875575-7ca3-4249-fd79-4222edb82380",
        "colab": {
          "base_uri": "https://localhost:8080/"
        }
      },
      "source": [
        "draw_rectangle(10,False)"
      ],
      "execution_count": 106,
      "outputs": [
        {
          "output_type": "stream",
          "text": [
            "--------------\n",
            "l          l\n",
            "--------------\n"
          ],
          "name": "stdout"
        }
      ]
    },
    {
      "cell_type": "code",
      "metadata": {
        "id": "GOQPuw_CBq5U"
      },
      "source": [
        ""
      ],
      "execution_count": null,
      "outputs": []
    },
    {
      "cell_type": "markdown",
      "metadata": {
        "id": "4zlt1XNzDwAZ"
      },
      "source": [
        "Quiz \n",
        "สร้าง function วาด 4 เหลี่ยม\n",
        "โดยให้สามารถวัดความยาวความกว้างได้\n",
        "แต่ถ้าใส่ paramiter ตัวเดียว ก็วาดสีเหลี่ยมจัตตุรัส\n",
        "ที่มีความยาวเท่ากับ paramiter ที่ใส่\n",
        "\n",
        "(ให้ปริ้น ความกว้าง x ความยาวของสี่เหลี่ยม)"
      ]
    },
    {
      "cell_type": "code",
      "metadata": {
        "id": "0hdaKEhyEhPO"
      },
      "source": [
        "def rext(w,h='True'):\n",
        "  if h=='True':# check if there in only one\n",
        "   h=w\n",
        "  print(f'{w} x {h}')"
      ],
      "execution_count": 120,
      "outputs": []
    },
    {
      "cell_type": "code",
      "metadata": {
        "id": "krKcK2kDEtpX",
        "outputId": "07535f33-bf22-4428-f8ce-83621fc95ab2",
        "colab": {
          "base_uri": "https://localhost:8080/"
        }
      },
      "source": [
        "rext(3,5)"
      ],
      "execution_count": 121,
      "outputs": [
        {
          "output_type": "stream",
          "text": [
            "3 x 5\n"
          ],
          "name": "stdout"
        }
      ]
    },
    {
      "cell_type": "code",
      "metadata": {
        "id": "yhXmKeW8HFJu",
        "outputId": "97e14e71-f45e-4937-c98f-16396b541e00",
        "colab": {
          "base_uri": "https://localhost:8080/"
        }
      },
      "source": [
        "rext(7)"
      ],
      "execution_count": 122,
      "outputs": [
        {
          "output_type": "stream",
          "text": [
            "7 x 7\n"
          ],
          "name": "stdout"
        }
      ]
    },
    {
      "cell_type": "code",
      "metadata": {
        "id": "zBHgZ_QpJeNg"
      },
      "source": [
        ""
      ],
      "execution_count": null,
      "outputs": []
    }
  ]
}