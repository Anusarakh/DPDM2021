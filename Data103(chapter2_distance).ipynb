{
  "nbformat": 4,
  "nbformat_minor": 0,
  "metadata": {
    "colab": {
      "name": "Data103(chapter2 distance).ipynb",
      "provenance": [],
      "toc_visible": true,
      "authorship_tag": "ABX9TyPJ+YxD1PCRnCwInIbMWHP6",
      "include_colab_link": true
    },
    "kernelspec": {
      "name": "python3",
      "display_name": "Python 3"
    },
    "language_info": {
      "name": "python"
    }
  },
  "cells": [
    {
      "cell_type": "markdown",
      "metadata": {
        "id": "view-in-github",
        "colab_type": "text"
      },
      "source": [
        "<a href=\"https://colab.research.google.com/github/Anusarakh/DPDM2021/blob/main/Data103(chapter2_distance).ipynb\" target=\"_parent\"><img src=\"https://colab.research.google.com/assets/colab-badge.svg\" alt=\"Open In Colab\"/></a>"
      ]
    },
    {
      "cell_type": "code",
      "metadata": {
        "id": "u-L6X0Hf2TTt"
      },
      "source": [
        "import numpy as np # package สำหรับทำงานกับ ข้อมูลที่เป็นตัวเลข (ในรูปแบบเมทริกศ์ )"
      ],
      "execution_count": 2,
      "outputs": []
    },
    {
      "cell_type": "markdown",
      "metadata": {
        "id": "KtVJGVUI3B2B"
      },
      "source": [
        "# Numpy Array"
      ]
    },
    {
      "cell_type": "markdown",
      "metadata": {
        "id": "FBrsPXid3M6u"
      },
      "source": [
        "## Ctrate numpy array"
      ]
    },
    {
      "cell_type": "code",
      "metadata": {
        "colab": {
          "base_uri": "https://localhost:8080/"
        },
        "id": "2nUKEji423_r",
        "outputId": "6db3c2de-c61e-4515-a9c4-13093c71de61"
      },
      "source": [
        "np_a = np.array([[1,2,3],[4,5,6]])\n",
        "np_a"
      ],
      "execution_count": 3,
      "outputs": [
        {
          "output_type": "execute_result",
          "data": {
            "text/plain": [
              "array([[1, 2, 3],\n",
              "       [4, 5, 6]])"
            ]
          },
          "metadata": {},
          "execution_count": 3
        }
      ]
    },
    {
      "cell_type": "code",
      "metadata": {
        "colab": {
          "base_uri": "https://localhost:8080/"
        },
        "id": "V0NO_9XL3glM",
        "outputId": "d2d27854-8367-4f88-c3af-4078cd66ec80"
      },
      "source": [
        "np_a.shape"
      ],
      "execution_count": 4,
      "outputs": [
        {
          "output_type": "execute_result",
          "data": {
            "text/plain": [
              "(2, 3)"
            ]
          },
          "metadata": {},
          "execution_count": 4
        }
      ]
    },
    {
      "cell_type": "code",
      "metadata": {
        "colab": {
          "base_uri": "https://localhost:8080/"
        },
        "id": "RTNBGw1q3sTq",
        "outputId": "75d34045-9969-4cdc-93ca-a6d2bf398518"
      },
      "source": [
        "np_b = np.array([[1,4],[2,5],[3,6]])\n",
        "print(np_b.shape)\n",
        "np_b"
      ],
      "execution_count": 5,
      "outputs": [
        {
          "output_type": "stream",
          "text": [
            "(3, 2)\n"
          ],
          "name": "stdout"
        },
        {
          "output_type": "execute_result",
          "data": {
            "text/plain": [
              "array([[1, 4],\n",
              "       [2, 5],\n",
              "       [3, 6]])"
            ]
          },
          "metadata": {},
          "execution_count": 5
        }
      ]
    },
    {
      "cell_type": "markdown",
      "metadata": {
        "id": "9Irb2uCiEChW"
      },
      "source": [
        "## คำสั่งสร้าง matrix เริ่มต้น Zeros , one"
      ]
    },
    {
      "cell_type": "code",
      "metadata": {
        "colab": {
          "base_uri": "https://localhost:8080/"
        },
        "id": "E9cYXBmGEAr8",
        "outputId": "345b5d4f-12b8-41b1-9ae5-f69b443aa689"
      },
      "source": [
        "np.zeros((3,2))"
      ],
      "execution_count": 6,
      "outputs": [
        {
          "output_type": "execute_result",
          "data": {
            "text/plain": [
              "array([[0., 0.],\n",
              "       [0., 0.],\n",
              "       [0., 0.]])"
            ]
          },
          "metadata": {},
          "execution_count": 6
        }
      ]
    },
    {
      "cell_type": "code",
      "metadata": {
        "colab": {
          "base_uri": "https://localhost:8080/"
        },
        "id": "J4aPQ4RvGp2Z",
        "outputId": "9709d0cb-673e-45ed-d100-8ac811e3986b"
      },
      "source": [
        "np.zeros((3,))"
      ],
      "execution_count": 7,
      "outputs": [
        {
          "output_type": "execute_result",
          "data": {
            "text/plain": [
              "array([0., 0., 0.])"
            ]
          },
          "metadata": {},
          "execution_count": 7
        }
      ]
    },
    {
      "cell_type": "markdown",
      "metadata": {
        "id": "0c8YISe4EJn2"
      },
      "source": [
        "## คำสั่งสร้าง matrix เริ่มต้น ด้วย random"
      ]
    },
    {
      "cell_type": "markdown",
      "metadata": {
        "id": "XMPCtcs0C9j3"
      },
      "source": [
        "## Indexcing"
      ]
    },
    {
      "cell_type": "code",
      "metadata": {
        "colab": {
          "base_uri": "https://localhost:8080/"
        },
        "id": "49LlrxLiEYMf",
        "outputId": "fd49f8f0-ab57-4a21-ef32-6286d7cd76cd"
      },
      "source": [
        "np.random.randn(3,2)  "
      ],
      "execution_count": 8,
      "outputs": [
        {
          "output_type": "execute_result",
          "data": {
            "text/plain": [
              "array([[-0.17286844, -1.53708495],\n",
              "       [ 1.04123671,  1.52890536],\n",
              "       [-0.34046789,  0.34716131]])"
            ]
          },
          "metadata": {},
          "execution_count": 8
        }
      ]
    },
    {
      "cell_type": "code",
      "metadata": {
        "colab": {
          "base_uri": "https://localhost:8080/"
        },
        "id": "s8cY0k3uE7Sy",
        "outputId": "c40e6f90-78fa-42ef-8802-1d2d7a47bec7"
      },
      "source": [
        "np.random.randint(0,10,(3,2))  #  มาจากการกำหนดค่าเริ่มต้นได้ (low,hi(dimention))"
      ],
      "execution_count": 9,
      "outputs": [
        {
          "output_type": "execute_result",
          "data": {
            "text/plain": [
              "array([[2, 6],\n",
              "       [3, 1],\n",
              "       [9, 0]])"
            ]
          },
          "metadata": {},
          "execution_count": 9
        }
      ]
    },
    {
      "cell_type": "code",
      "metadata": {
        "colab": {
          "base_uri": "https://localhost:8080/"
        },
        "id": "M01QlDWvDBTY",
        "outputId": "47908fbb-4f8b-47e6-db00-23e97da37200"
      },
      "source": [
        "np_b[0,1]  # การชี้สมาชิกใน numpy ไปใช้ matrix [แถว,หลัก]"
      ],
      "execution_count": 10,
      "outputs": [
        {
          "output_type": "execute_result",
          "data": {
            "text/plain": [
              "4"
            ]
          },
          "metadata": {},
          "execution_count": 10
        }
      ]
    },
    {
      "cell_type": "markdown",
      "metadata": {
        "id": "Tt-wq5NE4fc4"
      },
      "source": [
        "## Transpose matrix"
      ]
    },
    {
      "cell_type": "code",
      "metadata": {
        "colab": {
          "base_uri": "https://localhost:8080/"
        },
        "id": "3zVw8Gbf4IJT",
        "outputId": "9e8e8beb-7e5a-49ec-d846-09d9917b3f87"
      },
      "source": [
        "np_a.T"
      ],
      "execution_count": 11,
      "outputs": [
        {
          "output_type": "execute_result",
          "data": {
            "text/plain": [
              "array([[1, 4],\n",
              "       [2, 5],\n",
              "       [3, 6]])"
            ]
          },
          "metadata": {},
          "execution_count": 11
        }
      ]
    },
    {
      "cell_type": "code",
      "metadata": {
        "colab": {
          "base_uri": "https://localhost:8080/"
        },
        "id": "ijXX4H7P4eMT",
        "outputId": "2aadf53d-0823-4677-f719-d6fdc1f2ee7d"
      },
      "source": [
        "np_b.T"
      ],
      "execution_count": 12,
      "outputs": [
        {
          "output_type": "execute_result",
          "data": {
            "text/plain": [
              "array([[1, 2, 3],\n",
              "       [4, 5, 6]])"
            ]
          },
          "metadata": {},
          "execution_count": 12
        }
      ]
    },
    {
      "cell_type": "markdown",
      "metadata": {
        "id": "ZcvUMOJlF3jF"
      },
      "source": [
        "## matrix multiplication"
      ]
    },
    {
      "cell_type": "code",
      "metadata": {
        "colab": {
          "base_uri": "https://localhost:8080/"
        },
        "id": "J0NxZ1qtF_aW",
        "outputId": "4b8ecafb-69dc-47f3-e28d-a6b8675b8680"
      },
      "source": [
        "np.dot(np_b,np_a)"
      ],
      "execution_count": 13,
      "outputs": [
        {
          "output_type": "execute_result",
          "data": {
            "text/plain": [
              "array([[17, 22, 27],\n",
              "       [22, 29, 36],\n",
              "       [27, 36, 45]])"
            ]
          },
          "metadata": {},
          "execution_count": 13
        }
      ]
    },
    {
      "cell_type": "code",
      "metadata": {
        "colab": {
          "base_uri": "https://localhost:8080/"
        },
        "id": "yiBW-UVoGIog",
        "outputId": "6fc53174-2aab-47b4-c71d-d0f883a8598c"
      },
      "source": [
        "np.dot(np_a,np_b)"
      ],
      "execution_count": 14,
      "outputs": [
        {
          "output_type": "execute_result",
          "data": {
            "text/plain": [
              "array([[14, 32],\n",
              "       [32, 77]])"
            ]
          },
          "metadata": {},
          "execution_count": 14
        }
      ]
    },
    {
      "cell_type": "markdown",
      "metadata": {
        "id": "GSZEzRfd40d2"
      },
      "source": [
        "## Useful numpy function"
      ]
    },
    {
      "cell_type": "markdown",
      "metadata": {
        "id": "KP_OiLus4-qc"
      },
      "source": [
        "### summation $\\sum$"
      ]
    },
    {
      "cell_type": "code",
      "metadata": {
        "colab": {
          "base_uri": "https://localhost:8080/"
        },
        "id": "9m8Q0pZX4tK1",
        "outputId": "8e0993f5-e691-44bd-85ec-615b43869950"
      },
      "source": [
        "np_a"
      ],
      "execution_count": 15,
      "outputs": [
        {
          "output_type": "execute_result",
          "data": {
            "text/plain": [
              "array([[1, 2, 3],\n",
              "       [4, 5, 6]])"
            ]
          },
          "metadata": {},
          "execution_count": 15
        }
      ]
    },
    {
      "cell_type": "code",
      "metadata": {
        "colab": {
          "base_uri": "https://localhost:8080/"
        },
        "id": "zD-9eGSK5EFL",
        "outputId": "b46f2629-1085-49f6-e7fb-4909026d653f"
      },
      "source": [
        "np.sum(np_a)  # ผลบวก matrix  [บวกทกตัวที่อยู่ใน matrix]"
      ],
      "execution_count": 16,
      "outputs": [
        {
          "output_type": "execute_result",
          "data": {
            "text/plain": [
              "21"
            ]
          },
          "metadata": {},
          "execution_count": 16
        }
      ]
    },
    {
      "cell_type": "code",
      "metadata": {
        "colab": {
          "base_uri": "https://localhost:8080/"
        },
        "id": "EsKJ9-XB5ILz",
        "outputId": "c610d93b-1b58-45d7-d616-202f73429377"
      },
      "source": [
        "np.sum(np_a,axis=0)   # axis คือ การรวมของแถวหรือหลัก  0=แถว 1=หลัก"
      ],
      "execution_count": 17,
      "outputs": [
        {
          "output_type": "execute_result",
          "data": {
            "text/plain": [
              "array([5, 7, 9])"
            ]
          },
          "metadata": {},
          "execution_count": 17
        }
      ]
    },
    {
      "cell_type": "code",
      "metadata": {
        "colab": {
          "base_uri": "https://localhost:8080/"
        },
        "id": "Xb0W60l25cDi",
        "outputId": "1d8896b9-daac-47b3-cb96-124352c15b65"
      },
      "source": [
        "np.sum(np_a,axis=1)"
      ],
      "execution_count": 18,
      "outputs": [
        {
          "output_type": "execute_result",
          "data": {
            "text/plain": [
              "array([ 6, 15])"
            ]
          },
          "metadata": {},
          "execution_count": 18
        }
      ]
    },
    {
      "cell_type": "markdown",
      "metadata": {
        "id": "cZ1mgpgW7gyE"
      },
      "source": [
        "## วนลูปเอง"
      ]
    },
    {
      "cell_type": "code",
      "metadata": {
        "colab": {
          "base_uri": "https://localhost:8080/"
        },
        "id": "Zmb8RJGx8YOf",
        "outputId": "138e3f45-c317-4e75-a4fb-cc0839aa4bb3"
      },
      "source": [
        "np_a.shape"
      ],
      "execution_count": 19,
      "outputs": [
        {
          "output_type": "execute_result",
          "data": {
            "text/plain": [
              "(2, 3)"
            ]
          },
          "metadata": {},
          "execution_count": 19
        }
      ]
    },
    {
      "cell_type": "code",
      "metadata": {
        "colab": {
          "base_uri": "https://localhost:8080/"
        },
        "id": "dA-VG-wU8e7w",
        "outputId": "1d5b941e-37b5-4480-b5f9-f4a3700f57b0"
      },
      "source": [
        "np_a.shape[0]"
      ],
      "execution_count": 20,
      "outputs": [
        {
          "output_type": "execute_result",
          "data": {
            "text/plain": [
              "2"
            ]
          },
          "metadata": {},
          "execution_count": 20
        }
      ]
    },
    {
      "cell_type": "code",
      "metadata": {
        "colab": {
          "base_uri": "https://localhost:8080/"
        },
        "id": "VqnYyiBs7QwW",
        "outputId": "fb27e0c2-51b8-4dca-c0c4-1d3dfc6347c2"
      },
      "source": [
        "sum_all = 0\n",
        "for row in range(np_a.shape[0]):\n",
        " for col in range(np_a.shape[1]):\n",
        "   sum_all = sum_all + np_a[row,col]   # การชี้สมาชิกใน numpy ไปใช้ matrix [แถว,หลัก]\n",
        "sum_all"
      ],
      "execution_count": 21,
      "outputs": [
        {
          "output_type": "execute_result",
          "data": {
            "text/plain": [
              "21"
            ]
          },
          "metadata": {},
          "execution_count": 21
        }
      ]
    },
    {
      "cell_type": "code",
      "metadata": {
        "colab": {
          "base_uri": "https://localhost:8080/"
        },
        "id": "chywy-08AG85",
        "outputId": "4a90ade4-7706-42a7-ae3c-1e26b7777b9d"
      },
      "source": [
        "np.sum(np_a,axis=1)"
      ],
      "execution_count": 22,
      "outputs": [
        {
          "output_type": "execute_result",
          "data": {
            "text/plain": [
              "array([ 6, 15])"
            ]
          },
          "metadata": {},
          "execution_count": 22
        }
      ]
    },
    {
      "cell_type": "code",
      "metadata": {
        "colab": {
          "base_uri": "https://localhost:8080/"
        },
        "id": "3RekL2tY9eQy",
        "outputId": "f11c9cea-4bdf-43c2-ac49-07a1617cc839"
      },
      "source": [
        "sum_vert = np.zeros((np_a.shape[1]))\n",
        "for col in range(np_a.shape[1]): \n",
        "   for row in range(np_a.shape[0]):\n",
        "     sum_vert[col] = sum_vert[col] + np_a[row,col]\n",
        "sum_vert\n"
      ],
      "execution_count": 23,
      "outputs": [
        {
          "output_type": "execute_result",
          "data": {
            "text/plain": [
              "array([5., 7., 9.])"
            ]
          },
          "metadata": {},
          "execution_count": 23
        }
      ]
    },
    {
      "cell_type": "code",
      "metadata": {
        "colab": {
          "base_uri": "https://localhost:8080/"
        },
        "id": "q35IWMlHAbI1",
        "outputId": "0b69d5da-1819-43c4-d40d-0e035ef2ad8b"
      },
      "source": [
        "sum_hor = np.zeros((np_a.shape[1]))\n",
        "for col in range(np_a.shape[1]): \n",
        "   for row in range(np_a.shape[0]):\n",
        "     sum_hor[row] = sum_vert[row] + np_a[row,col]\n",
        "sum_hor"
      ],
      "execution_count": 24,
      "outputs": [
        {
          "output_type": "execute_result",
          "data": {
            "text/plain": [
              "array([ 8., 13.,  0.])"
            ]
          },
          "metadata": {},
          "execution_count": 24
        }
      ]
    },
    {
      "cell_type": "code",
      "metadata": {
        "id": "WioA0Om2CjUi"
      },
      "source": [
        "n_row,n_col = np_a.shape\n",
        "\n",
        "sum_hor = np.zeros"
      ],
      "execution_count": 25,
      "outputs": []
    },
    {
      "cell_type": "markdown",
      "metadata": {
        "id": "sBQ1Ml8KCqRR"
      },
      "source": [
        "## Araray slicing"
      ]
    },
    {
      "cell_type": "code",
      "metadata": {
        "colab": {
          "base_uri": "https://localhost:8080/"
        },
        "id": "bEGAF5O7Cp9z",
        "outputId": "9a89f6bd-385b-4801-d7bc-b72bde19318c"
      },
      "source": [
        "np_a"
      ],
      "execution_count": 26,
      "outputs": [
        {
          "output_type": "execute_result",
          "data": {
            "text/plain": [
              "array([[1, 2, 3],\n",
              "       [4, 5, 6]])"
            ]
          },
          "metadata": {},
          "execution_count": 26
        }
      ]
    },
    {
      "cell_type": "code",
      "metadata": {
        "colab": {
          "base_uri": "https://localhost:8080/"
        },
        "id": "c79SYbNwCzpd",
        "outputId": "d24c5dff-80da-4139-99e8-d11734c9c57a"
      },
      "source": [
        "np_a[:,1]"
      ],
      "execution_count": 27,
      "outputs": [
        {
          "output_type": "execute_result",
          "data": {
            "text/plain": [
              "array([2, 5])"
            ]
          },
          "metadata": {},
          "execution_count": 27
        }
      ]
    },
    {
      "cell_type": "markdown",
      "metadata": {
        "id": "50xH1Zsk5_dQ"
      },
      "source": [
        "### Averge  $\\bar{x}$"
      ]
    },
    {
      "cell_type": "code",
      "metadata": {
        "colab": {
          "base_uri": "https://localhost:8080/"
        },
        "id": "yJgTbV7u5lrK",
        "outputId": "13d57e37-7b8b-46bf-beb9-0b1d737b932f"
      },
      "source": [
        "np.mean(np_a)"
      ],
      "execution_count": 28,
      "outputs": [
        {
          "output_type": "execute_result",
          "data": {
            "text/plain": [
              "3.5"
            ]
          },
          "metadata": {},
          "execution_count": 28
        }
      ]
    },
    {
      "cell_type": "code",
      "metadata": {
        "colab": {
          "base_uri": "https://localhost:8080/"
        },
        "id": "B0E3Jr-U6qUR",
        "outputId": "a71dd546-a182-48f8-befc-336a6760ef5d"
      },
      "source": [
        "np.mean(np_a,axis=0)"
      ],
      "execution_count": 29,
      "outputs": [
        {
          "output_type": "execute_result",
          "data": {
            "text/plain": [
              "array([2.5, 3.5, 4.5])"
            ]
          },
          "metadata": {},
          "execution_count": 29
        }
      ]
    },
    {
      "cell_type": "code",
      "metadata": {
        "colab": {
          "base_uri": "https://localhost:8080/"
        },
        "id": "Pqux93sE6z1S",
        "outputId": "3a8b15dd-94fe-4abc-bc46-8ab097da3adf"
      },
      "source": [
        "np.mean(np_a,axis=1)"
      ],
      "execution_count": 30,
      "outputs": [
        {
          "output_type": "execute_result",
          "data": {
            "text/plain": [
              "array([2., 5.])"
            ]
          },
          "metadata": {},
          "execution_count": 30
        }
      ]
    },
    {
      "cell_type": "markdown",
      "metadata": {
        "id": "AHCakvF3HgU5"
      },
      "source": [
        "## Distance Matrix"
      ]
    },
    {
      "cell_type": "code",
      "metadata": {
        "colab": {
          "base_uri": "https://localhost:8080/"
        },
        "id": "e3qJFfjQ7Euy",
        "outputId": "8cf2d78f-7e02-499f-9b48-3203e14be9f8"
      },
      "source": [
        "data1 = np.array([[1,2],[3,5],[2,0],[4,5]])\n",
        "data1"
      ],
      "execution_count": 31,
      "outputs": [
        {
          "output_type": "execute_result",
          "data": {
            "text/plain": [
              "array([[1, 2],\n",
              "       [3, 5],\n",
              "       [2, 0],\n",
              "       [4, 5]])"
            ]
          },
          "metadata": {},
          "execution_count": 31
        }
      ]
    },
    {
      "cell_type": "code",
      "metadata": {
        "colab": {
          "base_uri": "https://localhost:8080/",
          "height": 283
        },
        "id": "YGx0TRiFH0UQ",
        "outputId": "4fa831aa-452f-4390-e3cf-26230ad13efb"
      },
      "source": [
        "from matplotlib import pyplot as plt\n",
        "plt.plot(data1[:,0],data1[:,1],'o')"
      ],
      "execution_count": 32,
      "outputs": [
        {
          "output_type": "execute_result",
          "data": {
            "text/plain": [
              "[<matplotlib.lines.Line2D at 0x7fb963e1cbd0>]"
            ]
          },
          "metadata": {},
          "execution_count": 32
        },
        {
          "output_type": "display_data",
          "data": {
            "image/png": "[encoded data removed]",
            "text/plain": [
              "<Figure size 432x288 with 1 Axes>"
            ]
          },
          "metadata": {
            "needs_background": "light"
          }
        }
      ]
    },
    {
      "cell_type": "markdown",
      "metadata": {
        "id": "UiqzduLLIw3x"
      },
      "source": [
        "Euclidean Distance"
      ]
    },
    {
      "cell_type": "code",
      "metadata": {
        "colab": {
          "base_uri": "https://localhost:8080/"
        },
        "id": "mBZdqu9jIU-v",
        "outputId": "53c5beaa-b4f5-42a3-f822-3dde1f519f30"
      },
      "source": [
        "dist_p1_p2 = np.sqrt(np.power(data1[0,0]-data1[1,0],2) + np.power(data1[0,1]-data1[1,1],2)) # เป็นการหา eucidean distance ระหว่างจุด 2 จุด\n",
        "dist_p1_p2"
      ],
      "execution_count": 33,
      "outputs": [
        {
          "output_type": "execute_result",
          "data": {
            "text/plain": [
              "3.605551275463989"
            ]
          },
          "metadata": {},
          "execution_count": 33
        }
      ]
    },
    {
      "cell_type": "code",
      "metadata": {
        "colab": {
          "base_uri": "https://localhost:8080/"
        },
        "id": "bBQh98EuLfJR",
        "outputId": "5c0cda8b-b617-464d-b669-d37790e65d34"
      },
      "source": [
        "data1[0,:]"
      ],
      "execution_count": 34,
      "outputs": [
        {
          "output_type": "execute_result",
          "data": {
            "text/plain": [
              "array([1, 2])"
            ]
          },
          "metadata": {},
          "execution_count": 34
        }
      ]
    },
    {
      "cell_type": "code",
      "metadata": {
        "colab": {
          "base_uri": "https://localhost:8080/"
        },
        "id": "tjlI_ZhQMlIg",
        "outputId": "1cfd094e-529e-4f3d-bd33-2719e024aafe"
      },
      "source": [
        "len(data1[0,:])"
      ],
      "execution_count": 35,
      "outputs": [
        {
          "output_type": "execute_result",
          "data": {
            "text/plain": [
              "2"
            ]
          },
          "metadata": {},
          "execution_count": 35
        }
      ]
    },
    {
      "cell_type": "code",
      "metadata": {
        "id": "hdhdzddyKHiy"
      },
      "source": [
        "def eud_dist(pt1,pt2): #2 dims pt1 คือ จุดที่1 pt2 คือ จุดที่2\n",
        "  return np.sqrt(np.power(pt1[0]-pt2[0],2) + np.power(pt1[1]-pt2[1],2))"
      ],
      "execution_count": 36,
      "outputs": []
    },
    {
      "cell_type": "code",
      "metadata": {
        "colab": {
          "base_uri": "https://localhost:8080/"
        },
        "id": "8hhyGtPkL2Sv",
        "outputId": "b4494ed0-202a-403e-ff0e-b09eff613944"
      },
      "source": [
        "eud_dist(data1[0,:],data1[1,:])"
      ],
      "execution_count": 37,
      "outputs": [
        {
          "output_type": "execute_result",
          "data": {
            "text/plain": [
              "3.605551275463989"
            ]
          },
          "metadata": {},
          "execution_count": 37
        }
      ]
    },
    {
      "cell_type": "code",
      "metadata": {
        "id": "b6VnloG_MAKP"
      },
      "source": [
        "def eud_dist_n(pt1,pt2): #n dims\n",
        " sum = 0\n",
        " for i in range(len(pt1)):\n",
        "  sum = sum + np.power(pt1[i]-pt2[i],2)\n",
        " return np.sqrt(sum)"
      ],
      "execution_count": 38,
      "outputs": []
    },
    {
      "cell_type": "code",
      "metadata": {
        "colab": {
          "base_uri": "https://localhost:8080/"
        },
        "id": "UuDxLPpXM1vI",
        "outputId": "99067b1e-9bb8-40df-dd23-ddbcacfc8dde"
      },
      "source": [
        "eud_dist_n(data1[1,:],data1[3,:])"
      ],
      "execution_count": 39,
      "outputs": [
        {
          "output_type": "execute_result",
          "data": {
            "text/plain": [
              "1.0"
            ]
          },
          "metadata": {},
          "execution_count": 39
        }
      ]
    },
    {
      "cell_type": "markdown",
      "metadata": {
        "id": "Lig-fS1VOiVz"
      },
      "source": [
        "## Quiz 9\n",
        "\n",
        "เขียน function คำนวณ Manhattan Distance"
      ]
    },
    {
      "cell_type": "markdown",
      "metadata": {
        "id": "7R1DVxUsOL6Y"
      },
      "source": [
        "## Manhattan Distance"
      ]
    },
    {
      "cell_type": "code",
      "metadata": {
        "colab": {
          "base_uri": "https://localhost:8080/"
        },
        "id": "JogjfX3nQSYj",
        "outputId": "fb953324-b1c8-4674-863c-f3ff5132e9df"
      },
      "source": [
        "def Manh_dist_n(pt1, pt2):\n",
        "    sum =0\n",
        "    for i in range(len(pt1)):\n",
        "        sum = sum + np.sqrt(np.power(pt1[i]-pt2[i],2))\n",
        "    return sum\n",
        "\n",
        "Manh_dist_n(data1[0, :], data1[1, :])"
      ],
      "execution_count": 40,
      "outputs": [
        {
          "output_type": "execute_result",
          "data": {
            "text/plain": [
              "5.0"
            ]
          },
          "metadata": {},
          "execution_count": 40
        }
      ]
    },
    {
      "cell_type": "code",
      "metadata": {
        "colab": {
          "base_uri": "https://localhost:8080/"
        },
        "id": "tgiFWW9OQfBn",
        "outputId": "a3b936b2-4002-46ef-ad6f-7018eeb1a6c5"
      },
      "source": [
        "def Manh_dist_n(pt1, pt2):\n",
        "    sum =0\n",
        "    for i in range(len(pt1)):\n",
        "        sum = sum + np.absolute(pt1[i]-pt2[i],)\n",
        "    return sum\n",
        "\n",
        "Manh_dist_n(data1[0,:], data1[1,:])"
      ],
      "execution_count": 41,
      "outputs": [
        {
          "output_type": "execute_result",
          "data": {
            "text/plain": [
              "5"
            ]
          },
          "metadata": {},
          "execution_count": 41
        }
      ]
    },
    {
      "cell_type": "code",
      "metadata": {
        "id": "xhMt5V_8g2EU",
        "colab": {
          "base_uri": "https://localhost:8080/"
        },
        "outputId": "09e4e047-1e15-4532-de99-3741816656b7"
      },
      "source": [
        "data1"
      ],
      "execution_count": 42,
      "outputs": [
        {
          "output_type": "execute_result",
          "data": {
            "text/plain": [
              "array([[1, 2],\n",
              "       [3, 5],\n",
              "       [2, 0],\n",
              "       [4, 5]])"
            ]
          },
          "metadata": {},
          "execution_count": 42
        }
      ]
    },
    {
      "cell_type": "code",
      "metadata": {
        "id": "NO7kxyW4u_z9",
        "outputId": "e040af0f-2e4d-4b1b-ce11-eb98603f150d",
        "colab": {
          "base_uri": "https://localhost:8080/"
        }
      },
      "source": [
        "dist_p1_p2 = np.sqrt(np.power(data1[0,0]-data1[1,0],2) + np.power(data1[0,1]-data1[1,1],2)) # เป็นการหา eucidean distance ระหว่างจุด 2 จุด\n",
        "dist_p1_p2"
      ],
      "execution_count": 43,
      "outputs": [
        {
          "output_type": "execute_result",
          "data": {
            "text/plain": [
              "3.605551275463989"
            ]
          },
          "metadata": {},
          "execution_count": 43
        }
      ]
    },
    {
      "cell_type": "code",
      "metadata": {
        "id": "e3G0DRt205uV"
      },
      "source": [
        "def eud_dist_data1(pt1,pt2):\n",
        " return np.sqrt((pt1[0]-pt2[0],2)+np.sqrt(pt1[1]-pt2[1],2))\n"
      ],
      "execution_count": 44,
      "outputs": []
    },
    {
      "cell_type": "code",
      "metadata": {
        "id": "4LGQNPrnSUG_"
      },
      "source": [
        "def eud_dist_n(pt1,pt2): #n dims\n",
        " sum = 0\n",
        " for i in range(len(pt1)):\n",
        "  sum = sum + np.sqrt(np.power(pt1[i]-pt2[i],2)+np.power(pt1[i]-pt2[i],2))\n",
        " return sum"
      ],
      "execution_count": 52,
      "outputs": []
    },
    {
      "cell_type": "code",
      "metadata": {
        "id": "eBSgneoThAQN",
        "colab": {
          "base_uri": "https://localhost:8080/"
        },
        "outputId": "1b8a589e-db28-4852-e8a8-2dc4f1ba3b86"
      },
      "source": [
        "eud_dist_data1(data1[0,:], data1[1,:])\n"
      ],
      "execution_count": 53,
      "outputs": [
        {
          "output_type": "stream",
          "text": [
            "/usr/local/lib/python3.7/dist-packages/ipykernel_launcher.py:4: RuntimeWarning: invalid value encountered in sqrt\n",
            "  after removing the cwd from sys.path.\n"
          ],
          "name": "stderr"
        },
        {
          "output_type": "execute_result",
          "data": {
            "text/plain": [
              "array([       nan, 2.82842712,        nan, 2.82842712])"
            ]
          },
          "metadata": {},
          "execution_count": 53
        }
      ]
    },
    {
      "cell_type": "code",
      "metadata": {
        "id": "IHF46fbH15Gl",
        "outputId": "89ecebaf-606e-4429-ad70-e52b9bc21b95",
        "colab": {
          "base_uri": "https://localhost:8080/",
          "height": 132
        }
      },
      "source": [
        "def eud_dist_data1(pt1,pt2):\n",
        " sum = 0\n",
        " for i in range(len(pt1)):\n",
        "  sum = sum + np.(np.power(pt1[i]-pt2[i],2)+np.power(pt1[i]-pt2[i],2))\n",
        " return sum"
      ],
      "execution_count": 49,
      "outputs": [
        {
          "output_type": "error",
          "ename": "SyntaxError",
          "evalue": "ignored",
          "traceback": [
            "\u001b[0;36m  File \u001b[0;32m\"<ipython-input-49-c6f53ecbead4>\"\u001b[0;36m, line \u001b[0;32m4\u001b[0m\n\u001b[0;31m    sum = sum + np.(np.power(pt1[i]-pt2[i],2)+np.power(pt1[i]-pt2[i],2))\u001b[0m\n\u001b[0m                   ^\u001b[0m\n\u001b[0;31mSyntaxError\u001b[0m\u001b[0;31m:\u001b[0m invalid syntax\n"
          ]
        }
      ]
    },
    {
      "cell_type": "code",
      "metadata": {
        "id": "tRdz8ktz3JWw",
        "colab": {
          "base_uri": "https://localhost:8080/"
        },
        "outputId": "a3c66757-65c7-49a1-ec4c-70a1c25a7473"
      },
      "source": [
        "eud_dist_data1"
      ],
      "execution_count": 48,
      "outputs": [
        {
          "output_type": "execute_result",
          "data": {
            "text/plain": [
              "<function __main__.eud_dist_data1>"
            ]
          },
          "metadata": {},
          "execution_count": 48
        }
      ]
    },
    {
      "cell_type": "code",
      "metadata": {
        "id": "hJiKIOsJ3SG_"
      },
      "source": [
        ""
      ],
      "execution_count": 48,
      "outputs": []
    }
  ]
}