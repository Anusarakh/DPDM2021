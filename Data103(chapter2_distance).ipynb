{
  "nbformat": 4,
  "nbformat_minor": 0,
  "metadata": {
    "colab": {
      "name": "Data103(chapter2 distance).ipynb",
      "provenance": [],
      "toc_visible": true,
      "authorship_tag": "ABX9TyNEa+GWLspieWdS75uvb0Ar",
      "include_colab_link": true
    },
    "kernelspec": {
      "name": "python3",
      "display_name": "Python 3"
    },
    "language_info": {
      "name": "python"
    }
  },
  "cells": [
    {
      "cell_type": "markdown",
      "metadata": {
        "id": "view-in-github",
        "colab_type": "text"
      },
      "source": [
        "<a href=\"https://colab.research.google.com/github/Anusarakh/DPDM2021/blob/main/Data103(chapter2_distance).ipynb\" target=\"_parent\"><img src=\"https://colab.research.google.com/assets/colab-badge.svg\" alt=\"Open In Colab\"/></a>"
      ]
    },
    {
      "cell_type": "code",
      "metadata": {
        "id": "u-L6X0Hf2TTt"
      },
      "source": [
        "import numpy as np # package สำหรับทำงานกับ ข้อมูลที่เป็นตัวเลข (ในรูปแบบเมทริกศ์ )"
      ],
      "execution_count": 1,
      "outputs": []
    },
    {
      "cell_type": "markdown",
      "metadata": {
        "id": "KtVJGVUI3B2B"
      },
      "source": [
        "# Numpy Array"
      ]
    },
    {
      "cell_type": "markdown",
      "metadata": {
        "id": "FBrsPXid3M6u"
      },
      "source": [
        "## Ctrate numpy array"
      ]
    },
    {
      "cell_type": "code",
      "metadata": {
        "colab": {
          "base_uri": "https://localhost:8080/"
        },
        "id": "2nUKEji423_r",
        "outputId": "e91d34b9-8ff1-4f80-ec66-5da3b0e3ce70"
      },
      "source": [
        "np_a = np.array([[1,2,3],[4,5,6]])\n",
        "np_a"
      ],
      "execution_count": 2,
      "outputs": [
        {
          "output_type": "execute_result",
          "data": {
            "text/plain": [
              "array([[1, 2, 3],\n",
              "       [4, 5, 6]])"
            ]
          },
          "metadata": {
            "tags": []
          },
          "execution_count": 2
        }
      ]
    },
    {
      "cell_type": "code",
      "metadata": {
        "colab": {
          "base_uri": "https://localhost:8080/"
        },
        "id": "V0NO_9XL3glM",
        "outputId": "be7cd5f9-bb50-433a-b49f-e8d6522f6df5"
      },
      "source": [
        "np_a.shape"
      ],
      "execution_count": 3,
      "outputs": [
        {
          "output_type": "execute_result",
          "data": {
            "text/plain": [
              "(2, 3)"
            ]
          },
          "metadata": {
            "tags": []
          },
          "execution_count": 3
        }
      ]
    },
    {
      "cell_type": "code",
      "metadata": {
        "colab": {
          "base_uri": "https://localhost:8080/"
        },
        "id": "RTNBGw1q3sTq",
        "outputId": "429ccb5d-963a-4331-ae39-3ad1baecc3a5"
      },
      "source": [
        "np_b = np.array([[1,4],[2,5],[3,6]])\n",
        "print(np_b.shape)\n",
        "np_b"
      ],
      "execution_count": 4,
      "outputs": [
        {
          "output_type": "stream",
          "text": [
            "(3, 2)\n"
          ],
          "name": "stdout"
        },
        {
          "output_type": "execute_result",
          "data": {
            "text/plain": [
              "array([[1, 4],\n",
              "       [2, 5],\n",
              "       [3, 6]])"
            ]
          },
          "metadata": {
            "tags": []
          },
          "execution_count": 4
        }
      ]
    },
    {
      "cell_type": "markdown",
      "metadata": {
        "id": "9Irb2uCiEChW"
      },
      "source": [
        "## คำสั่งสร้าง matrix เริ่มต้น Zeros , one"
      ]
    },
    {
      "cell_type": "code",
      "metadata": {
        "colab": {
          "base_uri": "https://localhost:8080/"
        },
        "id": "E9cYXBmGEAr8",
        "outputId": "1ea70fbc-df9a-4b42-cc87-3750f4ce1a75"
      },
      "source": [
        "np.zeros((3,2))"
      ],
      "execution_count": 5,
      "outputs": [
        {
          "output_type": "execute_result",
          "data": {
            "text/plain": [
              "array([[0., 0.],\n",
              "       [0., 0.],\n",
              "       [0., 0.]])"
            ]
          },
          "metadata": {
            "tags": []
          },
          "execution_count": 5
        }
      ]
    },
    {
      "cell_type": "code",
      "metadata": {
        "colab": {
          "base_uri": "https://localhost:8080/"
        },
        "id": "J4aPQ4RvGp2Z",
        "outputId": "c22bb03c-0aac-43d5-e58b-5f75aaa75f2e"
      },
      "source": [
        "np.zeros((3,))"
      ],
      "execution_count": 6,
      "outputs": [
        {
          "output_type": "execute_result",
          "data": {
            "text/plain": [
              "array([0., 0., 0.])"
            ]
          },
          "metadata": {
            "tags": []
          },
          "execution_count": 6
        }
      ]
    },
    {
      "cell_type": "markdown",
      "metadata": {
        "id": "0c8YISe4EJn2"
      },
      "source": [
        "## คำสั่งสร้าง matrix เริ่มต้น ด้วย random"
      ]
    },
    {
      "cell_type": "markdown",
      "metadata": {
        "id": "XMPCtcs0C9j3"
      },
      "source": [
        "## Indexcing"
      ]
    },
    {
      "cell_type": "code",
      "metadata": {
        "colab": {
          "base_uri": "https://localhost:8080/"
        },
        "id": "49LlrxLiEYMf",
        "outputId": "e9e2aaa1-d992-4aa3-e8aa-645c643307f2"
      },
      "source": [
        "np.random.randn(3,2)  "
      ],
      "execution_count": 7,
      "outputs": [
        {
          "output_type": "execute_result",
          "data": {
            "text/plain": [
              "array([[ 1.79957767,  1.79421044],\n",
              "       [-1.15682832,  0.12312557],\n",
              "       [ 0.0779739 ,  0.08775072]])"
            ]
          },
          "metadata": {
            "tags": []
          },
          "execution_count": 7
        }
      ]
    },
    {
      "cell_type": "code",
      "metadata": {
        "colab": {
          "base_uri": "https://localhost:8080/"
        },
        "id": "s8cY0k3uE7Sy",
        "outputId": "8a744ac6-3540-4672-c4f3-bbe5b7d449f0"
      },
      "source": [
        "np.random.randint(0,10,(3,2))  #  มาจากการกำหนดค่าเริ่มต้นได้ (low,hi(dimention))"
      ],
      "execution_count": 8,
      "outputs": [
        {
          "output_type": "execute_result",
          "data": {
            "text/plain": [
              "array([[6, 9],\n",
              "       [1, 9],\n",
              "       [9, 7]])"
            ]
          },
          "metadata": {
            "tags": []
          },
          "execution_count": 8
        }
      ]
    },
    {
      "cell_type": "code",
      "metadata": {
        "colab": {
          "base_uri": "https://localhost:8080/"
        },
        "id": "M01QlDWvDBTY",
        "outputId": "91600d6a-5aff-4ffe-ef9a-fd2ee243b384"
      },
      "source": [
        "np_b[0,1]  # การชี้สมาชิกใน numpy ไปใช้ matrix [แถว,หลัก]"
      ],
      "execution_count": 9,
      "outputs": [
        {
          "output_type": "execute_result",
          "data": {
            "text/plain": [
              "4"
            ]
          },
          "metadata": {
            "tags": []
          },
          "execution_count": 9
        }
      ]
    },
    {
      "cell_type": "markdown",
      "metadata": {
        "id": "Tt-wq5NE4fc4"
      },
      "source": [
        "## Transpose matrix"
      ]
    },
    {
      "cell_type": "code",
      "metadata": {
        "colab": {
          "base_uri": "https://localhost:8080/"
        },
        "id": "3zVw8Gbf4IJT",
        "outputId": "8c2560b7-339a-43ac-e2b4-8e5ffaa68ca1"
      },
      "source": [
        "np_a.T"
      ],
      "execution_count": 10,
      "outputs": [
        {
          "output_type": "execute_result",
          "data": {
            "text/plain": [
              "array([[1, 4],\n",
              "       [2, 5],\n",
              "       [3, 6]])"
            ]
          },
          "metadata": {
            "tags": []
          },
          "execution_count": 10
        }
      ]
    },
    {
      "cell_type": "code",
      "metadata": {
        "colab": {
          "base_uri": "https://localhost:8080/"
        },
        "id": "ijXX4H7P4eMT",
        "outputId": "42773838-b1ff-4088-e83d-13fbc835ed8e"
      },
      "source": [
        "np_b.T"
      ],
      "execution_count": 11,
      "outputs": [
        {
          "output_type": "execute_result",
          "data": {
            "text/plain": [
              "array([[1, 2, 3],\n",
              "       [4, 5, 6]])"
            ]
          },
          "metadata": {
            "tags": []
          },
          "execution_count": 11
        }
      ]
    },
    {
      "cell_type": "markdown",
      "metadata": {
        "id": "ZcvUMOJlF3jF"
      },
      "source": [
        "## matrix multiplication"
      ]
    },
    {
      "cell_type": "code",
      "metadata": {
        "colab": {
          "base_uri": "https://localhost:8080/"
        },
        "id": "J0NxZ1qtF_aW",
        "outputId": "a519b052-82ec-403b-cbc8-1c406b1db990"
      },
      "source": [
        "np.dot(np_b,np_a)"
      ],
      "execution_count": 12,
      "outputs": [
        {
          "output_type": "execute_result",
          "data": {
            "text/plain": [
              "array([[17, 22, 27],\n",
              "       [22, 29, 36],\n",
              "       [27, 36, 45]])"
            ]
          },
          "metadata": {
            "tags": []
          },
          "execution_count": 12
        }
      ]
    },
    {
      "cell_type": "code",
      "metadata": {
        "colab": {
          "base_uri": "https://localhost:8080/"
        },
        "id": "yiBW-UVoGIog",
        "outputId": "28d36e91-1b44-4b5d-e4d5-7a4c42d42625"
      },
      "source": [
        "np.dot(np_a,np_b)"
      ],
      "execution_count": 13,
      "outputs": [
        {
          "output_type": "execute_result",
          "data": {
            "text/plain": [
              "array([[14, 32],\n",
              "       [32, 77]])"
            ]
          },
          "metadata": {
            "tags": []
          },
          "execution_count": 13
        }
      ]
    },
    {
      "cell_type": "markdown",
      "metadata": {
        "id": "GSZEzRfd40d2"
      },
      "source": [
        "## Useful numpy function"
      ]
    },
    {
      "cell_type": "markdown",
      "metadata": {
        "id": "KP_OiLus4-qc"
      },
      "source": [
        "### summation $\\sum$"
      ]
    },
    {
      "cell_type": "code",
      "metadata": {
        "colab": {
          "base_uri": "https://localhost:8080/"
        },
        "id": "9m8Q0pZX4tK1",
        "outputId": "6613efdf-b1f9-43e9-9c15-98465c8fa4ab"
      },
      "source": [
        "np_a"
      ],
      "execution_count": 14,
      "outputs": [
        {
          "output_type": "execute_result",
          "data": {
            "text/plain": [
              "array([[1, 2, 3],\n",
              "       [4, 5, 6]])"
            ]
          },
          "metadata": {
            "tags": []
          },
          "execution_count": 14
        }
      ]
    },
    {
      "cell_type": "code",
      "metadata": {
        "colab": {
          "base_uri": "https://localhost:8080/"
        },
        "id": "zD-9eGSK5EFL",
        "outputId": "0397ab07-7052-408d-8c5e-7379e1ca34e1"
      },
      "source": [
        "np.sum(np_a)  # ผลบวก matrix  [บวกทกตัวที่อยู่ใน matrix]"
      ],
      "execution_count": 15,
      "outputs": [
        {
          "output_type": "execute_result",
          "data": {
            "text/plain": [
              "21"
            ]
          },
          "metadata": {
            "tags": []
          },
          "execution_count": 15
        }
      ]
    },
    {
      "cell_type": "code",
      "metadata": {
        "colab": {
          "base_uri": "https://localhost:8080/"
        },
        "id": "EsKJ9-XB5ILz",
        "outputId": "1c427c36-ae51-4910-e8a2-fb35ba0bf3d5"
      },
      "source": [
        "np.sum(np_a,axis=0)   # axis คือ การรวมของแถวหรือหลัก  0=แถว 1=หลัก"
      ],
      "execution_count": 16,
      "outputs": [
        {
          "output_type": "execute_result",
          "data": {
            "text/plain": [
              "array([5, 7, 9])"
            ]
          },
          "metadata": {
            "tags": []
          },
          "execution_count": 16
        }
      ]
    },
    {
      "cell_type": "code",
      "metadata": {
        "colab": {
          "base_uri": "https://localhost:8080/"
        },
        "id": "Xb0W60l25cDi",
        "outputId": "62a7cbb6-eef3-4fe5-cb15-0d2c672d1205"
      },
      "source": [
        "np.sum(np_a,axis=1)"
      ],
      "execution_count": 17,
      "outputs": [
        {
          "output_type": "execute_result",
          "data": {
            "text/plain": [
              "array([ 6, 15])"
            ]
          },
          "metadata": {
            "tags": []
          },
          "execution_count": 17
        }
      ]
    },
    {
      "cell_type": "markdown",
      "metadata": {
        "id": "cZ1mgpgW7gyE"
      },
      "source": [
        "## วนลูปเอง"
      ]
    },
    {
      "cell_type": "code",
      "metadata": {
        "colab": {
          "base_uri": "https://localhost:8080/"
        },
        "id": "Zmb8RJGx8YOf",
        "outputId": "34cbc52f-caac-4b2b-9e1d-4280d2d0c8e3"
      },
      "source": [
        "np_a.shape"
      ],
      "execution_count": 18,
      "outputs": [
        {
          "output_type": "execute_result",
          "data": {
            "text/plain": [
              "(2, 3)"
            ]
          },
          "metadata": {
            "tags": []
          },
          "execution_count": 18
        }
      ]
    },
    {
      "cell_type": "code",
      "metadata": {
        "colab": {
          "base_uri": "https://localhost:8080/"
        },
        "id": "dA-VG-wU8e7w",
        "outputId": "cb154e59-7d0b-41e4-ec7f-c70265f17c81"
      },
      "source": [
        "np_a.shape[0]"
      ],
      "execution_count": 19,
      "outputs": [
        {
          "output_type": "execute_result",
          "data": {
            "text/plain": [
              "2"
            ]
          },
          "metadata": {
            "tags": []
          },
          "execution_count": 19
        }
      ]
    },
    {
      "cell_type": "code",
      "metadata": {
        "colab": {
          "base_uri": "https://localhost:8080/"
        },
        "id": "VqnYyiBs7QwW",
        "outputId": "6ccd740f-0f10-43e0-8a22-b7bd99ef9d09"
      },
      "source": [
        "sum_all = 0\n",
        "for row in range(np_a.shape[0]):\n",
        " for col in range(np_a.shape[1]):\n",
        "   sum_all = sum_all + np_a[row,col]   # การชี้สมาชิกใน numpy ไปใช้ matrix [แถว,หลัก]\n",
        "sum_all"
      ],
      "execution_count": 20,
      "outputs": [
        {
          "output_type": "execute_result",
          "data": {
            "text/plain": [
              "21"
            ]
          },
          "metadata": {
            "tags": []
          },
          "execution_count": 20
        }
      ]
    },
    {
      "cell_type": "code",
      "metadata": {
        "colab": {
          "base_uri": "https://localhost:8080/"
        },
        "id": "chywy-08AG85",
        "outputId": "7b5777f4-8676-48e7-9c58-30ac8fa24d31"
      },
      "source": [
        "np.sum(np_a,axis=1)"
      ],
      "execution_count": 21,
      "outputs": [
        {
          "output_type": "execute_result",
          "data": {
            "text/plain": [
              "array([ 6, 15])"
            ]
          },
          "metadata": {
            "tags": []
          },
          "execution_count": 21
        }
      ]
    },
    {
      "cell_type": "code",
      "metadata": {
        "colab": {
          "base_uri": "https://localhost:8080/"
        },
        "id": "3RekL2tY9eQy",
        "outputId": "7c58b4d7-9523-4eb8-b8c3-02321bd0538f"
      },
      "source": [
        "sum_vert = np.zeros((np_a.shape[1]))\n",
        "for col in range(np_a.shape[1]): \n",
        "   for row in range(np_a.shape[0]):\n",
        "     sum_vert[col] = sum_vert[col] + np_a[row,col]\n",
        "sum_vert\n"
      ],
      "execution_count": 22,
      "outputs": [
        {
          "output_type": "execute_result",
          "data": {
            "text/plain": [
              "array([5., 7., 9.])"
            ]
          },
          "metadata": {
            "tags": []
          },
          "execution_count": 22
        }
      ]
    },
    {
      "cell_type": "code",
      "metadata": {
        "colab": {
          "base_uri": "https://localhost:8080/"
        },
        "id": "q35IWMlHAbI1",
        "outputId": "dbf14e5d-676f-49ad-ad7f-7c63839413ba"
      },
      "source": [
        "sum_hor = np.zeros((np_a.shape[1]))\n",
        "for col in range(np_a.shape[1]): \n",
        "   for row in range(np_a.shape[0]):\n",
        "     sum_hor[row] = sum_vert[row] + np_a[row,col]\n",
        "sum_hor"
      ],
      "execution_count": 23,
      "outputs": [
        {
          "output_type": "execute_result",
          "data": {
            "text/plain": [
              "array([ 8., 13.,  0.])"
            ]
          },
          "metadata": {
            "tags": []
          },
          "execution_count": 23
        }
      ]
    },
    {
      "cell_type": "code",
      "metadata": {
        "id": "WioA0Om2CjUi"
      },
      "source": [
        "n_row,n_col = np_a.shape\n",
        "\n",
        "sum_hor = np.zeros"
      ],
      "execution_count": 24,
      "outputs": []
    },
    {
      "cell_type": "markdown",
      "metadata": {
        "id": "sBQ1Ml8KCqRR"
      },
      "source": [
        "## Araray slicing"
      ]
    },
    {
      "cell_type": "code",
      "metadata": {
        "colab": {
          "base_uri": "https://localhost:8080/"
        },
        "id": "bEGAF5O7Cp9z",
        "outputId": "7dc849eb-cb06-4e5a-996f-8cb4c462a710"
      },
      "source": [
        "np_a"
      ],
      "execution_count": 25,
      "outputs": [
        {
          "output_type": "execute_result",
          "data": {
            "text/plain": [
              "array([[1, 2, 3],\n",
              "       [4, 5, 6]])"
            ]
          },
          "metadata": {
            "tags": []
          },
          "execution_count": 25
        }
      ]
    },
    {
      "cell_type": "code",
      "metadata": {
        "colab": {
          "base_uri": "https://localhost:8080/"
        },
        "id": "c79SYbNwCzpd",
        "outputId": "674551f9-a4ba-415c-95ab-f70e81133d60"
      },
      "source": [
        "np_a[:,1]"
      ],
      "execution_count": 26,
      "outputs": [
        {
          "output_type": "execute_result",
          "data": {
            "text/plain": [
              "array([2, 5])"
            ]
          },
          "metadata": {
            "tags": []
          },
          "execution_count": 26
        }
      ]
    },
    {
      "cell_type": "markdown",
      "metadata": {
        "id": "50xH1Zsk5_dQ"
      },
      "source": [
        "### Averge  $\\bar{x}$"
      ]
    },
    {
      "cell_type": "code",
      "metadata": {
        "colab": {
          "base_uri": "https://localhost:8080/"
        },
        "id": "yJgTbV7u5lrK",
        "outputId": "061549a9-b0da-4f41-b3f0-137fb7f15485"
      },
      "source": [
        "np.mean(np_a)"
      ],
      "execution_count": 27,
      "outputs": [
        {
          "output_type": "execute_result",
          "data": {
            "text/plain": [
              "3.5"
            ]
          },
          "metadata": {
            "tags": []
          },
          "execution_count": 27
        }
      ]
    },
    {
      "cell_type": "code",
      "metadata": {
        "colab": {
          "base_uri": "https://localhost:8080/"
        },
        "id": "B0E3Jr-U6qUR",
        "outputId": "b04a33f8-4f75-4b5a-f8a2-35bf636c745a"
      },
      "source": [
        "np.mean(np_a,axis=0)"
      ],
      "execution_count": 28,
      "outputs": [
        {
          "output_type": "execute_result",
          "data": {
            "text/plain": [
              "array([2.5, 3.5, 4.5])"
            ]
          },
          "metadata": {
            "tags": []
          },
          "execution_count": 28
        }
      ]
    },
    {
      "cell_type": "code",
      "metadata": {
        "colab": {
          "base_uri": "https://localhost:8080/"
        },
        "id": "Pqux93sE6z1S",
        "outputId": "8739e25f-70bb-49d4-96c2-54e61f45cf98"
      },
      "source": [
        "np.mean(np_a,axis=1)"
      ],
      "execution_count": 29,
      "outputs": [
        {
          "output_type": "execute_result",
          "data": {
            "text/plain": [
              "array([2., 5.])"
            ]
          },
          "metadata": {
            "tags": []
          },
          "execution_count": 29
        }
      ]
    },
    {
      "cell_type": "markdown",
      "metadata": {
        "id": "AHCakvF3HgU5"
      },
      "source": [
        "## Distance Matrix"
      ]
    },
    {
      "cell_type": "code",
      "metadata": {
        "colab": {
          "base_uri": "https://localhost:8080/"
        },
        "id": "e3qJFfjQ7Euy",
        "outputId": "9ea6c140-eeda-493c-e6c7-8da9b1e3f3d5"
      },
      "source": [
        "data1 = np.array([[1,2],[3,5],[2,0],[4,5]])\n",
        "data1"
      ],
      "execution_count": 30,
      "outputs": [
        {
          "output_type": "execute_result",
          "data": {
            "text/plain": [
              "array([[1, 2],\n",
              "       [3, 5],\n",
              "       [2, 0],\n",
              "       [4, 5]])"
            ]
          },
          "metadata": {
            "tags": []
          },
          "execution_count": 30
        }
      ]
    },
    {
      "cell_type": "code",
      "metadata": {
        "colab": {
          "base_uri": "https://localhost:8080/",
          "height": 283
        },
        "id": "YGx0TRiFH0UQ",
        "outputId": "25655005-455f-43e7-dcff-454dae10fcb0"
      },
      "source": [
        "from matplotlib import pyplot as plt\n",
        "plt.plot(data1[:,0],data1[:,1],'o')"
      ],
      "execution_count": 31,
      "outputs": [
        {
          "output_type": "execute_result",
          "data": {
            "text/plain": [
              "[<matplotlib.lines.Line2D at 0x7fa5c6cb2c50>]"
            ]
          },
          "metadata": {
            "tags": []
          },
          "execution_count": 31
        },
        {
          "output_type": "display_data",
          "data": {
            "image/png": "[encoded data removed]",
            "text/plain": [
              "<Figure size 432x288 with 1 Axes>"
            ]
          },
          "metadata": {
            "tags": [],
            "needs_background": "light"
          }
        }
      ]
    },
    {
      "cell_type": "markdown",
      "metadata": {
        "id": "UiqzduLLIw3x"
      },
      "source": [
        "Euclidean Distance"
      ]
    },
    {
      "cell_type": "code",
      "metadata": {
        "colab": {
          "base_uri": "https://localhost:8080/"
        },
        "id": "mBZdqu9jIU-v",
        "outputId": "eff3a6e1-6c3c-4306-8eb3-5d1dc45596e7"
      },
      "source": [
        "dist_p1_p2 = np.sqrt(np.power(data1[0,0]-data1[1,0],2) + np.power(data1[0,1]-data1[1,1],2)) # เป็นการหา eucidean distance ระหว่างจุด 2 จุด\n",
        "dist_p1_p2"
      ],
      "execution_count": 32,
      "outputs": [
        {
          "output_type": "execute_result",
          "data": {
            "text/plain": [
              "3.605551275463989"
            ]
          },
          "metadata": {
            "tags": []
          },
          "execution_count": 32
        }
      ]
    },
    {
      "cell_type": "code",
      "metadata": {
        "colab": {
          "base_uri": "https://localhost:8080/"
        },
        "id": "bBQh98EuLfJR",
        "outputId": "a6a02484-89c3-4d70-b85e-5553003510fb"
      },
      "source": [
        "data1[0,:]"
      ],
      "execution_count": 33,
      "outputs": [
        {
          "output_type": "execute_result",
          "data": {
            "text/plain": [
              "array([1, 2])"
            ]
          },
          "metadata": {
            "tags": []
          },
          "execution_count": 33
        }
      ]
    },
    {
      "cell_type": "code",
      "metadata": {
        "colab": {
          "base_uri": "https://localhost:8080/"
        },
        "id": "tjlI_ZhQMlIg",
        "outputId": "291b9464-55e6-423b-f2ab-63e546918783"
      },
      "source": [
        "len(data1[0,:])"
      ],
      "execution_count": 34,
      "outputs": [
        {
          "output_type": "execute_result",
          "data": {
            "text/plain": [
              "2"
            ]
          },
          "metadata": {
            "tags": []
          },
          "execution_count": 34
        }
      ]
    },
    {
      "cell_type": "code",
      "metadata": {
        "id": "hdhdzddyKHiy"
      },
      "source": [
        "def eud_dist(pt1,pt2): #2 dims pt1 คือ จุดที่1 pt2 คือ จุดที่2\n",
        "  return np.sqrt(np.power(pt1[0]-pt2[0],2) + np.power(pt1[1]-pt2[1],2))"
      ],
      "execution_count": 35,
      "outputs": []
    },
    {
      "cell_type": "code",
      "metadata": {
        "colab": {
          "base_uri": "https://localhost:8080/"
        },
        "id": "8hhyGtPkL2Sv",
        "outputId": "d13fa3da-5aea-4bd2-e7e1-b1d8730c391b"
      },
      "source": [
        "eud_dist(data1[0,:],data1[1,:])"
      ],
      "execution_count": 36,
      "outputs": [
        {
          "output_type": "execute_result",
          "data": {
            "text/plain": [
              "3.605551275463989"
            ]
          },
          "metadata": {
            "tags": []
          },
          "execution_count": 36
        }
      ]
    },
    {
      "cell_type": "code",
      "metadata": {
        "id": "b6VnloG_MAKP"
      },
      "source": [
        "def eud_dist_n(pt1,pt2): #n dims\n",
        " sum = 0\n",
        " for i in range(len(pt1)):\n",
        "  sum = sum + np.power(pt1[i]-pt2[i],2)\n",
        " return np.sqrt(sum)"
      ],
      "execution_count": 37,
      "outputs": []
    },
    {
      "cell_type": "code",
      "metadata": {
        "colab": {
          "base_uri": "https://localhost:8080/"
        },
        "id": "UuDxLPpXM1vI",
        "outputId": "ea4c5cf3-de92-4ce3-ff1e-68b6a41776f8"
      },
      "source": [
        "eud_dist_n(data1[1,:],data1[3,:])"
      ],
      "execution_count": 38,
      "outputs": [
        {
          "output_type": "execute_result",
          "data": {
            "text/plain": [
              "1.0"
            ]
          },
          "metadata": {
            "tags": []
          },
          "execution_count": 38
        }
      ]
    },
    {
      "cell_type": "markdown",
      "metadata": {
        "id": "Lig-fS1VOiVz"
      },
      "source": [
        "## Quiz 9\n",
        "\n",
        "เขียน function คำนวณ Manhattan Distance"
      ]
    },
    {
      "cell_type": "markdown",
      "metadata": {
        "id": "7R1DVxUsOL6Y"
      },
      "source": [
        "## Manhattan Distance"
      ]
    },
    {
      "cell_type": "code",
      "metadata": {
        "colab": {
          "base_uri": "https://localhost:8080/"
        },
        "id": "JogjfX3nQSYj",
        "outputId": "d1e3c4bb-6e17-4b69-a333-5da24935b50f"
      },
      "source": [
        "def Manh_dist_n(pt1, pt2):\n",
        "    sum =0\n",
        "    for i in range(len(pt1)):\n",
        "        sum = sum + np.sqrt(np.power(pt1[i]-pt2[i],2))\n",
        "    return sum\n",
        "\n",
        "Manh_dist_n(data1[0, :], data1[1, :])"
      ],
      "execution_count": 39,
      "outputs": [
        {
          "output_type": "execute_result",
          "data": {
            "text/plain": [
              "5.0"
            ]
          },
          "metadata": {
            "tags": []
          },
          "execution_count": 39
        }
      ]
    },
    {
      "cell_type": "code",
      "metadata": {
        "colab": {
          "base_uri": "https://localhost:8080/"
        },
        "id": "tgiFWW9OQfBn",
        "outputId": "322ff3e0-87d0-4fb7-dc84-7ab6b427c322"
      },
      "source": [
        "def Manh_dist_n(pt1, pt2):\n",
        "    sum =0\n",
        "    for i in range(len(pt1)):\n",
        "        sum = sum + np.absolute(pt1[i]-pt2[i],)\n",
        "    return sum\n",
        "\n",
        "Manh_dist_n(data1[0,:], data1[1,:])"
      ],
      "execution_count": 40,
      "outputs": [
        {
          "output_type": "execute_result",
          "data": {
            "text/plain": [
              "5"
            ]
          },
          "metadata": {
            "tags": []
          },
          "execution_count": 40
        }
      ]
    },
    {
      "cell_type": "code",
      "metadata": {
        "id": "xhMt5V_8g2EU",
        "outputId": "a8c4580f-e687-427b-e13b-dd279bc65001",
        "colab": {
          "base_uri": "https://localhost:8080/"
        }
      },
      "source": [
        "data1"
      ],
      "execution_count": 41,
      "outputs": [
        {
          "output_type": "execute_result",
          "data": {
            "text/plain": [
              "array([[1, 2],\n",
              "       [3, 5],\n",
              "       [2, 0],\n",
              "       [4, 5]])"
            ]
          },
          "metadata": {
            "tags": []
          },
          "execution_count": 41
        }
      ]
    },
    {
      "cell_type": "code",
      "metadata": {
        "id": "NO7kxyW4u_z9"
      },
      "source": [
        "dist_p1_p2 = np.sqrt(np.power(data1[0,0]-data1[1,0],2) + np.power(data1[0,1]-data1[1,1],2)) # เป็นการหา eucidean distance ระหว่างจุด 2 จุด\n",
        "dist_p1_p2"
      ],
      "execution_count": null,
      "outputs": []
    },
    {
      "cell_type": "code",
      "metadata": {
        "id": "e3G0DRt205uV"
      },
      "source": [
        "def eud_dist_data1(pt1,pt2):\n",
        " return np.sqrt((pt1[0]-pt2[0],2)+np.sqrt(pt1[1]-pt2[1],2))\n"
      ],
      "execution_count": 65,
      "outputs": []
    },
    {
      "cell_type": "code",
      "metadata": {
        "id": "4LGQNPrnSUG_"
      },
      "source": [
        "def eud_dist_data1(pt1,pt2):\n",
        " sum = 0\n",
        " for i in range(len(pt1)):\n",
        "  sum = sum + np.sqrt((pt1[i]-pt2[i],2)+np.sqrt(pt1[i]-pt2[i],2))\n",
        " return sum"
      ],
      "execution_count": 71,
      "outputs": []
    },
    {
      "cell_type": "code",
      "metadata": {
        "id": "eBSgneoThAQN",
        "outputId": "46fc47d4-87a8-43a3-b979-087bb8bb233a",
        "colab": {
          "base_uri": "https://localhost:8080/"
        }
      },
      "source": [
        "eud_dist_data1\n"
      ],
      "execution_count": 82,
      "outputs": [
        {
          "output_type": "execute_result",
          "data": {
            "text/plain": [
              "<function __main__.eud_dist_data1>"
            ]
          },
          "metadata": {
            "tags": []
          },
          "execution_count": 82
        }
      ]
    },
    {
      "cell_type": "code",
      "metadata": {
        "id": "IHF46fbH15Gl"
      },
      "source": [
        "def eud_dist_data1(pt1,pt2):\n",
        " sum = 0\n",
        " for i in range(len(pt1)):\n",
        "  sum = sum + np.sqrt((pt1[i]-pt2[i],2)+(pt1[i]-pt2[i],2))\n",
        " return sum"
      ],
      "execution_count": 77,
      "outputs": []
    },
    {
      "cell_type": "code",
      "metadata": {
        "id": "tRdz8ktz3JWw",
        "outputId": "bc17d7b7-352a-415d-f37a-2288745f032b",
        "colab": {
          "base_uri": "https://localhost:8080/"
        }
      },
      "source": [
        "eud_dist_data1"
      ],
      "execution_count": 81,
      "outputs": [
        {
          "output_type": "execute_result",
          "data": {
            "text/plain": [
              "<function __main__.eud_dist_data1>"
            ]
          },
          "metadata": {
            "tags": []
          },
          "execution_count": 81
        }
      ]
    },
    {
      "cell_type": "code",
      "metadata": {
        "id": "hJiKIOsJ3SG_"
      },
      "source": [
        ""
      ],
      "execution_count": null,
      "outputs": []
    }
  ]
}