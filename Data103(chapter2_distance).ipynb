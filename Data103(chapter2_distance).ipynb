{
  "nbformat": 4,
  "nbformat_minor": 0,
  "metadata": {
    "colab": {
      "name": "Data103(chapter2 distance).ipynb",
      "provenance": [],
      "toc_visible": true,
      "authorship_tag": "ABX9TyNEqUar9tVFjXZtnzKM8Jvf",
      "include_colab_link": true
    },
    "kernelspec": {
      "name": "python3",
      "display_name": "Python 3"
    },
    "language_info": {
      "name": "python"
    }
  },
  "cells": [
    {
      "cell_type": "markdown",
      "metadata": {
        "id": "view-in-github",
        "colab_type": "text"
      },
      "source": [
        "<a href=\"https://colab.research.google.com/github/Anusarakh/DPDM2021/blob/main/Data103(chapter2_distance).ipynb\" target=\"_parent\"><img src=\"https://colab.research.google.com/assets/colab-badge.svg\" alt=\"Open In Colab\"/></a>"
      ]
    },
    {
      "cell_type": "code",
      "metadata": {
        "id": "u-L6X0Hf2TTt"
      },
      "source": [
        "import numpy as np # package สำหรับทำงานกับ ข้อมูลที่เป็นตัวเลข (ในรูปแบบเมทริกศ์ )"
      ],
      "execution_count": 83,
      "outputs": []
    },
    {
      "cell_type": "markdown",
      "metadata": {
        "id": "KtVJGVUI3B2B"
      },
      "source": [
        "# Numpy Array"
      ]
    },
    {
      "cell_type": "markdown",
      "metadata": {
        "id": "FBrsPXid3M6u"
      },
      "source": [
        "## Ctrate numpy array"
      ]
    },
    {
      "cell_type": "code",
      "metadata": {
        "colab": {
          "base_uri": "https://localhost:8080/"
        },
        "id": "2nUKEji423_r",
        "outputId": "2cfca64c-ee27-4767-e020-166f79d87d9b"
      },
      "source": [
        "np_a = np.array([[1,2,3],[4,5,6]])\n",
        "np_a"
      ],
      "execution_count": 84,
      "outputs": [
        {
          "output_type": "execute_result",
          "data": {
            "text/plain": [
              "array([[1, 2, 3],\n",
              "       [4, 5, 6]])"
            ]
          },
          "metadata": {},
          "execution_count": 84
        }
      ]
    },
    {
      "cell_type": "code",
      "metadata": {
        "colab": {
          "base_uri": "https://localhost:8080/"
        },
        "id": "V0NO_9XL3glM",
        "outputId": "513b0ea5-3a24-429e-efbd-2465b5996926"
      },
      "source": [
        "np_a.shape"
      ],
      "execution_count": 85,
      "outputs": [
        {
          "output_type": "execute_result",
          "data": {
            "text/plain": [
              "(2, 3)"
            ]
          },
          "metadata": {},
          "execution_count": 85
        }
      ]
    },
    {
      "cell_type": "code",
      "metadata": {
        "colab": {
          "base_uri": "https://localhost:8080/"
        },
        "id": "RTNBGw1q3sTq",
        "outputId": "e107300e-7d58-4236-ba4e-999991fd98a1"
      },
      "source": [
        "np_b = np.array([[1,4],[2,5],[3,6]])\n",
        "print(np_b.shape)\n",
        "np_b"
      ],
      "execution_count": 86,
      "outputs": [
        {
          "output_type": "stream",
          "text": [
            "(3, 2)\n"
          ],
          "name": "stdout"
        },
        {
          "output_type": "execute_result",
          "data": {
            "text/plain": [
              "array([[1, 4],\n",
              "       [2, 5],\n",
              "       [3, 6]])"
            ]
          },
          "metadata": {},
          "execution_count": 86
        }
      ]
    },
    {
      "cell_type": "markdown",
      "metadata": {
        "id": "9Irb2uCiEChW"
      },
      "source": [
        "## คำสั่งสร้าง matrix เริ่มต้น Zeros , one"
      ]
    },
    {
      "cell_type": "code",
      "metadata": {
        "colab": {
          "base_uri": "https://localhost:8080/"
        },
        "id": "E9cYXBmGEAr8",
        "outputId": "94d7e174-0914-442b-b91e-c1cf1bb97362"
      },
      "source": [
        "np.zeros((3,2))"
      ],
      "execution_count": 87,
      "outputs": [
        {
          "output_type": "execute_result",
          "data": {
            "text/plain": [
              "array([[0., 0.],\n",
              "       [0., 0.],\n",
              "       [0., 0.]])"
            ]
          },
          "metadata": {},
          "execution_count": 87
        }
      ]
    },
    {
      "cell_type": "code",
      "metadata": {
        "colab": {
          "base_uri": "https://localhost:8080/"
        },
        "id": "J4aPQ4RvGp2Z",
        "outputId": "4f8e3bbe-bbed-442c-c9f0-0db8cc5bcae9"
      },
      "source": [
        "np.zeros((3,))"
      ],
      "execution_count": 88,
      "outputs": [
        {
          "output_type": "execute_result",
          "data": {
            "text/plain": [
              "array([0., 0., 0.])"
            ]
          },
          "metadata": {},
          "execution_count": 88
        }
      ]
    },
    {
      "cell_type": "markdown",
      "metadata": {
        "id": "0c8YISe4EJn2"
      },
      "source": [
        "## คำสั่งสร้าง matrix เริ่มต้น ด้วย random"
      ]
    },
    {
      "cell_type": "markdown",
      "metadata": {
        "id": "XMPCtcs0C9j3"
      },
      "source": [
        "## Indexcing"
      ]
    },
    {
      "cell_type": "code",
      "metadata": {
        "colab": {
          "base_uri": "https://localhost:8080/"
        },
        "id": "49LlrxLiEYMf",
        "outputId": "44081305-ce67-47f7-90a4-9516f154a5ce"
      },
      "source": [
        "np.random.randn(3,2)  "
      ],
      "execution_count": 89,
      "outputs": [
        {
          "output_type": "execute_result",
          "data": {
            "text/plain": [
              "array([[-1.41678966, -0.54124206],\n",
              "       [ 0.91833022,  1.0368167 ],\n",
              "       [ 0.78455282,  0.59364146]])"
            ]
          },
          "metadata": {},
          "execution_count": 89
        }
      ]
    },
    {
      "cell_type": "code",
      "metadata": {
        "colab": {
          "base_uri": "https://localhost:8080/"
        },
        "id": "s8cY0k3uE7Sy",
        "outputId": "268135bb-6cdc-4a69-b756-b1fd7bf83ae5"
      },
      "source": [
        "np.random.randint(0,10,(3,2))  #  มาจากการกำหนดค่าเริ่มต้นได้ (low,hi(dimention))"
      ],
      "execution_count": 90,
      "outputs": [
        {
          "output_type": "execute_result",
          "data": {
            "text/plain": [
              "array([[6, 1],\n",
              "       [5, 2],\n",
              "       [6, 3]])"
            ]
          },
          "metadata": {},
          "execution_count": 90
        }
      ]
    },
    {
      "cell_type": "code",
      "metadata": {
        "colab": {
          "base_uri": "https://localhost:8080/"
        },
        "id": "M01QlDWvDBTY",
        "outputId": "1a75c296-485a-4a09-df97-bcd6fe84e80c"
      },
      "source": [
        "np_b[0,1]  # การชี้สมาชิกใน numpy ไปใช้ matrix [แถว,หลัก]"
      ],
      "execution_count": 91,
      "outputs": [
        {
          "output_type": "execute_result",
          "data": {
            "text/plain": [
              "4"
            ]
          },
          "metadata": {},
          "execution_count": 91
        }
      ]
    },
    {
      "cell_type": "markdown",
      "metadata": {
        "id": "Tt-wq5NE4fc4"
      },
      "source": [
        "## Transpose matrix"
      ]
    },
    {
      "cell_type": "code",
      "metadata": {
        "colab": {
          "base_uri": "https://localhost:8080/"
        },
        "id": "3zVw8Gbf4IJT",
        "outputId": "790cf5e1-330f-4050-803c-45b4a23084de"
      },
      "source": [
        "np_a.T"
      ],
      "execution_count": 92,
      "outputs": [
        {
          "output_type": "execute_result",
          "data": {
            "text/plain": [
              "array([[1, 4],\n",
              "       [2, 5],\n",
              "       [3, 6]])"
            ]
          },
          "metadata": {},
          "execution_count": 92
        }
      ]
    },
    {
      "cell_type": "code",
      "metadata": {
        "colab": {
          "base_uri": "https://localhost:8080/"
        },
        "id": "ijXX4H7P4eMT",
        "outputId": "f0b3398e-a77f-49f2-8a5a-9b828663e403"
      },
      "source": [
        "np_b.T"
      ],
      "execution_count": 93,
      "outputs": [
        {
          "output_type": "execute_result",
          "data": {
            "text/plain": [
              "array([[1, 2, 3],\n",
              "       [4, 5, 6]])"
            ]
          },
          "metadata": {},
          "execution_count": 93
        }
      ]
    },
    {
      "cell_type": "markdown",
      "metadata": {
        "id": "ZcvUMOJlF3jF"
      },
      "source": [
        "## matrix multiplication"
      ]
    },
    {
      "cell_type": "code",
      "metadata": {
        "colab": {
          "base_uri": "https://localhost:8080/"
        },
        "id": "J0NxZ1qtF_aW",
        "outputId": "1772c3e8-3f42-413d-cfab-f67ebafd8654"
      },
      "source": [
        "np.dot(np_b,np_a)"
      ],
      "execution_count": 94,
      "outputs": [
        {
          "output_type": "execute_result",
          "data": {
            "text/plain": [
              "array([[17, 22, 27],\n",
              "       [22, 29, 36],\n",
              "       [27, 36, 45]])"
            ]
          },
          "metadata": {},
          "execution_count": 94
        }
      ]
    },
    {
      "cell_type": "code",
      "metadata": {
        "colab": {
          "base_uri": "https://localhost:8080/"
        },
        "id": "yiBW-UVoGIog",
        "outputId": "a8bdf571-7d99-481f-e3e5-788bf584baff"
      },
      "source": [
        "np.dot(np_a,np_b)"
      ],
      "execution_count": 95,
      "outputs": [
        {
          "output_type": "execute_result",
          "data": {
            "text/plain": [
              "array([[14, 32],\n",
              "       [32, 77]])"
            ]
          },
          "metadata": {},
          "execution_count": 95
        }
      ]
    },
    {
      "cell_type": "markdown",
      "metadata": {
        "id": "GSZEzRfd40d2"
      },
      "source": [
        "## Useful numpy function"
      ]
    },
    {
      "cell_type": "markdown",
      "metadata": {
        "id": "KP_OiLus4-qc"
      },
      "source": [
        "### summation $\\sum$"
      ]
    },
    {
      "cell_type": "code",
      "metadata": {
        "colab": {
          "base_uri": "https://localhost:8080/"
        },
        "id": "9m8Q0pZX4tK1",
        "outputId": "e92ac560-c440-4f8f-b1e8-5ad209497ee9"
      },
      "source": [
        "np_a"
      ],
      "execution_count": 96,
      "outputs": [
        {
          "output_type": "execute_result",
          "data": {
            "text/plain": [
              "array([[1, 2, 3],\n",
              "       [4, 5, 6]])"
            ]
          },
          "metadata": {},
          "execution_count": 96
        }
      ]
    },
    {
      "cell_type": "code",
      "metadata": {
        "colab": {
          "base_uri": "https://localhost:8080/"
        },
        "id": "zD-9eGSK5EFL",
        "outputId": "032f161a-0c83-434f-a711-060a2df54e7e"
      },
      "source": [
        "np.sum(np_a)  # ผลบวก matrix  [บวกทกตัวที่อยู่ใน matrix]"
      ],
      "execution_count": 97,
      "outputs": [
        {
          "output_type": "execute_result",
          "data": {
            "text/plain": [
              "21"
            ]
          },
          "metadata": {},
          "execution_count": 97
        }
      ]
    },
    {
      "cell_type": "code",
      "metadata": {
        "colab": {
          "base_uri": "https://localhost:8080/"
        },
        "id": "EsKJ9-XB5ILz",
        "outputId": "28f4d565-6e0b-4009-d8a4-5ac4a537f872"
      },
      "source": [
        "np.sum(np_a,axis=0)   # axis คือ การรวมของแถวหรือหลัก  0=แถว 1=หลัก"
      ],
      "execution_count": 98,
      "outputs": [
        {
          "output_type": "execute_result",
          "data": {
            "text/plain": [
              "array([5, 7, 9])"
            ]
          },
          "metadata": {},
          "execution_count": 98
        }
      ]
    },
    {
      "cell_type": "code",
      "metadata": {
        "colab": {
          "base_uri": "https://localhost:8080/"
        },
        "id": "Xb0W60l25cDi",
        "outputId": "091803a6-d776-4309-dca0-f4b8fbea869c"
      },
      "source": [
        "np.sum(np_a,axis=1)"
      ],
      "execution_count": 99,
      "outputs": [
        {
          "output_type": "execute_result",
          "data": {
            "text/plain": [
              "array([ 6, 15])"
            ]
          },
          "metadata": {},
          "execution_count": 99
        }
      ]
    },
    {
      "cell_type": "markdown",
      "metadata": {
        "id": "cZ1mgpgW7gyE"
      },
      "source": [
        "## วนลูปเอง"
      ]
    },
    {
      "cell_type": "code",
      "metadata": {
        "colab": {
          "base_uri": "https://localhost:8080/"
        },
        "id": "Zmb8RJGx8YOf",
        "outputId": "c7121bcd-6656-4c9a-ff36-efd0ad0e7c54"
      },
      "source": [
        "np_a.shape"
      ],
      "execution_count": 100,
      "outputs": [
        {
          "output_type": "execute_result",
          "data": {
            "text/plain": [
              "(2, 3)"
            ]
          },
          "metadata": {},
          "execution_count": 100
        }
      ]
    },
    {
      "cell_type": "code",
      "metadata": {
        "colab": {
          "base_uri": "https://localhost:8080/"
        },
        "id": "dA-VG-wU8e7w",
        "outputId": "4c3980ee-ab01-4a30-c7c4-cb3f0ed556f7"
      },
      "source": [
        "np_a.shape[0]"
      ],
      "execution_count": 101,
      "outputs": [
        {
          "output_type": "execute_result",
          "data": {
            "text/plain": [
              "2"
            ]
          },
          "metadata": {},
          "execution_count": 101
        }
      ]
    },
    {
      "cell_type": "code",
      "metadata": {
        "colab": {
          "base_uri": "https://localhost:8080/"
        },
        "id": "VqnYyiBs7QwW",
        "outputId": "9d14ab57-13a7-4112-977e-78e94688c19c"
      },
      "source": [
        "sum_all = 0\n",
        "for row in range(np_a.shape[0]):\n",
        " for col in range(np_a.shape[1]):\n",
        "   sum_all = sum_all + np_a[row,col]   # การชี้สมาชิกใน numpy ไปใช้ matrix [แถว,หลัก]\n",
        "sum_all"
      ],
      "execution_count": 102,
      "outputs": [
        {
          "output_type": "execute_result",
          "data": {
            "text/plain": [
              "21"
            ]
          },
          "metadata": {},
          "execution_count": 102
        }
      ]
    },
    {
      "cell_type": "code",
      "metadata": {
        "colab": {
          "base_uri": "https://localhost:8080/"
        },
        "id": "chywy-08AG85",
        "outputId": "701d8a7f-4121-466e-e8cb-80cabc773822"
      },
      "source": [
        "np.sum(np_a,axis=1)"
      ],
      "execution_count": 103,
      "outputs": [
        {
          "output_type": "execute_result",
          "data": {
            "text/plain": [
              "array([ 6, 15])"
            ]
          },
          "metadata": {},
          "execution_count": 103
        }
      ]
    },
    {
      "cell_type": "code",
      "metadata": {
        "colab": {
          "base_uri": "https://localhost:8080/"
        },
        "id": "3RekL2tY9eQy",
        "outputId": "e06cdccd-fd6c-4a9b-d899-68dbe6e410fe"
      },
      "source": [
        "sum_vert = np.zeros((np_a.shape[1]))\n",
        "for col in range(np_a.shape[1]): \n",
        "   for row in range(np_a.shape[0]):\n",
        "     sum_vert[col] = sum_vert[col] + np_a[row,col]\n",
        "sum_vert\n"
      ],
      "execution_count": 104,
      "outputs": [
        {
          "output_type": "execute_result",
          "data": {
            "text/plain": [
              "array([5., 7., 9.])"
            ]
          },
          "metadata": {},
          "execution_count": 104
        }
      ]
    },
    {
      "cell_type": "code",
      "metadata": {
        "colab": {
          "base_uri": "https://localhost:8080/"
        },
        "id": "q35IWMlHAbI1",
        "outputId": "31bebc4e-e394-4d8c-def1-b584c50d0bbc"
      },
      "source": [
        "sum_hor = np.zeros((np_a.shape[1]))\n",
        "for col in range(np_a.shape[1]): \n",
        "   for row in range(np_a.shape[0]):\n",
        "     sum_hor[row] = sum_vert[row] + np_a[row,col]\n",
        "sum_hor"
      ],
      "execution_count": 105,
      "outputs": [
        {
          "output_type": "execute_result",
          "data": {
            "text/plain": [
              "array([ 8., 13.,  0.])"
            ]
          },
          "metadata": {},
          "execution_count": 105
        }
      ]
    },
    {
      "cell_type": "code",
      "metadata": {
        "id": "WioA0Om2CjUi"
      },
      "source": [
        "n_row,n_col = np_a.shape\n",
        "\n",
        "sum_hor = np.zeros"
      ],
      "execution_count": 106,
      "outputs": []
    },
    {
      "cell_type": "markdown",
      "metadata": {
        "id": "sBQ1Ml8KCqRR"
      },
      "source": [
        "## Araray slicing"
      ]
    },
    {
      "cell_type": "code",
      "metadata": {
        "colab": {
          "base_uri": "https://localhost:8080/"
        },
        "id": "bEGAF5O7Cp9z",
        "outputId": "3228ea85-b917-43a7-f58e-c6241ba3c079"
      },
      "source": [
        "np_a"
      ],
      "execution_count": 107,
      "outputs": [
        {
          "output_type": "execute_result",
          "data": {
            "text/plain": [
              "array([[1, 2, 3],\n",
              "       [4, 5, 6]])"
            ]
          },
          "metadata": {},
          "execution_count": 107
        }
      ]
    },
    {
      "cell_type": "code",
      "metadata": {
        "colab": {
          "base_uri": "https://localhost:8080/"
        },
        "id": "c79SYbNwCzpd",
        "outputId": "424a42fa-e4f6-42ba-83e6-46b697061c78"
      },
      "source": [
        "np_a[:,1]"
      ],
      "execution_count": 108,
      "outputs": [
        {
          "output_type": "execute_result",
          "data": {
            "text/plain": [
              "array([2, 5])"
            ]
          },
          "metadata": {},
          "execution_count": 108
        }
      ]
    },
    {
      "cell_type": "markdown",
      "metadata": {
        "id": "50xH1Zsk5_dQ"
      },
      "source": [
        "### Averge  $\\bar{x}$"
      ]
    },
    {
      "cell_type": "code",
      "metadata": {
        "colab": {
          "base_uri": "https://localhost:8080/"
        },
        "id": "yJgTbV7u5lrK",
        "outputId": "7e9a6cb0-41e9-4911-87a4-c14525641c03"
      },
      "source": [
        "np.mean(np_a)"
      ],
      "execution_count": 109,
      "outputs": [
        {
          "output_type": "execute_result",
          "data": {
            "text/plain": [
              "3.5"
            ]
          },
          "metadata": {},
          "execution_count": 109
        }
      ]
    },
    {
      "cell_type": "code",
      "metadata": {
        "colab": {
          "base_uri": "https://localhost:8080/"
        },
        "id": "B0E3Jr-U6qUR",
        "outputId": "90ab6740-83c0-4aa3-f99d-22bcb45c43a2"
      },
      "source": [
        "np.mean(np_a,axis=0)"
      ],
      "execution_count": 110,
      "outputs": [
        {
          "output_type": "execute_result",
          "data": {
            "text/plain": [
              "array([2.5, 3.5, 4.5])"
            ]
          },
          "metadata": {},
          "execution_count": 110
        }
      ]
    },
    {
      "cell_type": "code",
      "metadata": {
        "colab": {
          "base_uri": "https://localhost:8080/"
        },
        "id": "Pqux93sE6z1S",
        "outputId": "0756ea88-2144-42ae-b0ef-7c3def962013"
      },
      "source": [
        "np.mean(np_a,axis=1)"
      ],
      "execution_count": 111,
      "outputs": [
        {
          "output_type": "execute_result",
          "data": {
            "text/plain": [
              "array([2., 5.])"
            ]
          },
          "metadata": {},
          "execution_count": 111
        }
      ]
    },
    {
      "cell_type": "markdown",
      "metadata": {
        "id": "AHCakvF3HgU5"
      },
      "source": [
        "## Distance Matrix"
      ]
    },
    {
      "cell_type": "code",
      "metadata": {
        "colab": {
          "base_uri": "https://localhost:8080/"
        },
        "id": "e3qJFfjQ7Euy",
        "outputId": "2f02e529-340c-4932-8e1d-740069019a42"
      },
      "source": [
        "data1 = np.array([[1,2],[3,5],[2,0],[4,5]])\n",
        "data1"
      ],
      "execution_count": 112,
      "outputs": [
        {
          "output_type": "execute_result",
          "data": {
            "text/plain": [
              "array([[1, 2],\n",
              "       [3, 5],\n",
              "       [2, 0],\n",
              "       [4, 5]])"
            ]
          },
          "metadata": {},
          "execution_count": 112
        }
      ]
    },
    {
      "cell_type": "code",
      "metadata": {
        "colab": {
          "base_uri": "https://localhost:8080/",
          "height": 0
        },
        "id": "YGx0TRiFH0UQ",
        "outputId": "86f5c65d-e130-4ed7-9890-299fff00fcbc"
      },
      "source": [
        "from matplotlib import pyplot as plt\n",
        "plt.plot(data1[:,0],data1[:,1],'o')"
      ],
      "execution_count": 113,
      "outputs": [
        {
          "output_type": "execute_result",
          "data": {
            "text/plain": [
              "[<matplotlib.lines.Line2D at 0x7f9c29d45790>]"
            ]
          },
          "metadata": {},
          "execution_count": 113
        },
        {
          "output_type": "display_data",
          "data": {
            "image/png": "[encoded data removed]",
            "text/plain": [
              "<Figure size 432x288 with 1 Axes>"
            ]
          },
          "metadata": {
            "needs_background": "light"
          }
        }
      ]
    },
    {
      "cell_type": "markdown",
      "metadata": {
        "id": "UiqzduLLIw3x"
      },
      "source": [
        "Euclidean Distance"
      ]
    },
    {
      "cell_type": "code",
      "metadata": {
        "colab": {
          "base_uri": "https://localhost:8080/"
        },
        "id": "mBZdqu9jIU-v",
        "outputId": "1d0255a5-7596-4e72-e0c1-fc6dbdb60bc7"
      },
      "source": [
        "dist_p1_p2 = np.sqrt(np.power(data1[0,0]-data1[1,0],2) + np.power(data1[0,1]-data1[1,1],2)) # เป็นการหา eucidean distance ระหว่างจุด 2 จุด\n",
        "dist_p1_p2"
      ],
      "execution_count": 114,
      "outputs": [
        {
          "output_type": "execute_result",
          "data": {
            "text/plain": [
              "3.605551275463989"
            ]
          },
          "metadata": {},
          "execution_count": 114
        }
      ]
    },
    {
      "cell_type": "code",
      "metadata": {
        "colab": {
          "base_uri": "https://localhost:8080/"
        },
        "id": "bBQh98EuLfJR",
        "outputId": "1612cc77-0d59-4a5b-fcc7-429dd40a57db"
      },
      "source": [
        "data1[0,:]"
      ],
      "execution_count": 115,
      "outputs": [
        {
          "output_type": "execute_result",
          "data": {
            "text/plain": [
              "array([1, 2])"
            ]
          },
          "metadata": {},
          "execution_count": 115
        }
      ]
    },
    {
      "cell_type": "code",
      "metadata": {
        "colab": {
          "base_uri": "https://localhost:8080/"
        },
        "id": "tjlI_ZhQMlIg",
        "outputId": "aa2d2f09-466c-4ecb-9003-55b24e8c0053"
      },
      "source": [
        "len(data1[0,:])"
      ],
      "execution_count": 116,
      "outputs": [
        {
          "output_type": "execute_result",
          "data": {
            "text/plain": [
              "2"
            ]
          },
          "metadata": {},
          "execution_count": 116
        }
      ]
    },
    {
      "cell_type": "code",
      "metadata": {
        "id": "hdhdzddyKHiy"
      },
      "source": [
        "def eud_dist(pt1,pt2): #2 dims pt1 คือ จุดที่1 pt2 คือ จุดที่2\n",
        "  return np.sqrt(np.power(pt1[0]-pt2[0],2) + np.power(pt1[1]-pt2[1],2))"
      ],
      "execution_count": 117,
      "outputs": []
    },
    {
      "cell_type": "code",
      "metadata": {
        "colab": {
          "base_uri": "https://localhost:8080/"
        },
        "id": "8hhyGtPkL2Sv",
        "outputId": "e0e71c74-555e-493d-a2c9-fd43586c59d4"
      },
      "source": [
        "eud_dist(data1[0,:],data1[1,:])"
      ],
      "execution_count": 118,
      "outputs": [
        {
          "output_type": "execute_result",
          "data": {
            "text/plain": [
              "3.605551275463989"
            ]
          },
          "metadata": {},
          "execution_count": 118
        }
      ]
    },
    {
      "cell_type": "code",
      "metadata": {
        "id": "b6VnloG_MAKP"
      },
      "source": [
        "def eud_dist_n(pt1,pt2): #n dims\n",
        " sum = 0\n",
        " for i in range(len(pt1)):\n",
        "  sum = sum + np.power(pt1[i]-pt2[i],2)\n",
        " return np.sqrt(sum)"
      ],
      "execution_count": 119,
      "outputs": []
    },
    {
      "cell_type": "code",
      "metadata": {
        "colab": {
          "base_uri": "https://localhost:8080/"
        },
        "id": "UuDxLPpXM1vI",
        "outputId": "ebe9fd26-03c7-4717-c49a-94c819cb06a2"
      },
      "source": [
        "eud_dist_n(data1[1,:],data1[3,:])"
      ],
      "execution_count": 120,
      "outputs": [
        {
          "output_type": "execute_result",
          "data": {
            "text/plain": [
              "1.0"
            ]
          },
          "metadata": {},
          "execution_count": 120
        }
      ]
    },
    {
      "cell_type": "markdown",
      "metadata": {
        "id": "Lig-fS1VOiVz"
      },
      "source": [
        "## Quiz 9\n",
        "\n",
        "เขียน function คำนวณ Manhattan Distance"
      ]
    },
    {
      "cell_type": "markdown",
      "metadata": {
        "id": "7R1DVxUsOL6Y"
      },
      "source": [
        "## Manhattan Distance"
      ]
    },
    {
      "cell_type": "code",
      "metadata": {
        "colab": {
          "base_uri": "https://localhost:8080/"
        },
        "id": "JogjfX3nQSYj",
        "outputId": "4f7645b8-19f5-49a0-a870-984f6f6a7e22"
      },
      "source": [
        "def Manh_dist_n(pt1, pt2):\n",
        "    sum =0\n",
        "    for i in range(len(pt1)):\n",
        "        sum = sum + np.sqrt(np.power(pt1[i]-pt2[i],2))\n",
        "    return sum\n",
        "\n",
        "Manh_dist_n(data1[0, :], data1[1, :])"
      ],
      "execution_count": 121,
      "outputs": [
        {
          "output_type": "execute_result",
          "data": {
            "text/plain": [
              "5.0"
            ]
          },
          "metadata": {},
          "execution_count": 121
        }
      ]
    },
    {
      "cell_type": "code",
      "metadata": {
        "colab": {
          "base_uri": "https://localhost:8080/"
        },
        "id": "tgiFWW9OQfBn",
        "outputId": "ac9e9249-0ce0-44c1-dcc1-3c55097b6fa0"
      },
      "source": [
        "def Manh_dist_n(pt1, pt2):\n",
        "    sum =0\n",
        "    for i in range(len(pt1)):\n",
        "        sum = sum + np.absolute(pt1[i]-pt2[i],)\n",
        "    return sum\n",
        "\n",
        "Manh_dist_n(data1[0,:], data1[1,:])"
      ],
      "execution_count": 122,
      "outputs": [
        {
          "output_type": "execute_result",
          "data": {
            "text/plain": [
              "5"
            ]
          },
          "metadata": {},
          "execution_count": 122
        }
      ]
    },
    {
      "cell_type": "markdown",
      "metadata": {
        "id": "Uw6-tgmPRkbm"
      },
      "source": [
        "HW 10"
      ]
    },
    {
      "cell_type": "code",
      "metadata": {
        "id": "xhMt5V_8g2EU",
        "colab": {
          "base_uri": "https://localhost:8080/"
        },
        "outputId": "151bbad1-45a4-4fde-cbba-a950657141f6"
      },
      "source": [
        "data1"
      ],
      "execution_count": 123,
      "outputs": [
        {
          "output_type": "execute_result",
          "data": {
            "text/plain": [
              "array([[1, 2],\n",
              "       [3, 5],\n",
              "       [2, 0],\n",
              "       [4, 5]])"
            ]
          },
          "metadata": {},
          "execution_count": 123
        }
      ]
    },
    {
      "cell_type": "code",
      "metadata": {
        "id": "NO7kxyW4u_z9",
        "colab": {
          "base_uri": "https://localhost:8080/"
        },
        "outputId": "d0f35f5f-1158-4b37-840d-b6dcf419445f"
      },
      "source": [
        "dist_p1_p2 = np.sqrt(np.power(data1[0,0]-data1[1,0],2) + np.power(data1[0,1]-data1[1,1],2)) # เป็นการหา eucidean distance ระหว่างจุด 2 จุด\n",
        "dist_p1_p2"
      ],
      "execution_count": 124,
      "outputs": [
        {
          "output_type": "execute_result",
          "data": {
            "text/plain": [
              "3.605551275463989"
            ]
          },
          "metadata": {},
          "execution_count": 124
        }
      ]
    },
    {
      "cell_type": "code",
      "metadata": {
        "id": "e3G0DRt205uV"
      },
      "source": [
        "def eud_dist_data1(pt1,pt2):\n",
        " return np.sqrt((pt1[0]-pt2[0],2)+np.sqrt(pt1[1]-pt2[1],2))\n"
      ],
      "execution_count": 125,
      "outputs": []
    },
    {
      "cell_type": "code",
      "metadata": {
        "id": "4LGQNPrnSUG_"
      },
      "source": [
        "def eud_dist_n(pt1,pt2): #n dims\n",
        " sum = 0\n",
        " for i in range(len(pt1)):\n",
        "  sum = sum + np.sqrt(np.power(pt1[i]-pt2[i],2)+np.power(pt1[i]-pt2[i],2))\n",
        " return sum"
      ],
      "execution_count": 126,
      "outputs": []
    },
    {
      "cell_type": "code",
      "metadata": {
        "id": "IHF46fbH15Gl"
      },
      "source": [
        "def eud_dist_data1(pt1,pt2):\n",
        "    sum = 0\n",
        "    for i in range(len(pt1)):\n",
        "        sum = sum + np.sqrt(np.power(pt1[i]-pt2[i],2)+np.power(pt1[i]-pt2[i],2))\n",
        "    return sum\n",
        "\n"
      ],
      "execution_count": 137,
      "outputs": []
    },
    {
      "cell_type": "code",
      "metadata": {
        "id": "sQITEA7aN56U",
        "outputId": "670d5a38-78b3-4e21-b97e-f844fa4c6524",
        "colab": {
          "base_uri": "https://localhost:8080/"
        }
      },
      "source": [
        "eud_dist_data1"
      ],
      "execution_count": 138,
      "outputs": [
        {
          "output_type": "execute_result",
          "data": {
            "text/plain": [
              "<function __main__.eud_dist_data1>"
            ]
          },
          "metadata": {},
          "execution_count": 138
        }
      ]
    },
    {
      "cell_type": "code",
      "metadata": {
        "id": "tRdz8ktz3JWw",
        "colab": {
          "base_uri": "https://localhost:8080/",
          "height": 186
        },
        "outputId": "590d86a7-d6d9-4a97-cdb9-1dd650528cd3"
      },
      "source": [
        "def eud_matrix_n(data1): \n",
        "    eud_matrix = []\n",
        "    for i in range(len(data1)):\n",
        "        eud_ = []\n",
        "        for j in range(len(data1)):\n",
        "            eud = eud_dist_data1(data1[i, :], data1[j, :])\n",
        "            eud_.append(eud)\n",
        "        eud_matrix.append(eud_)\n",
        "    return np.array(eud_matrix)"
      ],
      "execution_count": 135,
      "outputs": [
        {
          "output_type": "error",
          "ename": "NameError",
          "evalue": "ignored",
          "traceback": [
            "\u001b[0;31m---------------------------------------------------------------------------\u001b[0m",
            "\u001b[0;31mNameError\u001b[0m                                 Traceback (most recent call last)",
            "\u001b[0;32m<ipython-input-135-703d29caaefc>\u001b[0m in \u001b[0;36m<module>\u001b[0;34m()\u001b[0m\n\u001b[0;32m----> 1\u001b[0;31m \u001b[0meud_matrix_n\u001b[0m\u001b[0;34m(\u001b[0m\u001b[0mdata1\u001b[0m\u001b[0;34m)\u001b[0m\u001b[0;34m\u001b[0m\u001b[0;34m\u001b[0m\u001b[0m\n\u001b[0m\u001b[1;32m      2\u001b[0m \u001b[0meud_dist_n\u001b[0m\u001b[0;34m(\u001b[0m\u001b[0mdata1\u001b[0m\u001b[0;34m)\u001b[0m\u001b[0;34m\u001b[0m\u001b[0;34m\u001b[0m\u001b[0m\n",
            "\u001b[0;31mNameError\u001b[0m: name 'eud_matrix_n' is not defined"
          ]
        }
      ]
    },
    {
      "cell_type": "code",
      "metadata": {
        "id": "C84TgVBzPXnq",
        "outputId": "d4b06d7b-dae0-4b41-f829-9c9b2bec94c8",
        "colab": {
          "base_uri": "https://localhost:8080/"
        }
      },
      "source": [
        "data1"
      ],
      "execution_count": 139,
      "outputs": [
        {
          "output_type": "execute_result",
          "data": {
            "text/plain": [
              "array([[1, 2],\n",
              "       [3, 5],\n",
              "       [2, 0],\n",
              "       [4, 5]])"
            ]
          },
          "metadata": {},
          "execution_count": 139
        }
      ]
    },
    {
      "cell_type": "code",
      "metadata": {
        "id": "ejC0GrGlPocC",
        "outputId": "c7c1d7eb-422e-4bf3-c30d-033c422b5ffc",
        "colab": {
          "base_uri": "https://localhost:8080/"
        }
      },
      "source": [
        "A = data1\n",
        "A"
      ],
      "execution_count": 143,
      "outputs": [
        {
          "output_type": "execute_result",
          "data": {
            "text/plain": [
              "array([[1, 2],\n",
              "       [3, 5],\n",
              "       [2, 0],\n",
              "       [4, 5]])"
            ]
          },
          "metadata": {},
          "execution_count": 143
        }
      ]
    },
    {
      "cell_type": "code",
      "metadata": {
        "id": "hJiKIOsJ3SG_"
      },
      "source": [
        "def eud_dist(pt1, pt2):\n",
        "    sum =0\n",
        "    for i in range(len(pt1)):\n",
        "        sum = sum + np.power(pt1[i] - pt2[i], 2)\n",
        "    return np.sqrt(sum)\n",
        "\n",
        "def eud_dist_matrix(A): \n",
        "    Eud_matrix = []\n",
        "    for i in range(len(A)):\n",
        "        Eud_ = []\n",
        "        for j in range(len(A)):\n",
        "            Eud = eud_dist_n(A[i, :], A[j, :])\n",
        "            Eud_.append(Eud)\n",
        "        Eud_matrix.append(Eud_)\n",
        "    return np.array(Eud_matrix)"
      ],
      "execution_count": 146,
      "outputs": []
    },
    {
      "cell_type": "code",
      "metadata": {
        "id": "io1cpTD5MXSR",
        "outputId": "ee434db6-064a-4392-fdb6-9aec8514011c",
        "colab": {
          "base_uri": "https://localhost:8080/"
        }
      },
      "source": [
        "eud_dist_matrix(A)"
      ],
      "execution_count": 147,
      "outputs": [
        {
          "output_type": "execute_result",
          "data": {
            "text/plain": [
              "array([[0.        , 3.60555128, 2.23606798, 4.24264069],\n",
              "       [3.60555128, 0.        , 5.09901951, 1.        ],\n",
              "       [2.23606798, 5.09901951, 0.        , 5.38516481],\n",
              "       [4.24264069, 1.        , 5.38516481, 0.        ]])"
            ]
          },
          "metadata": {},
          "execution_count": 147
        }
      ]
    },
    {
      "cell_type": "code",
      "metadata": {
        "id": "7L95l5CqQuc7"
      },
      "source": [
        ""
      ],
      "execution_count": null,
      "outputs": []
    }
  ]
}