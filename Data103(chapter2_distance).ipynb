{
  "nbformat": 4,
  "nbformat_minor": 0,
  "metadata": {
    "colab": {
      "name": "Data103(chapter2 distance).ipynb",
      "provenance": [],
      "toc_visible": true,
      "authorship_tag": "ABX9TyM0epB4UAFVbjDXOh2wWrMG",
      "include_colab_link": true
    },
    "kernelspec": {
      "name": "python3",
      "display_name": "Python 3"
    },
    "language_info": {
      "name": "python"
    }
  },
  "cells": [
    {
      "cell_type": "markdown",
      "metadata": {
        "id": "view-in-github",
        "colab_type": "text"
      },
      "source": [
        "<a href=\"https://colab.research.google.com/github/Anusarakh/DPDM2021/blob/main/Data103(chapter2_distance).ipynb\" target=\"_parent\"><img src=\"https://colab.research.google.com/assets/colab-badge.svg\" alt=\"Open In Colab\"/></a>"
      ]
    },
    {
      "cell_type": "code",
      "metadata": {
        "id": "u-L6X0Hf2TTt"
      },
      "source": [
        "import numpy as np # package สำหรับทำงานกับ ข้อมูลที่เป็นตัวเลข (ในรูปแบบเมทริกศ์ )"
      ],
      "execution_count": 2,
      "outputs": []
    },
    {
      "cell_type": "markdown",
      "metadata": {
        "id": "KtVJGVUI3B2B"
      },
      "source": [
        "# Numpy Array"
      ]
    },
    {
      "cell_type": "markdown",
      "metadata": {
        "id": "FBrsPXid3M6u"
      },
      "source": [
        "## Ctrate numpy array"
      ]
    },
    {
      "cell_type": "code",
      "metadata": {
        "colab": {
          "base_uri": "https://localhost:8080/"
        },
        "id": "2nUKEji423_r",
        "outputId": "98d98271-10ef-4121-bb48-1817e6a5d770"
      },
      "source": [
        "np_a = np.array([[1,2,3],[4,5,6]])\n",
        "np_a"
      ],
      "execution_count": 5,
      "outputs": [
        {
          "output_type": "execute_result",
          "data": {
            "text/plain": [
              "array([[1, 2, 3],\n",
              "       [4, 5, 6]])"
            ]
          },
          "metadata": {
            "tags": []
          },
          "execution_count": 5
        }
      ]
    },
    {
      "cell_type": "code",
      "metadata": {
        "colab": {
          "base_uri": "https://localhost:8080/"
        },
        "id": "V0NO_9XL3glM",
        "outputId": "77a25732-bddc-47ff-8f25-90d32e69a8a8"
      },
      "source": [
        "np_a.shape"
      ],
      "execution_count": 6,
      "outputs": [
        {
          "output_type": "execute_result",
          "data": {
            "text/plain": [
              "(2, 3)"
            ]
          },
          "metadata": {
            "tags": []
          },
          "execution_count": 6
        }
      ]
    },
    {
      "cell_type": "code",
      "metadata": {
        "colab": {
          "base_uri": "https://localhost:8080/"
        },
        "id": "RTNBGw1q3sTq",
        "outputId": "bc044a86-1b58-4365-8fae-95617431621a"
      },
      "source": [
        "np_b = np.array([[1,4],[2,5],[3,6]])\n",
        "print(np_b.shape)\n",
        "np_b"
      ],
      "execution_count": 8,
      "outputs": [
        {
          "output_type": "stream",
          "text": [
            "(3, 2)\n"
          ],
          "name": "stdout"
        },
        {
          "output_type": "execute_result",
          "data": {
            "text/plain": [
              "array([[1, 4],\n",
              "       [2, 5],\n",
              "       [3, 6]])"
            ]
          },
          "metadata": {
            "tags": []
          },
          "execution_count": 8
        }
      ]
    },
    {
      "cell_type": "markdown",
      "metadata": {
        "id": "9Irb2uCiEChW"
      },
      "source": [
        "## คำสั่งสร้าง matrix เริ่มต้น Zeros , one"
      ]
    },
    {
      "cell_type": "code",
      "metadata": {
        "colab": {
          "base_uri": "https://localhost:8080/"
        },
        "id": "E9cYXBmGEAr8",
        "outputId": "8de0d666-7e69-4c08-c661-ced30981e425"
      },
      "source": [
        "np.zeros((3,2))"
      ],
      "execution_count": 47,
      "outputs": [
        {
          "output_type": "execute_result",
          "data": {
            "text/plain": [
              "array([[0., 0.],\n",
              "       [0., 0.],\n",
              "       [0., 0.]])"
            ]
          },
          "metadata": {
            "tags": []
          },
          "execution_count": 47
        }
      ]
    },
    {
      "cell_type": "code",
      "metadata": {
        "colab": {
          "base_uri": "https://localhost:8080/"
        },
        "id": "J4aPQ4RvGp2Z",
        "outputId": "442a7672-fe90-4d9a-8cf8-6ff242b4805f"
      },
      "source": [
        "np.zeros((3,))"
      ],
      "execution_count": 56,
      "outputs": [
        {
          "output_type": "execute_result",
          "data": {
            "text/plain": [
              "array([0., 0., 0.])"
            ]
          },
          "metadata": {
            "tags": []
          },
          "execution_count": 56
        }
      ]
    },
    {
      "cell_type": "markdown",
      "metadata": {
        "id": "0c8YISe4EJn2"
      },
      "source": [
        "## คำสั่งสร้าง matrix เริ่มต้น ด้วย random"
      ]
    },
    {
      "cell_type": "markdown",
      "metadata": {
        "id": "XMPCtcs0C9j3"
      },
      "source": [
        "## Indexcing"
      ]
    },
    {
      "cell_type": "code",
      "metadata": {
        "colab": {
          "base_uri": "https://localhost:8080/"
        },
        "id": "49LlrxLiEYMf",
        "outputId": "b3fd3409-29d1-40e0-ae47-94dff88c0e4a"
      },
      "source": [
        "np.random.randn(3,2)  "
      ],
      "execution_count": 48,
      "outputs": [
        {
          "output_type": "execute_result",
          "data": {
            "text/plain": [
              "array([[-0.94892869,  0.13178641],\n",
              "       [-1.27659732,  1.01302081],\n",
              "       [-0.71749919,  0.00975997]])"
            ]
          },
          "metadata": {
            "tags": []
          },
          "execution_count": 48
        }
      ]
    },
    {
      "cell_type": "code",
      "metadata": {
        "colab": {
          "base_uri": "https://localhost:8080/"
        },
        "id": "s8cY0k3uE7Sy",
        "outputId": "65cfb42a-23e9-4b42-860c-a6e54208cccd"
      },
      "source": [
        "np.random.randint(0,10,(3,2))  #  มาจากการกำหนดค่าเริ่มต้นได้ (low,hi(dimention))"
      ],
      "execution_count": 50,
      "outputs": [
        {
          "output_type": "execute_result",
          "data": {
            "text/plain": [
              "array([[9, 6],\n",
              "       [5, 4],\n",
              "       [3, 6]])"
            ]
          },
          "metadata": {
            "tags": []
          },
          "execution_count": 50
        }
      ]
    },
    {
      "cell_type": "code",
      "metadata": {
        "colab": {
          "base_uri": "https://localhost:8080/"
        },
        "id": "M01QlDWvDBTY",
        "outputId": "8200f3a3-4431-4099-e974-9c00ce96b0f4"
      },
      "source": [
        "np_b[0,1]  # การชี้สมาชิกใน numpy ไปใช้ matrix [แถว,หลัก]"
      ],
      "execution_count": 45,
      "outputs": [
        {
          "output_type": "execute_result",
          "data": {
            "text/plain": [
              "4"
            ]
          },
          "metadata": {
            "tags": []
          },
          "execution_count": 45
        }
      ]
    },
    {
      "cell_type": "markdown",
      "metadata": {
        "id": "Tt-wq5NE4fc4"
      },
      "source": [
        "## Transpose matrix"
      ]
    },
    {
      "cell_type": "code",
      "metadata": {
        "colab": {
          "base_uri": "https://localhost:8080/"
        },
        "id": "3zVw8Gbf4IJT",
        "outputId": "f27bb149-9dd6-4a5b-8c7f-23eee1191e6e"
      },
      "source": [
        "np_a.T"
      ],
      "execution_count": 9,
      "outputs": [
        {
          "output_type": "execute_result",
          "data": {
            "text/plain": [
              "array([[1, 4],\n",
              "       [2, 5],\n",
              "       [3, 6]])"
            ]
          },
          "metadata": {
            "tags": []
          },
          "execution_count": 9
        }
      ]
    },
    {
      "cell_type": "code",
      "metadata": {
        "colab": {
          "base_uri": "https://localhost:8080/"
        },
        "id": "ijXX4H7P4eMT",
        "outputId": "434422cf-6c6c-459b-b927-89fe72b93eec"
      },
      "source": [
        "np_b.T"
      ],
      "execution_count": 10,
      "outputs": [
        {
          "output_type": "execute_result",
          "data": {
            "text/plain": [
              "array([[1, 2, 3],\n",
              "       [4, 5, 6]])"
            ]
          },
          "metadata": {
            "tags": []
          },
          "execution_count": 10
        }
      ]
    },
    {
      "cell_type": "markdown",
      "metadata": {
        "id": "ZcvUMOJlF3jF"
      },
      "source": [
        "## matrix multiplication"
      ]
    },
    {
      "cell_type": "code",
      "metadata": {
        "colab": {
          "base_uri": "https://localhost:8080/"
        },
        "id": "J0NxZ1qtF_aW",
        "outputId": "37c56e86-5ab2-4601-83fe-9279bb73b603"
      },
      "source": [
        "np.dot(np_b,np_a)"
      ],
      "execution_count": 53,
      "outputs": [
        {
          "output_type": "execute_result",
          "data": {
            "text/plain": [
              "array([[17, 22, 27],\n",
              "       [22, 29, 36],\n",
              "       [27, 36, 45]])"
            ]
          },
          "metadata": {
            "tags": []
          },
          "execution_count": 53
        }
      ]
    },
    {
      "cell_type": "code",
      "metadata": {
        "colab": {
          "base_uri": "https://localhost:8080/"
        },
        "id": "yiBW-UVoGIog",
        "outputId": "5c7bc0f8-521a-4296-cd75-c1b85e9d5100"
      },
      "source": [
        "np.dot(np_a,np_b)"
      ],
      "execution_count": 54,
      "outputs": [
        {
          "output_type": "execute_result",
          "data": {
            "text/plain": [
              "array([[14, 32],\n",
              "       [32, 77]])"
            ]
          },
          "metadata": {
            "tags": []
          },
          "execution_count": 54
        }
      ]
    },
    {
      "cell_type": "markdown",
      "metadata": {
        "id": "GSZEzRfd40d2"
      },
      "source": [
        "## Useful numpy function"
      ]
    },
    {
      "cell_type": "markdown",
      "metadata": {
        "id": "KP_OiLus4-qc"
      },
      "source": [
        "### summation $\\sum$"
      ]
    },
    {
      "cell_type": "code",
      "metadata": {
        "colab": {
          "base_uri": "https://localhost:8080/"
        },
        "id": "9m8Q0pZX4tK1",
        "outputId": "be359d70-8547-44be-94c6-0c1b52cd4caa"
      },
      "source": [
        "np_a"
      ],
      "execution_count": 11,
      "outputs": [
        {
          "output_type": "execute_result",
          "data": {
            "text/plain": [
              "array([[1, 2, 3],\n",
              "       [4, 5, 6]])"
            ]
          },
          "metadata": {
            "tags": []
          },
          "execution_count": 11
        }
      ]
    },
    {
      "cell_type": "code",
      "metadata": {
        "colab": {
          "base_uri": "https://localhost:8080/"
        },
        "id": "zD-9eGSK5EFL",
        "outputId": "05b2aa28-aa30-448a-aa1a-f6583fadaf6d"
      },
      "source": [
        "np.sum(np_a)  # ผลบวก matrix  [บวกทกตัวที่อยู่ใน matrix]"
      ],
      "execution_count": 55,
      "outputs": [
        {
          "output_type": "execute_result",
          "data": {
            "text/plain": [
              "21"
            ]
          },
          "metadata": {
            "tags": []
          },
          "execution_count": 55
        }
      ]
    },
    {
      "cell_type": "code",
      "metadata": {
        "colab": {
          "base_uri": "https://localhost:8080/"
        },
        "id": "EsKJ9-XB5ILz",
        "outputId": "2649566c-5fa3-48cd-f768-f31a52c1cdd0"
      },
      "source": [
        "np.sum(np_a,axis=0)   # axis คือ การรวมของแถวหรือหลัก  0=แถว 1=หลัก"
      ],
      "execution_count": 16,
      "outputs": [
        {
          "output_type": "execute_result",
          "data": {
            "text/plain": [
              "array([5, 7, 9])"
            ]
          },
          "metadata": {
            "tags": []
          },
          "execution_count": 16
        }
      ]
    },
    {
      "cell_type": "code",
      "metadata": {
        "colab": {
          "base_uri": "https://localhost:8080/"
        },
        "id": "Xb0W60l25cDi",
        "outputId": "24e90c72-a595-4b22-af11-3a985ad8bebf"
      },
      "source": [
        "np.sum(np_a,axis=1)"
      ],
      "execution_count": 15,
      "outputs": [
        {
          "output_type": "execute_result",
          "data": {
            "text/plain": [
              "array([ 6, 15])"
            ]
          },
          "metadata": {
            "tags": []
          },
          "execution_count": 15
        }
      ]
    },
    {
      "cell_type": "markdown",
      "metadata": {
        "id": "cZ1mgpgW7gyE"
      },
      "source": [
        "## วนลูปเอง"
      ]
    },
    {
      "cell_type": "code",
      "metadata": {
        "colab": {
          "base_uri": "https://localhost:8080/"
        },
        "id": "Zmb8RJGx8YOf",
        "outputId": "ad7ecf70-7aca-4585-b837-612198c8168f"
      },
      "source": [
        "np_a.shape"
      ],
      "execution_count": 22,
      "outputs": [
        {
          "output_type": "execute_result",
          "data": {
            "text/plain": [
              "(2, 3)"
            ]
          },
          "metadata": {
            "tags": []
          },
          "execution_count": 22
        }
      ]
    },
    {
      "cell_type": "code",
      "metadata": {
        "colab": {
          "base_uri": "https://localhost:8080/"
        },
        "id": "dA-VG-wU8e7w",
        "outputId": "c32aa5ef-84f1-4e61-bac3-d1af2151db0a"
      },
      "source": [
        "np_a.shape[0]"
      ],
      "execution_count": 23,
      "outputs": [
        {
          "output_type": "execute_result",
          "data": {
            "text/plain": [
              "2"
            ]
          },
          "metadata": {
            "tags": []
          },
          "execution_count": 23
        }
      ]
    },
    {
      "cell_type": "code",
      "metadata": {
        "colab": {
          "base_uri": "https://localhost:8080/"
        },
        "id": "VqnYyiBs7QwW",
        "outputId": "ce7a464e-03c8-4f12-bd6d-8dcc1326be5c"
      },
      "source": [
        "sum_all = 0\n",
        "for row in range(np_a.shape[0]):\n",
        " for col in range(np_a.shape[1]):\n",
        "   sum_all = sum_all + np_a[row,col]   # การชี้สมาชิกใน numpy ไปใช้ matrix [แถว,หลัก]\n",
        "sum_all"
      ],
      "execution_count": 26,
      "outputs": [
        {
          "output_type": "execute_result",
          "data": {
            "text/plain": [
              "21"
            ]
          },
          "metadata": {
            "tags": []
          },
          "execution_count": 26
        }
      ]
    },
    {
      "cell_type": "code",
      "metadata": {
        "colab": {
          "base_uri": "https://localhost:8080/"
        },
        "id": "chywy-08AG85",
        "outputId": "5718dd44-acc5-4747-aaca-25900073c957"
      },
      "source": [
        "np.sum(np_a,axis=1)"
      ],
      "execution_count": 57,
      "outputs": [
        {
          "output_type": "execute_result",
          "data": {
            "text/plain": [
              "array([ 6, 15])"
            ]
          },
          "metadata": {
            "tags": []
          },
          "execution_count": 57
        }
      ]
    },
    {
      "cell_type": "code",
      "metadata": {
        "colab": {
          "base_uri": "https://localhost:8080/"
        },
        "id": "3RekL2tY9eQy",
        "outputId": "fd855ea7-be51-4927-a69b-0cfc078fa276"
      },
      "source": [
        "sum_vert = np.zeros((np_a.shape[1]))\n",
        "for col in range(np_a.shape[1]): \n",
        "   for row in range(np_a.shape[0]):\n",
        "     sum_vert[col] = sum_vert[col] + np_a[row,col]\n",
        "sum_vert\n"
      ],
      "execution_count": 58,
      "outputs": [
        {
          "output_type": "execute_result",
          "data": {
            "text/plain": [
              "array([5., 7., 9.])"
            ]
          },
          "metadata": {
            "tags": []
          },
          "execution_count": 58
        }
      ]
    },
    {
      "cell_type": "code",
      "metadata": {
        "colab": {
          "base_uri": "https://localhost:8080/"
        },
        "id": "q35IWMlHAbI1",
        "outputId": "8536a54b-6541-45c8-8cf4-4f16143bbc8d"
      },
      "source": [
        "sum_hor = np.zeros((np_a.shape[1]))\n",
        "for col in range(np_a.shape[1]): \n",
        "   for row in range(np_a.shape[0]):\n",
        "     sum_hor[row] = sum_vert[row] + np_a[row,col]\n",
        "sum_hor"
      ],
      "execution_count": 59,
      "outputs": [
        {
          "output_type": "execute_result",
          "data": {
            "text/plain": [
              "array([ 8., 13.,  0.])"
            ]
          },
          "metadata": {
            "tags": []
          },
          "execution_count": 59
        }
      ]
    },
    {
      "cell_type": "code",
      "metadata": {
        "id": "WioA0Om2CjUi"
      },
      "source": [
        "n_row,n_col = np_a.shape\n",
        "\n",
        "sum_hor = np.zeros"
      ],
      "execution_count": null,
      "outputs": []
    },
    {
      "cell_type": "markdown",
      "metadata": {
        "id": "sBQ1Ml8KCqRR"
      },
      "source": [
        "## Araray slicing"
      ]
    },
    {
      "cell_type": "code",
      "metadata": {
        "colab": {
          "base_uri": "https://localhost:8080/"
        },
        "id": "bEGAF5O7Cp9z",
        "outputId": "bf294fe9-27ef-4faf-b130-46e9437d9ccd"
      },
      "source": [
        "np_a"
      ],
      "execution_count": 42,
      "outputs": [
        {
          "output_type": "execute_result",
          "data": {
            "text/plain": [
              "array([[1, 2, 3],\n",
              "       [4, 5, 6]])"
            ]
          },
          "metadata": {
            "tags": []
          },
          "execution_count": 42
        }
      ]
    },
    {
      "cell_type": "code",
      "metadata": {
        "colab": {
          "base_uri": "https://localhost:8080/"
        },
        "id": "c79SYbNwCzpd",
        "outputId": "807242c5-21d7-4c54-a73b-5a5e05623f04"
      },
      "source": [
        "np_a[:,1]"
      ],
      "execution_count": 44,
      "outputs": [
        {
          "output_type": "execute_result",
          "data": {
            "text/plain": [
              "array([2, 5])"
            ]
          },
          "metadata": {
            "tags": []
          },
          "execution_count": 44
        }
      ]
    },
    {
      "cell_type": "markdown",
      "metadata": {
        "id": "50xH1Zsk5_dQ"
      },
      "source": [
        "### Averge  $\\bar{x}$"
      ]
    },
    {
      "cell_type": "code",
      "metadata": {
        "colab": {
          "base_uri": "https://localhost:8080/"
        },
        "id": "yJgTbV7u5lrK",
        "outputId": "740c0721-a9a9-465e-8dd8-149a0b25d96f"
      },
      "source": [
        "np.mean(np_a)"
      ],
      "execution_count": 17,
      "outputs": [
        {
          "output_type": "execute_result",
          "data": {
            "text/plain": [
              "3.5"
            ]
          },
          "metadata": {
            "tags": []
          },
          "execution_count": 17
        }
      ]
    },
    {
      "cell_type": "code",
      "metadata": {
        "colab": {
          "base_uri": "https://localhost:8080/"
        },
        "id": "B0E3Jr-U6qUR",
        "outputId": "78a670eb-687b-4630-dae5-704d487c8ca9"
      },
      "source": [
        "np.mean(np_a,axis=0)"
      ],
      "execution_count": 18,
      "outputs": [
        {
          "output_type": "execute_result",
          "data": {
            "text/plain": [
              "array([2.5, 3.5, 4.5])"
            ]
          },
          "metadata": {
            "tags": []
          },
          "execution_count": 18
        }
      ]
    },
    {
      "cell_type": "code",
      "metadata": {
        "colab": {
          "base_uri": "https://localhost:8080/"
        },
        "id": "Pqux93sE6z1S",
        "outputId": "13572c7d-bfa1-4618-f530-9c563975e311"
      },
      "source": [
        "np.mean(np_a,axis=1)"
      ],
      "execution_count": 19,
      "outputs": [
        {
          "output_type": "execute_result",
          "data": {
            "text/plain": [
              "array([2., 5.])"
            ]
          },
          "metadata": {
            "tags": []
          },
          "execution_count": 19
        }
      ]
    },
    {
      "cell_type": "markdown",
      "metadata": {
        "id": "AHCakvF3HgU5"
      },
      "source": [
        "## Distance Matrix"
      ]
    },
    {
      "cell_type": "code",
      "metadata": {
        "colab": {
          "base_uri": "https://localhost:8080/"
        },
        "id": "e3qJFfjQ7Euy",
        "outputId": "4a15fc79-d6ae-469a-84c7-0c67503f0621"
      },
      "source": [
        "data1 = np.array([[1,2],[3,5],[2,0],[4,5]])\n",
        "data1"
      ],
      "execution_count": 63,
      "outputs": [
        {
          "output_type": "execute_result",
          "data": {
            "text/plain": [
              "array([[1, 2],\n",
              "       [3, 5],\n",
              "       [2, 0],\n",
              "       [4, 5]])"
            ]
          },
          "metadata": {
            "tags": []
          },
          "execution_count": 63
        }
      ]
    },
    {
      "cell_type": "code",
      "metadata": {
        "colab": {
          "base_uri": "https://localhost:8080/",
          "height": 283
        },
        "id": "YGx0TRiFH0UQ",
        "outputId": "38d915ee-8aa4-4263-e158-410c93b28c7d"
      },
      "source": [
        "from matplotlib import pyplot as plt\n",
        "plt.plot(data1[:,0],data1[:,1],'o')"
      ],
      "execution_count": 64,
      "outputs": [
        {
          "output_type": "execute_result",
          "data": {
            "text/plain": [
              "[<matplotlib.lines.Line2D at 0x7ffb63baa810>]"
            ]
          },
          "metadata": {
            "tags": []
          },
          "execution_count": 64
        },
        {
          "output_type": "display_data",
          "data": {
            "image/png": "[encoded data removed]",
            "text/plain": [
              "<Figure size 432x288 with 1 Axes>"
            ]
          },
          "metadata": {
            "tags": [],
            "needs_background": "light"
          }
        }
      ]
    },
    {
      "cell_type": "markdown",
      "metadata": {
        "id": "UiqzduLLIw3x"
      },
      "source": [
        "Euclidean Distance"
      ]
    },
    {
      "cell_type": "code",
      "metadata": {
        "colab": {
          "base_uri": "https://localhost:8080/"
        },
        "id": "mBZdqu9jIU-v",
        "outputId": "6265dce5-bf71-4506-bd9b-bd3d1b8ce5f0"
      },
      "source": [
        "dist_p1_p2 = np.sqrt(np.power(data1[0,0]-data1[1,0],2) + np.power(data1[0,1]-data1[1,1],2))\n",
        "dist_p1_p2"
      ],
      "execution_count": 68,
      "outputs": [
        {
          "output_type": "execute_result",
          "data": {
            "text/plain": [
              "3.605551275463989"
            ]
          },
          "metadata": {
            "tags": []
          },
          "execution_count": 68
        }
      ]
    },
    {
      "cell_type": "code",
      "metadata": {
        "colab": {
          "base_uri": "https://localhost:8080/"
        },
        "id": "bBQh98EuLfJR",
        "outputId": "12f88282-6feb-4944-9f8e-6bb0123475bb"
      },
      "source": [
        "data1[0,:]"
      ],
      "execution_count": 69,
      "outputs": [
        {
          "output_type": "execute_result",
          "data": {
            "text/plain": [
              "array([1, 2])"
            ]
          },
          "metadata": {
            "tags": []
          },
          "execution_count": 69
        }
      ]
    },
    {
      "cell_type": "code",
      "metadata": {
        "colab": {
          "base_uri": "https://localhost:8080/"
        },
        "id": "tjlI_ZhQMlIg",
        "outputId": "4f568665-3701-4182-a699-cfb1e3225e94"
      },
      "source": [
        "len(data1[0,:])"
      ],
      "execution_count": 72,
      "outputs": [
        {
          "output_type": "execute_result",
          "data": {
            "text/plain": [
              "2"
            ]
          },
          "metadata": {
            "tags": []
          },
          "execution_count": 72
        }
      ]
    },
    {
      "cell_type": "code",
      "metadata": {
        "id": "hdhdzddyKHiy"
      },
      "source": [
        "def eud_dist(pt1,pt2): #2 dims\n",
        "  return np.sqrt(np.power(pt1[0]-pt2[0],2) + np.power(pt1[1]-pt2[1],2))"
      ],
      "execution_count": 76,
      "outputs": []
    },
    {
      "cell_type": "code",
      "metadata": {
        "colab": {
          "base_uri": "https://localhost:8080/"
        },
        "id": "8hhyGtPkL2Sv",
        "outputId": "2a7c122b-a7ef-4f80-9d34-f6b3e1dab00e"
      },
      "source": [
        "eud_dist(data1[0,:],data1[1,:])"
      ],
      "execution_count": 77,
      "outputs": [
        {
          "output_type": "execute_result",
          "data": {
            "text/plain": [
              "3.605551275463989"
            ]
          },
          "metadata": {
            "tags": []
          },
          "execution_count": 77
        }
      ]
    },
    {
      "cell_type": "code",
      "metadata": {
        "id": "b6VnloG_MAKP"
      },
      "source": [
        "def eud_dist_n(pt1,pt2): #n dims\n",
        " sum = 0\n",
        " for i in range(len(pt1)):\n",
        "  sum = sum + np.power(pt1[i]-pt2[i],2)\n",
        " return np.sqrt(sum)"
      ],
      "execution_count": 84,
      "outputs": []
    },
    {
      "cell_type": "code",
      "metadata": {
        "colab": {
          "base_uri": "https://localhost:8080/"
        },
        "id": "UuDxLPpXM1vI",
        "outputId": "7c844640-b694-44fc-ab4c-330d1990306a"
      },
      "source": [
        "eud_dist_n(data1[1,:],data1[3,:])"
      ],
      "execution_count": 85,
      "outputs": [
        {
          "output_type": "execute_result",
          "data": {
            "text/plain": [
              "1.0"
            ]
          },
          "metadata": {
            "tags": []
          },
          "execution_count": 85
        }
      ]
    },
    {
      "cell_type": "markdown",
      "metadata": {
        "id": "Lig-fS1VOiVz"
      },
      "source": [
        "## Quiz 9\n",
        "\n",
        "เขียน function คำนวณ Manhattan Distance"
      ]
    },
    {
      "cell_type": "markdown",
      "metadata": {
        "id": "7R1DVxUsOL6Y"
      },
      "source": [
        "## Manhattan Distance"
      ]
    },
    {
      "cell_type": "code",
      "metadata": {
        "colab": {
          "base_uri": "https://localhost:8080/"
        },
        "id": "JogjfX3nQSYj",
        "outputId": "8d3d4d52-7d22-4ff3-c142-3a49d0c6b0e9"
      },
      "source": [
        "def Manh_dist_n(pt1, pt2):\n",
        "    sum =0\n",
        "    for i in range(len(pt1)):\n",
        "        sum = sum + np.sqrt(np.power(pt1[i]-pt2[i],2))\n",
        "    return sum\n",
        "\n",
        "Manh_dist_n(data1[0, :], data1[1, :])"
      ],
      "execution_count": 87,
      "outputs": [
        {
          "output_type": "execute_result",
          "data": {
            "text/plain": [
              "5.0"
            ]
          },
          "metadata": {
            "tags": []
          },
          "execution_count": 87
        }
      ]
    },
    {
      "cell_type": "code",
      "metadata": {
        "colab": {
          "base_uri": "https://localhost:8080/"
        },
        "id": "tgiFWW9OQfBn",
        "outputId": "b9fb0ce6-36f0-4dc5-b312-652126d2d55c"
      },
      "source": [
        "def Manh_dist_n(pt1, pt2):\n",
        "    sum =0\n",
        "    for i in range(len(pt1)):\n",
        "        sum = sum + np.absolute(pt1[i]-pt2[i],)\n",
        "    return sum\n",
        "\n",
        "Manh_dist_n(data1[0,:], data1[1,:])"
      ],
      "execution_count": 91,
      "outputs": [
        {
          "output_type": "execute_result",
          "data": {
            "text/plain": [
              "5"
            ]
          },
          "metadata": {
            "tags": []
          },
          "execution_count": 91
        }
      ]
    },
    {
      "cell_type": "code",
      "metadata": {
        "id": "4LGQNPrnSUG_"
      },
      "source": [
        ""
      ],
      "execution_count": null,
      "outputs": []
    }
  ]
}