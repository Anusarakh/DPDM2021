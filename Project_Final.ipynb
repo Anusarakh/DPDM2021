{
  "nbformat": 4,
  "nbformat_minor": 0,
  "metadata": {
    "colab": {
      "name": "Project_Final.ipynb",
      "provenance": [],
      "authorship_tag": "ABX9TyN0JCmJDTztjv4j9oi+WNxa",
      "include_colab_link": true
    },
    "kernelspec": {
      "name": "python3",
      "display_name": "Python 3"
    },
    "language_info": {
      "name": "python"
    }
  },
  "cells": [
    {
      "cell_type": "markdown",
      "metadata": {
        "id": "view-in-github",
        "colab_type": "text"
      },
      "source": [
        "<a href=\"https://colab.research.google.com/github/Anusarakh/DPDM2021/blob/main/Project_Final.ipynb\" target=\"_parent\"><img src=\"https://colab.research.google.com/assets/colab-badge.svg\" alt=\"Open In Colab\"/></a>"
      ]
    },
    {
      "cell_type": "markdown",
      "metadata": {
        "id": "v25ORGFDAQSM"
      },
      "source": [
        "# import data"
      ]
    },
    {
      "cell_type": "code",
      "metadata": {
        "id": "Yjv7Gzcr_9Hm"
      },
      "source": [
        "import pandas as pd\n"
      ],
      "execution_count": 136,
      "outputs": []
    },
    {
      "cell_type": "code",
      "metadata": {
        "colab": {
          "base_uri": "https://localhost:8080/"
        },
        "id": "Hf9D0k4SAI8g",
        "outputId": "c21761ff-189b-4b79-8aee-9dcb3cde3807"
      },
      "source": [
        "from google.colab import drive # เชื่อม google drive\n",
        "drive.mount('/content/drive')"
      ],
      "execution_count": 137,
      "outputs": [
        {
          "output_type": "stream",
          "name": "stdout",
          "text": [
            "Drive already mounted at /content/drive; to attempt to forcibly remount, call drive.mount(\"/content/drive\", force_remount=True).\n"
          ]
        }
      ]
    },
    {
      "cell_type": "code",
      "metadata": {
        "id": "0ePfgQY1ALut"
      },
      "source": [
        "import os"
      ],
      "execution_count": 138,
      "outputs": []
    },
    {
      "cell_type": "markdown",
      "metadata": {
        "id": "TguraOq7AZ9v"
      },
      "source": [
        "## ทำการ Visualization  ปริมาณคนตาย จากไวรัสโควิด 19 ในเกาหลีใต้"
      ]
    },
    {
      "cell_type": "code",
      "metadata": {
        "colab": {
          "base_uri": "https://localhost:8080/",
          "height": 502
        },
        "id": "ej1RsJcZAXPn",
        "outputId": "7657f4c1-6c7f-4144-c92e-deb448f239da"
      },
      "source": [
        "path = '/content/drive/My Drive/DPDM2021_DATA/Project/Covid-19_in_SouthKorea' # เรียกข้อมูลจาก Drive \n",
        "Patient = pd.read_csv(os.path.join(path,'PatientInfo.csv')) # ชื่อไฟล์ข้อมูล PatientInfo.csv\n",
        "Patient  # เรียกดูตาราง"
      ],
      "execution_count": 139,
      "outputs": [
        {
          "output_type": "execute_result",
          "data": {
            "text/html": [
              "<div>\n",
              "<style scoped>\n",
              "    .dataframe tbody tr th:only-of-type {\n",
              "        vertical-align: middle;\n",
              "    }\n",
              "\n",
              "    .dataframe tbody tr th {\n",
              "        vertical-align: top;\n",
              "    }\n",
              "\n",
              "    .dataframe thead th {\n",
              "        text-align: right;\n",
              "    }\n",
              "</style>\n",
              "<table border=\"1\" class=\"dataframe\">\n",
              "  <thead>\n",
              "    <tr style=\"text-align: right;\">\n",
              "      <th></th>\n",
              "      <th>patient_id</th>\n",
              "      <th>sex</th>\n",
              "      <th>age</th>\n",
              "      <th>country</th>\n",
              "      <th>province</th>\n",
              "      <th>city</th>\n",
              "      <th>infection_case</th>\n",
              "      <th>infected_by</th>\n",
              "      <th>contact_number</th>\n",
              "      <th>symptom_onset_date</th>\n",
              "      <th>confirmed_date</th>\n",
              "      <th>released_date</th>\n",
              "      <th>deceased_date</th>\n",
              "      <th>state</th>\n",
              "    </tr>\n",
              "  </thead>\n",
              "  <tbody>\n",
              "    <tr>\n",
              "      <th>0</th>\n",
              "      <td>1000000001</td>\n",
              "      <td>male</td>\n",
              "      <td>50s</td>\n",
              "      <td>Korea</td>\n",
              "      <td>Seoul</td>\n",
              "      <td>Gangseo-gu</td>\n",
              "      <td>overseas inflow</td>\n",
              "      <td>NaN</td>\n",
              "      <td>75</td>\n",
              "      <td>2020-01-22</td>\n",
              "      <td>2020-01-23</td>\n",
              "      <td>2020-02-05</td>\n",
              "      <td>NaN</td>\n",
              "      <td>released</td>\n",
              "    </tr>\n",
              "    <tr>\n",
              "      <th>1</th>\n",
              "      <td>1000000002</td>\n",
              "      <td>male</td>\n",
              "      <td>30s</td>\n",
              "      <td>Korea</td>\n",
              "      <td>Seoul</td>\n",
              "      <td>Jungnang-gu</td>\n",
              "      <td>overseas inflow</td>\n",
              "      <td>NaN</td>\n",
              "      <td>31</td>\n",
              "      <td>NaN</td>\n",
              "      <td>2020-01-30</td>\n",
              "      <td>2020-03-02</td>\n",
              "      <td>NaN</td>\n",
              "      <td>released</td>\n",
              "    </tr>\n",
              "    <tr>\n",
              "      <th>2</th>\n",
              "      <td>1000000003</td>\n",
              "      <td>male</td>\n",
              "      <td>50s</td>\n",
              "      <td>Korea</td>\n",
              "      <td>Seoul</td>\n",
              "      <td>Jongno-gu</td>\n",
              "      <td>contact with patient</td>\n",
              "      <td>2002000001</td>\n",
              "      <td>17</td>\n",
              "      <td>NaN</td>\n",
              "      <td>2020-01-30</td>\n",
              "      <td>2020-02-19</td>\n",
              "      <td>NaN</td>\n",
              "      <td>released</td>\n",
              "    </tr>\n",
              "    <tr>\n",
              "      <th>3</th>\n",
              "      <td>1000000004</td>\n",
              "      <td>male</td>\n",
              "      <td>20s</td>\n",
              "      <td>Korea</td>\n",
              "      <td>Seoul</td>\n",
              "      <td>Mapo-gu</td>\n",
              "      <td>overseas inflow</td>\n",
              "      <td>NaN</td>\n",
              "      <td>9</td>\n",
              "      <td>2020-01-26</td>\n",
              "      <td>2020-01-30</td>\n",
              "      <td>2020-02-15</td>\n",
              "      <td>NaN</td>\n",
              "      <td>released</td>\n",
              "    </tr>\n",
              "    <tr>\n",
              "      <th>4</th>\n",
              "      <td>1000000005</td>\n",
              "      <td>female</td>\n",
              "      <td>20s</td>\n",
              "      <td>Korea</td>\n",
              "      <td>Seoul</td>\n",
              "      <td>Seongbuk-gu</td>\n",
              "      <td>contact with patient</td>\n",
              "      <td>1000000002</td>\n",
              "      <td>2</td>\n",
              "      <td>NaN</td>\n",
              "      <td>2020-01-31</td>\n",
              "      <td>2020-02-24</td>\n",
              "      <td>NaN</td>\n",
              "      <td>released</td>\n",
              "    </tr>\n",
              "    <tr>\n",
              "      <th>...</th>\n",
              "      <td>...</td>\n",
              "      <td>...</td>\n",
              "      <td>...</td>\n",
              "      <td>...</td>\n",
              "      <td>...</td>\n",
              "      <td>...</td>\n",
              "      <td>...</td>\n",
              "      <td>...</td>\n",
              "      <td>...</td>\n",
              "      <td>...</td>\n",
              "      <td>...</td>\n",
              "      <td>...</td>\n",
              "      <td>...</td>\n",
              "      <td>...</td>\n",
              "    </tr>\n",
              "    <tr>\n",
              "      <th>5160</th>\n",
              "      <td>7000000015</td>\n",
              "      <td>female</td>\n",
              "      <td>30s</td>\n",
              "      <td>Korea</td>\n",
              "      <td>Jeju-do</td>\n",
              "      <td>Jeju-do</td>\n",
              "      <td>overseas inflow</td>\n",
              "      <td>NaN</td>\n",
              "      <td>25</td>\n",
              "      <td>NaN</td>\n",
              "      <td>2020-05-30</td>\n",
              "      <td>2020-06-13</td>\n",
              "      <td>NaN</td>\n",
              "      <td>released</td>\n",
              "    </tr>\n",
              "    <tr>\n",
              "      <th>5161</th>\n",
              "      <td>7000000016</td>\n",
              "      <td>NaN</td>\n",
              "      <td>NaN</td>\n",
              "      <td>Korea</td>\n",
              "      <td>Jeju-do</td>\n",
              "      <td>Jeju-do</td>\n",
              "      <td>overseas inflow</td>\n",
              "      <td>NaN</td>\n",
              "      <td>NaN</td>\n",
              "      <td>NaN</td>\n",
              "      <td>2020-06-16</td>\n",
              "      <td>2020-06-24</td>\n",
              "      <td>NaN</td>\n",
              "      <td>released</td>\n",
              "    </tr>\n",
              "    <tr>\n",
              "      <th>5162</th>\n",
              "      <td>7000000017</td>\n",
              "      <td>NaN</td>\n",
              "      <td>NaN</td>\n",
              "      <td>Bangladesh</td>\n",
              "      <td>Jeju-do</td>\n",
              "      <td>Jeju-do</td>\n",
              "      <td>overseas inflow</td>\n",
              "      <td>NaN</td>\n",
              "      <td>72</td>\n",
              "      <td>NaN</td>\n",
              "      <td>2020-06-18</td>\n",
              "      <td>NaN</td>\n",
              "      <td>NaN</td>\n",
              "      <td>isolated</td>\n",
              "    </tr>\n",
              "    <tr>\n",
              "      <th>5163</th>\n",
              "      <td>7000000018</td>\n",
              "      <td>NaN</td>\n",
              "      <td>NaN</td>\n",
              "      <td>Bangladesh</td>\n",
              "      <td>Jeju-do</td>\n",
              "      <td>Jeju-do</td>\n",
              "      <td>overseas inflow</td>\n",
              "      <td>NaN</td>\n",
              "      <td>NaN</td>\n",
              "      <td>NaN</td>\n",
              "      <td>2020-06-18</td>\n",
              "      <td>NaN</td>\n",
              "      <td>NaN</td>\n",
              "      <td>isolated</td>\n",
              "    </tr>\n",
              "    <tr>\n",
              "      <th>5164</th>\n",
              "      <td>7000000019</td>\n",
              "      <td>NaN</td>\n",
              "      <td>NaN</td>\n",
              "      <td>Bangladesh</td>\n",
              "      <td>Jeju-do</td>\n",
              "      <td>Jeju-do</td>\n",
              "      <td>overseas inflow</td>\n",
              "      <td>NaN</td>\n",
              "      <td>NaN</td>\n",
              "      <td>NaN</td>\n",
              "      <td>2020-06-18</td>\n",
              "      <td>NaN</td>\n",
              "      <td>NaN</td>\n",
              "      <td>isolated</td>\n",
              "    </tr>\n",
              "  </tbody>\n",
              "</table>\n",
              "<p>5165 rows × 14 columns</p>\n",
              "</div>"
            ],
            "text/plain": [
              "      patient_id     sex  age  ... released_date deceased_date     state\n",
              "0     1000000001    male  50s  ...    2020-02-05           NaN  released\n",
              "1     1000000002    male  30s  ...    2020-03-02           NaN  released\n",
              "2     1000000003    male  50s  ...    2020-02-19           NaN  released\n",
              "3     1000000004    male  20s  ...    2020-02-15           NaN  released\n",
              "4     1000000005  female  20s  ...    2020-02-24           NaN  released\n",
              "...          ...     ...  ...  ...           ...           ...       ...\n",
              "5160  7000000015  female  30s  ...    2020-06-13           NaN  released\n",
              "5161  7000000016     NaN  NaN  ...    2020-06-24           NaN  released\n",
              "5162  7000000017     NaN  NaN  ...           NaN           NaN  isolated\n",
              "5163  7000000018     NaN  NaN  ...           NaN           NaN  isolated\n",
              "5164  7000000019     NaN  NaN  ...           NaN           NaN  isolated\n",
              "\n",
              "[5165 rows x 14 columns]"
            ]
          },
          "metadata": {},
          "execution_count": 139
        }
      ]
    },
    {
      "cell_type": "markdown",
      "metadata": {
        "id": "gMUtb2xWA-sN"
      },
      "source": [
        "## ตรวจสอบค่า mising จากตาราง PatientInfo"
      ]
    },
    {
      "cell_type": "code",
      "metadata": {
        "colab": {
          "base_uri": "https://localhost:8080/"
        },
        "id": "as5otdRiAwuw",
        "outputId": "4edf6bc0-f3be-4810-8a03-ad3b772c67d4"
      },
      "source": [
        "Patient.isnull().any()"
      ],
      "execution_count": 140,
      "outputs": [
        {
          "output_type": "execute_result",
          "data": {
            "text/plain": [
              "patient_id            False\n",
              "sex                    True\n",
              "age                    True\n",
              "country               False\n",
              "province              False\n",
              "city                   True\n",
              "infection_case         True\n",
              "infected_by            True\n",
              "contact_number         True\n",
              "symptom_onset_date     True\n",
              "confirmed_date         True\n",
              "released_date          True\n",
              "deceased_date          True\n",
              "state                 False\n",
              "dtype: bool"
            ]
          },
          "metadata": {},
          "execution_count": 140
        }
      ]
    },
    {
      "cell_type": "markdown",
      "metadata": {
        "id": "J_I-6vWGBous"
      },
      "source": [
        "## แทนค่า missing ในตัวแปรที่สนใจ"
      ]
    },
    {
      "cell_type": "code",
      "metadata": {
        "colab": {
          "base_uri": "https://localhost:8080/",
          "height": 35
        },
        "id": "TEqbotZ8BVmW",
        "outputId": "30d087d1-0da1-4352-e107-3a9966c06c0a"
      },
      "source": [
        "Patient[['sex']].dropna().mode().iloc[0,0] # แทนค่า missing ด้วยค่า mode"
      ],
      "execution_count": 141,
      "outputs": [
        {
          "output_type": "execute_result",
          "data": {
            "application/vnd.google.colaboratory.intrinsic+json": {
              "type": "string"
            },
            "text/plain": [
              "'female'"
            ]
          },
          "metadata": {},
          "execution_count": 141
        }
      ]
    },
    {
      "cell_type": "code",
      "metadata": {
        "id": "IApKmNMsBr-2"
      },
      "source": [
        "Patient[['sex']] = Patient[['sex']].fillna(Patient[['sex']].dropna().mode().iloc[0,0])  # แทนค่า missing ด้วยค่า mod  เนื่องจากข้อมูลเชิงคุณภาพ"
      ],
      "execution_count": 142,
      "outputs": []
    },
    {
      "cell_type": "code",
      "metadata": {
        "colab": {
          "base_uri": "https://localhost:8080/",
          "height": 35
        },
        "id": "e36Fy2GBBvw3",
        "outputId": "64c2f653-59db-4b4c-d2e9-1d83f5771c51"
      },
      "source": [
        "Patient[['age']].dropna().mode().iloc[0,0]"
      ],
      "execution_count": 143,
      "outputs": [
        {
          "output_type": "execute_result",
          "data": {
            "application/vnd.google.colaboratory.intrinsic+json": {
              "type": "string"
            },
            "text/plain": [
              "'20s'"
            ]
          },
          "metadata": {},
          "execution_count": 143
        }
      ]
    },
    {
      "cell_type": "code",
      "metadata": {
        "id": "3YS3mMFQB55t"
      },
      "source": [
        "Patient[['age']] = Patient[['age']].fillna(Patient[['age']].dropna().mode().iloc[0,0])  # แทนค่า missing ด้วยค่า mod  เนื่องจากข้อมูลเชิงคุณภาพ"
      ],
      "execution_count": 144,
      "outputs": []
    },
    {
      "cell_type": "code",
      "metadata": {
        "colab": {
          "base_uri": "https://localhost:8080/",
          "height": 35
        },
        "id": "gkamdcEFCAu0",
        "outputId": "4f4d9374-e0ee-4526-f254-05fccfb44b2a"
      },
      "source": [
        "Patient[['city']].dropna().mode().iloc[0,0]"
      ],
      "execution_count": 145,
      "outputs": [
        {
          "output_type": "execute_result",
          "data": {
            "application/vnd.google.colaboratory.intrinsic+json": {
              "type": "string"
            },
            "text/plain": [
              "'Gyeongsan-si'"
            ]
          },
          "metadata": {},
          "execution_count": 145
        }
      ]
    },
    {
      "cell_type": "code",
      "metadata": {
        "id": "Y4tFHQ8_CH75"
      },
      "source": [
        "Patient[['city']] = Patient[['city']].fillna(Patient[['city']].dropna().mode().iloc[0,0])  # แทนค่า missing ด้วยค่า mod  เนื่องจากข้อมูลเชิงคุณภาพ"
      ],
      "execution_count": 146,
      "outputs": []
    },
    {
      "cell_type": "code",
      "metadata": {
        "colab": {
          "base_uri": "https://localhost:8080/",
          "height": 35
        },
        "id": "jf3g3GCfCYY3",
        "outputId": "822be2ee-949d-4ebc-bb4e-cacd5d9f9218"
      },
      "source": [
        "Patient[['infection_case']].dropna().mode().iloc[0,0]"
      ],
      "execution_count": 147,
      "outputs": [
        {
          "output_type": "execute_result",
          "data": {
            "application/vnd.google.colaboratory.intrinsic+json": {
              "type": "string"
            },
            "text/plain": [
              "'contact with patient'"
            ]
          },
          "metadata": {},
          "execution_count": 147
        }
      ]
    },
    {
      "cell_type": "code",
      "metadata": {
        "id": "emmVO1zRCfPe"
      },
      "source": [
        "Patient[['infection_case']] = Patient[['infection_case']].fillna(Patient[['infection_case']].dropna().mode().iloc[0,0])  # แทนค่า missing ด้วยค่า mod  เนื่องจากข้อมูลเชิงคุณภาพ"
      ],
      "execution_count": 148,
      "outputs": []
    },
    {
      "cell_type": "code",
      "metadata": {
        "colab": {
          "base_uri": "https://localhost:8080/",
          "height": 502
        },
        "id": "KjRLNpx8DLp2",
        "outputId": "a6ae9caf-a19c-441a-f29f-c15f641e8a37"
      },
      "source": [
        "Patient"
      ],
      "execution_count": 149,
      "outputs": [
        {
          "output_type": "execute_result",
          "data": {
            "text/html": [
              "<div>\n",
              "<style scoped>\n",
              "    .dataframe tbody tr th:only-of-type {\n",
              "        vertical-align: middle;\n",
              "    }\n",
              "\n",
              "    .dataframe tbody tr th {\n",
              "        vertical-align: top;\n",
              "    }\n",
              "\n",
              "    .dataframe thead th {\n",
              "        text-align: right;\n",
              "    }\n",
              "</style>\n",
              "<table border=\"1\" class=\"dataframe\">\n",
              "  <thead>\n",
              "    <tr style=\"text-align: right;\">\n",
              "      <th></th>\n",
              "      <th>patient_id</th>\n",
              "      <th>sex</th>\n",
              "      <th>age</th>\n",
              "      <th>country</th>\n",
              "      <th>province</th>\n",
              "      <th>city</th>\n",
              "      <th>infection_case</th>\n",
              "      <th>infected_by</th>\n",
              "      <th>contact_number</th>\n",
              "      <th>symptom_onset_date</th>\n",
              "      <th>confirmed_date</th>\n",
              "      <th>released_date</th>\n",
              "      <th>deceased_date</th>\n",
              "      <th>state</th>\n",
              "    </tr>\n",
              "  </thead>\n",
              "  <tbody>\n",
              "    <tr>\n",
              "      <th>0</th>\n",
              "      <td>1000000001</td>\n",
              "      <td>male</td>\n",
              "      <td>50s</td>\n",
              "      <td>Korea</td>\n",
              "      <td>Seoul</td>\n",
              "      <td>Gangseo-gu</td>\n",
              "      <td>overseas inflow</td>\n",
              "      <td>NaN</td>\n",
              "      <td>75</td>\n",
              "      <td>2020-01-22</td>\n",
              "      <td>2020-01-23</td>\n",
              "      <td>2020-02-05</td>\n",
              "      <td>NaN</td>\n",
              "      <td>released</td>\n",
              "    </tr>\n",
              "    <tr>\n",
              "      <th>1</th>\n",
              "      <td>1000000002</td>\n",
              "      <td>male</td>\n",
              "      <td>30s</td>\n",
              "      <td>Korea</td>\n",
              "      <td>Seoul</td>\n",
              "      <td>Jungnang-gu</td>\n",
              "      <td>overseas inflow</td>\n",
              "      <td>NaN</td>\n",
              "      <td>31</td>\n",
              "      <td>NaN</td>\n",
              "      <td>2020-01-30</td>\n",
              "      <td>2020-03-02</td>\n",
              "      <td>NaN</td>\n",
              "      <td>released</td>\n",
              "    </tr>\n",
              "    <tr>\n",
              "      <th>2</th>\n",
              "      <td>1000000003</td>\n",
              "      <td>male</td>\n",
              "      <td>50s</td>\n",
              "      <td>Korea</td>\n",
              "      <td>Seoul</td>\n",
              "      <td>Jongno-gu</td>\n",
              "      <td>contact with patient</td>\n",
              "      <td>2002000001</td>\n",
              "      <td>17</td>\n",
              "      <td>NaN</td>\n",
              "      <td>2020-01-30</td>\n",
              "      <td>2020-02-19</td>\n",
              "      <td>NaN</td>\n",
              "      <td>released</td>\n",
              "    </tr>\n",
              "    <tr>\n",
              "      <th>3</th>\n",
              "      <td>1000000004</td>\n",
              "      <td>male</td>\n",
              "      <td>20s</td>\n",
              "      <td>Korea</td>\n",
              "      <td>Seoul</td>\n",
              "      <td>Mapo-gu</td>\n",
              "      <td>overseas inflow</td>\n",
              "      <td>NaN</td>\n",
              "      <td>9</td>\n",
              "      <td>2020-01-26</td>\n",
              "      <td>2020-01-30</td>\n",
              "      <td>2020-02-15</td>\n",
              "      <td>NaN</td>\n",
              "      <td>released</td>\n",
              "    </tr>\n",
              "    <tr>\n",
              "      <th>4</th>\n",
              "      <td>1000000005</td>\n",
              "      <td>female</td>\n",
              "      <td>20s</td>\n",
              "      <td>Korea</td>\n",
              "      <td>Seoul</td>\n",
              "      <td>Seongbuk-gu</td>\n",
              "      <td>contact with patient</td>\n",
              "      <td>1000000002</td>\n",
              "      <td>2</td>\n",
              "      <td>NaN</td>\n",
              "      <td>2020-01-31</td>\n",
              "      <td>2020-02-24</td>\n",
              "      <td>NaN</td>\n",
              "      <td>released</td>\n",
              "    </tr>\n",
              "    <tr>\n",
              "      <th>...</th>\n",
              "      <td>...</td>\n",
              "      <td>...</td>\n",
              "      <td>...</td>\n",
              "      <td>...</td>\n",
              "      <td>...</td>\n",
              "      <td>...</td>\n",
              "      <td>...</td>\n",
              "      <td>...</td>\n",
              "      <td>...</td>\n",
              "      <td>...</td>\n",
              "      <td>...</td>\n",
              "      <td>...</td>\n",
              "      <td>...</td>\n",
              "      <td>...</td>\n",
              "    </tr>\n",
              "    <tr>\n",
              "      <th>5160</th>\n",
              "      <td>7000000015</td>\n",
              "      <td>female</td>\n",
              "      <td>30s</td>\n",
              "      <td>Korea</td>\n",
              "      <td>Jeju-do</td>\n",
              "      <td>Jeju-do</td>\n",
              "      <td>overseas inflow</td>\n",
              "      <td>NaN</td>\n",
              "      <td>25</td>\n",
              "      <td>NaN</td>\n",
              "      <td>2020-05-30</td>\n",
              "      <td>2020-06-13</td>\n",
              "      <td>NaN</td>\n",
              "      <td>released</td>\n",
              "    </tr>\n",
              "    <tr>\n",
              "      <th>5161</th>\n",
              "      <td>7000000016</td>\n",
              "      <td>female</td>\n",
              "      <td>20s</td>\n",
              "      <td>Korea</td>\n",
              "      <td>Jeju-do</td>\n",
              "      <td>Jeju-do</td>\n",
              "      <td>overseas inflow</td>\n",
              "      <td>NaN</td>\n",
              "      <td>NaN</td>\n",
              "      <td>NaN</td>\n",
              "      <td>2020-06-16</td>\n",
              "      <td>2020-06-24</td>\n",
              "      <td>NaN</td>\n",
              "      <td>released</td>\n",
              "    </tr>\n",
              "    <tr>\n",
              "      <th>5162</th>\n",
              "      <td>7000000017</td>\n",
              "      <td>female</td>\n",
              "      <td>20s</td>\n",
              "      <td>Bangladesh</td>\n",
              "      <td>Jeju-do</td>\n",
              "      <td>Jeju-do</td>\n",
              "      <td>overseas inflow</td>\n",
              "      <td>NaN</td>\n",
              "      <td>72</td>\n",
              "      <td>NaN</td>\n",
              "      <td>2020-06-18</td>\n",
              "      <td>NaN</td>\n",
              "      <td>NaN</td>\n",
              "      <td>isolated</td>\n",
              "    </tr>\n",
              "    <tr>\n",
              "      <th>5163</th>\n",
              "      <td>7000000018</td>\n",
              "      <td>female</td>\n",
              "      <td>20s</td>\n",
              "      <td>Bangladesh</td>\n",
              "      <td>Jeju-do</td>\n",
              "      <td>Jeju-do</td>\n",
              "      <td>overseas inflow</td>\n",
              "      <td>NaN</td>\n",
              "      <td>NaN</td>\n",
              "      <td>NaN</td>\n",
              "      <td>2020-06-18</td>\n",
              "      <td>NaN</td>\n",
              "      <td>NaN</td>\n",
              "      <td>isolated</td>\n",
              "    </tr>\n",
              "    <tr>\n",
              "      <th>5164</th>\n",
              "      <td>7000000019</td>\n",
              "      <td>female</td>\n",
              "      <td>20s</td>\n",
              "      <td>Bangladesh</td>\n",
              "      <td>Jeju-do</td>\n",
              "      <td>Jeju-do</td>\n",
              "      <td>overseas inflow</td>\n",
              "      <td>NaN</td>\n",
              "      <td>NaN</td>\n",
              "      <td>NaN</td>\n",
              "      <td>2020-06-18</td>\n",
              "      <td>NaN</td>\n",
              "      <td>NaN</td>\n",
              "      <td>isolated</td>\n",
              "    </tr>\n",
              "  </tbody>\n",
              "</table>\n",
              "<p>5165 rows × 14 columns</p>\n",
              "</div>"
            ],
            "text/plain": [
              "      patient_id     sex  age  ... released_date deceased_date     state\n",
              "0     1000000001    male  50s  ...    2020-02-05           NaN  released\n",
              "1     1000000002    male  30s  ...    2020-03-02           NaN  released\n",
              "2     1000000003    male  50s  ...    2020-02-19           NaN  released\n",
              "3     1000000004    male  20s  ...    2020-02-15           NaN  released\n",
              "4     1000000005  female  20s  ...    2020-02-24           NaN  released\n",
              "...          ...     ...  ...  ...           ...           ...       ...\n",
              "5160  7000000015  female  30s  ...    2020-06-13           NaN  released\n",
              "5161  7000000016  female  20s  ...    2020-06-24           NaN  released\n",
              "5162  7000000017  female  20s  ...           NaN           NaN  isolated\n",
              "5163  7000000018  female  20s  ...           NaN           NaN  isolated\n",
              "5164  7000000019  female  20s  ...           NaN           NaN  isolated\n",
              "\n",
              "[5165 rows x 14 columns]"
            ]
          },
          "metadata": {},
          "execution_count": 149
        }
      ]
    },
    {
      "cell_type": "code",
      "metadata": {
        "colab": {
          "base_uri": "https://localhost:8080/"
        },
        "id": "np-NatpLDQcz",
        "outputId": "a6278e91-0a8e-4a3e-bf7f-6f8f6478c952"
      },
      "source": [
        "Patient.isnull().any()"
      ],
      "execution_count": 150,
      "outputs": [
        {
          "output_type": "execute_result",
          "data": {
            "text/plain": [
              "patient_id            False\n",
              "sex                   False\n",
              "age                   False\n",
              "country               False\n",
              "province              False\n",
              "city                  False\n",
              "infection_case        False\n",
              "infected_by            True\n",
              "contact_number         True\n",
              "symptom_onset_date     True\n",
              "confirmed_date         True\n",
              "released_date          True\n",
              "deceased_date          True\n",
              "state                 False\n",
              "dtype: bool"
            ]
          },
          "metadata": {},
          "execution_count": 150
        }
      ]
    },
    {
      "cell_type": "markdown",
      "metadata": {
        "id": "the_aetGQtQV"
      },
      "source": [
        "### ตรวจสอบจำนวนข้อมูล "
      ]
    },
    {
      "cell_type": "code",
      "metadata": {
        "colab": {
          "base_uri": "https://localhost:8080/"
        },
        "id": "ln_XbmqSQpg0",
        "outputId": "42e1c2b1-6a18-4d0d-a974-8e9920944f9a"
      },
      "source": [
        "Patient.shape"
      ],
      "execution_count": 151,
      "outputs": [
        {
          "output_type": "execute_result",
          "data": {
            "text/plain": [
              "(5165, 14)"
            ]
          },
          "metadata": {},
          "execution_count": 151
        }
      ]
    },
    {
      "cell_type": "markdown",
      "metadata": {
        "id": "wL6xTzyDDgJ4"
      },
      "source": [
        "## ตรวจสอบค่า ในคอลัมล์  deceased_date"
      ]
    },
    {
      "cell_type": "code",
      "metadata": {
        "colab": {
          "base_uri": "https://localhost:8080/"
        },
        "id": "N4dFGPg1Cj9G",
        "outputId": "4e187eac-ef3b-46bd-e523-bc90db525bee"
      },
      "source": [
        "(set(Patient['deceased_date']))"
      ],
      "execution_count": 152,
      "outputs": [
        {
          "output_type": "execute_result",
          "data": {
            "text/plain": [
              "{'2020-02-19',\n",
              " '2020-02-21',\n",
              " '2020-02-23',\n",
              " '2020-02-24',\n",
              " '2020-02-25',\n",
              " '2020-02-26',\n",
              " '2020-02-27',\n",
              " '2020-03-01',\n",
              " '2020-03-02',\n",
              " '2020-03-03',\n",
              " '2020-03-04',\n",
              " '2020-03-05',\n",
              " '2020-03-06',\n",
              " '2020-03-07',\n",
              " '2020-03-08',\n",
              " '2020-03-09',\n",
              " '2020-03-11',\n",
              " '2020-03-16',\n",
              " '2020-03-18',\n",
              " '2020-03-20',\n",
              " '2020-03-22',\n",
              " '2020-03-24',\n",
              " '2020-03-25',\n",
              " '2020-03-26',\n",
              " '2020-03-27',\n",
              " '2020-03-29',\n",
              " '2020-03-31',\n",
              " '2020-04-02',\n",
              " '2020-04-03',\n",
              " '2020-04-05',\n",
              " '2020-04-06',\n",
              " '2020-04-08',\n",
              " '2020-04-09',\n",
              " '2020-04-11',\n",
              " '2020-04-18',\n",
              " '2020-04-22',\n",
              " '2020-05-02',\n",
              " '2020-05-11',\n",
              " '2020-05-25',\n",
              " nan}"
            ]
          },
          "metadata": {},
          "execution_count": 152
        }
      ]
    },
    {
      "cell_type": "markdown",
      "metadata": {
        "id": "XGBxEJRMDtPl"
      },
      "source": [
        "## Vizualization  จำนวนผูเสียชีวิตของผู้ติดเชื้อโควิด 19 ในประเทศเกาหลีใต้ จำแนกดังนี้\n",
        "1.กลุ่มอายุ\n",
        "\n",
        "2.เพศ\n",
        "\n",
        "3.สาเหตุหารติดเชื้อ\n",
        "\n",
        "4.เมือง"
      ]
    },
    {
      "cell_type": "markdown",
      "metadata": {
        "id": "Bk_sRkBZEWwJ"
      },
      "source": [
        "### ทำการเลือกคอลัมล์ที่สนใจ มาทำการ Vizualization"
      ]
    },
    {
      "cell_type": "code",
      "metadata": {
        "colab": {
          "base_uri": "https://localhost:8080/",
          "height": 415
        },
        "id": "hnI-lUUgEWA8",
        "outputId": "fbb0bdea-56ee-4c94-ed47-75e5e447fb41"
      },
      "source": [
        "Patient_data = Patient[['patient_id','sex','age','city','infection_case','deceased_date']] # ชี้ตาราง เพื่อเลือกข้อมูลที่สนใจ\n",
        "Patient_data # ตารางที่ยังไม่แนค่า 0 และ 1 ใน จำนวนผู้เสียชีวต (คอลัมล์ deceased_date)"
      ],
      "execution_count": 153,
      "outputs": [
        {
          "output_type": "execute_result",
          "data": {
            "text/html": [
              "<div>\n",
              "<style scoped>\n",
              "    .dataframe tbody tr th:only-of-type {\n",
              "        vertical-align: middle;\n",
              "    }\n",
              "\n",
              "    .dataframe tbody tr th {\n",
              "        vertical-align: top;\n",
              "    }\n",
              "\n",
              "    .dataframe thead th {\n",
              "        text-align: right;\n",
              "    }\n",
              "</style>\n",
              "<table border=\"1\" class=\"dataframe\">\n",
              "  <thead>\n",
              "    <tr style=\"text-align: right;\">\n",
              "      <th></th>\n",
              "      <th>patient_id</th>\n",
              "      <th>sex</th>\n",
              "      <th>age</th>\n",
              "      <th>city</th>\n",
              "      <th>infection_case</th>\n",
              "      <th>deceased_date</th>\n",
              "    </tr>\n",
              "  </thead>\n",
              "  <tbody>\n",
              "    <tr>\n",
              "      <th>0</th>\n",
              "      <td>1000000001</td>\n",
              "      <td>male</td>\n",
              "      <td>50s</td>\n",
              "      <td>Gangseo-gu</td>\n",
              "      <td>overseas inflow</td>\n",
              "      <td>NaN</td>\n",
              "    </tr>\n",
              "    <tr>\n",
              "      <th>1</th>\n",
              "      <td>1000000002</td>\n",
              "      <td>male</td>\n",
              "      <td>30s</td>\n",
              "      <td>Jungnang-gu</td>\n",
              "      <td>overseas inflow</td>\n",
              "      <td>NaN</td>\n",
              "    </tr>\n",
              "    <tr>\n",
              "      <th>2</th>\n",
              "      <td>1000000003</td>\n",
              "      <td>male</td>\n",
              "      <td>50s</td>\n",
              "      <td>Jongno-gu</td>\n",
              "      <td>contact with patient</td>\n",
              "      <td>NaN</td>\n",
              "    </tr>\n",
              "    <tr>\n",
              "      <th>3</th>\n",
              "      <td>1000000004</td>\n",
              "      <td>male</td>\n",
              "      <td>20s</td>\n",
              "      <td>Mapo-gu</td>\n",
              "      <td>overseas inflow</td>\n",
              "      <td>NaN</td>\n",
              "    </tr>\n",
              "    <tr>\n",
              "      <th>4</th>\n",
              "      <td>1000000005</td>\n",
              "      <td>female</td>\n",
              "      <td>20s</td>\n",
              "      <td>Seongbuk-gu</td>\n",
              "      <td>contact with patient</td>\n",
              "      <td>NaN</td>\n",
              "    </tr>\n",
              "    <tr>\n",
              "      <th>...</th>\n",
              "      <td>...</td>\n",
              "      <td>...</td>\n",
              "      <td>...</td>\n",
              "      <td>...</td>\n",
              "      <td>...</td>\n",
              "      <td>...</td>\n",
              "    </tr>\n",
              "    <tr>\n",
              "      <th>5160</th>\n",
              "      <td>7000000015</td>\n",
              "      <td>female</td>\n",
              "      <td>30s</td>\n",
              "      <td>Jeju-do</td>\n",
              "      <td>overseas inflow</td>\n",
              "      <td>NaN</td>\n",
              "    </tr>\n",
              "    <tr>\n",
              "      <th>5161</th>\n",
              "      <td>7000000016</td>\n",
              "      <td>female</td>\n",
              "      <td>20s</td>\n",
              "      <td>Jeju-do</td>\n",
              "      <td>overseas inflow</td>\n",
              "      <td>NaN</td>\n",
              "    </tr>\n",
              "    <tr>\n",
              "      <th>5162</th>\n",
              "      <td>7000000017</td>\n",
              "      <td>female</td>\n",
              "      <td>20s</td>\n",
              "      <td>Jeju-do</td>\n",
              "      <td>overseas inflow</td>\n",
              "      <td>NaN</td>\n",
              "    </tr>\n",
              "    <tr>\n",
              "      <th>5163</th>\n",
              "      <td>7000000018</td>\n",
              "      <td>female</td>\n",
              "      <td>20s</td>\n",
              "      <td>Jeju-do</td>\n",
              "      <td>overseas inflow</td>\n",
              "      <td>NaN</td>\n",
              "    </tr>\n",
              "    <tr>\n",
              "      <th>5164</th>\n",
              "      <td>7000000019</td>\n",
              "      <td>female</td>\n",
              "      <td>20s</td>\n",
              "      <td>Jeju-do</td>\n",
              "      <td>overseas inflow</td>\n",
              "      <td>NaN</td>\n",
              "    </tr>\n",
              "  </tbody>\n",
              "</table>\n",
              "<p>5165 rows × 6 columns</p>\n",
              "</div>"
            ],
            "text/plain": [
              "      patient_id     sex  age         city        infection_case deceased_date\n",
              "0     1000000001    male  50s   Gangseo-gu       overseas inflow           NaN\n",
              "1     1000000002    male  30s  Jungnang-gu       overseas inflow           NaN\n",
              "2     1000000003    male  50s    Jongno-gu  contact with patient           NaN\n",
              "3     1000000004    male  20s      Mapo-gu       overseas inflow           NaN\n",
              "4     1000000005  female  20s  Seongbuk-gu  contact with patient           NaN\n",
              "...          ...     ...  ...          ...                   ...           ...\n",
              "5160  7000000015  female  30s      Jeju-do       overseas inflow           NaN\n",
              "5161  7000000016  female  20s      Jeju-do       overseas inflow           NaN\n",
              "5162  7000000017  female  20s      Jeju-do       overseas inflow           NaN\n",
              "5163  7000000018  female  20s      Jeju-do       overseas inflow           NaN\n",
              "5164  7000000019  female  20s      Jeju-do       overseas inflow           NaN\n",
              "\n",
              "[5165 rows x 6 columns]"
            ]
          },
          "metadata": {},
          "execution_count": 153
        }
      ]
    },
    {
      "cell_type": "code",
      "metadata": {
        "colab": {
          "base_uri": "https://localhost:8080/"
        },
        "id": "juiEpRsPC6LH",
        "outputId": "ff5262d3-faea-4cc4-b71f-fa5840f65997"
      },
      "source": [
        "Patient_data.isnull().any()"
      ],
      "execution_count": 154,
      "outputs": [
        {
          "output_type": "execute_result",
          "data": {
            "text/plain": [
              "patient_id        False\n",
              "sex               False\n",
              "age               False\n",
              "city              False\n",
              "infection_case    False\n",
              "deceased_date      True\n",
              "dtype: bool"
            ]
          },
          "metadata": {},
          "execution_count": 154
        }
      ]
    },
    {
      "cell_type": "code",
      "metadata": {
        "colab": {
          "base_uri": "https://localhost:8080/",
          "height": 415
        },
        "id": "1idbUAKBeB91",
        "outputId": "8271a390-e5a0-4f98-e3ba-b44e3aff5670"
      },
      "source": [
        "Patient_data"
      ],
      "execution_count": 155,
      "outputs": [
        {
          "output_type": "execute_result",
          "data": {
            "text/html": [
              "<div>\n",
              "<style scoped>\n",
              "    .dataframe tbody tr th:only-of-type {\n",
              "        vertical-align: middle;\n",
              "    }\n",
              "\n",
              "    .dataframe tbody tr th {\n",
              "        vertical-align: top;\n",
              "    }\n",
              "\n",
              "    .dataframe thead th {\n",
              "        text-align: right;\n",
              "    }\n",
              "</style>\n",
              "<table border=\"1\" class=\"dataframe\">\n",
              "  <thead>\n",
              "    <tr style=\"text-align: right;\">\n",
              "      <th></th>\n",
              "      <th>patient_id</th>\n",
              "      <th>sex</th>\n",
              "      <th>age</th>\n",
              "      <th>city</th>\n",
              "      <th>infection_case</th>\n",
              "      <th>deceased_date</th>\n",
              "    </tr>\n",
              "  </thead>\n",
              "  <tbody>\n",
              "    <tr>\n",
              "      <th>0</th>\n",
              "      <td>1000000001</td>\n",
              "      <td>male</td>\n",
              "      <td>50s</td>\n",
              "      <td>Gangseo-gu</td>\n",
              "      <td>overseas inflow</td>\n",
              "      <td>NaN</td>\n",
              "    </tr>\n",
              "    <tr>\n",
              "      <th>1</th>\n",
              "      <td>1000000002</td>\n",
              "      <td>male</td>\n",
              "      <td>30s</td>\n",
              "      <td>Jungnang-gu</td>\n",
              "      <td>overseas inflow</td>\n",
              "      <td>NaN</td>\n",
              "    </tr>\n",
              "    <tr>\n",
              "      <th>2</th>\n",
              "      <td>1000000003</td>\n",
              "      <td>male</td>\n",
              "      <td>50s</td>\n",
              "      <td>Jongno-gu</td>\n",
              "      <td>contact with patient</td>\n",
              "      <td>NaN</td>\n",
              "    </tr>\n",
              "    <tr>\n",
              "      <th>3</th>\n",
              "      <td>1000000004</td>\n",
              "      <td>male</td>\n",
              "      <td>20s</td>\n",
              "      <td>Mapo-gu</td>\n",
              "      <td>overseas inflow</td>\n",
              "      <td>NaN</td>\n",
              "    </tr>\n",
              "    <tr>\n",
              "      <th>4</th>\n",
              "      <td>1000000005</td>\n",
              "      <td>female</td>\n",
              "      <td>20s</td>\n",
              "      <td>Seongbuk-gu</td>\n",
              "      <td>contact with patient</td>\n",
              "      <td>NaN</td>\n",
              "    </tr>\n",
              "    <tr>\n",
              "      <th>...</th>\n",
              "      <td>...</td>\n",
              "      <td>...</td>\n",
              "      <td>...</td>\n",
              "      <td>...</td>\n",
              "      <td>...</td>\n",
              "      <td>...</td>\n",
              "    </tr>\n",
              "    <tr>\n",
              "      <th>5160</th>\n",
              "      <td>7000000015</td>\n",
              "      <td>female</td>\n",
              "      <td>30s</td>\n",
              "      <td>Jeju-do</td>\n",
              "      <td>overseas inflow</td>\n",
              "      <td>NaN</td>\n",
              "    </tr>\n",
              "    <tr>\n",
              "      <th>5161</th>\n",
              "      <td>7000000016</td>\n",
              "      <td>female</td>\n",
              "      <td>20s</td>\n",
              "      <td>Jeju-do</td>\n",
              "      <td>overseas inflow</td>\n",
              "      <td>NaN</td>\n",
              "    </tr>\n",
              "    <tr>\n",
              "      <th>5162</th>\n",
              "      <td>7000000017</td>\n",
              "      <td>female</td>\n",
              "      <td>20s</td>\n",
              "      <td>Jeju-do</td>\n",
              "      <td>overseas inflow</td>\n",
              "      <td>NaN</td>\n",
              "    </tr>\n",
              "    <tr>\n",
              "      <th>5163</th>\n",
              "      <td>7000000018</td>\n",
              "      <td>female</td>\n",
              "      <td>20s</td>\n",
              "      <td>Jeju-do</td>\n",
              "      <td>overseas inflow</td>\n",
              "      <td>NaN</td>\n",
              "    </tr>\n",
              "    <tr>\n",
              "      <th>5164</th>\n",
              "      <td>7000000019</td>\n",
              "      <td>female</td>\n",
              "      <td>20s</td>\n",
              "      <td>Jeju-do</td>\n",
              "      <td>overseas inflow</td>\n",
              "      <td>NaN</td>\n",
              "    </tr>\n",
              "  </tbody>\n",
              "</table>\n",
              "<p>5165 rows × 6 columns</p>\n",
              "</div>"
            ],
            "text/plain": [
              "      patient_id     sex  age         city        infection_case deceased_date\n",
              "0     1000000001    male  50s   Gangseo-gu       overseas inflow           NaN\n",
              "1     1000000002    male  30s  Jungnang-gu       overseas inflow           NaN\n",
              "2     1000000003    male  50s    Jongno-gu  contact with patient           NaN\n",
              "3     1000000004    male  20s      Mapo-gu       overseas inflow           NaN\n",
              "4     1000000005  female  20s  Seongbuk-gu  contact with patient           NaN\n",
              "...          ...     ...  ...          ...                   ...           ...\n",
              "5160  7000000015  female  30s      Jeju-do       overseas inflow           NaN\n",
              "5161  7000000016  female  20s      Jeju-do       overseas inflow           NaN\n",
              "5162  7000000017  female  20s      Jeju-do       overseas inflow           NaN\n",
              "5163  7000000018  female  20s      Jeju-do       overseas inflow           NaN\n",
              "5164  7000000019  female  20s      Jeju-do       overseas inflow           NaN\n",
              "\n",
              "[5165 rows x 6 columns]"
            ]
          },
          "metadata": {},
          "execution_count": 155
        }
      ]
    },
    {
      "cell_type": "markdown",
      "metadata": {
        "id": "FpSAZqErGSGN"
      },
      "source": [
        "### แทนความหมาย การเสียชีวิตและไม่เสียชีวิต ใน คอลัมล์ deceased_date\n",
        "\n",
        "* 0 = ไม่เสียชีวิต แทนใน NaN\n",
        "\n",
        "* 1 = เสียชีวิต แทนในค่า date หรือ row ที่แสดงวันที่ "
      ]
    },
    {
      "cell_type": "code",
      "metadata": {
        "colab": {
          "base_uri": "https://localhost:8080/"
        },
        "id": "oKJ3y31FTYTR",
        "outputId": "2aa8ea0d-ac6e-4de5-dbad-0c2aaff94302"
      },
      "source": [
        "Patient_data['deceased_date'] = Patient_data['deceased_date'].fillna(0)"
      ],
      "execution_count": 159,
      "outputs": [
        {
          "output_type": "stream",
          "name": "stderr",
          "text": [
            "/usr/local/lib/python3.7/dist-packages/ipykernel_launcher.py:1: SettingWithCopyWarning: \n",
            "A value is trying to be set on a copy of a slice from a DataFrame.\n",
            "Try using .loc[row_indexer,col_indexer] = value instead\n",
            "\n",
            "See the caveats in the documentation: https://pandas.pydata.org/pandas-docs/stable/user_guide/indexing.html#returning-a-view-versus-a-copy\n",
            "  \"\"\"Entry point for launching an IPython kernel.\n"
          ]
        }
      ]
    },
    {
      "cell_type": "code",
      "metadata": {
        "colab": {
          "base_uri": "https://localhost:8080/",
          "height": 415
        },
        "id": "DgTrZUgMVegM",
        "outputId": "1b500243-1dd4-4f9f-a525-17d64afe9a90"
      },
      "source": [
        "Patient_data"
      ],
      "execution_count": 160,
      "outputs": [
        {
          "output_type": "execute_result",
          "data": {
            "text/html": [
              "<div>\n",
              "<style scoped>\n",
              "    .dataframe tbody tr th:only-of-type {\n",
              "        vertical-align: middle;\n",
              "    }\n",
              "\n",
              "    .dataframe tbody tr th {\n",
              "        vertical-align: top;\n",
              "    }\n",
              "\n",
              "    .dataframe thead th {\n",
              "        text-align: right;\n",
              "    }\n",
              "</style>\n",
              "<table border=\"1\" class=\"dataframe\">\n",
              "  <thead>\n",
              "    <tr style=\"text-align: right;\">\n",
              "      <th></th>\n",
              "      <th>patient_id</th>\n",
              "      <th>sex</th>\n",
              "      <th>age</th>\n",
              "      <th>city</th>\n",
              "      <th>infection_case</th>\n",
              "      <th>deceased_date</th>\n",
              "    </tr>\n",
              "  </thead>\n",
              "  <tbody>\n",
              "    <tr>\n",
              "      <th>0</th>\n",
              "      <td>1000000001</td>\n",
              "      <td>male</td>\n",
              "      <td>50s</td>\n",
              "      <td>Gangseo-gu</td>\n",
              "      <td>overseas inflow</td>\n",
              "      <td>0</td>\n",
              "    </tr>\n",
              "    <tr>\n",
              "      <th>1</th>\n",
              "      <td>1000000002</td>\n",
              "      <td>male</td>\n",
              "      <td>30s</td>\n",
              "      <td>Jungnang-gu</td>\n",
              "      <td>overseas inflow</td>\n",
              "      <td>0</td>\n",
              "    </tr>\n",
              "    <tr>\n",
              "      <th>2</th>\n",
              "      <td>1000000003</td>\n",
              "      <td>male</td>\n",
              "      <td>50s</td>\n",
              "      <td>Jongno-gu</td>\n",
              "      <td>contact with patient</td>\n",
              "      <td>0</td>\n",
              "    </tr>\n",
              "    <tr>\n",
              "      <th>3</th>\n",
              "      <td>1000000004</td>\n",
              "      <td>male</td>\n",
              "      <td>20s</td>\n",
              "      <td>Mapo-gu</td>\n",
              "      <td>overseas inflow</td>\n",
              "      <td>0</td>\n",
              "    </tr>\n",
              "    <tr>\n",
              "      <th>4</th>\n",
              "      <td>1000000005</td>\n",
              "      <td>female</td>\n",
              "      <td>20s</td>\n",
              "      <td>Seongbuk-gu</td>\n",
              "      <td>contact with patient</td>\n",
              "      <td>0</td>\n",
              "    </tr>\n",
              "    <tr>\n",
              "      <th>...</th>\n",
              "      <td>...</td>\n",
              "      <td>...</td>\n",
              "      <td>...</td>\n",
              "      <td>...</td>\n",
              "      <td>...</td>\n",
              "      <td>...</td>\n",
              "    </tr>\n",
              "    <tr>\n",
              "      <th>5160</th>\n",
              "      <td>7000000015</td>\n",
              "      <td>female</td>\n",
              "      <td>30s</td>\n",
              "      <td>Jeju-do</td>\n",
              "      <td>overseas inflow</td>\n",
              "      <td>0</td>\n",
              "    </tr>\n",
              "    <tr>\n",
              "      <th>5161</th>\n",
              "      <td>7000000016</td>\n",
              "      <td>female</td>\n",
              "      <td>20s</td>\n",
              "      <td>Jeju-do</td>\n",
              "      <td>overseas inflow</td>\n",
              "      <td>0</td>\n",
              "    </tr>\n",
              "    <tr>\n",
              "      <th>5162</th>\n",
              "      <td>7000000017</td>\n",
              "      <td>female</td>\n",
              "      <td>20s</td>\n",
              "      <td>Jeju-do</td>\n",
              "      <td>overseas inflow</td>\n",
              "      <td>0</td>\n",
              "    </tr>\n",
              "    <tr>\n",
              "      <th>5163</th>\n",
              "      <td>7000000018</td>\n",
              "      <td>female</td>\n",
              "      <td>20s</td>\n",
              "      <td>Jeju-do</td>\n",
              "      <td>overseas inflow</td>\n",
              "      <td>0</td>\n",
              "    </tr>\n",
              "    <tr>\n",
              "      <th>5164</th>\n",
              "      <td>7000000019</td>\n",
              "      <td>female</td>\n",
              "      <td>20s</td>\n",
              "      <td>Jeju-do</td>\n",
              "      <td>overseas inflow</td>\n",
              "      <td>0</td>\n",
              "    </tr>\n",
              "  </tbody>\n",
              "</table>\n",
              "<p>5165 rows × 6 columns</p>\n",
              "</div>"
            ],
            "text/plain": [
              "      patient_id     sex  age         city        infection_case deceased_date\n",
              "0     1000000001    male  50s   Gangseo-gu       overseas inflow             0\n",
              "1     1000000002    male  30s  Jungnang-gu       overseas inflow             0\n",
              "2     1000000003    male  50s    Jongno-gu  contact with patient             0\n",
              "3     1000000004    male  20s      Mapo-gu       overseas inflow             0\n",
              "4     1000000005  female  20s  Seongbuk-gu  contact with patient             0\n",
              "...          ...     ...  ...          ...                   ...           ...\n",
              "5160  7000000015  female  30s      Jeju-do       overseas inflow             0\n",
              "5161  7000000016  female  20s      Jeju-do       overseas inflow             0\n",
              "5162  7000000017  female  20s      Jeju-do       overseas inflow             0\n",
              "5163  7000000018  female  20s      Jeju-do       overseas inflow             0\n",
              "5164  7000000019  female  20s      Jeju-do       overseas inflow             0\n",
              "\n",
              "[5165 rows x 6 columns]"
            ]
          },
          "metadata": {},
          "execution_count": 160
        }
      ]
    },
    {
      "cell_type": "code",
      "metadata": {
        "colab": {
          "base_uri": "https://localhost:8080/"
        },
        "id": "f_eM-PaLd1Il",
        "outputId": "c6fc49c4-ef63-4124-c6ef-8787544ac257"
      },
      "source": [
        "set(Patient_data['deceased_date'])"
      ],
      "execution_count": 158,
      "outputs": [
        {
          "output_type": "execute_result",
          "data": {
            "text/plain": [
              "{0,\n",
              " '2020-02-19',\n",
              " '2020-02-21',\n",
              " '2020-02-23',\n",
              " '2020-02-24',\n",
              " '2020-02-25',\n",
              " '2020-02-26',\n",
              " '2020-02-27',\n",
              " '2020-03-01',\n",
              " '2020-03-02',\n",
              " '2020-03-03',\n",
              " '2020-03-04',\n",
              " '2020-03-05',\n",
              " '2020-03-06',\n",
              " '2020-03-07',\n",
              " '2020-03-08',\n",
              " '2020-03-09',\n",
              " '2020-03-11',\n",
              " '2020-03-16',\n",
              " '2020-03-18',\n",
              " '2020-03-20',\n",
              " '2020-03-22',\n",
              " '2020-03-24',\n",
              " '2020-03-25',\n",
              " '2020-03-26',\n",
              " '2020-03-27',\n",
              " '2020-03-29',\n",
              " '2020-03-31',\n",
              " '2020-04-02',\n",
              " '2020-04-03',\n",
              " '2020-04-05',\n",
              " '2020-04-06',\n",
              " '2020-04-08',\n",
              " '2020-04-09',\n",
              " '2020-04-11',\n",
              " '2020-04-18',\n",
              " '2020-04-22',\n",
              " '2020-05-02',\n",
              " '2020-05-11',\n",
              " '2020-05-25'}"
            ]
          },
          "metadata": {},
          "execution_count": 158
        }
      ]
    },
    {
      "cell_type": "code",
      "metadata": {
        "id": "ImrGimtigB6J"
      },
      "source": [
        "dw_mapping={'2020-02-19':1, '2020-02-21':1, '2020-02-23':1, '2020-02-24':1, '2020-02-25':1, '2020-02-26':1, '2020-02-27':1, '2020-03-01':1, '2020-03-02':1\n",
        "            ,'2020-03-03':1, '2020-03-04':1,'2020-03-05':1,'2020-03-06':1,'2020-03-07':1,'2020-03-08':1,'2020-03-09':1,'2020-03-11':1\n",
        "            ,'2020-03-16':1,'2020-03-18':1,'2020-03-20':1,'2020-03-22':1,'2020-03-24':1,'2020-03-25':1,'2020-03-26':1,'2020-03-27':1,'2020-03-29':1\n",
        "            ,'2020-03-31':1,'2020-04-02':1,'2020-04-03':1,'2020-04-05':1,'2020-04-06':1,'2020-04-08':1,'2020-04-09':1,'2020-04-11':1,'2020-04-18':1,'2020-04-22':1\n",
        "            ,'2020-05-02':1,'2020-05-11':1,'2020-05-25':1}"
      ],
      "execution_count": 161,
      "outputs": []
    },
    {
      "cell_type": "code",
      "metadata": {
        "colab": {
          "base_uri": "https://localhost:8080/"
        },
        "id": "YuUUNQfqhd_9",
        "outputId": "eb8aa710-c3d2-4db9-fed0-61b5e22ebb36"
      },
      "source": [
        "Patient_data['deceased_date']=Patient_data['deceased_date'].map(dw_mapping)"
      ],
      "execution_count": 162,
      "outputs": [
        {
          "output_type": "stream",
          "name": "stderr",
          "text": [
            "/usr/local/lib/python3.7/dist-packages/ipykernel_launcher.py:1: SettingWithCopyWarning: \n",
            "A value is trying to be set on a copy of a slice from a DataFrame.\n",
            "Try using .loc[row_indexer,col_indexer] = value instead\n",
            "\n",
            "See the caveats in the documentation: https://pandas.pydata.org/pandas-docs/stable/user_guide/indexing.html#returning-a-view-versus-a-copy\n",
            "  \"\"\"Entry point for launching an IPython kernel.\n"
          ]
        }
      ]
    },
    {
      "cell_type": "code",
      "metadata": {
        "colab": {
          "base_uri": "https://localhost:8080/",
          "height": 415
        },
        "id": "HF2Dk8JIho9d",
        "outputId": "8014cb94-51ed-482a-9507-7d2b4b35ab62"
      },
      "source": [
        "Patient_data"
      ],
      "execution_count": 163,
      "outputs": [
        {
          "output_type": "execute_result",
          "data": {
            "text/html": [
              "<div>\n",
              "<style scoped>\n",
              "    .dataframe tbody tr th:only-of-type {\n",
              "        vertical-align: middle;\n",
              "    }\n",
              "\n",
              "    .dataframe tbody tr th {\n",
              "        vertical-align: top;\n",
              "    }\n",
              "\n",
              "    .dataframe thead th {\n",
              "        text-align: right;\n",
              "    }\n",
              "</style>\n",
              "<table border=\"1\" class=\"dataframe\">\n",
              "  <thead>\n",
              "    <tr style=\"text-align: right;\">\n",
              "      <th></th>\n",
              "      <th>patient_id</th>\n",
              "      <th>sex</th>\n",
              "      <th>age</th>\n",
              "      <th>city</th>\n",
              "      <th>infection_case</th>\n",
              "      <th>deceased_date</th>\n",
              "    </tr>\n",
              "  </thead>\n",
              "  <tbody>\n",
              "    <tr>\n",
              "      <th>0</th>\n",
              "      <td>1000000001</td>\n",
              "      <td>male</td>\n",
              "      <td>50s</td>\n",
              "      <td>Gangseo-gu</td>\n",
              "      <td>overseas inflow</td>\n",
              "      <td>NaN</td>\n",
              "    </tr>\n",
              "    <tr>\n",
              "      <th>1</th>\n",
              "      <td>1000000002</td>\n",
              "      <td>male</td>\n",
              "      <td>30s</td>\n",
              "      <td>Jungnang-gu</td>\n",
              "      <td>overseas inflow</td>\n",
              "      <td>NaN</td>\n",
              "    </tr>\n",
              "    <tr>\n",
              "      <th>2</th>\n",
              "      <td>1000000003</td>\n",
              "      <td>male</td>\n",
              "      <td>50s</td>\n",
              "      <td>Jongno-gu</td>\n",
              "      <td>contact with patient</td>\n",
              "      <td>NaN</td>\n",
              "    </tr>\n",
              "    <tr>\n",
              "      <th>3</th>\n",
              "      <td>1000000004</td>\n",
              "      <td>male</td>\n",
              "      <td>20s</td>\n",
              "      <td>Mapo-gu</td>\n",
              "      <td>overseas inflow</td>\n",
              "      <td>NaN</td>\n",
              "    </tr>\n",
              "    <tr>\n",
              "      <th>4</th>\n",
              "      <td>1000000005</td>\n",
              "      <td>female</td>\n",
              "      <td>20s</td>\n",
              "      <td>Seongbuk-gu</td>\n",
              "      <td>contact with patient</td>\n",
              "      <td>NaN</td>\n",
              "    </tr>\n",
              "    <tr>\n",
              "      <th>...</th>\n",
              "      <td>...</td>\n",
              "      <td>...</td>\n",
              "      <td>...</td>\n",
              "      <td>...</td>\n",
              "      <td>...</td>\n",
              "      <td>...</td>\n",
              "    </tr>\n",
              "    <tr>\n",
              "      <th>5160</th>\n",
              "      <td>7000000015</td>\n",
              "      <td>female</td>\n",
              "      <td>30s</td>\n",
              "      <td>Jeju-do</td>\n",
              "      <td>overseas inflow</td>\n",
              "      <td>NaN</td>\n",
              "    </tr>\n",
              "    <tr>\n",
              "      <th>5161</th>\n",
              "      <td>7000000016</td>\n",
              "      <td>female</td>\n",
              "      <td>20s</td>\n",
              "      <td>Jeju-do</td>\n",
              "      <td>overseas inflow</td>\n",
              "      <td>NaN</td>\n",
              "    </tr>\n",
              "    <tr>\n",
              "      <th>5162</th>\n",
              "      <td>7000000017</td>\n",
              "      <td>female</td>\n",
              "      <td>20s</td>\n",
              "      <td>Jeju-do</td>\n",
              "      <td>overseas inflow</td>\n",
              "      <td>NaN</td>\n",
              "    </tr>\n",
              "    <tr>\n",
              "      <th>5163</th>\n",
              "      <td>7000000018</td>\n",
              "      <td>female</td>\n",
              "      <td>20s</td>\n",
              "      <td>Jeju-do</td>\n",
              "      <td>overseas inflow</td>\n",
              "      <td>NaN</td>\n",
              "    </tr>\n",
              "    <tr>\n",
              "      <th>5164</th>\n",
              "      <td>7000000019</td>\n",
              "      <td>female</td>\n",
              "      <td>20s</td>\n",
              "      <td>Jeju-do</td>\n",
              "      <td>overseas inflow</td>\n",
              "      <td>NaN</td>\n",
              "    </tr>\n",
              "  </tbody>\n",
              "</table>\n",
              "<p>5165 rows × 6 columns</p>\n",
              "</div>"
            ],
            "text/plain": [
              "      patient_id     sex  age         city        infection_case  deceased_date\n",
              "0     1000000001    male  50s   Gangseo-gu       overseas inflow            NaN\n",
              "1     1000000002    male  30s  Jungnang-gu       overseas inflow            NaN\n",
              "2     1000000003    male  50s    Jongno-gu  contact with patient            NaN\n",
              "3     1000000004    male  20s      Mapo-gu       overseas inflow            NaN\n",
              "4     1000000005  female  20s  Seongbuk-gu  contact with patient            NaN\n",
              "...          ...     ...  ...          ...                   ...            ...\n",
              "5160  7000000015  female  30s      Jeju-do       overseas inflow            NaN\n",
              "5161  7000000016  female  20s      Jeju-do       overseas inflow            NaN\n",
              "5162  7000000017  female  20s      Jeju-do       overseas inflow            NaN\n",
              "5163  7000000018  female  20s      Jeju-do       overseas inflow            NaN\n",
              "5164  7000000019  female  20s      Jeju-do       overseas inflow            NaN\n",
              "\n",
              "[5165 rows x 6 columns]"
            ]
          },
          "metadata": {},
          "execution_count": 163
        }
      ]
    },
    {
      "cell_type": "code",
      "metadata": {
        "colab": {
          "base_uri": "https://localhost:8080/"
        },
        "id": "_pLf40ZbhrH0",
        "outputId": "ee53d94c-63fd-4deb-8027-4631e873b777"
      },
      "source": [
        "Patient_data['deceased_date'] = Patient_data['deceased_date'].fillna(0)"
      ],
      "execution_count": 164,
      "outputs": [
        {
          "output_type": "stream",
          "name": "stderr",
          "text": [
            "/usr/local/lib/python3.7/dist-packages/ipykernel_launcher.py:1: SettingWithCopyWarning: \n",
            "A value is trying to be set on a copy of a slice from a DataFrame.\n",
            "Try using .loc[row_indexer,col_indexer] = value instead\n",
            "\n",
            "See the caveats in the documentation: https://pandas.pydata.org/pandas-docs/stable/user_guide/indexing.html#returning-a-view-versus-a-copy\n",
            "  \"\"\"Entry point for launching an IPython kernel.\n"
          ]
        }
      ]
    },
    {
      "cell_type": "code",
      "metadata": {
        "colab": {
          "base_uri": "https://localhost:8080/",
          "height": 415
        },
        "id": "ClnHdJEKhvlj",
        "outputId": "6b89da5d-a9ba-42c4-b38d-fb276a939a8f"
      },
      "source": [
        "Patient_data"
      ],
      "execution_count": 165,
      "outputs": [
        {
          "output_type": "execute_result",
          "data": {
            "text/html": [
              "<div>\n",
              "<style scoped>\n",
              "    .dataframe tbody tr th:only-of-type {\n",
              "        vertical-align: middle;\n",
              "    }\n",
              "\n",
              "    .dataframe tbody tr th {\n",
              "        vertical-align: top;\n",
              "    }\n",
              "\n",
              "    .dataframe thead th {\n",
              "        text-align: right;\n",
              "    }\n",
              "</style>\n",
              "<table border=\"1\" class=\"dataframe\">\n",
              "  <thead>\n",
              "    <tr style=\"text-align: right;\">\n",
              "      <th></th>\n",
              "      <th>patient_id</th>\n",
              "      <th>sex</th>\n",
              "      <th>age</th>\n",
              "      <th>city</th>\n",
              "      <th>infection_case</th>\n",
              "      <th>deceased_date</th>\n",
              "    </tr>\n",
              "  </thead>\n",
              "  <tbody>\n",
              "    <tr>\n",
              "      <th>0</th>\n",
              "      <td>1000000001</td>\n",
              "      <td>male</td>\n",
              "      <td>50s</td>\n",
              "      <td>Gangseo-gu</td>\n",
              "      <td>overseas inflow</td>\n",
              "      <td>0.0</td>\n",
              "    </tr>\n",
              "    <tr>\n",
              "      <th>1</th>\n",
              "      <td>1000000002</td>\n",
              "      <td>male</td>\n",
              "      <td>30s</td>\n",
              "      <td>Jungnang-gu</td>\n",
              "      <td>overseas inflow</td>\n",
              "      <td>0.0</td>\n",
              "    </tr>\n",
              "    <tr>\n",
              "      <th>2</th>\n",
              "      <td>1000000003</td>\n",
              "      <td>male</td>\n",
              "      <td>50s</td>\n",
              "      <td>Jongno-gu</td>\n",
              "      <td>contact with patient</td>\n",
              "      <td>0.0</td>\n",
              "    </tr>\n",
              "    <tr>\n",
              "      <th>3</th>\n",
              "      <td>1000000004</td>\n",
              "      <td>male</td>\n",
              "      <td>20s</td>\n",
              "      <td>Mapo-gu</td>\n",
              "      <td>overseas inflow</td>\n",
              "      <td>0.0</td>\n",
              "    </tr>\n",
              "    <tr>\n",
              "      <th>4</th>\n",
              "      <td>1000000005</td>\n",
              "      <td>female</td>\n",
              "      <td>20s</td>\n",
              "      <td>Seongbuk-gu</td>\n",
              "      <td>contact with patient</td>\n",
              "      <td>0.0</td>\n",
              "    </tr>\n",
              "    <tr>\n",
              "      <th>...</th>\n",
              "      <td>...</td>\n",
              "      <td>...</td>\n",
              "      <td>...</td>\n",
              "      <td>...</td>\n",
              "      <td>...</td>\n",
              "      <td>...</td>\n",
              "    </tr>\n",
              "    <tr>\n",
              "      <th>5160</th>\n",
              "      <td>7000000015</td>\n",
              "      <td>female</td>\n",
              "      <td>30s</td>\n",
              "      <td>Jeju-do</td>\n",
              "      <td>overseas inflow</td>\n",
              "      <td>0.0</td>\n",
              "    </tr>\n",
              "    <tr>\n",
              "      <th>5161</th>\n",
              "      <td>7000000016</td>\n",
              "      <td>female</td>\n",
              "      <td>20s</td>\n",
              "      <td>Jeju-do</td>\n",
              "      <td>overseas inflow</td>\n",
              "      <td>0.0</td>\n",
              "    </tr>\n",
              "    <tr>\n",
              "      <th>5162</th>\n",
              "      <td>7000000017</td>\n",
              "      <td>female</td>\n",
              "      <td>20s</td>\n",
              "      <td>Jeju-do</td>\n",
              "      <td>overseas inflow</td>\n",
              "      <td>0.0</td>\n",
              "    </tr>\n",
              "    <tr>\n",
              "      <th>5163</th>\n",
              "      <td>7000000018</td>\n",
              "      <td>female</td>\n",
              "      <td>20s</td>\n",
              "      <td>Jeju-do</td>\n",
              "      <td>overseas inflow</td>\n",
              "      <td>0.0</td>\n",
              "    </tr>\n",
              "    <tr>\n",
              "      <th>5164</th>\n",
              "      <td>7000000019</td>\n",
              "      <td>female</td>\n",
              "      <td>20s</td>\n",
              "      <td>Jeju-do</td>\n",
              "      <td>overseas inflow</td>\n",
              "      <td>0.0</td>\n",
              "    </tr>\n",
              "  </tbody>\n",
              "</table>\n",
              "<p>5165 rows × 6 columns</p>\n",
              "</div>"
            ],
            "text/plain": [
              "      patient_id     sex  age         city        infection_case  deceased_date\n",
              "0     1000000001    male  50s   Gangseo-gu       overseas inflow            0.0\n",
              "1     1000000002    male  30s  Jungnang-gu       overseas inflow            0.0\n",
              "2     1000000003    male  50s    Jongno-gu  contact with patient            0.0\n",
              "3     1000000004    male  20s      Mapo-gu       overseas inflow            0.0\n",
              "4     1000000005  female  20s  Seongbuk-gu  contact with patient            0.0\n",
              "...          ...     ...  ...          ...                   ...            ...\n",
              "5160  7000000015  female  30s      Jeju-do       overseas inflow            0.0\n",
              "5161  7000000016  female  20s      Jeju-do       overseas inflow            0.0\n",
              "5162  7000000017  female  20s      Jeju-do       overseas inflow            0.0\n",
              "5163  7000000018  female  20s      Jeju-do       overseas inflow            0.0\n",
              "5164  7000000019  female  20s      Jeju-do       overseas inflow            0.0\n",
              "\n",
              "[5165 rows x 6 columns]"
            ]
          },
          "metadata": {},
          "execution_count": 165
        }
      ]
    },
    {
      "cell_type": "code",
      "metadata": {
        "colab": {
          "base_uri": "https://localhost:8080/"
        },
        "id": "njbj-lDwhxPL",
        "outputId": "4347caf4-7cca-4d7c-f0a3-23cd4673cac7"
      },
      "source": [
        "set(Patient_data['deceased_date'])"
      ],
      "execution_count": 166,
      "outputs": [
        {
          "output_type": "execute_result",
          "data": {
            "text/plain": [
              "{0.0, 1.0}"
            ]
          },
          "metadata": {},
          "execution_count": 166
        }
      ]
    },
    {
      "cell_type": "markdown",
      "metadata": {
        "id": "3ThXs064iIc0"
      },
      "source": [
        "### เลือกผู้ที่เสียชีวิดจาก colum  deceased_date = 1.0"
      ]
    },
    {
      "cell_type": "code",
      "metadata": {
        "colab": {
          "base_uri": "https://localhost:8080/",
          "height": 415
        },
        "id": "jntTkfwKh0fU",
        "outputId": "59aba1d5-3c2b-4cfa-d368-10ac648d0302"
      },
      "source": [
        "deceased = Patient_data[Patient_data['deceased_date']==1.0] \n",
        "deceased"
      ],
      "execution_count": 168,
      "outputs": [
        {
          "output_type": "execute_result",
          "data": {
            "text/html": [
              "<div>\n",
              "<style scoped>\n",
              "    .dataframe tbody tr th:only-of-type {\n",
              "        vertical-align: middle;\n",
              "    }\n",
              "\n",
              "    .dataframe tbody tr th {\n",
              "        vertical-align: top;\n",
              "    }\n",
              "\n",
              "    .dataframe thead th {\n",
              "        text-align: right;\n",
              "    }\n",
              "</style>\n",
              "<table border=\"1\" class=\"dataframe\">\n",
              "  <thead>\n",
              "    <tr style=\"text-align: right;\">\n",
              "      <th></th>\n",
              "      <th>patient_id</th>\n",
              "      <th>sex</th>\n",
              "      <th>age</th>\n",
              "      <th>city</th>\n",
              "      <th>infection_case</th>\n",
              "      <th>deceased_date</th>\n",
              "    </tr>\n",
              "  </thead>\n",
              "  <tbody>\n",
              "    <tr>\n",
              "      <th>1468</th>\n",
              "      <td>1200000038</td>\n",
              "      <td>female</td>\n",
              "      <td>50s</td>\n",
              "      <td>Nam-gu</td>\n",
              "      <td>contact with patient</td>\n",
              "      <td>1.0</td>\n",
              "    </tr>\n",
              "    <tr>\n",
              "      <th>1507</th>\n",
              "      <td>1200000114</td>\n",
              "      <td>male</td>\n",
              "      <td>70s</td>\n",
              "      <td>Gyeongsan-si</td>\n",
              "      <td>Shincheonji Church</td>\n",
              "      <td>1.0</td>\n",
              "    </tr>\n",
              "    <tr>\n",
              "      <th>1508</th>\n",
              "      <td>1200000620</td>\n",
              "      <td>male</td>\n",
              "      <td>70s</td>\n",
              "      <td>Gyeongsan-si</td>\n",
              "      <td>contact with patient</td>\n",
              "      <td>1.0</td>\n",
              "    </tr>\n",
              "    <tr>\n",
              "      <th>1509</th>\n",
              "      <td>1200000901</td>\n",
              "      <td>female</td>\n",
              "      <td>80s</td>\n",
              "      <td>Gyeongsan-si</td>\n",
              "      <td>contact with patient</td>\n",
              "      <td>1.0</td>\n",
              "    </tr>\n",
              "    <tr>\n",
              "      <th>1510</th>\n",
              "      <td>1200001064</td>\n",
              "      <td>female</td>\n",
              "      <td>70s</td>\n",
              "      <td>Gyeongsan-si</td>\n",
              "      <td>contact with patient</td>\n",
              "      <td>1.0</td>\n",
              "    </tr>\n",
              "    <tr>\n",
              "      <th>...</th>\n",
              "      <td>...</td>\n",
              "      <td>...</td>\n",
              "      <td>...</td>\n",
              "      <td>...</td>\n",
              "      <td>...</td>\n",
              "      <td>...</td>\n",
              "    </tr>\n",
              "    <tr>\n",
              "      <th>4902</th>\n",
              "      <td>6020100104</td>\n",
              "      <td>male</td>\n",
              "      <td>60s</td>\n",
              "      <td>Cheongdo-gun</td>\n",
              "      <td>Cheongdo Daenam Hospital</td>\n",
              "      <td>1.0</td>\n",
              "    </tr>\n",
              "    <tr>\n",
              "      <th>4903</th>\n",
              "      <td>6020100107</td>\n",
              "      <td>male</td>\n",
              "      <td>60s</td>\n",
              "      <td>Cheongdo-gun</td>\n",
              "      <td>Cheongdo Daenam Hospital</td>\n",
              "      <td>1.0</td>\n",
              "    </tr>\n",
              "    <tr>\n",
              "      <th>4904</th>\n",
              "      <td>6020100205</td>\n",
              "      <td>female</td>\n",
              "      <td>50s</td>\n",
              "      <td>Cheongdo-gun</td>\n",
              "      <td>Cheongdo Daenam Hospital</td>\n",
              "      <td>1.0</td>\n",
              "    </tr>\n",
              "    <tr>\n",
              "      <th>4905</th>\n",
              "      <td>6020100286</td>\n",
              "      <td>male</td>\n",
              "      <td>60s</td>\n",
              "      <td>Cheongdo-gun</td>\n",
              "      <td>Cheongdo Daenam Hospital</td>\n",
              "      <td>1.0</td>\n",
              "    </tr>\n",
              "    <tr>\n",
              "      <th>4906</th>\n",
              "      <td>6020100298</td>\n",
              "      <td>male</td>\n",
              "      <td>50s</td>\n",
              "      <td>Cheongdo-gun</td>\n",
              "      <td>Cheongdo Daenam Hospital</td>\n",
              "      <td>1.0</td>\n",
              "    </tr>\n",
              "  </tbody>\n",
              "</table>\n",
              "<p>66 rows × 6 columns</p>\n",
              "</div>"
            ],
            "text/plain": [
              "      patient_id     sex  ...            infection_case deceased_date\n",
              "1468  1200000038  female  ...      contact with patient           1.0\n",
              "1507  1200000114    male  ...        Shincheonji Church           1.0\n",
              "1508  1200000620    male  ...      contact with patient           1.0\n",
              "1509  1200000901  female  ...      contact with patient           1.0\n",
              "1510  1200001064  female  ...      contact with patient           1.0\n",
              "...          ...     ...  ...                       ...           ...\n",
              "4902  6020100104    male  ...  Cheongdo Daenam Hospital           1.0\n",
              "4903  6020100107    male  ...  Cheongdo Daenam Hospital           1.0\n",
              "4904  6020100205  female  ...  Cheongdo Daenam Hospital           1.0\n",
              "4905  6020100286    male  ...  Cheongdo Daenam Hospital           1.0\n",
              "4906  6020100298    male  ...  Cheongdo Daenam Hospital           1.0\n",
              "\n",
              "[66 rows x 6 columns]"
            ]
          },
          "metadata": {},
          "execution_count": 168
        }
      ]
    },
    {
      "cell_type": "code",
      "metadata": {
        "colab": {
          "base_uri": "https://localhost:8080/"
        },
        "id": "7xWLKTEklpJv",
        "outputId": "846bf508-8142-4a0d-ad63-3aa0cfb5052e"
      },
      "source": [
        "set(Patient_data['infection_case'])"
      ],
      "execution_count": 183,
      "outputs": [
        {
          "output_type": "execute_result",
          "data": {
            "text/plain": [
              "{'Anyang Gunpo Pastors Group',\n",
              " 'Biblical Language study meeting',\n",
              " 'Bonghwa Pureun Nursing Home',\n",
              " 'Changnyeong Coin Karaoke',\n",
              " 'Cheongdo Daenam Hospital',\n",
              " 'Coupang Logistics Center',\n",
              " 'Daejeon door-to-door sales',\n",
              " 'Daezayeon Korea',\n",
              " 'Day Care Center',\n",
              " 'Dongan Church',\n",
              " 'Dunsan Electronics Town',\n",
              " \"Eunpyeong St. Mary's Hospital\",\n",
              " 'Gangnam Dongin Church',\n",
              " 'Gangnam Yeoksam-dong gathering',\n",
              " 'Geochang Church',\n",
              " 'Geumcheon-gu rice milling machine manufacture',\n",
              " 'Guri Collective Infection',\n",
              " 'Guro-gu Call Center',\n",
              " 'Gyeongsan Cham Joeun Community Center',\n",
              " 'Gyeongsan Jeil Silver Town',\n",
              " 'Gyeongsan Seorin Nursing Home',\n",
              " 'Itaewon Clubs',\n",
              " 'KB Life Insurance',\n",
              " 'Korea Campus Crusade of Christ',\n",
              " 'Milal Shelter',\n",
              " 'Ministry of Oceans and Fisheries',\n",
              " 'Onchun Church',\n",
              " 'Orange Life',\n",
              " 'Orange Town',\n",
              " 'Pilgrimage to Israel',\n",
              " 'Richway',\n",
              " 'River of Grace Community Church',\n",
              " 'SMR Newly Planted Churches Group',\n",
              " 'Samsung Fire & Marine Insurance',\n",
              " 'Samsung Medical Center',\n",
              " 'Seocho Family',\n",
              " 'Seongdong-gu APT',\n",
              " 'Seoul City Hall Station safety worker',\n",
              " 'Shincheonji Church',\n",
              " 'Suyeong-gu Kindergarten',\n",
              " 'Uiwang Logistics Center',\n",
              " 'Wangsung Church',\n",
              " 'Yangcheon Table Tennis Club',\n",
              " 'Yeonana News Class',\n",
              " 'Yeongdeungpo Learning Institute',\n",
              " 'Yongin Brothers',\n",
              " 'contact with patient',\n",
              " 'etc',\n",
              " 'gym facility in Cheonan',\n",
              " 'gym facility in Sejong',\n",
              " 'overseas inflow'}"
            ]
          },
          "metadata": {},
          "execution_count": 183
        }
      ]
    },
    {
      "cell_type": "markdown",
      "metadata": {
        "id": "ix3Z_4lnjHd7"
      },
      "source": [
        "### จำนวนผู้ที่เสียชีวิต"
      ]
    },
    {
      "cell_type": "code",
      "metadata": {
        "colab": {
          "base_uri": "https://localhost:8080/"
        },
        "id": "5F6Ms90fjEZA",
        "outputId": "59cfba39-2446-408f-b357-0de98dc299bb"
      },
      "source": [
        "deceased.shape"
      ],
      "execution_count": 170,
      "outputs": [
        {
          "output_type": "execute_result",
          "data": {
            "text/plain": [
              "(66, 6)"
            ]
          },
          "metadata": {},
          "execution_count": 170
        }
      ]
    },
    {
      "cell_type": "markdown",
      "metadata": {
        "id": "1eZTF-efjOl8"
      },
      "source": [
        "### จำนวนผู้เสียชีวิต จำแนกตามอายุของผู้ติดเชื้อโควิด"
      ]
    },
    {
      "cell_type": "code",
      "metadata": {
        "colab": {
          "base_uri": "https://localhost:8080/",
          "height": 233
        },
        "id": "IRFX04O5in97",
        "outputId": "a487c704-3931-40cf-b851-383a08069c5d"
      },
      "source": [
        "deceased_age = deceased.groupby('age').count().sort_values(by=['deceased_date'],ascending=False).reset_index() # groupby กลุ่มอายุ\n",
        "deceased_age = deceased_age[['age','deceased_date']]\n",
        "deceased_age"
      ],
      "execution_count": 172,
      "outputs": [
        {
          "output_type": "execute_result",
          "data": {
            "text/html": [
              "<div>\n",
              "<style scoped>\n",
              "    .dataframe tbody tr th:only-of-type {\n",
              "        vertical-align: middle;\n",
              "    }\n",
              "\n",
              "    .dataframe tbody tr th {\n",
              "        vertical-align: top;\n",
              "    }\n",
              "\n",
              "    .dataframe thead th {\n",
              "        text-align: right;\n",
              "    }\n",
              "</style>\n",
              "<table border=\"1\" class=\"dataframe\">\n",
              "  <thead>\n",
              "    <tr style=\"text-align: right;\">\n",
              "      <th></th>\n",
              "      <th>age</th>\n",
              "      <th>deceased_date</th>\n",
              "    </tr>\n",
              "  </thead>\n",
              "  <tbody>\n",
              "    <tr>\n",
              "      <th>0</th>\n",
              "      <td>80s</td>\n",
              "      <td>22</td>\n",
              "    </tr>\n",
              "    <tr>\n",
              "      <th>1</th>\n",
              "      <td>70s</td>\n",
              "      <td>19</td>\n",
              "    </tr>\n",
              "    <tr>\n",
              "      <th>2</th>\n",
              "      <td>60s</td>\n",
              "      <td>11</td>\n",
              "    </tr>\n",
              "    <tr>\n",
              "      <th>3</th>\n",
              "      <td>50s</td>\n",
              "      <td>7</td>\n",
              "    </tr>\n",
              "    <tr>\n",
              "      <th>4</th>\n",
              "      <td>90s</td>\n",
              "      <td>6</td>\n",
              "    </tr>\n",
              "    <tr>\n",
              "      <th>5</th>\n",
              "      <td>30s</td>\n",
              "      <td>1</td>\n",
              "    </tr>\n",
              "  </tbody>\n",
              "</table>\n",
              "</div>"
            ],
            "text/plain": [
              "   age  deceased_date\n",
              "0  80s             22\n",
              "1  70s             19\n",
              "2  60s             11\n",
              "3  50s              7\n",
              "4  90s              6\n",
              "5  30s              1"
            ]
          },
          "metadata": {},
          "execution_count": 172
        }
      ]
    },
    {
      "cell_type": "code",
      "metadata": {
        "colab": {
          "base_uri": "https://localhost:8080/",
          "height": 265
        },
        "id": "cH7f3HoVi5Zd",
        "outputId": "b5230fd8-96d3-40c7-e026-e64d0bfd45bc"
      },
      "source": [
        "import numpy as np\n",
        "import matplotlib.pyplot as plt\n",
        "\n",
        "age = np.array(deceased_age['age'])\n",
        "deceased_date = np.array(deceased_age['deceased_date'])\n",
        "\n",
        "plt.bar(age,deceased_date)\n",
        "plt.show()"
      ],
      "execution_count": 174,
      "outputs": [
        {
          "output_type": "display_data",
          "data": {
            "image/png": "[encoded data removed]",
            "text/plain": [
              "<Figure size 432x288 with 1 Axes>"
            ]
          },
          "metadata": {
            "needs_background": "light"
          }
        }
      ]
    },
    {
      "cell_type": "markdown",
      "metadata": {
        "id": "uzuoZEvLmpQO"
      },
      "source": [
        "### กลุ่มอายุที่มีผู้เสียชีวิตมากที่สุด  คือ 80 ปีขึ้นไป รองลงมา คือ 70-79 ปี "
      ]
    },
    {
      "cell_type": "markdown",
      "metadata": {
        "id": "tdPdYe1QkW3j"
      },
      "source": [
        "### จำนวนผู้เสียชีวิต จำแนกตามเพศของผู้ติดเชื้อโควิด"
      ]
    },
    {
      "cell_type": "code",
      "metadata": {
        "colab": {
          "base_uri": "https://localhost:8080/",
          "height": 110
        },
        "id": "mDLrBAUUj387",
        "outputId": "a745b72b-993c-4abe-a291-ae033980fe50"
      },
      "source": [
        "deceased_sex = deceased.groupby('sex').count().sort_values(by=['deceased_date'],ascending=False).reset_index() # groupby กลุ่มอายุ\n",
        "deceased_sex = deceased_sex[['sex','deceased_date']]\n",
        "deceased_sex"
      ],
      "execution_count": 176,
      "outputs": [
        {
          "output_type": "execute_result",
          "data": {
            "text/html": [
              "<div>\n",
              "<style scoped>\n",
              "    .dataframe tbody tr th:only-of-type {\n",
              "        vertical-align: middle;\n",
              "    }\n",
              "\n",
              "    .dataframe tbody tr th {\n",
              "        vertical-align: top;\n",
              "    }\n",
              "\n",
              "    .dataframe thead th {\n",
              "        text-align: right;\n",
              "    }\n",
              "</style>\n",
              "<table border=\"1\" class=\"dataframe\">\n",
              "  <thead>\n",
              "    <tr style=\"text-align: right;\">\n",
              "      <th></th>\n",
              "      <th>sex</th>\n",
              "      <th>deceased_date</th>\n",
              "    </tr>\n",
              "  </thead>\n",
              "  <tbody>\n",
              "    <tr>\n",
              "      <th>0</th>\n",
              "      <td>male</td>\n",
              "      <td>40</td>\n",
              "    </tr>\n",
              "    <tr>\n",
              "      <th>1</th>\n",
              "      <td>female</td>\n",
              "      <td>26</td>\n",
              "    </tr>\n",
              "  </tbody>\n",
              "</table>\n",
              "</div>"
            ],
            "text/plain": [
              "      sex  deceased_date\n",
              "0    male             40\n",
              "1  female             26"
            ]
          },
          "metadata": {},
          "execution_count": 176
        }
      ]
    },
    {
      "cell_type": "code",
      "metadata": {
        "colab": {
          "base_uri": "https://localhost:8080/",
          "height": 265
        },
        "id": "UySjhfYvkguU",
        "outputId": "eef1be17-8150-4246-8283-fbe09e56d281"
      },
      "source": [
        "import numpy as np\n",
        "import matplotlib.pyplot as plt\n",
        "\n",
        "sex = np.array(deceased_sex['sex'])\n",
        "deceased_date = np.array(deceased_sex['deceased_date'])\n",
        "\n",
        "plt.bar(sex,deceased_date , color='green')\n",
        "plt.show()"
      ],
      "execution_count": 181,
      "outputs": [
        {
          "output_type": "display_data",
          "data": {
            "image/png": "[encoded data removed]",
            "text/plain": [
              "<Figure size 432x288 with 1 Axes>"
            ]
          },
          "metadata": {
            "needs_background": "light"
          }
        }
      ]
    },
    {
      "cell_type": "markdown",
      "metadata": {
        "id": "oODPxs_zm4v2"
      },
      "source": [
        "### ผู้ชายที่ติดเชื้อมีจำนวนผู้เสียชีวิตมากกว่า ผู้หญิงที่ติดเชื้อ"
      ]
    },
    {
      "cell_type": "markdown",
      "metadata": {
        "id": "Av7yYJ6_lQ7v"
      },
      "source": [
        "### จำนวนผู้เสียชีวิต จำแนกตามสาเหตุการติดเชื้อ"
      ]
    },
    {
      "cell_type": "code",
      "metadata": {
        "colab": {
          "base_uri": "https://localhost:8080/",
          "height": 233
        },
        "id": "IdDv8qAKkszN",
        "outputId": "81199cd3-c3a4-4168-ff64-93b60c20977f"
      },
      "source": [
        "deceased_Infec = deceased.groupby('infection_case').count().sort_values(by=['deceased_date'],ascending=False).reset_index() \n",
        "deceased_Infec = deceased_Infec[['infection_case','deceased_date']]\n",
        "deceased_Infec"
      ],
      "execution_count": 182,
      "outputs": [
        {
          "output_type": "execute_result",
          "data": {
            "text/html": [
              "<div>\n",
              "<style scoped>\n",
              "    .dataframe tbody tr th:only-of-type {\n",
              "        vertical-align: middle;\n",
              "    }\n",
              "\n",
              "    .dataframe tbody tr th {\n",
              "        vertical-align: top;\n",
              "    }\n",
              "\n",
              "    .dataframe thead th {\n",
              "        text-align: right;\n",
              "    }\n",
              "</style>\n",
              "<table border=\"1\" class=\"dataframe\">\n",
              "  <thead>\n",
              "    <tr style=\"text-align: right;\">\n",
              "      <th></th>\n",
              "      <th>infection_case</th>\n",
              "      <th>deceased_date</th>\n",
              "    </tr>\n",
              "  </thead>\n",
              "  <tbody>\n",
              "    <tr>\n",
              "      <th>0</th>\n",
              "      <td>contact with patient</td>\n",
              "      <td>43</td>\n",
              "    </tr>\n",
              "    <tr>\n",
              "      <th>1</th>\n",
              "      <td>etc</td>\n",
              "      <td>12</td>\n",
              "    </tr>\n",
              "    <tr>\n",
              "      <th>2</th>\n",
              "      <td>Cheongdo Daenam Hospital</td>\n",
              "      <td>7</td>\n",
              "    </tr>\n",
              "    <tr>\n",
              "      <th>3</th>\n",
              "      <td>Shincheonji Church</td>\n",
              "      <td>2</td>\n",
              "    </tr>\n",
              "    <tr>\n",
              "      <th>4</th>\n",
              "      <td>Bonghwa Pureun Nursing Home</td>\n",
              "      <td>1</td>\n",
              "    </tr>\n",
              "    <tr>\n",
              "      <th>5</th>\n",
              "      <td>Gyeongsan Jeil Silver Town</td>\n",
              "      <td>1</td>\n",
              "    </tr>\n",
              "  </tbody>\n",
              "</table>\n",
              "</div>"
            ],
            "text/plain": [
              "                infection_case  deceased_date\n",
              "0         contact with patient             43\n",
              "1                          etc             12\n",
              "2     Cheongdo Daenam Hospital              7\n",
              "3           Shincheonji Church              2\n",
              "4  Bonghwa Pureun Nursing Home              1\n",
              "5   Gyeongsan Jeil Silver Town              1"
            ]
          },
          "metadata": {},
          "execution_count": 182
        }
      ]
    },
    {
      "cell_type": "code",
      "metadata": {
        "colab": {
          "base_uri": "https://localhost:8080/",
          "height": 265
        },
        "id": "Ez5ucX08lfW7",
        "outputId": "d2a5403b-c675-4959-9a2d-d5b28d88041f"
      },
      "source": [
        "infection = np.array(deceased_Infec['infection_case'])\n",
        "deceased_date = np.array(deceased_Infec['deceased_date'])\n",
        "\n",
        "plt.bar(infection,deceased_date , color='red')\n",
        "plt.show()"
      ],
      "execution_count": 185,
      "outputs": [
        {
          "output_type": "display_data",
          "data": {
            "image/png": "[encoded data removed]",
            "text/plain": [
              "<Figure size 432x288 with 1 Axes>"
            ]
          },
          "metadata": {
            "needs_background": "light"
          }
        }
      ]
    },
    {
      "cell_type": "markdown",
      "metadata": {
        "id": "CPCorkPbmIQH"
      },
      "source": [
        "### จำนวนผู้เสียชีวิต จำแนกตามเมืองของผู้ติดเชื้อโควิด"
      ]
    },
    {
      "cell_type": "code",
      "metadata": {
        "colab": {
          "base_uri": "https://localhost:8080/",
          "height": 387
        },
        "id": "MaxSIbCbl--r",
        "outputId": "4cc9b0ce-61ac-4a9c-f308-c5aadfe1333e"
      },
      "source": [
        "deceased_city = deceased.groupby('city').count().sort_values(by=['deceased_date'],ascending=False).reset_index() \n",
        "deceased_city = deceased_city[['city','deceased_date']]\n",
        "deceased_city"
      ],
      "execution_count": 186,
      "outputs": [
        {
          "output_type": "execute_result",
          "data": {
            "text/html": [
              "<div>\n",
              "<style scoped>\n",
              "    .dataframe tbody tr th:only-of-type {\n",
              "        vertical-align: middle;\n",
              "    }\n",
              "\n",
              "    .dataframe tbody tr th {\n",
              "        vertical-align: top;\n",
              "    }\n",
              "\n",
              "    .dataframe thead th {\n",
              "        text-align: right;\n",
              "    }\n",
              "</style>\n",
              "<table border=\"1\" class=\"dataframe\">\n",
              "  <thead>\n",
              "    <tr style=\"text-align: right;\">\n",
              "      <th></th>\n",
              "      <th>city</th>\n",
              "      <th>deceased_date</th>\n",
              "    </tr>\n",
              "  </thead>\n",
              "  <tbody>\n",
              "    <tr>\n",
              "      <th>0</th>\n",
              "      <td>Gyeongsan-si</td>\n",
              "      <td>47</td>\n",
              "    </tr>\n",
              "    <tr>\n",
              "      <th>1</th>\n",
              "      <td>Cheongdo-gun</td>\n",
              "      <td>7</td>\n",
              "    </tr>\n",
              "    <tr>\n",
              "      <th>2</th>\n",
              "      <td>Cheorwon-gun</td>\n",
              "      <td>2</td>\n",
              "    </tr>\n",
              "    <tr>\n",
              "      <th>3</th>\n",
              "      <td>Nam-gu</td>\n",
              "      <td>2</td>\n",
              "    </tr>\n",
              "    <tr>\n",
              "      <th>4</th>\n",
              "      <td>Yeongcheon-si</td>\n",
              "      <td>2</td>\n",
              "    </tr>\n",
              "    <tr>\n",
              "      <th>5</th>\n",
              "      <td>Bonghwa-gun</td>\n",
              "      <td>1</td>\n",
              "    </tr>\n",
              "    <tr>\n",
              "      <th>6</th>\n",
              "      <td>Namyangju-si</td>\n",
              "      <td>1</td>\n",
              "    </tr>\n",
              "    <tr>\n",
              "      <th>7</th>\n",
              "      <td>Seo-gu</td>\n",
              "      <td>1</td>\n",
              "    </tr>\n",
              "    <tr>\n",
              "      <th>8</th>\n",
              "      <td>Seongju-gun</td>\n",
              "      <td>1</td>\n",
              "    </tr>\n",
              "    <tr>\n",
              "      <th>9</th>\n",
              "      <td>Taebaek-si</td>\n",
              "      <td>1</td>\n",
              "    </tr>\n",
              "    <tr>\n",
              "      <th>10</th>\n",
              "      <td>Yecheon-gun</td>\n",
              "      <td>1</td>\n",
              "    </tr>\n",
              "  </tbody>\n",
              "</table>\n",
              "</div>"
            ],
            "text/plain": [
              "             city  deceased_date\n",
              "0    Gyeongsan-si             47\n",
              "1    Cheongdo-gun              7\n",
              "2    Cheorwon-gun              2\n",
              "3          Nam-gu              2\n",
              "4   Yeongcheon-si              2\n",
              "5     Bonghwa-gun              1\n",
              "6    Namyangju-si              1\n",
              "7          Seo-gu              1\n",
              "8     Seongju-gun              1\n",
              "9      Taebaek-si              1\n",
              "10    Yecheon-gun              1"
            ]
          },
          "metadata": {},
          "execution_count": 186
        }
      ]
    },
    {
      "cell_type": "code",
      "metadata": {
        "colab": {
          "base_uri": "https://localhost:8080/",
          "height": 265
        },
        "id": "w27eRwdgmSKj",
        "outputId": "f7fb5281-516a-40e1-8374-8003205e79d5"
      },
      "source": [
        "city = np.array(deceased_city['city'])\n",
        "deceased_date = np.array(deceased_city['deceased_date'])\n",
        "\n",
        "plt.bar(city,deceased_date , color='pink')\n",
        "plt.show()"
      ],
      "execution_count": 188,
      "outputs": [
        {
          "output_type": "display_data",
          "data": {
            "image/png": "[encoded data removed]",
            "text/plain": [
              "<Figure size 432x288 with 1 Axes>"
            ]
          },
          "metadata": {
            "needs_background": "light"
          }
        }
      ]
    },
    {
      "cell_type": "code",
      "metadata": {
        "id": "tXU9s-nBmima"
      },
      "source": [
        ""
      ],
      "execution_count": null,
      "outputs": []
    }
  ]
}