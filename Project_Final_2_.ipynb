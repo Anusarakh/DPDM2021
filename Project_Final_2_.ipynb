{
  "nbformat": 4,
  "nbformat_minor": 0,
  "metadata": {
    "colab": {
      "name": "Project Final 2 .ipynb",
      "provenance": [],
      "authorship_tag": "ABX9TyPDlGm3oiv2fthKCqF6yz0J",
      "include_colab_link": true
    },
    "kernelspec": {
      "name": "python3",
      "display_name": "Python 3"
    },
    "language_info": {
      "name": "python"
    }
  },
  "cells": [
    {
      "cell_type": "markdown",
      "metadata": {
        "id": "view-in-github",
        "colab_type": "text"
      },
      "source": [
        "<a href=\"https://colab.research.google.com/github/Anusarakh/DPDM2021/blob/main/Project_Final_2_.ipynb\" target=\"_parent\"><img src=\"https://colab.research.google.com/assets/colab-badge.svg\" alt=\"Open In Colab\"/></a>"
      ]
    },
    {
      "cell_type": "code",
      "metadata": {
        "id": "LHIrM-nC2_UA"
      },
      "source": [
        "import pandas as pd"
      ],
      "execution_count": 30,
      "outputs": []
    },
    {
      "cell_type": "code",
      "metadata": {
        "colab": {
          "base_uri": "https://localhost:8080/"
        },
        "id": "UGVw-6If3BV4",
        "outputId": "4b701fc7-a166-421a-f338-a6e591ac9411"
      },
      "source": [
        "from google.colab import drive # เชื่อม google drive\n",
        "drive.mount('/content/drive')"
      ],
      "execution_count": 31,
      "outputs": [
        {
          "output_type": "stream",
          "name": "stdout",
          "text": [
            "Drive already mounted at /content/drive; to attempt to forcibly remount, call drive.mount(\"/content/drive\", force_remount=True).\n"
          ]
        }
      ]
    },
    {
      "cell_type": "code",
      "metadata": {
        "id": "5VOxOiOP3C_n"
      },
      "source": [
        "import os"
      ],
      "execution_count": 32,
      "outputs": []
    },
    {
      "cell_type": "markdown",
      "metadata": {
        "id": "ySPtFhgl3NEo"
      },
      "source": [
        "# ทำการ Visualization ปริมาณคนตาย จากไวรัสโควิด 19 ในเกาหลีใต้"
      ]
    },
    {
      "cell_type": "code",
      "metadata": {
        "colab": {
          "base_uri": "https://localhost:8080/",
          "height": 502
        },
        "id": "UJCQOBaa3KdO",
        "outputId": "638b59eb-57c7-4f3a-c504-bd822a649b1a"
      },
      "source": [
        "path = '/content/drive/My Drive/DPDM2021_DATA/Project/Covid-19_in_SouthKorea' # เรียกข้อมูลจาก Drive \n",
        "Patient = pd.read_csv(os.path.join(path,'PatientInfo.csv')) # ชื่อไฟล์ข้อมูล PatientInfo.csv\n",
        "Patient  # เรียกดูตาราง"
      ],
      "execution_count": 33,
      "outputs": [
        {
          "output_type": "execute_result",
          "data": {
            "text/html": [
              "<div>\n",
              "<style scoped>\n",
              "    .dataframe tbody tr th:only-of-type {\n",
              "        vertical-align: middle;\n",
              "    }\n",
              "\n",
              "    .dataframe tbody tr th {\n",
              "        vertical-align: top;\n",
              "    }\n",
              "\n",
              "    .dataframe thead th {\n",
              "        text-align: right;\n",
              "    }\n",
              "</style>\n",
              "<table border=\"1\" class=\"dataframe\">\n",
              "  <thead>\n",
              "    <tr style=\"text-align: right;\">\n",
              "      <th></th>\n",
              "      <th>patient_id</th>\n",
              "      <th>sex</th>\n",
              "      <th>age</th>\n",
              "      <th>country</th>\n",
              "      <th>province</th>\n",
              "      <th>city</th>\n",
              "      <th>infection_case</th>\n",
              "      <th>infected_by</th>\n",
              "      <th>contact_number</th>\n",
              "      <th>symptom_onset_date</th>\n",
              "      <th>confirmed_date</th>\n",
              "      <th>released_date</th>\n",
              "      <th>deceased_date</th>\n",
              "      <th>state</th>\n",
              "    </tr>\n",
              "  </thead>\n",
              "  <tbody>\n",
              "    <tr>\n",
              "      <th>0</th>\n",
              "      <td>1000000001</td>\n",
              "      <td>male</td>\n",
              "      <td>50s</td>\n",
              "      <td>Korea</td>\n",
              "      <td>Seoul</td>\n",
              "      <td>Gangseo-gu</td>\n",
              "      <td>overseas inflow</td>\n",
              "      <td>NaN</td>\n",
              "      <td>75</td>\n",
              "      <td>2020-01-22</td>\n",
              "      <td>2020-01-23</td>\n",
              "      <td>2020-02-05</td>\n",
              "      <td>NaN</td>\n",
              "      <td>released</td>\n",
              "    </tr>\n",
              "    <tr>\n",
              "      <th>1</th>\n",
              "      <td>1000000002</td>\n",
              "      <td>male</td>\n",
              "      <td>30s</td>\n",
              "      <td>Korea</td>\n",
              "      <td>Seoul</td>\n",
              "      <td>Jungnang-gu</td>\n",
              "      <td>overseas inflow</td>\n",
              "      <td>NaN</td>\n",
              "      <td>31</td>\n",
              "      <td>NaN</td>\n",
              "      <td>2020-01-30</td>\n",
              "      <td>2020-03-02</td>\n",
              "      <td>NaN</td>\n",
              "      <td>released</td>\n",
              "    </tr>\n",
              "    <tr>\n",
              "      <th>2</th>\n",
              "      <td>1000000003</td>\n",
              "      <td>male</td>\n",
              "      <td>50s</td>\n",
              "      <td>Korea</td>\n",
              "      <td>Seoul</td>\n",
              "      <td>Jongno-gu</td>\n",
              "      <td>contact with patient</td>\n",
              "      <td>2002000001</td>\n",
              "      <td>17</td>\n",
              "      <td>NaN</td>\n",
              "      <td>2020-01-30</td>\n",
              "      <td>2020-02-19</td>\n",
              "      <td>NaN</td>\n",
              "      <td>released</td>\n",
              "    </tr>\n",
              "    <tr>\n",
              "      <th>3</th>\n",
              "      <td>1000000004</td>\n",
              "      <td>male</td>\n",
              "      <td>20s</td>\n",
              "      <td>Korea</td>\n",
              "      <td>Seoul</td>\n",
              "      <td>Mapo-gu</td>\n",
              "      <td>overseas inflow</td>\n",
              "      <td>NaN</td>\n",
              "      <td>9</td>\n",
              "      <td>2020-01-26</td>\n",
              "      <td>2020-01-30</td>\n",
              "      <td>2020-02-15</td>\n",
              "      <td>NaN</td>\n",
              "      <td>released</td>\n",
              "    </tr>\n",
              "    <tr>\n",
              "      <th>4</th>\n",
              "      <td>1000000005</td>\n",
              "      <td>female</td>\n",
              "      <td>20s</td>\n",
              "      <td>Korea</td>\n",
              "      <td>Seoul</td>\n",
              "      <td>Seongbuk-gu</td>\n",
              "      <td>contact with patient</td>\n",
              "      <td>1000000002</td>\n",
              "      <td>2</td>\n",
              "      <td>NaN</td>\n",
              "      <td>2020-01-31</td>\n",
              "      <td>2020-02-24</td>\n",
              "      <td>NaN</td>\n",
              "      <td>released</td>\n",
              "    </tr>\n",
              "    <tr>\n",
              "      <th>...</th>\n",
              "      <td>...</td>\n",
              "      <td>...</td>\n",
              "      <td>...</td>\n",
              "      <td>...</td>\n",
              "      <td>...</td>\n",
              "      <td>...</td>\n",
              "      <td>...</td>\n",
              "      <td>...</td>\n",
              "      <td>...</td>\n",
              "      <td>...</td>\n",
              "      <td>...</td>\n",
              "      <td>...</td>\n",
              "      <td>...</td>\n",
              "      <td>...</td>\n",
              "    </tr>\n",
              "    <tr>\n",
              "      <th>5160</th>\n",
              "      <td>7000000015</td>\n",
              "      <td>female</td>\n",
              "      <td>30s</td>\n",
              "      <td>Korea</td>\n",
              "      <td>Jeju-do</td>\n",
              "      <td>Jeju-do</td>\n",
              "      <td>overseas inflow</td>\n",
              "      <td>NaN</td>\n",
              "      <td>25</td>\n",
              "      <td>NaN</td>\n",
              "      <td>2020-05-30</td>\n",
              "      <td>2020-06-13</td>\n",
              "      <td>NaN</td>\n",
              "      <td>released</td>\n",
              "    </tr>\n",
              "    <tr>\n",
              "      <th>5161</th>\n",
              "      <td>7000000016</td>\n",
              "      <td>NaN</td>\n",
              "      <td>NaN</td>\n",
              "      <td>Korea</td>\n",
              "      <td>Jeju-do</td>\n",
              "      <td>Jeju-do</td>\n",
              "      <td>overseas inflow</td>\n",
              "      <td>NaN</td>\n",
              "      <td>NaN</td>\n",
              "      <td>NaN</td>\n",
              "      <td>2020-06-16</td>\n",
              "      <td>2020-06-24</td>\n",
              "      <td>NaN</td>\n",
              "      <td>released</td>\n",
              "    </tr>\n",
              "    <tr>\n",
              "      <th>5162</th>\n",
              "      <td>7000000017</td>\n",
              "      <td>NaN</td>\n",
              "      <td>NaN</td>\n",
              "      <td>Bangladesh</td>\n",
              "      <td>Jeju-do</td>\n",
              "      <td>Jeju-do</td>\n",
              "      <td>overseas inflow</td>\n",
              "      <td>NaN</td>\n",
              "      <td>72</td>\n",
              "      <td>NaN</td>\n",
              "      <td>2020-06-18</td>\n",
              "      <td>NaN</td>\n",
              "      <td>NaN</td>\n",
              "      <td>isolated</td>\n",
              "    </tr>\n",
              "    <tr>\n",
              "      <th>5163</th>\n",
              "      <td>7000000018</td>\n",
              "      <td>NaN</td>\n",
              "      <td>NaN</td>\n",
              "      <td>Bangladesh</td>\n",
              "      <td>Jeju-do</td>\n",
              "      <td>Jeju-do</td>\n",
              "      <td>overseas inflow</td>\n",
              "      <td>NaN</td>\n",
              "      <td>NaN</td>\n",
              "      <td>NaN</td>\n",
              "      <td>2020-06-18</td>\n",
              "      <td>NaN</td>\n",
              "      <td>NaN</td>\n",
              "      <td>isolated</td>\n",
              "    </tr>\n",
              "    <tr>\n",
              "      <th>5164</th>\n",
              "      <td>7000000019</td>\n",
              "      <td>NaN</td>\n",
              "      <td>NaN</td>\n",
              "      <td>Bangladesh</td>\n",
              "      <td>Jeju-do</td>\n",
              "      <td>Jeju-do</td>\n",
              "      <td>overseas inflow</td>\n",
              "      <td>NaN</td>\n",
              "      <td>NaN</td>\n",
              "      <td>NaN</td>\n",
              "      <td>2020-06-18</td>\n",
              "      <td>NaN</td>\n",
              "      <td>NaN</td>\n",
              "      <td>isolated</td>\n",
              "    </tr>\n",
              "  </tbody>\n",
              "</table>\n",
              "<p>5165 rows × 14 columns</p>\n",
              "</div>"
            ],
            "text/plain": [
              "      patient_id     sex  age  ... released_date deceased_date     state\n",
              "0     1000000001    male  50s  ...    2020-02-05           NaN  released\n",
              "1     1000000002    male  30s  ...    2020-03-02           NaN  released\n",
              "2     1000000003    male  50s  ...    2020-02-19           NaN  released\n",
              "3     1000000004    male  20s  ...    2020-02-15           NaN  released\n",
              "4     1000000005  female  20s  ...    2020-02-24           NaN  released\n",
              "...          ...     ...  ...  ...           ...           ...       ...\n",
              "5160  7000000015  female  30s  ...    2020-06-13           NaN  released\n",
              "5161  7000000016     NaN  NaN  ...    2020-06-24           NaN  released\n",
              "5162  7000000017     NaN  NaN  ...           NaN           NaN  isolated\n",
              "5163  7000000018     NaN  NaN  ...           NaN           NaN  isolated\n",
              "5164  7000000019     NaN  NaN  ...           NaN           NaN  isolated\n",
              "\n",
              "[5165 rows x 14 columns]"
            ]
          },
          "metadata": {},
          "execution_count": 33
        }
      ]
    },
    {
      "cell_type": "markdown",
      "metadata": {
        "id": "SCA9TvzI3c5d"
      },
      "source": [
        "## ตรวจสอบค่า mising จากตาราง PatientInfo"
      ]
    },
    {
      "cell_type": "code",
      "metadata": {
        "colab": {
          "base_uri": "https://localhost:8080/"
        },
        "id": "Nbr6yH2F3RRY",
        "outputId": "13db1d4a-3c00-4921-9c2c-d1a9aeb86526"
      },
      "source": [
        "Patient.isnull().any()"
      ],
      "execution_count": 34,
      "outputs": [
        {
          "output_type": "execute_result",
          "data": {
            "text/plain": [
              "patient_id            False\n",
              "sex                    True\n",
              "age                    True\n",
              "country               False\n",
              "province              False\n",
              "city                   True\n",
              "infection_case         True\n",
              "infected_by            True\n",
              "contact_number         True\n",
              "symptom_onset_date     True\n",
              "confirmed_date         True\n",
              "released_date          True\n",
              "deceased_date          True\n",
              "state                 False\n",
              "dtype: bool"
            ]
          },
          "metadata": {},
          "execution_count": 34
        }
      ]
    },
    {
      "cell_type": "markdown",
      "metadata": {
        "id": "fplsLats3idt"
      },
      "source": [
        "## แทนค่า missing ในตัวแปรที่สนใจ"
      ]
    },
    {
      "cell_type": "code",
      "metadata": {
        "colab": {
          "base_uri": "https://localhost:8080/",
          "height": 35
        },
        "id": "rV6fU9nY3f51",
        "outputId": "1e416df9-4249-4e7a-ecad-5643ceae21d0"
      },
      "source": [
        "Patient[['sex']].dropna().mode().iloc[0,0] # แทนค่า missing ด้วยค่า mode"
      ],
      "execution_count": 35,
      "outputs": [
        {
          "output_type": "execute_result",
          "data": {
            "application/vnd.google.colaboratory.intrinsic+json": {
              "type": "string"
            },
            "text/plain": [
              "'female'"
            ]
          },
          "metadata": {},
          "execution_count": 35
        }
      ]
    },
    {
      "cell_type": "code",
      "metadata": {
        "id": "96X3wnm-3nHt"
      },
      "source": [
        "Patient[['sex']] = Patient[['sex']].fillna(Patient[['sex']].dropna().mode().iloc[0,0])  # แทนค่า missing ด้วยค่า mod  เนื่องจากข้อมูลเชิงคุณภาพ"
      ],
      "execution_count": 36,
      "outputs": []
    },
    {
      "cell_type": "code",
      "metadata": {
        "colab": {
          "base_uri": "https://localhost:8080/",
          "height": 35
        },
        "id": "eSy9tjgL3osB",
        "outputId": "45b490a9-320d-427c-9dea-210c4e0affee"
      },
      "source": [
        "Patient[['age']].dropna().mode().iloc[0,0]"
      ],
      "execution_count": 37,
      "outputs": [
        {
          "output_type": "execute_result",
          "data": {
            "application/vnd.google.colaboratory.intrinsic+json": {
              "type": "string"
            },
            "text/plain": [
              "'20s'"
            ]
          },
          "metadata": {},
          "execution_count": 37
        }
      ]
    },
    {
      "cell_type": "code",
      "metadata": {
        "id": "8qXB8O3w3qn5"
      },
      "source": [
        "Patient[['age']] = Patient[['age']].fillna(Patient[['age']].dropna().mode().iloc[0,0])  # แทนค่า missing ด้วยค่า mod  เนื่องจากข้อมูลเชิงคุณภาพ"
      ],
      "execution_count": 38,
      "outputs": []
    },
    {
      "cell_type": "code",
      "metadata": {
        "colab": {
          "base_uri": "https://localhost:8080/",
          "height": 35
        },
        "id": "p8p04ibC3sRt",
        "outputId": "0bd1d1f6-987a-4bf0-b07a-2fe8d2feac44"
      },
      "source": [
        "Patient[['city']].dropna().mode().iloc[0,0]"
      ],
      "execution_count": 39,
      "outputs": [
        {
          "output_type": "execute_result",
          "data": {
            "application/vnd.google.colaboratory.intrinsic+json": {
              "type": "string"
            },
            "text/plain": [
              "'Gyeongsan-si'"
            ]
          },
          "metadata": {},
          "execution_count": 39
        }
      ]
    },
    {
      "cell_type": "code",
      "metadata": {
        "id": "-sSkPtcg3vX-"
      },
      "source": [
        "Patient[['city']] = Patient[['city']].fillna(Patient[['city']].dropna().mode().iloc[0,0])  # แทนค่า missing ด้วยค่า mod  เนื่องจากข้อมูลเชิงคุณภาพ"
      ],
      "execution_count": 40,
      "outputs": []
    },
    {
      "cell_type": "code",
      "metadata": {
        "colab": {
          "base_uri": "https://localhost:8080/",
          "height": 35
        },
        "id": "yyMBMBYq3xAt",
        "outputId": "05190f37-8b88-4282-b8be-a344d8ca0924"
      },
      "source": [
        "Patient[['infection_case']].dropna().mode().iloc[0,0]"
      ],
      "execution_count": 41,
      "outputs": [
        {
          "output_type": "execute_result",
          "data": {
            "application/vnd.google.colaboratory.intrinsic+json": {
              "type": "string"
            },
            "text/plain": [
              "'contact with patient'"
            ]
          },
          "metadata": {},
          "execution_count": 41
        }
      ]
    },
    {
      "cell_type": "code",
      "metadata": {
        "id": "qEW7a4PC3zRd"
      },
      "source": [
        "Patient[['infection_case']] = Patient[['infection_case']].fillna(Patient[['infection_case']].dropna().mode().iloc[0,0])  # แทนค่า missing ด้วยค่า mod  เนื่องจากข้อมูลเชิงคุณภาพ"
      ],
      "execution_count": 42,
      "outputs": []
    },
    {
      "cell_type": "code",
      "metadata": {
        "colab": {
          "base_uri": "https://localhost:8080/",
          "height": 502
        },
        "id": "Wz_E0aWC32vt",
        "outputId": "cd96c1ee-a84e-4c58-ec9e-fdffc28ff479"
      },
      "source": [
        "Patient\n"
      ],
      "execution_count": 43,
      "outputs": [
        {
          "output_type": "execute_result",
          "data": {
            "text/html": [
              "<div>\n",
              "<style scoped>\n",
              "    .dataframe tbody tr th:only-of-type {\n",
              "        vertical-align: middle;\n",
              "    }\n",
              "\n",
              "    .dataframe tbody tr th {\n",
              "        vertical-align: top;\n",
              "    }\n",
              "\n",
              "    .dataframe thead th {\n",
              "        text-align: right;\n",
              "    }\n",
              "</style>\n",
              "<table border=\"1\" class=\"dataframe\">\n",
              "  <thead>\n",
              "    <tr style=\"text-align: right;\">\n",
              "      <th></th>\n",
              "      <th>patient_id</th>\n",
              "      <th>sex</th>\n",
              "      <th>age</th>\n",
              "      <th>country</th>\n",
              "      <th>province</th>\n",
              "      <th>city</th>\n",
              "      <th>infection_case</th>\n",
              "      <th>infected_by</th>\n",
              "      <th>contact_number</th>\n",
              "      <th>symptom_onset_date</th>\n",
              "      <th>confirmed_date</th>\n",
              "      <th>released_date</th>\n",
              "      <th>deceased_date</th>\n",
              "      <th>state</th>\n",
              "    </tr>\n",
              "  </thead>\n",
              "  <tbody>\n",
              "    <tr>\n",
              "      <th>0</th>\n",
              "      <td>1000000001</td>\n",
              "      <td>male</td>\n",
              "      <td>50s</td>\n",
              "      <td>Korea</td>\n",
              "      <td>Seoul</td>\n",
              "      <td>Gangseo-gu</td>\n",
              "      <td>overseas inflow</td>\n",
              "      <td>NaN</td>\n",
              "      <td>75</td>\n",
              "      <td>2020-01-22</td>\n",
              "      <td>2020-01-23</td>\n",
              "      <td>2020-02-05</td>\n",
              "      <td>NaN</td>\n",
              "      <td>released</td>\n",
              "    </tr>\n",
              "    <tr>\n",
              "      <th>1</th>\n",
              "      <td>1000000002</td>\n",
              "      <td>male</td>\n",
              "      <td>30s</td>\n",
              "      <td>Korea</td>\n",
              "      <td>Seoul</td>\n",
              "      <td>Jungnang-gu</td>\n",
              "      <td>overseas inflow</td>\n",
              "      <td>NaN</td>\n",
              "      <td>31</td>\n",
              "      <td>NaN</td>\n",
              "      <td>2020-01-30</td>\n",
              "      <td>2020-03-02</td>\n",
              "      <td>NaN</td>\n",
              "      <td>released</td>\n",
              "    </tr>\n",
              "    <tr>\n",
              "      <th>2</th>\n",
              "      <td>1000000003</td>\n",
              "      <td>male</td>\n",
              "      <td>50s</td>\n",
              "      <td>Korea</td>\n",
              "      <td>Seoul</td>\n",
              "      <td>Jongno-gu</td>\n",
              "      <td>contact with patient</td>\n",
              "      <td>2002000001</td>\n",
              "      <td>17</td>\n",
              "      <td>NaN</td>\n",
              "      <td>2020-01-30</td>\n",
              "      <td>2020-02-19</td>\n",
              "      <td>NaN</td>\n",
              "      <td>released</td>\n",
              "    </tr>\n",
              "    <tr>\n",
              "      <th>3</th>\n",
              "      <td>1000000004</td>\n",
              "      <td>male</td>\n",
              "      <td>20s</td>\n",
              "      <td>Korea</td>\n",
              "      <td>Seoul</td>\n",
              "      <td>Mapo-gu</td>\n",
              "      <td>overseas inflow</td>\n",
              "      <td>NaN</td>\n",
              "      <td>9</td>\n",
              "      <td>2020-01-26</td>\n",
              "      <td>2020-01-30</td>\n",
              "      <td>2020-02-15</td>\n",
              "      <td>NaN</td>\n",
              "      <td>released</td>\n",
              "    </tr>\n",
              "    <tr>\n",
              "      <th>4</th>\n",
              "      <td>1000000005</td>\n",
              "      <td>female</td>\n",
              "      <td>20s</td>\n",
              "      <td>Korea</td>\n",
              "      <td>Seoul</td>\n",
              "      <td>Seongbuk-gu</td>\n",
              "      <td>contact with patient</td>\n",
              "      <td>1000000002</td>\n",
              "      <td>2</td>\n",
              "      <td>NaN</td>\n",
              "      <td>2020-01-31</td>\n",
              "      <td>2020-02-24</td>\n",
              "      <td>NaN</td>\n",
              "      <td>released</td>\n",
              "    </tr>\n",
              "    <tr>\n",
              "      <th>...</th>\n",
              "      <td>...</td>\n",
              "      <td>...</td>\n",
              "      <td>...</td>\n",
              "      <td>...</td>\n",
              "      <td>...</td>\n",
              "      <td>...</td>\n",
              "      <td>...</td>\n",
              "      <td>...</td>\n",
              "      <td>...</td>\n",
              "      <td>...</td>\n",
              "      <td>...</td>\n",
              "      <td>...</td>\n",
              "      <td>...</td>\n",
              "      <td>...</td>\n",
              "    </tr>\n",
              "    <tr>\n",
              "      <th>5160</th>\n",
              "      <td>7000000015</td>\n",
              "      <td>female</td>\n",
              "      <td>30s</td>\n",
              "      <td>Korea</td>\n",
              "      <td>Jeju-do</td>\n",
              "      <td>Jeju-do</td>\n",
              "      <td>overseas inflow</td>\n",
              "      <td>NaN</td>\n",
              "      <td>25</td>\n",
              "      <td>NaN</td>\n",
              "      <td>2020-05-30</td>\n",
              "      <td>2020-06-13</td>\n",
              "      <td>NaN</td>\n",
              "      <td>released</td>\n",
              "    </tr>\n",
              "    <tr>\n",
              "      <th>5161</th>\n",
              "      <td>7000000016</td>\n",
              "      <td>female</td>\n",
              "      <td>20s</td>\n",
              "      <td>Korea</td>\n",
              "      <td>Jeju-do</td>\n",
              "      <td>Jeju-do</td>\n",
              "      <td>overseas inflow</td>\n",
              "      <td>NaN</td>\n",
              "      <td>NaN</td>\n",
              "      <td>NaN</td>\n",
              "      <td>2020-06-16</td>\n",
              "      <td>2020-06-24</td>\n",
              "      <td>NaN</td>\n",
              "      <td>released</td>\n",
              "    </tr>\n",
              "    <tr>\n",
              "      <th>5162</th>\n",
              "      <td>7000000017</td>\n",
              "      <td>female</td>\n",
              "      <td>20s</td>\n",
              "      <td>Bangladesh</td>\n",
              "      <td>Jeju-do</td>\n",
              "      <td>Jeju-do</td>\n",
              "      <td>overseas inflow</td>\n",
              "      <td>NaN</td>\n",
              "      <td>72</td>\n",
              "      <td>NaN</td>\n",
              "      <td>2020-06-18</td>\n",
              "      <td>NaN</td>\n",
              "      <td>NaN</td>\n",
              "      <td>isolated</td>\n",
              "    </tr>\n",
              "    <tr>\n",
              "      <th>5163</th>\n",
              "      <td>7000000018</td>\n",
              "      <td>female</td>\n",
              "      <td>20s</td>\n",
              "      <td>Bangladesh</td>\n",
              "      <td>Jeju-do</td>\n",
              "      <td>Jeju-do</td>\n",
              "      <td>overseas inflow</td>\n",
              "      <td>NaN</td>\n",
              "      <td>NaN</td>\n",
              "      <td>NaN</td>\n",
              "      <td>2020-06-18</td>\n",
              "      <td>NaN</td>\n",
              "      <td>NaN</td>\n",
              "      <td>isolated</td>\n",
              "    </tr>\n",
              "    <tr>\n",
              "      <th>5164</th>\n",
              "      <td>7000000019</td>\n",
              "      <td>female</td>\n",
              "      <td>20s</td>\n",
              "      <td>Bangladesh</td>\n",
              "      <td>Jeju-do</td>\n",
              "      <td>Jeju-do</td>\n",
              "      <td>overseas inflow</td>\n",
              "      <td>NaN</td>\n",
              "      <td>NaN</td>\n",
              "      <td>NaN</td>\n",
              "      <td>2020-06-18</td>\n",
              "      <td>NaN</td>\n",
              "      <td>NaN</td>\n",
              "      <td>isolated</td>\n",
              "    </tr>\n",
              "  </tbody>\n",
              "</table>\n",
              "<p>5165 rows × 14 columns</p>\n",
              "</div>"
            ],
            "text/plain": [
              "      patient_id     sex  age  ... released_date deceased_date     state\n",
              "0     1000000001    male  50s  ...    2020-02-05           NaN  released\n",
              "1     1000000002    male  30s  ...    2020-03-02           NaN  released\n",
              "2     1000000003    male  50s  ...    2020-02-19           NaN  released\n",
              "3     1000000004    male  20s  ...    2020-02-15           NaN  released\n",
              "4     1000000005  female  20s  ...    2020-02-24           NaN  released\n",
              "...          ...     ...  ...  ...           ...           ...       ...\n",
              "5160  7000000015  female  30s  ...    2020-06-13           NaN  released\n",
              "5161  7000000016  female  20s  ...    2020-06-24           NaN  released\n",
              "5162  7000000017  female  20s  ...           NaN           NaN  isolated\n",
              "5163  7000000018  female  20s  ...           NaN           NaN  isolated\n",
              "5164  7000000019  female  20s  ...           NaN           NaN  isolated\n",
              "\n",
              "[5165 rows x 14 columns]"
            ]
          },
          "metadata": {},
          "execution_count": 43
        }
      ]
    },
    {
      "cell_type": "code",
      "metadata": {
        "colab": {
          "base_uri": "https://localhost:8080/"
        },
        "id": "Tc6nX-u437Y2",
        "outputId": "d1d0689e-bdac-4d71-9436-83f208078947"
      },
      "source": [
        "Patient.isnull().any()"
      ],
      "execution_count": 44,
      "outputs": [
        {
          "output_type": "execute_result",
          "data": {
            "text/plain": [
              "patient_id            False\n",
              "sex                   False\n",
              "age                   False\n",
              "country               False\n",
              "province              False\n",
              "city                  False\n",
              "infection_case        False\n",
              "infected_by            True\n",
              "contact_number         True\n",
              "symptom_onset_date     True\n",
              "confirmed_date         True\n",
              "released_date          True\n",
              "deceased_date          True\n",
              "state                 False\n",
              "dtype: bool"
            ]
          },
          "metadata": {},
          "execution_count": 44
        }
      ]
    },
    {
      "cell_type": "markdown",
      "metadata": {
        "id": "2gCkuKwx4KDD"
      },
      "source": [
        ""
      ]
    },
    {
      "cell_type": "markdown",
      "metadata": {
        "id": "rBuWks5_4ArQ"
      },
      "source": [
        "## ตรวจสอบจำนวนข้อมูล"
      ]
    },
    {
      "cell_type": "code",
      "metadata": {
        "colab": {
          "base_uri": "https://localhost:8080/"
        },
        "id": "puVIAkrH39S9",
        "outputId": "73062296-bc5b-475d-f977-d0f606804bf5"
      },
      "source": [
        "Patient.shape"
      ],
      "execution_count": 45,
      "outputs": [
        {
          "output_type": "execute_result",
          "data": {
            "text/plain": [
              "(5165, 14)"
            ]
          },
          "metadata": {},
          "execution_count": 45
        }
      ]
    },
    {
      "cell_type": "markdown",
      "metadata": {
        "id": "_S0HrQ1U4K6i"
      },
      "source": [
        "## Vizualization  จำนวนผูเสียชีวิตของผู้ติดเชื้อโควิด 19 ในประเทศเกาหลีใต้ จำแนกดังนี้\n",
        "1.กลุ่มอายุ\n",
        "\n",
        "2.เพศ\n",
        "\n",
        "3.สาเหตุหารติดเชื้อ\n",
        "\n",
        "4.เมือง"
      ]
    },
    {
      "cell_type": "markdown",
      "metadata": {
        "id": "lKmwc-z04OOu"
      },
      "source": [
        "## ทำการเลือกคอลัมล์ที่สนใจ มาทำการ Vizualization"
      ]
    },
    {
      "cell_type": "code",
      "metadata": {
        "colab": {
          "base_uri": "https://localhost:8080/",
          "height": 415
        },
        "id": "MBtD23Dg4Du-",
        "outputId": "46349a14-6d4d-489d-91ab-0c0abcdeb484"
      },
      "source": [
        "Patient_data = Patient[['patient_id','sex','age','city','infection_case','deceased_date']] # ชี้ตาราง เพื่อเลือกข้อมูลที่สนใจ\n",
        "Patient_data # ตารางที่ยังไม่แทนค่า 0 และ 1 ใน จำนวนผู้เสียชีวต (คอลัมล์ deceased_date)"
      ],
      "execution_count": 46,
      "outputs": [
        {
          "output_type": "execute_result",
          "data": {
            "text/html": [
              "<div>\n",
              "<style scoped>\n",
              "    .dataframe tbody tr th:only-of-type {\n",
              "        vertical-align: middle;\n",
              "    }\n",
              "\n",
              "    .dataframe tbody tr th {\n",
              "        vertical-align: top;\n",
              "    }\n",
              "\n",
              "    .dataframe thead th {\n",
              "        text-align: right;\n",
              "    }\n",
              "</style>\n",
              "<table border=\"1\" class=\"dataframe\">\n",
              "  <thead>\n",
              "    <tr style=\"text-align: right;\">\n",
              "      <th></th>\n",
              "      <th>patient_id</th>\n",
              "      <th>sex</th>\n",
              "      <th>age</th>\n",
              "      <th>city</th>\n",
              "      <th>infection_case</th>\n",
              "      <th>deceased_date</th>\n",
              "    </tr>\n",
              "  </thead>\n",
              "  <tbody>\n",
              "    <tr>\n",
              "      <th>0</th>\n",
              "      <td>1000000001</td>\n",
              "      <td>male</td>\n",
              "      <td>50s</td>\n",
              "      <td>Gangseo-gu</td>\n",
              "      <td>overseas inflow</td>\n",
              "      <td>NaN</td>\n",
              "    </tr>\n",
              "    <tr>\n",
              "      <th>1</th>\n",
              "      <td>1000000002</td>\n",
              "      <td>male</td>\n",
              "      <td>30s</td>\n",
              "      <td>Jungnang-gu</td>\n",
              "      <td>overseas inflow</td>\n",
              "      <td>NaN</td>\n",
              "    </tr>\n",
              "    <tr>\n",
              "      <th>2</th>\n",
              "      <td>1000000003</td>\n",
              "      <td>male</td>\n",
              "      <td>50s</td>\n",
              "      <td>Jongno-gu</td>\n",
              "      <td>contact with patient</td>\n",
              "      <td>NaN</td>\n",
              "    </tr>\n",
              "    <tr>\n",
              "      <th>3</th>\n",
              "      <td>1000000004</td>\n",
              "      <td>male</td>\n",
              "      <td>20s</td>\n",
              "      <td>Mapo-gu</td>\n",
              "      <td>overseas inflow</td>\n",
              "      <td>NaN</td>\n",
              "    </tr>\n",
              "    <tr>\n",
              "      <th>4</th>\n",
              "      <td>1000000005</td>\n",
              "      <td>female</td>\n",
              "      <td>20s</td>\n",
              "      <td>Seongbuk-gu</td>\n",
              "      <td>contact with patient</td>\n",
              "      <td>NaN</td>\n",
              "    </tr>\n",
              "    <tr>\n",
              "      <th>...</th>\n",
              "      <td>...</td>\n",
              "      <td>...</td>\n",
              "      <td>...</td>\n",
              "      <td>...</td>\n",
              "      <td>...</td>\n",
              "      <td>...</td>\n",
              "    </tr>\n",
              "    <tr>\n",
              "      <th>5160</th>\n",
              "      <td>7000000015</td>\n",
              "      <td>female</td>\n",
              "      <td>30s</td>\n",
              "      <td>Jeju-do</td>\n",
              "      <td>overseas inflow</td>\n",
              "      <td>NaN</td>\n",
              "    </tr>\n",
              "    <tr>\n",
              "      <th>5161</th>\n",
              "      <td>7000000016</td>\n",
              "      <td>female</td>\n",
              "      <td>20s</td>\n",
              "      <td>Jeju-do</td>\n",
              "      <td>overseas inflow</td>\n",
              "      <td>NaN</td>\n",
              "    </tr>\n",
              "    <tr>\n",
              "      <th>5162</th>\n",
              "      <td>7000000017</td>\n",
              "      <td>female</td>\n",
              "      <td>20s</td>\n",
              "      <td>Jeju-do</td>\n",
              "      <td>overseas inflow</td>\n",
              "      <td>NaN</td>\n",
              "    </tr>\n",
              "    <tr>\n",
              "      <th>5163</th>\n",
              "      <td>7000000018</td>\n",
              "      <td>female</td>\n",
              "      <td>20s</td>\n",
              "      <td>Jeju-do</td>\n",
              "      <td>overseas inflow</td>\n",
              "      <td>NaN</td>\n",
              "    </tr>\n",
              "    <tr>\n",
              "      <th>5164</th>\n",
              "      <td>7000000019</td>\n",
              "      <td>female</td>\n",
              "      <td>20s</td>\n",
              "      <td>Jeju-do</td>\n",
              "      <td>overseas inflow</td>\n",
              "      <td>NaN</td>\n",
              "    </tr>\n",
              "  </tbody>\n",
              "</table>\n",
              "<p>5165 rows × 6 columns</p>\n",
              "</div>"
            ],
            "text/plain": [
              "      patient_id     sex  age         city        infection_case deceased_date\n",
              "0     1000000001    male  50s   Gangseo-gu       overseas inflow           NaN\n",
              "1     1000000002    male  30s  Jungnang-gu       overseas inflow           NaN\n",
              "2     1000000003    male  50s    Jongno-gu  contact with patient           NaN\n",
              "3     1000000004    male  20s      Mapo-gu       overseas inflow           NaN\n",
              "4     1000000005  female  20s  Seongbuk-gu  contact with patient           NaN\n",
              "...          ...     ...  ...          ...                   ...           ...\n",
              "5160  7000000015  female  30s      Jeju-do       overseas inflow           NaN\n",
              "5161  7000000016  female  20s      Jeju-do       overseas inflow           NaN\n",
              "5162  7000000017  female  20s      Jeju-do       overseas inflow           NaN\n",
              "5163  7000000018  female  20s      Jeju-do       overseas inflow           NaN\n",
              "5164  7000000019  female  20s      Jeju-do       overseas inflow           NaN\n",
              "\n",
              "[5165 rows x 6 columns]"
            ]
          },
          "metadata": {},
          "execution_count": 46
        }
      ]
    },
    {
      "cell_type": "markdown",
      "metadata": {
        "id": "4nHEstRW5u7R"
      },
      "source": [
        "## แทนความหมาย การเสียชีวิตและไม่เสียชีวิต ใน คอลัมล์ deceased_date\n",
        "0 = ไม่เสียชีวิต แทนใน NaN\n",
        "\n",
        "1 = เสียชีวิต แทนในค่า date หรือ row ที่แสดงวันที่"
      ]
    },
    {
      "cell_type": "code",
      "metadata": {
        "colab": {
          "base_uri": "https://localhost:8080/"
        },
        "id": "3nhP0wLM5w7d",
        "outputId": "a5bd85d4-a686-4a59-9d54-37c381b67ce9"
      },
      "source": [
        "Patient_data['deceased_date'] = Patient_data['deceased_date'].fillna(0)"
      ],
      "execution_count": 47,
      "outputs": [
        {
          "output_type": "stream",
          "name": "stderr",
          "text": [
            "/usr/local/lib/python3.7/dist-packages/ipykernel_launcher.py:1: SettingWithCopyWarning: \n",
            "A value is trying to be set on a copy of a slice from a DataFrame.\n",
            "Try using .loc[row_indexer,col_indexer] = value instead\n",
            "\n",
            "See the caveats in the documentation: https://pandas.pydata.org/pandas-docs/stable/user_guide/indexing.html#returning-a-view-versus-a-copy\n",
            "  \"\"\"Entry point for launching an IPython kernel.\n"
          ]
        }
      ]
    },
    {
      "cell_type": "code",
      "metadata": {
        "colab": {
          "base_uri": "https://localhost:8080/",
          "height": 415
        },
        "id": "VX951NdE58V9",
        "outputId": "d4e8649c-6835-4810-ef13-eb01037d494e"
      },
      "source": [
        "Patient_data"
      ],
      "execution_count": 48,
      "outputs": [
        {
          "output_type": "execute_result",
          "data": {
            "text/html": [
              "<div>\n",
              "<style scoped>\n",
              "    .dataframe tbody tr th:only-of-type {\n",
              "        vertical-align: middle;\n",
              "    }\n",
              "\n",
              "    .dataframe tbody tr th {\n",
              "        vertical-align: top;\n",
              "    }\n",
              "\n",
              "    .dataframe thead th {\n",
              "        text-align: right;\n",
              "    }\n",
              "</style>\n",
              "<table border=\"1\" class=\"dataframe\">\n",
              "  <thead>\n",
              "    <tr style=\"text-align: right;\">\n",
              "      <th></th>\n",
              "      <th>patient_id</th>\n",
              "      <th>sex</th>\n",
              "      <th>age</th>\n",
              "      <th>city</th>\n",
              "      <th>infection_case</th>\n",
              "      <th>deceased_date</th>\n",
              "    </tr>\n",
              "  </thead>\n",
              "  <tbody>\n",
              "    <tr>\n",
              "      <th>0</th>\n",
              "      <td>1000000001</td>\n",
              "      <td>male</td>\n",
              "      <td>50s</td>\n",
              "      <td>Gangseo-gu</td>\n",
              "      <td>overseas inflow</td>\n",
              "      <td>0</td>\n",
              "    </tr>\n",
              "    <tr>\n",
              "      <th>1</th>\n",
              "      <td>1000000002</td>\n",
              "      <td>male</td>\n",
              "      <td>30s</td>\n",
              "      <td>Jungnang-gu</td>\n",
              "      <td>overseas inflow</td>\n",
              "      <td>0</td>\n",
              "    </tr>\n",
              "    <tr>\n",
              "      <th>2</th>\n",
              "      <td>1000000003</td>\n",
              "      <td>male</td>\n",
              "      <td>50s</td>\n",
              "      <td>Jongno-gu</td>\n",
              "      <td>contact with patient</td>\n",
              "      <td>0</td>\n",
              "    </tr>\n",
              "    <tr>\n",
              "      <th>3</th>\n",
              "      <td>1000000004</td>\n",
              "      <td>male</td>\n",
              "      <td>20s</td>\n",
              "      <td>Mapo-gu</td>\n",
              "      <td>overseas inflow</td>\n",
              "      <td>0</td>\n",
              "    </tr>\n",
              "    <tr>\n",
              "      <th>4</th>\n",
              "      <td>1000000005</td>\n",
              "      <td>female</td>\n",
              "      <td>20s</td>\n",
              "      <td>Seongbuk-gu</td>\n",
              "      <td>contact with patient</td>\n",
              "      <td>0</td>\n",
              "    </tr>\n",
              "    <tr>\n",
              "      <th>...</th>\n",
              "      <td>...</td>\n",
              "      <td>...</td>\n",
              "      <td>...</td>\n",
              "      <td>...</td>\n",
              "      <td>...</td>\n",
              "      <td>...</td>\n",
              "    </tr>\n",
              "    <tr>\n",
              "      <th>5160</th>\n",
              "      <td>7000000015</td>\n",
              "      <td>female</td>\n",
              "      <td>30s</td>\n",
              "      <td>Jeju-do</td>\n",
              "      <td>overseas inflow</td>\n",
              "      <td>0</td>\n",
              "    </tr>\n",
              "    <tr>\n",
              "      <th>5161</th>\n",
              "      <td>7000000016</td>\n",
              "      <td>female</td>\n",
              "      <td>20s</td>\n",
              "      <td>Jeju-do</td>\n",
              "      <td>overseas inflow</td>\n",
              "      <td>0</td>\n",
              "    </tr>\n",
              "    <tr>\n",
              "      <th>5162</th>\n",
              "      <td>7000000017</td>\n",
              "      <td>female</td>\n",
              "      <td>20s</td>\n",
              "      <td>Jeju-do</td>\n",
              "      <td>overseas inflow</td>\n",
              "      <td>0</td>\n",
              "    </tr>\n",
              "    <tr>\n",
              "      <th>5163</th>\n",
              "      <td>7000000018</td>\n",
              "      <td>female</td>\n",
              "      <td>20s</td>\n",
              "      <td>Jeju-do</td>\n",
              "      <td>overseas inflow</td>\n",
              "      <td>0</td>\n",
              "    </tr>\n",
              "    <tr>\n",
              "      <th>5164</th>\n",
              "      <td>7000000019</td>\n",
              "      <td>female</td>\n",
              "      <td>20s</td>\n",
              "      <td>Jeju-do</td>\n",
              "      <td>overseas inflow</td>\n",
              "      <td>0</td>\n",
              "    </tr>\n",
              "  </tbody>\n",
              "</table>\n",
              "<p>5165 rows × 6 columns</p>\n",
              "</div>"
            ],
            "text/plain": [
              "      patient_id     sex  age         city        infection_case deceased_date\n",
              "0     1000000001    male  50s   Gangseo-gu       overseas inflow             0\n",
              "1     1000000002    male  30s  Jungnang-gu       overseas inflow             0\n",
              "2     1000000003    male  50s    Jongno-gu  contact with patient             0\n",
              "3     1000000004    male  20s      Mapo-gu       overseas inflow             0\n",
              "4     1000000005  female  20s  Seongbuk-gu  contact with patient             0\n",
              "...          ...     ...  ...          ...                   ...           ...\n",
              "5160  7000000015  female  30s      Jeju-do       overseas inflow             0\n",
              "5161  7000000016  female  20s      Jeju-do       overseas inflow             0\n",
              "5162  7000000017  female  20s      Jeju-do       overseas inflow             0\n",
              "5163  7000000018  female  20s      Jeju-do       overseas inflow             0\n",
              "5164  7000000019  female  20s      Jeju-do       overseas inflow             0\n",
              "\n",
              "[5165 rows x 6 columns]"
            ]
          },
          "metadata": {},
          "execution_count": 48
        }
      ]
    },
    {
      "cell_type": "code",
      "metadata": {
        "colab": {
          "base_uri": "https://localhost:8080/"
        },
        "id": "RRPAL93a6GnN",
        "outputId": "3991ab85-d6a2-4f53-f7bc-34cbb5055798"
      },
      "source": [
        "set(Patient_data['deceased_date'])"
      ],
      "execution_count": 49,
      "outputs": [
        {
          "output_type": "execute_result",
          "data": {
            "text/plain": [
              "{0,\n",
              " '2020-02-19',\n",
              " '2020-02-21',\n",
              " '2020-02-23',\n",
              " '2020-02-24',\n",
              " '2020-02-25',\n",
              " '2020-02-26',\n",
              " '2020-02-27',\n",
              " '2020-03-01',\n",
              " '2020-03-02',\n",
              " '2020-03-03',\n",
              " '2020-03-04',\n",
              " '2020-03-05',\n",
              " '2020-03-06',\n",
              " '2020-03-07',\n",
              " '2020-03-08',\n",
              " '2020-03-09',\n",
              " '2020-03-11',\n",
              " '2020-03-16',\n",
              " '2020-03-18',\n",
              " '2020-03-20',\n",
              " '2020-03-22',\n",
              " '2020-03-24',\n",
              " '2020-03-25',\n",
              " '2020-03-26',\n",
              " '2020-03-27',\n",
              " '2020-03-29',\n",
              " '2020-03-31',\n",
              " '2020-04-02',\n",
              " '2020-04-03',\n",
              " '2020-04-05',\n",
              " '2020-04-06',\n",
              " '2020-04-08',\n",
              " '2020-04-09',\n",
              " '2020-04-11',\n",
              " '2020-04-18',\n",
              " '2020-04-22',\n",
              " '2020-05-02',\n",
              " '2020-05-11',\n",
              " '2020-05-25'}"
            ]
          },
          "metadata": {},
          "execution_count": 49
        }
      ]
    },
    {
      "cell_type": "code",
      "metadata": {
        "colab": {
          "base_uri": "https://localhost:8080/"
        },
        "id": "4gi8b6aE6Ont",
        "outputId": "155cbe86-1472-4ca6-e0dd-d6bd56f7e6f2"
      },
      "source": [
        "dw_mapping={'2020-02-19':1, '2020-02-21':1, '2020-02-23':1, '2020-02-24':1, '2020-02-25':1, '2020-02-26':1, '2020-02-27':1, '2020-03-01':1, '2020-03-02':1\n",
        "            ,'2020-03-03':1, '2020-03-04':1,'2020-03-05':1,'2020-03-06':1,'2020-03-07':1,'2020-03-08':1,'2020-03-09':1,'2020-03-11':1\n",
        "            ,'2020-03-16':1,'2020-03-18':1,'2020-03-20':1,'2020-03-22':1,'2020-03-24':1,'2020-03-25':1,'2020-03-26':1,'2020-03-27':1,'2020-03-29':1\n",
        "            ,'2020-03-31':1,'2020-04-02':1,'2020-04-03':1,'2020-04-05':1,'2020-04-06':1,'2020-04-08':1,'2020-04-09':1,'2020-04-11':1,'2020-04-18':1,'2020-04-22':1\n",
        "            ,'2020-05-02':1,'2020-05-11':1,'2020-05-25':1}\n",
        "Patient_data['deceased_date']=Patient_data['deceased_date'].map(dw_mapping)"
      ],
      "execution_count": 50,
      "outputs": [
        {
          "output_type": "stream",
          "name": "stderr",
          "text": [
            "/usr/local/lib/python3.7/dist-packages/ipykernel_launcher.py:6: SettingWithCopyWarning: \n",
            "A value is trying to be set on a copy of a slice from a DataFrame.\n",
            "Try using .loc[row_indexer,col_indexer] = value instead\n",
            "\n",
            "See the caveats in the documentation: https://pandas.pydata.org/pandas-docs/stable/user_guide/indexing.html#returning-a-view-versus-a-copy\n",
            "  \n"
          ]
        }
      ]
    },
    {
      "cell_type": "code",
      "metadata": {
        "colab": {
          "base_uri": "https://localhost:8080/",
          "height": 415
        },
        "id": "Z7JiAlBo6VaN",
        "outputId": "8ec9c2e6-39fe-47cf-b0a4-3e258bd7c424"
      },
      "source": [
        "Patient_data"
      ],
      "execution_count": 51,
      "outputs": [
        {
          "output_type": "execute_result",
          "data": {
            "text/html": [
              "<div>\n",
              "<style scoped>\n",
              "    .dataframe tbody tr th:only-of-type {\n",
              "        vertical-align: middle;\n",
              "    }\n",
              "\n",
              "    .dataframe tbody tr th {\n",
              "        vertical-align: top;\n",
              "    }\n",
              "\n",
              "    .dataframe thead th {\n",
              "        text-align: right;\n",
              "    }\n",
              "</style>\n",
              "<table border=\"1\" class=\"dataframe\">\n",
              "  <thead>\n",
              "    <tr style=\"text-align: right;\">\n",
              "      <th></th>\n",
              "      <th>patient_id</th>\n",
              "      <th>sex</th>\n",
              "      <th>age</th>\n",
              "      <th>city</th>\n",
              "      <th>infection_case</th>\n",
              "      <th>deceased_date</th>\n",
              "    </tr>\n",
              "  </thead>\n",
              "  <tbody>\n",
              "    <tr>\n",
              "      <th>0</th>\n",
              "      <td>1000000001</td>\n",
              "      <td>male</td>\n",
              "      <td>50s</td>\n",
              "      <td>Gangseo-gu</td>\n",
              "      <td>overseas inflow</td>\n",
              "      <td>NaN</td>\n",
              "    </tr>\n",
              "    <tr>\n",
              "      <th>1</th>\n",
              "      <td>1000000002</td>\n",
              "      <td>male</td>\n",
              "      <td>30s</td>\n",
              "      <td>Jungnang-gu</td>\n",
              "      <td>overseas inflow</td>\n",
              "      <td>NaN</td>\n",
              "    </tr>\n",
              "    <tr>\n",
              "      <th>2</th>\n",
              "      <td>1000000003</td>\n",
              "      <td>male</td>\n",
              "      <td>50s</td>\n",
              "      <td>Jongno-gu</td>\n",
              "      <td>contact with patient</td>\n",
              "      <td>NaN</td>\n",
              "    </tr>\n",
              "    <tr>\n",
              "      <th>3</th>\n",
              "      <td>1000000004</td>\n",
              "      <td>male</td>\n",
              "      <td>20s</td>\n",
              "      <td>Mapo-gu</td>\n",
              "      <td>overseas inflow</td>\n",
              "      <td>NaN</td>\n",
              "    </tr>\n",
              "    <tr>\n",
              "      <th>4</th>\n",
              "      <td>1000000005</td>\n",
              "      <td>female</td>\n",
              "      <td>20s</td>\n",
              "      <td>Seongbuk-gu</td>\n",
              "      <td>contact with patient</td>\n",
              "      <td>NaN</td>\n",
              "    </tr>\n",
              "    <tr>\n",
              "      <th>...</th>\n",
              "      <td>...</td>\n",
              "      <td>...</td>\n",
              "      <td>...</td>\n",
              "      <td>...</td>\n",
              "      <td>...</td>\n",
              "      <td>...</td>\n",
              "    </tr>\n",
              "    <tr>\n",
              "      <th>5160</th>\n",
              "      <td>7000000015</td>\n",
              "      <td>female</td>\n",
              "      <td>30s</td>\n",
              "      <td>Jeju-do</td>\n",
              "      <td>overseas inflow</td>\n",
              "      <td>NaN</td>\n",
              "    </tr>\n",
              "    <tr>\n",
              "      <th>5161</th>\n",
              "      <td>7000000016</td>\n",
              "      <td>female</td>\n",
              "      <td>20s</td>\n",
              "      <td>Jeju-do</td>\n",
              "      <td>overseas inflow</td>\n",
              "      <td>NaN</td>\n",
              "    </tr>\n",
              "    <tr>\n",
              "      <th>5162</th>\n",
              "      <td>7000000017</td>\n",
              "      <td>female</td>\n",
              "      <td>20s</td>\n",
              "      <td>Jeju-do</td>\n",
              "      <td>overseas inflow</td>\n",
              "      <td>NaN</td>\n",
              "    </tr>\n",
              "    <tr>\n",
              "      <th>5163</th>\n",
              "      <td>7000000018</td>\n",
              "      <td>female</td>\n",
              "      <td>20s</td>\n",
              "      <td>Jeju-do</td>\n",
              "      <td>overseas inflow</td>\n",
              "      <td>NaN</td>\n",
              "    </tr>\n",
              "    <tr>\n",
              "      <th>5164</th>\n",
              "      <td>7000000019</td>\n",
              "      <td>female</td>\n",
              "      <td>20s</td>\n",
              "      <td>Jeju-do</td>\n",
              "      <td>overseas inflow</td>\n",
              "      <td>NaN</td>\n",
              "    </tr>\n",
              "  </tbody>\n",
              "</table>\n",
              "<p>5165 rows × 6 columns</p>\n",
              "</div>"
            ],
            "text/plain": [
              "      patient_id     sex  age         city        infection_case  deceased_date\n",
              "0     1000000001    male  50s   Gangseo-gu       overseas inflow            NaN\n",
              "1     1000000002    male  30s  Jungnang-gu       overseas inflow            NaN\n",
              "2     1000000003    male  50s    Jongno-gu  contact with patient            NaN\n",
              "3     1000000004    male  20s      Mapo-gu       overseas inflow            NaN\n",
              "4     1000000005  female  20s  Seongbuk-gu  contact with patient            NaN\n",
              "...          ...     ...  ...          ...                   ...            ...\n",
              "5160  7000000015  female  30s      Jeju-do       overseas inflow            NaN\n",
              "5161  7000000016  female  20s      Jeju-do       overseas inflow            NaN\n",
              "5162  7000000017  female  20s      Jeju-do       overseas inflow            NaN\n",
              "5163  7000000018  female  20s      Jeju-do       overseas inflow            NaN\n",
              "5164  7000000019  female  20s      Jeju-do       overseas inflow            NaN\n",
              "\n",
              "[5165 rows x 6 columns]"
            ]
          },
          "metadata": {},
          "execution_count": 51
        }
      ]
    },
    {
      "cell_type": "code",
      "metadata": {
        "colab": {
          "base_uri": "https://localhost:8080/"
        },
        "id": "unbImRPe6df9",
        "outputId": "2831c7a1-f309-4371-fa9a-9c2c01afcb95"
      },
      "source": [
        "Patient_data['deceased_date'] = Patient_data['deceased_date'].fillna(0)"
      ],
      "execution_count": 52,
      "outputs": [
        {
          "output_type": "stream",
          "name": "stderr",
          "text": [
            "/usr/local/lib/python3.7/dist-packages/ipykernel_launcher.py:1: SettingWithCopyWarning: \n",
            "A value is trying to be set on a copy of a slice from a DataFrame.\n",
            "Try using .loc[row_indexer,col_indexer] = value instead\n",
            "\n",
            "See the caveats in the documentation: https://pandas.pydata.org/pandas-docs/stable/user_guide/indexing.html#returning-a-view-versus-a-copy\n",
            "  \"\"\"Entry point for launching an IPython kernel.\n"
          ]
        }
      ]
    },
    {
      "cell_type": "code",
      "metadata": {
        "colab": {
          "base_uri": "https://localhost:8080/",
          "height": 415
        },
        "id": "A0K2tH5q6lvc",
        "outputId": "69baf478-16b2-4e65-a158-64336087e70a"
      },
      "source": [
        "Patient_data_ = Patient_data\n",
        "Patient_data_"
      ],
      "execution_count": 58,
      "outputs": [
        {
          "output_type": "execute_result",
          "data": {
            "text/html": [
              "<div>\n",
              "<style scoped>\n",
              "    .dataframe tbody tr th:only-of-type {\n",
              "        vertical-align: middle;\n",
              "    }\n",
              "\n",
              "    .dataframe tbody tr th {\n",
              "        vertical-align: top;\n",
              "    }\n",
              "\n",
              "    .dataframe thead th {\n",
              "        text-align: right;\n",
              "    }\n",
              "</style>\n",
              "<table border=\"1\" class=\"dataframe\">\n",
              "  <thead>\n",
              "    <tr style=\"text-align: right;\">\n",
              "      <th></th>\n",
              "      <th>patient_id</th>\n",
              "      <th>sex</th>\n",
              "      <th>age</th>\n",
              "      <th>city</th>\n",
              "      <th>infection_case</th>\n",
              "      <th>deceased_date</th>\n",
              "    </tr>\n",
              "  </thead>\n",
              "  <tbody>\n",
              "    <tr>\n",
              "      <th>0</th>\n",
              "      <td>1000000001</td>\n",
              "      <td>male</td>\n",
              "      <td>50s</td>\n",
              "      <td>Gangseo-gu</td>\n",
              "      <td>overseas inflow</td>\n",
              "      <td>0.0</td>\n",
              "    </tr>\n",
              "    <tr>\n",
              "      <th>1</th>\n",
              "      <td>1000000002</td>\n",
              "      <td>male</td>\n",
              "      <td>30s</td>\n",
              "      <td>Jungnang-gu</td>\n",
              "      <td>overseas inflow</td>\n",
              "      <td>0.0</td>\n",
              "    </tr>\n",
              "    <tr>\n",
              "      <th>2</th>\n",
              "      <td>1000000003</td>\n",
              "      <td>male</td>\n",
              "      <td>50s</td>\n",
              "      <td>Jongno-gu</td>\n",
              "      <td>contact with patient</td>\n",
              "      <td>0.0</td>\n",
              "    </tr>\n",
              "    <tr>\n",
              "      <th>3</th>\n",
              "      <td>1000000004</td>\n",
              "      <td>male</td>\n",
              "      <td>20s</td>\n",
              "      <td>Mapo-gu</td>\n",
              "      <td>overseas inflow</td>\n",
              "      <td>0.0</td>\n",
              "    </tr>\n",
              "    <tr>\n",
              "      <th>4</th>\n",
              "      <td>1000000005</td>\n",
              "      <td>female</td>\n",
              "      <td>20s</td>\n",
              "      <td>Seongbuk-gu</td>\n",
              "      <td>contact with patient</td>\n",
              "      <td>0.0</td>\n",
              "    </tr>\n",
              "    <tr>\n",
              "      <th>...</th>\n",
              "      <td>...</td>\n",
              "      <td>...</td>\n",
              "      <td>...</td>\n",
              "      <td>...</td>\n",
              "      <td>...</td>\n",
              "      <td>...</td>\n",
              "    </tr>\n",
              "    <tr>\n",
              "      <th>5160</th>\n",
              "      <td>7000000015</td>\n",
              "      <td>female</td>\n",
              "      <td>30s</td>\n",
              "      <td>Jeju-do</td>\n",
              "      <td>overseas inflow</td>\n",
              "      <td>0.0</td>\n",
              "    </tr>\n",
              "    <tr>\n",
              "      <th>5161</th>\n",
              "      <td>7000000016</td>\n",
              "      <td>female</td>\n",
              "      <td>20s</td>\n",
              "      <td>Jeju-do</td>\n",
              "      <td>overseas inflow</td>\n",
              "      <td>0.0</td>\n",
              "    </tr>\n",
              "    <tr>\n",
              "      <th>5162</th>\n",
              "      <td>7000000017</td>\n",
              "      <td>female</td>\n",
              "      <td>20s</td>\n",
              "      <td>Jeju-do</td>\n",
              "      <td>overseas inflow</td>\n",
              "      <td>0.0</td>\n",
              "    </tr>\n",
              "    <tr>\n",
              "      <th>5163</th>\n",
              "      <td>7000000018</td>\n",
              "      <td>female</td>\n",
              "      <td>20s</td>\n",
              "      <td>Jeju-do</td>\n",
              "      <td>overseas inflow</td>\n",
              "      <td>0.0</td>\n",
              "    </tr>\n",
              "    <tr>\n",
              "      <th>5164</th>\n",
              "      <td>7000000019</td>\n",
              "      <td>female</td>\n",
              "      <td>20s</td>\n",
              "      <td>Jeju-do</td>\n",
              "      <td>overseas inflow</td>\n",
              "      <td>0.0</td>\n",
              "    </tr>\n",
              "  </tbody>\n",
              "</table>\n",
              "<p>5165 rows × 6 columns</p>\n",
              "</div>"
            ],
            "text/plain": [
              "      patient_id     sex  age         city        infection_case  deceased_date\n",
              "0     1000000001    male  50s   Gangseo-gu       overseas inflow            0.0\n",
              "1     1000000002    male  30s  Jungnang-gu       overseas inflow            0.0\n",
              "2     1000000003    male  50s    Jongno-gu  contact with patient            0.0\n",
              "3     1000000004    male  20s      Mapo-gu       overseas inflow            0.0\n",
              "4     1000000005  female  20s  Seongbuk-gu  contact with patient            0.0\n",
              "...          ...     ...  ...          ...                   ...            ...\n",
              "5160  7000000015  female  30s      Jeju-do       overseas inflow            0.0\n",
              "5161  7000000016  female  20s      Jeju-do       overseas inflow            0.0\n",
              "5162  7000000017  female  20s      Jeju-do       overseas inflow            0.0\n",
              "5163  7000000018  female  20s      Jeju-do       overseas inflow            0.0\n",
              "5164  7000000019  female  20s      Jeju-do       overseas inflow            0.0\n",
              "\n",
              "[5165 rows x 6 columns]"
            ]
          },
          "metadata": {},
          "execution_count": 58
        }
      ]
    },
    {
      "cell_type": "code",
      "metadata": {
        "colab": {
          "base_uri": "https://localhost:8080/"
        },
        "id": "UL1qhNIJ6nx9",
        "outputId": "15a31ae0-e393-4bc1-ff73-f1638ac25727"
      },
      "source": [
        "set(Patient_data_['deceased_date'])"
      ],
      "execution_count": 59,
      "outputs": [
        {
          "output_type": "execute_result",
          "data": {
            "text/plain": [
              "{0.0, 1.0}"
            ]
          },
          "metadata": {},
          "execution_count": 59
        }
      ]
    },
    {
      "cell_type": "code",
      "metadata": {
        "colab": {
          "base_uri": "https://localhost:8080/"
        },
        "id": "A8umY1pW7u9t",
        "outputId": "fb811489-f3d2-4234-c00a-97e59270dc03"
      },
      "source": [
        "dw_mapping={'male':0, 'female':1}\n",
        "Patient_data_['sex']=Patient_data_['sex'].map(dw_mapping)"
      ],
      "execution_count": 65,
      "outputs": [
        {
          "output_type": "stream",
          "name": "stderr",
          "text": [
            "/usr/local/lib/python3.7/dist-packages/ipykernel_launcher.py:2: SettingWithCopyWarning: \n",
            "A value is trying to be set on a copy of a slice from a DataFrame.\n",
            "Try using .loc[row_indexer,col_indexer] = value instead\n",
            "\n",
            "See the caveats in the documentation: https://pandas.pydata.org/pandas-docs/stable/user_guide/indexing.html#returning-a-view-versus-a-copy\n",
            "  \n"
          ]
        }
      ]
    },
    {
      "cell_type": "code",
      "metadata": {
        "colab": {
          "base_uri": "https://localhost:8080/",
          "height": 415
        },
        "id": "QbkxF0ml76h9",
        "outputId": "5dde485e-f57c-4edf-f47c-779d182b2831"
      },
      "source": [
        "Patient_data_"
      ],
      "execution_count": 66,
      "outputs": [
        {
          "output_type": "execute_result",
          "data": {
            "text/html": [
              "<div>\n",
              "<style scoped>\n",
              "    .dataframe tbody tr th:only-of-type {\n",
              "        vertical-align: middle;\n",
              "    }\n",
              "\n",
              "    .dataframe tbody tr th {\n",
              "        vertical-align: top;\n",
              "    }\n",
              "\n",
              "    .dataframe thead th {\n",
              "        text-align: right;\n",
              "    }\n",
              "</style>\n",
              "<table border=\"1\" class=\"dataframe\">\n",
              "  <thead>\n",
              "    <tr style=\"text-align: right;\">\n",
              "      <th></th>\n",
              "      <th>patient_id</th>\n",
              "      <th>sex</th>\n",
              "      <th>age</th>\n",
              "      <th>city</th>\n",
              "      <th>infection_case</th>\n",
              "      <th>deceased_date</th>\n",
              "    </tr>\n",
              "  </thead>\n",
              "  <tbody>\n",
              "    <tr>\n",
              "      <th>0</th>\n",
              "      <td>1000000001</td>\n",
              "      <td>0</td>\n",
              "      <td>50s</td>\n",
              "      <td>Gangseo-gu</td>\n",
              "      <td>overseas inflow</td>\n",
              "      <td>0.0</td>\n",
              "    </tr>\n",
              "    <tr>\n",
              "      <th>1</th>\n",
              "      <td>1000000002</td>\n",
              "      <td>0</td>\n",
              "      <td>30s</td>\n",
              "      <td>Jungnang-gu</td>\n",
              "      <td>overseas inflow</td>\n",
              "      <td>0.0</td>\n",
              "    </tr>\n",
              "    <tr>\n",
              "      <th>2</th>\n",
              "      <td>1000000003</td>\n",
              "      <td>0</td>\n",
              "      <td>50s</td>\n",
              "      <td>Jongno-gu</td>\n",
              "      <td>contact with patient</td>\n",
              "      <td>0.0</td>\n",
              "    </tr>\n",
              "    <tr>\n",
              "      <th>3</th>\n",
              "      <td>1000000004</td>\n",
              "      <td>0</td>\n",
              "      <td>20s</td>\n",
              "      <td>Mapo-gu</td>\n",
              "      <td>overseas inflow</td>\n",
              "      <td>0.0</td>\n",
              "    </tr>\n",
              "    <tr>\n",
              "      <th>4</th>\n",
              "      <td>1000000005</td>\n",
              "      <td>1</td>\n",
              "      <td>20s</td>\n",
              "      <td>Seongbuk-gu</td>\n",
              "      <td>contact with patient</td>\n",
              "      <td>0.0</td>\n",
              "    </tr>\n",
              "    <tr>\n",
              "      <th>...</th>\n",
              "      <td>...</td>\n",
              "      <td>...</td>\n",
              "      <td>...</td>\n",
              "      <td>...</td>\n",
              "      <td>...</td>\n",
              "      <td>...</td>\n",
              "    </tr>\n",
              "    <tr>\n",
              "      <th>5160</th>\n",
              "      <td>7000000015</td>\n",
              "      <td>1</td>\n",
              "      <td>30s</td>\n",
              "      <td>Jeju-do</td>\n",
              "      <td>overseas inflow</td>\n",
              "      <td>0.0</td>\n",
              "    </tr>\n",
              "    <tr>\n",
              "      <th>5161</th>\n",
              "      <td>7000000016</td>\n",
              "      <td>1</td>\n",
              "      <td>20s</td>\n",
              "      <td>Jeju-do</td>\n",
              "      <td>overseas inflow</td>\n",
              "      <td>0.0</td>\n",
              "    </tr>\n",
              "    <tr>\n",
              "      <th>5162</th>\n",
              "      <td>7000000017</td>\n",
              "      <td>1</td>\n",
              "      <td>20s</td>\n",
              "      <td>Jeju-do</td>\n",
              "      <td>overseas inflow</td>\n",
              "      <td>0.0</td>\n",
              "    </tr>\n",
              "    <tr>\n",
              "      <th>5163</th>\n",
              "      <td>7000000018</td>\n",
              "      <td>1</td>\n",
              "      <td>20s</td>\n",
              "      <td>Jeju-do</td>\n",
              "      <td>overseas inflow</td>\n",
              "      <td>0.0</td>\n",
              "    </tr>\n",
              "    <tr>\n",
              "      <th>5164</th>\n",
              "      <td>7000000019</td>\n",
              "      <td>1</td>\n",
              "      <td>20s</td>\n",
              "      <td>Jeju-do</td>\n",
              "      <td>overseas inflow</td>\n",
              "      <td>0.0</td>\n",
              "    </tr>\n",
              "  </tbody>\n",
              "</table>\n",
              "<p>5165 rows × 6 columns</p>\n",
              "</div>"
            ],
            "text/plain": [
              "      patient_id  sex  age         city        infection_case  deceased_date\n",
              "0     1000000001    0  50s   Gangseo-gu       overseas inflow            0.0\n",
              "1     1000000002    0  30s  Jungnang-gu       overseas inflow            0.0\n",
              "2     1000000003    0  50s    Jongno-gu  contact with patient            0.0\n",
              "3     1000000004    0  20s      Mapo-gu       overseas inflow            0.0\n",
              "4     1000000005    1  20s  Seongbuk-gu  contact with patient            0.0\n",
              "...          ...  ...  ...          ...                   ...            ...\n",
              "5160  7000000015    1  30s      Jeju-do       overseas inflow            0.0\n",
              "5161  7000000016    1  20s      Jeju-do       overseas inflow            0.0\n",
              "5162  7000000017    1  20s      Jeju-do       overseas inflow            0.0\n",
              "5163  7000000018    1  20s      Jeju-do       overseas inflow            0.0\n",
              "5164  7000000019    1  20s      Jeju-do       overseas inflow            0.0\n",
              "\n",
              "[5165 rows x 6 columns]"
            ]
          },
          "metadata": {},
          "execution_count": 66
        }
      ]
    },
    {
      "cell_type": "markdown",
      "metadata": {
        "id": "UdIOWivI85kY"
      },
      "source": [
        "### แทนตัวเลขในกลุ่มอายุ \n",
        "\n",
        "0sคือ 0-9 ปี แทนด้วย 0\n",
        "\n",
        "10s คือ 10-19 ปี แทนด้วย 1 \n",
        "\n",
        "20s  คือ 20-29 ปี แทนด้วย 2\n",
        "\n",
        "30s คือ 30-39 ปี แทนด้วย 3\n",
        "\n",
        "40s คือ 40-49 ปี แทนด้วย 4\n",
        "\n",
        "50s คือ 50-59 ปี แทนด้วย 5\n",
        "\n",
        "60s คือ 60-69 ปี แทนด้วย 6\n",
        "\n",
        "70s คือ 70-79 ปี แทนด้วย 7\n",
        "\n",
        "80s คือ 80-89 ปี แทนด้วย 8 \n",
        "\n",
        "90s คือ 90-99 ปี แทนด้วย 9\n",
        "\n",
        "100s คือ 100ปีขึ้นไป แทนด้วย 10"
      ]
    },
    {
      "cell_type": "code",
      "metadata": {
        "colab": {
          "base_uri": "https://localhost:8080/"
        },
        "id": "bWwaBBqN8AyB",
        "outputId": "b6fe51a2-8c06-4612-954b-9cb268045cb6"
      },
      "source": [
        "set(Patient_data_['age'])"
      ],
      "execution_count": 67,
      "outputs": [
        {
          "output_type": "execute_result",
          "data": {
            "text/plain": [
              "{'0s', '100s', '10s', '20s', '30s', '40s', '50s', '60s', '70s', '80s', '90s'}"
            ]
          },
          "metadata": {},
          "execution_count": 67
        }
      ]
    },
    {
      "cell_type": "code",
      "metadata": {
        "colab": {
          "base_uri": "https://localhost:8080/"
        },
        "id": "tHia2NxK8La0",
        "outputId": "fa8c8905-4805-4eee-fead-75973a3b1cf8"
      },
      "source": [
        "dw_mapping={'0s':0, '100s':10, '10s':1, '20s':2, '30s':3, '40s':4, '50s':5, '60s':6, '70s':7, '80s':8, '90s':9}\n",
        "Patient_data_['age']=Patient_data_['age'].map(dw_mapping)"
      ],
      "execution_count": 69,
      "outputs": [
        {
          "output_type": "stream",
          "name": "stderr",
          "text": [
            "/usr/local/lib/python3.7/dist-packages/ipykernel_launcher.py:2: SettingWithCopyWarning: \n",
            "A value is trying to be set on a copy of a slice from a DataFrame.\n",
            "Try using .loc[row_indexer,col_indexer] = value instead\n",
            "\n",
            "See the caveats in the documentation: https://pandas.pydata.org/pandas-docs/stable/user_guide/indexing.html#returning-a-view-versus-a-copy\n",
            "  \n"
          ]
        }
      ]
    },
    {
      "cell_type": "code",
      "metadata": {
        "colab": {
          "base_uri": "https://localhost:8080/",
          "height": 415
        },
        "id": "ZcsSv6gN8mOm",
        "outputId": "b5e27011-c0f1-4d79-e988-87da5b88feb1"
      },
      "source": [
        "Patient_data_"
      ],
      "execution_count": 70,
      "outputs": [
        {
          "output_type": "execute_result",
          "data": {
            "text/html": [
              "<div>\n",
              "<style scoped>\n",
              "    .dataframe tbody tr th:only-of-type {\n",
              "        vertical-align: middle;\n",
              "    }\n",
              "\n",
              "    .dataframe tbody tr th {\n",
              "        vertical-align: top;\n",
              "    }\n",
              "\n",
              "    .dataframe thead th {\n",
              "        text-align: right;\n",
              "    }\n",
              "</style>\n",
              "<table border=\"1\" class=\"dataframe\">\n",
              "  <thead>\n",
              "    <tr style=\"text-align: right;\">\n",
              "      <th></th>\n",
              "      <th>patient_id</th>\n",
              "      <th>sex</th>\n",
              "      <th>age</th>\n",
              "      <th>city</th>\n",
              "      <th>infection_case</th>\n",
              "      <th>deceased_date</th>\n",
              "    </tr>\n",
              "  </thead>\n",
              "  <tbody>\n",
              "    <tr>\n",
              "      <th>0</th>\n",
              "      <td>1000000001</td>\n",
              "      <td>0</td>\n",
              "      <td>5</td>\n",
              "      <td>Gangseo-gu</td>\n",
              "      <td>overseas inflow</td>\n",
              "      <td>0.0</td>\n",
              "    </tr>\n",
              "    <tr>\n",
              "      <th>1</th>\n",
              "      <td>1000000002</td>\n",
              "      <td>0</td>\n",
              "      <td>3</td>\n",
              "      <td>Jungnang-gu</td>\n",
              "      <td>overseas inflow</td>\n",
              "      <td>0.0</td>\n",
              "    </tr>\n",
              "    <tr>\n",
              "      <th>2</th>\n",
              "      <td>1000000003</td>\n",
              "      <td>0</td>\n",
              "      <td>5</td>\n",
              "      <td>Jongno-gu</td>\n",
              "      <td>contact with patient</td>\n",
              "      <td>0.0</td>\n",
              "    </tr>\n",
              "    <tr>\n",
              "      <th>3</th>\n",
              "      <td>1000000004</td>\n",
              "      <td>0</td>\n",
              "      <td>2</td>\n",
              "      <td>Mapo-gu</td>\n",
              "      <td>overseas inflow</td>\n",
              "      <td>0.0</td>\n",
              "    </tr>\n",
              "    <tr>\n",
              "      <th>4</th>\n",
              "      <td>1000000005</td>\n",
              "      <td>1</td>\n",
              "      <td>2</td>\n",
              "      <td>Seongbuk-gu</td>\n",
              "      <td>contact with patient</td>\n",
              "      <td>0.0</td>\n",
              "    </tr>\n",
              "    <tr>\n",
              "      <th>...</th>\n",
              "      <td>...</td>\n",
              "      <td>...</td>\n",
              "      <td>...</td>\n",
              "      <td>...</td>\n",
              "      <td>...</td>\n",
              "      <td>...</td>\n",
              "    </tr>\n",
              "    <tr>\n",
              "      <th>5160</th>\n",
              "      <td>7000000015</td>\n",
              "      <td>1</td>\n",
              "      <td>3</td>\n",
              "      <td>Jeju-do</td>\n",
              "      <td>overseas inflow</td>\n",
              "      <td>0.0</td>\n",
              "    </tr>\n",
              "    <tr>\n",
              "      <th>5161</th>\n",
              "      <td>7000000016</td>\n",
              "      <td>1</td>\n",
              "      <td>2</td>\n",
              "      <td>Jeju-do</td>\n",
              "      <td>overseas inflow</td>\n",
              "      <td>0.0</td>\n",
              "    </tr>\n",
              "    <tr>\n",
              "      <th>5162</th>\n",
              "      <td>7000000017</td>\n",
              "      <td>1</td>\n",
              "      <td>2</td>\n",
              "      <td>Jeju-do</td>\n",
              "      <td>overseas inflow</td>\n",
              "      <td>0.0</td>\n",
              "    </tr>\n",
              "    <tr>\n",
              "      <th>5163</th>\n",
              "      <td>7000000018</td>\n",
              "      <td>1</td>\n",
              "      <td>2</td>\n",
              "      <td>Jeju-do</td>\n",
              "      <td>overseas inflow</td>\n",
              "      <td>0.0</td>\n",
              "    </tr>\n",
              "    <tr>\n",
              "      <th>5164</th>\n",
              "      <td>7000000019</td>\n",
              "      <td>1</td>\n",
              "      <td>2</td>\n",
              "      <td>Jeju-do</td>\n",
              "      <td>overseas inflow</td>\n",
              "      <td>0.0</td>\n",
              "    </tr>\n",
              "  </tbody>\n",
              "</table>\n",
              "<p>5165 rows × 6 columns</p>\n",
              "</div>"
            ],
            "text/plain": [
              "      patient_id  sex  age         city        infection_case  deceased_date\n",
              "0     1000000001    0    5   Gangseo-gu       overseas inflow            0.0\n",
              "1     1000000002    0    3  Jungnang-gu       overseas inflow            0.0\n",
              "2     1000000003    0    5    Jongno-gu  contact with patient            0.0\n",
              "3     1000000004    0    2      Mapo-gu       overseas inflow            0.0\n",
              "4     1000000005    1    2  Seongbuk-gu  contact with patient            0.0\n",
              "...          ...  ...  ...          ...                   ...            ...\n",
              "5160  7000000015    1    3      Jeju-do       overseas inflow            0.0\n",
              "5161  7000000016    1    2      Jeju-do       overseas inflow            0.0\n",
              "5162  7000000017    1    2      Jeju-do       overseas inflow            0.0\n",
              "5163  7000000018    1    2      Jeju-do       overseas inflow            0.0\n",
              "5164  7000000019    1    2      Jeju-do       overseas inflow            0.0\n",
              "\n",
              "[5165 rows x 6 columns]"
            ]
          },
          "metadata": {},
          "execution_count": 70
        }
      ]
    },
    {
      "cell_type": "markdown",
      "metadata": {
        "id": "pgM8QDg_6t1V"
      },
      "source": [
        "## จำนวนการเสียชีวีดและไม่เสียชีวิตของผู้ติดเชื้อ\n",
        "0 = ไม่เสียชีวิต จำนวน 5099 ราย\n",
        "\n",
        "1 = เสียชีวิต จำนวน 66 ราย"
      ]
    },
    {
      "cell_type": "code",
      "metadata": {
        "colab": {
          "base_uri": "https://localhost:8080/",
          "height": 141
        },
        "id": "uGWMeUVs6qB9",
        "outputId": "a8722037-741f-4f4b-c335-93df5627ac67"
      },
      "source": [
        "Patient_data_Total = Patient_data_.groupby('deceased_date').count()\n",
        "Patient_data_Total"
      ],
      "execution_count": 71,
      "outputs": [
        {
          "output_type": "execute_result",
          "data": {
            "text/html": [
              "<div>\n",
              "<style scoped>\n",
              "    .dataframe tbody tr th:only-of-type {\n",
              "        vertical-align: middle;\n",
              "    }\n",
              "\n",
              "    .dataframe tbody tr th {\n",
              "        vertical-align: top;\n",
              "    }\n",
              "\n",
              "    .dataframe thead th {\n",
              "        text-align: right;\n",
              "    }\n",
              "</style>\n",
              "<table border=\"1\" class=\"dataframe\">\n",
              "  <thead>\n",
              "    <tr style=\"text-align: right;\">\n",
              "      <th></th>\n",
              "      <th>patient_id</th>\n",
              "      <th>sex</th>\n",
              "      <th>age</th>\n",
              "      <th>city</th>\n",
              "      <th>infection_case</th>\n",
              "    </tr>\n",
              "    <tr>\n",
              "      <th>deceased_date</th>\n",
              "      <th></th>\n",
              "      <th></th>\n",
              "      <th></th>\n",
              "      <th></th>\n",
              "      <th></th>\n",
              "    </tr>\n",
              "  </thead>\n",
              "  <tbody>\n",
              "    <tr>\n",
              "      <th>0.0</th>\n",
              "      <td>5099</td>\n",
              "      <td>5099</td>\n",
              "      <td>5099</td>\n",
              "      <td>5099</td>\n",
              "      <td>5099</td>\n",
              "    </tr>\n",
              "    <tr>\n",
              "      <th>1.0</th>\n",
              "      <td>66</td>\n",
              "      <td>66</td>\n",
              "      <td>66</td>\n",
              "      <td>66</td>\n",
              "      <td>66</td>\n",
              "    </tr>\n",
              "  </tbody>\n",
              "</table>\n",
              "</div>"
            ],
            "text/plain": [
              "               patient_id   sex   age  city  infection_case\n",
              "deceased_date                                              \n",
              "0.0                  5099  5099  5099  5099            5099\n",
              "1.0                    66    66    66    66              66"
            ]
          },
          "metadata": {},
          "execution_count": 71
        }
      ]
    },
    {
      "cell_type": "markdown",
      "metadata": {
        "id": "AmQQfhhd6z4g"
      },
      "source": [
        "## เลือกผู้ที่เสียชีวิดจาก colum deceased_date = 1.0"
      ]
    },
    {
      "cell_type": "code",
      "metadata": {
        "colab": {
          "base_uri": "https://localhost:8080/",
          "height": 415
        },
        "id": "llboaWC16xGs",
        "outputId": "d8405a38-a754-44b0-e892-47bcfa7835f1"
      },
      "source": [
        "deceased = Patient_data_[Patient_data_['deceased_date']==1.0] #เลือกเฉพาะผู้ติดเชื้อโควิด ที่เสียชีวิต\n",
        "deceased"
      ],
      "execution_count": 72,
      "outputs": [
        {
          "output_type": "execute_result",
          "data": {
            "text/html": [
              "<div>\n",
              "<style scoped>\n",
              "    .dataframe tbody tr th:only-of-type {\n",
              "        vertical-align: middle;\n",
              "    }\n",
              "\n",
              "    .dataframe tbody tr th {\n",
              "        vertical-align: top;\n",
              "    }\n",
              "\n",
              "    .dataframe thead th {\n",
              "        text-align: right;\n",
              "    }\n",
              "</style>\n",
              "<table border=\"1\" class=\"dataframe\">\n",
              "  <thead>\n",
              "    <tr style=\"text-align: right;\">\n",
              "      <th></th>\n",
              "      <th>patient_id</th>\n",
              "      <th>sex</th>\n",
              "      <th>age</th>\n",
              "      <th>city</th>\n",
              "      <th>infection_case</th>\n",
              "      <th>deceased_date</th>\n",
              "    </tr>\n",
              "  </thead>\n",
              "  <tbody>\n",
              "    <tr>\n",
              "      <th>1468</th>\n",
              "      <td>1200000038</td>\n",
              "      <td>1</td>\n",
              "      <td>5</td>\n",
              "      <td>Nam-gu</td>\n",
              "      <td>contact with patient</td>\n",
              "      <td>1.0</td>\n",
              "    </tr>\n",
              "    <tr>\n",
              "      <th>1507</th>\n",
              "      <td>1200000114</td>\n",
              "      <td>0</td>\n",
              "      <td>7</td>\n",
              "      <td>Gyeongsan-si</td>\n",
              "      <td>Shincheonji Church</td>\n",
              "      <td>1.0</td>\n",
              "    </tr>\n",
              "    <tr>\n",
              "      <th>1508</th>\n",
              "      <td>1200000620</td>\n",
              "      <td>0</td>\n",
              "      <td>7</td>\n",
              "      <td>Gyeongsan-si</td>\n",
              "      <td>contact with patient</td>\n",
              "      <td>1.0</td>\n",
              "    </tr>\n",
              "    <tr>\n",
              "      <th>1509</th>\n",
              "      <td>1200000901</td>\n",
              "      <td>1</td>\n",
              "      <td>8</td>\n",
              "      <td>Gyeongsan-si</td>\n",
              "      <td>contact with patient</td>\n",
              "      <td>1.0</td>\n",
              "    </tr>\n",
              "    <tr>\n",
              "      <th>1510</th>\n",
              "      <td>1200001064</td>\n",
              "      <td>1</td>\n",
              "      <td>7</td>\n",
              "      <td>Gyeongsan-si</td>\n",
              "      <td>contact with patient</td>\n",
              "      <td>1.0</td>\n",
              "    </tr>\n",
              "    <tr>\n",
              "      <th>...</th>\n",
              "      <td>...</td>\n",
              "      <td>...</td>\n",
              "      <td>...</td>\n",
              "      <td>...</td>\n",
              "      <td>...</td>\n",
              "      <td>...</td>\n",
              "    </tr>\n",
              "    <tr>\n",
              "      <th>4902</th>\n",
              "      <td>6020100104</td>\n",
              "      <td>0</td>\n",
              "      <td>6</td>\n",
              "      <td>Cheongdo-gun</td>\n",
              "      <td>Cheongdo Daenam Hospital</td>\n",
              "      <td>1.0</td>\n",
              "    </tr>\n",
              "    <tr>\n",
              "      <th>4903</th>\n",
              "      <td>6020100107</td>\n",
              "      <td>0</td>\n",
              "      <td>6</td>\n",
              "      <td>Cheongdo-gun</td>\n",
              "      <td>Cheongdo Daenam Hospital</td>\n",
              "      <td>1.0</td>\n",
              "    </tr>\n",
              "    <tr>\n",
              "      <th>4904</th>\n",
              "      <td>6020100205</td>\n",
              "      <td>1</td>\n",
              "      <td>5</td>\n",
              "      <td>Cheongdo-gun</td>\n",
              "      <td>Cheongdo Daenam Hospital</td>\n",
              "      <td>1.0</td>\n",
              "    </tr>\n",
              "    <tr>\n",
              "      <th>4905</th>\n",
              "      <td>6020100286</td>\n",
              "      <td>0</td>\n",
              "      <td>6</td>\n",
              "      <td>Cheongdo-gun</td>\n",
              "      <td>Cheongdo Daenam Hospital</td>\n",
              "      <td>1.0</td>\n",
              "    </tr>\n",
              "    <tr>\n",
              "      <th>4906</th>\n",
              "      <td>6020100298</td>\n",
              "      <td>0</td>\n",
              "      <td>5</td>\n",
              "      <td>Cheongdo-gun</td>\n",
              "      <td>Cheongdo Daenam Hospital</td>\n",
              "      <td>1.0</td>\n",
              "    </tr>\n",
              "  </tbody>\n",
              "</table>\n",
              "<p>66 rows × 6 columns</p>\n",
              "</div>"
            ],
            "text/plain": [
              "      patient_id  sex  ...            infection_case deceased_date\n",
              "1468  1200000038    1  ...      contact with patient           1.0\n",
              "1507  1200000114    0  ...        Shincheonji Church           1.0\n",
              "1508  1200000620    0  ...      contact with patient           1.0\n",
              "1509  1200000901    1  ...      contact with patient           1.0\n",
              "1510  1200001064    1  ...      contact with patient           1.0\n",
              "...          ...  ...  ...                       ...           ...\n",
              "4902  6020100104    0  ...  Cheongdo Daenam Hospital           1.0\n",
              "4903  6020100107    0  ...  Cheongdo Daenam Hospital           1.0\n",
              "4904  6020100205    1  ...  Cheongdo Daenam Hospital           1.0\n",
              "4905  6020100286    0  ...  Cheongdo Daenam Hospital           1.0\n",
              "4906  6020100298    0  ...  Cheongdo Daenam Hospital           1.0\n",
              "\n",
              "[66 rows x 6 columns]"
            ]
          },
          "metadata": {},
          "execution_count": 72
        }
      ]
    },
    {
      "cell_type": "markdown",
      "metadata": {
        "id": "oEkU-wmL7YKp"
      },
      "source": [
        "## จำนวนผู้ที่เสียชีวิต¶"
      ]
    },
    {
      "cell_type": "code",
      "metadata": {
        "colab": {
          "base_uri": "https://localhost:8080/"
        },
        "id": "GZhpxCmW62QE",
        "outputId": "fc5c5579-e1d1-441e-e3f5-bdb53becfe44"
      },
      "source": [
        "deceased.shape"
      ],
      "execution_count": 73,
      "outputs": [
        {
          "output_type": "execute_result",
          "data": {
            "text/plain": [
              "(66, 6)"
            ]
          },
          "metadata": {},
          "execution_count": 73
        }
      ]
    },
    {
      "cell_type": "markdown",
      "metadata": {
        "id": "AchBLkbk7d5Z"
      },
      "source": [
        "## จำนวนผู้เสียชีวิต จำแนกตามอายุของผู้ติดเชื้อโควิด"
      ]
    },
    {
      "cell_type": "code",
      "metadata": {
        "colab": {
          "base_uri": "https://localhost:8080/",
          "height": 233
        },
        "id": "viSV0jCW7aq8",
        "outputId": "4ee8787d-5225-4f85-f93c-abbd5aaa1891"
      },
      "source": [
        "\n",
        "deceased_age = deceased.groupby('age').count().sort_values(by=['deceased_date'],ascending=False).reset_index() # groupby กลุ่มอายุ\n",
        "deceased_age = deceased_age[['age','deceased_date']]\n",
        "deceased_age"
      ],
      "execution_count": 74,
      "outputs": [
        {
          "output_type": "execute_result",
          "data": {
            "text/html": [
              "<div>\n",
              "<style scoped>\n",
              "    .dataframe tbody tr th:only-of-type {\n",
              "        vertical-align: middle;\n",
              "    }\n",
              "\n",
              "    .dataframe tbody tr th {\n",
              "        vertical-align: top;\n",
              "    }\n",
              "\n",
              "    .dataframe thead th {\n",
              "        text-align: right;\n",
              "    }\n",
              "</style>\n",
              "<table border=\"1\" class=\"dataframe\">\n",
              "  <thead>\n",
              "    <tr style=\"text-align: right;\">\n",
              "      <th></th>\n",
              "      <th>age</th>\n",
              "      <th>deceased_date</th>\n",
              "    </tr>\n",
              "  </thead>\n",
              "  <tbody>\n",
              "    <tr>\n",
              "      <th>0</th>\n",
              "      <td>8</td>\n",
              "      <td>22</td>\n",
              "    </tr>\n",
              "    <tr>\n",
              "      <th>1</th>\n",
              "      <td>7</td>\n",
              "      <td>19</td>\n",
              "    </tr>\n",
              "    <tr>\n",
              "      <th>2</th>\n",
              "      <td>6</td>\n",
              "      <td>11</td>\n",
              "    </tr>\n",
              "    <tr>\n",
              "      <th>3</th>\n",
              "      <td>5</td>\n",
              "      <td>7</td>\n",
              "    </tr>\n",
              "    <tr>\n",
              "      <th>4</th>\n",
              "      <td>9</td>\n",
              "      <td>6</td>\n",
              "    </tr>\n",
              "    <tr>\n",
              "      <th>5</th>\n",
              "      <td>3</td>\n",
              "      <td>1</td>\n",
              "    </tr>\n",
              "  </tbody>\n",
              "</table>\n",
              "</div>"
            ],
            "text/plain": [
              "   age  deceased_date\n",
              "0    8             22\n",
              "1    7             19\n",
              "2    6             11\n",
              "3    5              7\n",
              "4    9              6\n",
              "5    3              1"
            ]
          },
          "metadata": {},
          "execution_count": 74
        }
      ]
    },
    {
      "cell_type": "code",
      "metadata": {
        "colab": {
          "base_uri": "https://localhost:8080/",
          "height": 265
        },
        "id": "hYO2SmLr7iXM",
        "outputId": "0d5bcfba-ecc3-4bf9-f2d4-33173e7ca63e"
      },
      "source": [
        "import numpy as np\n",
        "import matplotlib.pyplot as plt\n",
        "\n",
        "age = np.array(deceased_age['age'])\n",
        "deceased_date = np.array(deceased_age['deceased_date'])\n",
        "\n",
        "plt.bar(age,deceased_date)\n",
        "plt.show()"
      ],
      "execution_count": 75,
      "outputs": [
        {
          "output_type": "display_data",
          "data": {
            "image/png": "[encoded data removed]",
            "text/plain": [
              "<Figure size 432x288 with 1 Axes>"
            ]
          },
          "metadata": {
            "needs_background": "light"
          }
        }
      ]
    },
    {
      "cell_type": "markdown",
      "metadata": {
        "id": "-Bd710ZC98OY"
      },
      "source": [
        "## กลุ่มอายุที่มีผู้เสียชีวิตมากที่สุด คือ 80-89 ปี  รองลงมา คือ 70-79 ปี"
      ]
    },
    {
      "cell_type": "markdown",
      "metadata": {
        "id": "iA6GJGwA-ECI"
      },
      "source": [
        "## จำนวนผู้เสียชีวิต จำแนกตามเพศของผู้ติดเชื้อโควิด"
      ]
    },
    {
      "cell_type": "code",
      "metadata": {
        "colab": {
          "base_uri": "https://localhost:8080/",
          "height": 110
        },
        "id": "6H7502A-94pU",
        "outputId": "0918df47-3385-4ad6-dfea-d4e99d4da2ac"
      },
      "source": [
        "deceased_sex = deceased.groupby('sex').count().sort_values(by=['deceased_date'],ascending=False).reset_index() # groupby กลุ่มอายุ\n",
        "deceased_sex = deceased_sex[['sex','deceased_date']]\n",
        "deceased_sex"
      ],
      "execution_count": 76,
      "outputs": [
        {
          "output_type": "execute_result",
          "data": {
            "text/html": [
              "<div>\n",
              "<style scoped>\n",
              "    .dataframe tbody tr th:only-of-type {\n",
              "        vertical-align: middle;\n",
              "    }\n",
              "\n",
              "    .dataframe tbody tr th {\n",
              "        vertical-align: top;\n",
              "    }\n",
              "\n",
              "    .dataframe thead th {\n",
              "        text-align: right;\n",
              "    }\n",
              "</style>\n",
              "<table border=\"1\" class=\"dataframe\">\n",
              "  <thead>\n",
              "    <tr style=\"text-align: right;\">\n",
              "      <th></th>\n",
              "      <th>sex</th>\n",
              "      <th>deceased_date</th>\n",
              "    </tr>\n",
              "  </thead>\n",
              "  <tbody>\n",
              "    <tr>\n",
              "      <th>0</th>\n",
              "      <td>0</td>\n",
              "      <td>40</td>\n",
              "    </tr>\n",
              "    <tr>\n",
              "      <th>1</th>\n",
              "      <td>1</td>\n",
              "      <td>26</td>\n",
              "    </tr>\n",
              "  </tbody>\n",
              "</table>\n",
              "</div>"
            ],
            "text/plain": [
              "   sex  deceased_date\n",
              "0    0             40\n",
              "1    1             26"
            ]
          },
          "metadata": {},
          "execution_count": 76
        }
      ]
    },
    {
      "cell_type": "markdown",
      "metadata": {
        "id": "okXGlgMv-NjP"
      },
      "source": [
        " 0 = ชาย  1 = หญิง"
      ]
    },
    {
      "cell_type": "code",
      "metadata": {
        "colab": {
          "base_uri": "https://localhost:8080/",
          "height": 265
        },
        "id": "vz4RloUC-I3z",
        "outputId": "d6c91cc7-a0f3-431b-d9a0-cc0684865995"
      },
      "source": [
        "import numpy as np\n",
        "import matplotlib.pyplot as plt\n",
        "\n",
        "sex = np.array(deceased_sex['sex'])\n",
        "deceased_date = np.array(deceased_sex['deceased_date'])\n",
        "\n",
        "plt.bar(sex,deceased_date , color='green')\n",
        "plt.show()"
      ],
      "execution_count": 77,
      "outputs": [
        {
          "output_type": "display_data",
          "data": {
            "image/png": "[encoded data removed]",
            "text/plain": [
              "<Figure size 432x288 with 1 Axes>"
            ]
          },
          "metadata": {
            "needs_background": "light"
          }
        }
      ]
    },
    {
      "cell_type": "markdown",
      "metadata": {
        "id": "BJIi-3SX-gCQ"
      },
      "source": [
        "ผู้ชายที่ติดเชื้อมีจำนวนผู้เสียชีวิตมากกว่า ผู้หญิงที่ติดเชื้อ"
      ]
    },
    {
      "cell_type": "markdown",
      "metadata": {
        "id": "utF6HpO0-jZU"
      },
      "source": [
        "## จำนวนผู้เสียชีวิต จำแนกตามสาเหตุการติดเชื้อ"
      ]
    },
    {
      "cell_type": "code",
      "metadata": {
        "colab": {
          "base_uri": "https://localhost:8080/",
          "height": 233
        },
        "id": "o6jiG1gm-cgr",
        "outputId": "b0cab5f2-cf82-4fe7-b9b8-e55cdb3b0024"
      },
      "source": [
        "deceased_Infec = deceased.groupby('infection_case').count().sort_values(by=['deceased_date'],ascending=False).reset_index() \n",
        "deceased_Infec = deceased_Infec[['infection_case','deceased_date']]\n",
        "deceased_Infec"
      ],
      "execution_count": 78,
      "outputs": [
        {
          "output_type": "execute_result",
          "data": {
            "text/html": [
              "<div>\n",
              "<style scoped>\n",
              "    .dataframe tbody tr th:only-of-type {\n",
              "        vertical-align: middle;\n",
              "    }\n",
              "\n",
              "    .dataframe tbody tr th {\n",
              "        vertical-align: top;\n",
              "    }\n",
              "\n",
              "    .dataframe thead th {\n",
              "        text-align: right;\n",
              "    }\n",
              "</style>\n",
              "<table border=\"1\" class=\"dataframe\">\n",
              "  <thead>\n",
              "    <tr style=\"text-align: right;\">\n",
              "      <th></th>\n",
              "      <th>infection_case</th>\n",
              "      <th>deceased_date</th>\n",
              "    </tr>\n",
              "  </thead>\n",
              "  <tbody>\n",
              "    <tr>\n",
              "      <th>0</th>\n",
              "      <td>contact with patient</td>\n",
              "      <td>43</td>\n",
              "    </tr>\n",
              "    <tr>\n",
              "      <th>1</th>\n",
              "      <td>etc</td>\n",
              "      <td>12</td>\n",
              "    </tr>\n",
              "    <tr>\n",
              "      <th>2</th>\n",
              "      <td>Cheongdo Daenam Hospital</td>\n",
              "      <td>7</td>\n",
              "    </tr>\n",
              "    <tr>\n",
              "      <th>3</th>\n",
              "      <td>Shincheonji Church</td>\n",
              "      <td>2</td>\n",
              "    </tr>\n",
              "    <tr>\n",
              "      <th>4</th>\n",
              "      <td>Bonghwa Pureun Nursing Home</td>\n",
              "      <td>1</td>\n",
              "    </tr>\n",
              "    <tr>\n",
              "      <th>5</th>\n",
              "      <td>Gyeongsan Jeil Silver Town</td>\n",
              "      <td>1</td>\n",
              "    </tr>\n",
              "  </tbody>\n",
              "</table>\n",
              "</div>"
            ],
            "text/plain": [
              "                infection_case  deceased_date\n",
              "0         contact with patient             43\n",
              "1                          etc             12\n",
              "2     Cheongdo Daenam Hospital              7\n",
              "3           Shincheonji Church              2\n",
              "4  Bonghwa Pureun Nursing Home              1\n",
              "5   Gyeongsan Jeil Silver Town              1"
            ]
          },
          "metadata": {},
          "execution_count": 78
        }
      ]
    },
    {
      "cell_type": "code",
      "metadata": {
        "colab": {
          "base_uri": "https://localhost:8080/",
          "height": 265
        },
        "id": "QHYNv8Ab-pD8",
        "outputId": "5507ff4f-fffb-4298-d4f7-c93562f50174"
      },
      "source": [
        "\n",
        "infection = np.array(deceased_Infec['infection_case'])\n",
        "deceased_date = np.array(deceased_Infec['deceased_date'])\n",
        "\n",
        "plt.bar(infection,deceased_date , color='red')\n",
        "plt.show()"
      ],
      "execution_count": 79,
      "outputs": [
        {
          "output_type": "display_data",
          "data": {
            "image/png": "[encoded data removed]",
            "text/plain": [
              "<Figure size 432x288 with 1 Axes>"
            ]
          },
          "metadata": {
            "needs_background": "light"
          }
        }
      ]
    },
    {
      "cell_type": "markdown",
      "metadata": {
        "id": "Tz4O08Cg-t5j"
      },
      "source": [
        "ส่วนใหญ่จะมีสาเหตุของงการติดเชื้อ มาจาก ใกล้ชิดหรือสัมผัสกับผู้ติดเชื้อ"
      ]
    },
    {
      "cell_type": "markdown",
      "metadata": {
        "id": "BSfjLBCp-xUX"
      },
      "source": [
        "## จำนวนผู้เสียชีวิต จำแนกตามเมืองของผู้ติดเชื้อโควิด"
      ]
    },
    {
      "cell_type": "code",
      "metadata": {
        "colab": {
          "base_uri": "https://localhost:8080/",
          "height": 387
        },
        "id": "d40xaLun-rfE",
        "outputId": "e9ded0d5-4d90-4974-ebb8-954866e9b461"
      },
      "source": [
        "deceased_city = deceased.groupby('city').count().sort_values(by=['deceased_date'],ascending=False).reset_index() \n",
        "deceased_city = deceased_city[['city','deceased_date']]\n",
        "deceased_city"
      ],
      "execution_count": 80,
      "outputs": [
        {
          "output_type": "execute_result",
          "data": {
            "text/html": [
              "<div>\n",
              "<style scoped>\n",
              "    .dataframe tbody tr th:only-of-type {\n",
              "        vertical-align: middle;\n",
              "    }\n",
              "\n",
              "    .dataframe tbody tr th {\n",
              "        vertical-align: top;\n",
              "    }\n",
              "\n",
              "    .dataframe thead th {\n",
              "        text-align: right;\n",
              "    }\n",
              "</style>\n",
              "<table border=\"1\" class=\"dataframe\">\n",
              "  <thead>\n",
              "    <tr style=\"text-align: right;\">\n",
              "      <th></th>\n",
              "      <th>city</th>\n",
              "      <th>deceased_date</th>\n",
              "    </tr>\n",
              "  </thead>\n",
              "  <tbody>\n",
              "    <tr>\n",
              "      <th>0</th>\n",
              "      <td>Gyeongsan-si</td>\n",
              "      <td>47</td>\n",
              "    </tr>\n",
              "    <tr>\n",
              "      <th>1</th>\n",
              "      <td>Cheongdo-gun</td>\n",
              "      <td>7</td>\n",
              "    </tr>\n",
              "    <tr>\n",
              "      <th>2</th>\n",
              "      <td>Cheorwon-gun</td>\n",
              "      <td>2</td>\n",
              "    </tr>\n",
              "    <tr>\n",
              "      <th>3</th>\n",
              "      <td>Nam-gu</td>\n",
              "      <td>2</td>\n",
              "    </tr>\n",
              "    <tr>\n",
              "      <th>4</th>\n",
              "      <td>Yeongcheon-si</td>\n",
              "      <td>2</td>\n",
              "    </tr>\n",
              "    <tr>\n",
              "      <th>5</th>\n",
              "      <td>Bonghwa-gun</td>\n",
              "      <td>1</td>\n",
              "    </tr>\n",
              "    <tr>\n",
              "      <th>6</th>\n",
              "      <td>Namyangju-si</td>\n",
              "      <td>1</td>\n",
              "    </tr>\n",
              "    <tr>\n",
              "      <th>7</th>\n",
              "      <td>Seo-gu</td>\n",
              "      <td>1</td>\n",
              "    </tr>\n",
              "    <tr>\n",
              "      <th>8</th>\n",
              "      <td>Seongju-gun</td>\n",
              "      <td>1</td>\n",
              "    </tr>\n",
              "    <tr>\n",
              "      <th>9</th>\n",
              "      <td>Taebaek-si</td>\n",
              "      <td>1</td>\n",
              "    </tr>\n",
              "    <tr>\n",
              "      <th>10</th>\n",
              "      <td>Yecheon-gun</td>\n",
              "      <td>1</td>\n",
              "    </tr>\n",
              "  </tbody>\n",
              "</table>\n",
              "</div>"
            ],
            "text/plain": [
              "             city  deceased_date\n",
              "0    Gyeongsan-si             47\n",
              "1    Cheongdo-gun              7\n",
              "2    Cheorwon-gun              2\n",
              "3          Nam-gu              2\n",
              "4   Yeongcheon-si              2\n",
              "5     Bonghwa-gun              1\n",
              "6    Namyangju-si              1\n",
              "7          Seo-gu              1\n",
              "8     Seongju-gun              1\n",
              "9      Taebaek-si              1\n",
              "10    Yecheon-gun              1"
            ]
          },
          "metadata": {},
          "execution_count": 80
        }
      ]
    },
    {
      "cell_type": "code",
      "metadata": {
        "colab": {
          "base_uri": "https://localhost:8080/",
          "height": 265
        },
        "id": "qOgRF3pf-zyb",
        "outputId": "2c1a8117-76cc-41aa-9420-e3baa7fc64ec"
      },
      "source": [
        "\n",
        "city = np.array(deceased_city['city'])\n",
        "deceased_date = np.array(deceased_city['deceased_date'])\n",
        "\n",
        "plt.bar(city,deceased_date , color='pink')\n",
        "plt.show()"
      ],
      "execution_count": 81,
      "outputs": [
        {
          "output_type": "display_data",
          "data": {
            "image/png": "[encoded data removed]",
            "text/plain": [
              "<Figure size 432x288 with 1 Axes>"
            ]
          },
          "metadata": {
            "needs_background": "light"
          }
        }
      ]
    },
    {
      "cell_type": "markdown",
      "metadata": {
        "id": "SGrmPleO-6pT"
      },
      "source": [
        "# เชื่อมตารางcode "
      ]
    },
    {
      "cell_type": "code",
      "metadata": {
        "colab": {
          "base_uri": "https://localhost:8080/",
          "height": 415
        },
        "id": "4m4BaGvT-14y",
        "outputId": "d533a653-8836-40e8-e629-474b086541ea"
      },
      "source": [
        "path = '/content/drive/My Drive/DPDM2021_DATA/Project' # เรียกข้อมูลจาก Drive \n",
        "city_id = pd.read_csv(os.path.join(path,'city_id.csv')) \n",
        "city_id"
      ],
      "execution_count": 82,
      "outputs": [
        {
          "output_type": "execute_result",
          "data": {
            "text/html": [
              "<div>\n",
              "<style scoped>\n",
              "    .dataframe tbody tr th:only-of-type {\n",
              "        vertical-align: middle;\n",
              "    }\n",
              "\n",
              "    .dataframe tbody tr th {\n",
              "        vertical-align: top;\n",
              "    }\n",
              "\n",
              "    .dataframe thead th {\n",
              "        text-align: right;\n",
              "    }\n",
              "</style>\n",
              "<table border=\"1\" class=\"dataframe\">\n",
              "  <thead>\n",
              "    <tr style=\"text-align: right;\">\n",
              "      <th></th>\n",
              "      <th>city</th>\n",
              "      <th>city_id</th>\n",
              "    </tr>\n",
              "  </thead>\n",
              "  <tbody>\n",
              "    <tr>\n",
              "      <th>0</th>\n",
              "      <td>Andong-si</td>\n",
              "      <td>1</td>\n",
              "    </tr>\n",
              "    <tr>\n",
              "      <th>1</th>\n",
              "      <td>Ansan-si</td>\n",
              "      <td>2</td>\n",
              "    </tr>\n",
              "    <tr>\n",
              "      <th>2</th>\n",
              "      <td>Anseong-si</td>\n",
              "      <td>3</td>\n",
              "    </tr>\n",
              "    <tr>\n",
              "      <th>3</th>\n",
              "      <td>Anyang-si</td>\n",
              "      <td>4</td>\n",
              "    </tr>\n",
              "    <tr>\n",
              "      <th>4</th>\n",
              "      <td>Asan-si</td>\n",
              "      <td>5</td>\n",
              "    </tr>\n",
              "    <tr>\n",
              "      <th>...</th>\n",
              "      <td>...</td>\n",
              "      <td>...</td>\n",
              "    </tr>\n",
              "    <tr>\n",
              "      <th>158</th>\n",
              "      <td>Yongin-si</td>\n",
              "      <td>159</td>\n",
              "    </tr>\n",
              "    <tr>\n",
              "      <th>159</th>\n",
              "      <td>Yongsan-gu</td>\n",
              "      <td>160</td>\n",
              "    </tr>\n",
              "    <tr>\n",
              "      <th>160</th>\n",
              "      <td>Yuseong-gu</td>\n",
              "      <td>161</td>\n",
              "    </tr>\n",
              "    <tr>\n",
              "      <th>161</th>\n",
              "      <td>etc</td>\n",
              "      <td>162</td>\n",
              "    </tr>\n",
              "    <tr>\n",
              "      <th>162</th>\n",
              "      <td>sankyeock-dong</td>\n",
              "      <td>163</td>\n",
              "    </tr>\n",
              "  </tbody>\n",
              "</table>\n",
              "<p>163 rows × 2 columns</p>\n",
              "</div>"
            ],
            "text/plain": [
              "               city  city_id\n",
              "0         Andong-si        1\n",
              "1          Ansan-si        2\n",
              "2        Anseong-si        3\n",
              "3         Anyang-si        4\n",
              "4           Asan-si        5\n",
              "..              ...      ...\n",
              "158       Yongin-si      159\n",
              "159      Yongsan-gu      160\n",
              "160      Yuseong-gu      161\n",
              "161             etc      162\n",
              "162  sankyeock-dong      163\n",
              "\n",
              "[163 rows x 2 columns]"
            ]
          },
          "metadata": {},
          "execution_count": 82
        }
      ]
    },
    {
      "cell_type": "code",
      "metadata": {
        "colab": {
          "base_uri": "https://localhost:8080/",
          "height": 1000
        },
        "id": "18OOBMYc_OBr",
        "outputId": "4629548f-80e0-4e9e-d649-e5df77eb3637"
      },
      "source": [
        "path = '/content/drive/My Drive/DPDM2021_DATA/Project' # เรียกข้อมูลจาก Drive \n",
        "infection_case_id = pd.read_csv(os.path.join(path,'infection_case_id.csv')) \n",
        "infection_case_id = infection_case_id[['infection_case','infection_case_id']]\n",
        "infection_case_id"
      ],
      "execution_count": 86,
      "outputs": [
        {
          "output_type": "execute_result",
          "data": {
            "text/html": [
              "<div>\n",
              "<style scoped>\n",
              "    .dataframe tbody tr th:only-of-type {\n",
              "        vertical-align: middle;\n",
              "    }\n",
              "\n",
              "    .dataframe tbody tr th {\n",
              "        vertical-align: top;\n",
              "    }\n",
              "\n",
              "    .dataframe thead th {\n",
              "        text-align: right;\n",
              "    }\n",
              "</style>\n",
              "<table border=\"1\" class=\"dataframe\">\n",
              "  <thead>\n",
              "    <tr style=\"text-align: right;\">\n",
              "      <th></th>\n",
              "      <th>infection_case</th>\n",
              "      <th>infection_case_id</th>\n",
              "    </tr>\n",
              "  </thead>\n",
              "  <tbody>\n",
              "    <tr>\n",
              "      <th>0</th>\n",
              "      <td>Anyang Gunpo Pastors Group</td>\n",
              "      <td>1</td>\n",
              "    </tr>\n",
              "    <tr>\n",
              "      <th>1</th>\n",
              "      <td>Biblical Language study meeting</td>\n",
              "      <td>2</td>\n",
              "    </tr>\n",
              "    <tr>\n",
              "      <th>2</th>\n",
              "      <td>Bonghwa Pureun Nursing Home</td>\n",
              "      <td>3</td>\n",
              "    </tr>\n",
              "    <tr>\n",
              "      <th>3</th>\n",
              "      <td>Changnyeong Coin Karaoke</td>\n",
              "      <td>4</td>\n",
              "    </tr>\n",
              "    <tr>\n",
              "      <th>4</th>\n",
              "      <td>Cheongdo Daenam Hospital</td>\n",
              "      <td>5</td>\n",
              "    </tr>\n",
              "    <tr>\n",
              "      <th>5</th>\n",
              "      <td>Coupang Logistics Center</td>\n",
              "      <td>6</td>\n",
              "    </tr>\n",
              "    <tr>\n",
              "      <th>6</th>\n",
              "      <td>Daejeon door-to-door sales</td>\n",
              "      <td>7</td>\n",
              "    </tr>\n",
              "    <tr>\n",
              "      <th>7</th>\n",
              "      <td>Daezayeon Korea</td>\n",
              "      <td>8</td>\n",
              "    </tr>\n",
              "    <tr>\n",
              "      <th>8</th>\n",
              "      <td>Day Care Center</td>\n",
              "      <td>9</td>\n",
              "    </tr>\n",
              "    <tr>\n",
              "      <th>9</th>\n",
              "      <td>Dongan Church</td>\n",
              "      <td>10</td>\n",
              "    </tr>\n",
              "    <tr>\n",
              "      <th>10</th>\n",
              "      <td>Dunsan Electronics Town</td>\n",
              "      <td>11</td>\n",
              "    </tr>\n",
              "    <tr>\n",
              "      <th>11</th>\n",
              "      <td>Eunpyeong St. Mary's Hospital</td>\n",
              "      <td>12</td>\n",
              "    </tr>\n",
              "    <tr>\n",
              "      <th>12</th>\n",
              "      <td>Gangnam Dongin Church</td>\n",
              "      <td>13</td>\n",
              "    </tr>\n",
              "    <tr>\n",
              "      <th>13</th>\n",
              "      <td>Gangnam Yeoksam-dong gathering</td>\n",
              "      <td>14</td>\n",
              "    </tr>\n",
              "    <tr>\n",
              "      <th>14</th>\n",
              "      <td>Geochang Church</td>\n",
              "      <td>15</td>\n",
              "    </tr>\n",
              "    <tr>\n",
              "      <th>15</th>\n",
              "      <td>Geumcheon-gu rice milling machine manufacture</td>\n",
              "      <td>16</td>\n",
              "    </tr>\n",
              "    <tr>\n",
              "      <th>16</th>\n",
              "      <td>Guri Collective Infection</td>\n",
              "      <td>17</td>\n",
              "    </tr>\n",
              "    <tr>\n",
              "      <th>17</th>\n",
              "      <td>Guro-gu Call Center</td>\n",
              "      <td>18</td>\n",
              "    </tr>\n",
              "    <tr>\n",
              "      <th>18</th>\n",
              "      <td>Gyeongsan Cham Joeun Community Center</td>\n",
              "      <td>19</td>\n",
              "    </tr>\n",
              "    <tr>\n",
              "      <th>19</th>\n",
              "      <td>Gyeongsan Jeil Silver Town</td>\n",
              "      <td>20</td>\n",
              "    </tr>\n",
              "    <tr>\n",
              "      <th>20</th>\n",
              "      <td>Gyeongsan Seorin Nursing Home</td>\n",
              "      <td>21</td>\n",
              "    </tr>\n",
              "    <tr>\n",
              "      <th>21</th>\n",
              "      <td>Itaewon Clubs</td>\n",
              "      <td>22</td>\n",
              "    </tr>\n",
              "    <tr>\n",
              "      <th>22</th>\n",
              "      <td>KB Life Insurance</td>\n",
              "      <td>23</td>\n",
              "    </tr>\n",
              "    <tr>\n",
              "      <th>23</th>\n",
              "      <td>Korea Campus Crusade of Christ</td>\n",
              "      <td>24</td>\n",
              "    </tr>\n",
              "    <tr>\n",
              "      <th>24</th>\n",
              "      <td>Milal Shelter</td>\n",
              "      <td>25</td>\n",
              "    </tr>\n",
              "    <tr>\n",
              "      <th>25</th>\n",
              "      <td>Ministry of Oceans and Fisheries</td>\n",
              "      <td>26</td>\n",
              "    </tr>\n",
              "    <tr>\n",
              "      <th>26</th>\n",
              "      <td>Onchun Church</td>\n",
              "      <td>27</td>\n",
              "    </tr>\n",
              "    <tr>\n",
              "      <th>27</th>\n",
              "      <td>Orange Life</td>\n",
              "      <td>28</td>\n",
              "    </tr>\n",
              "    <tr>\n",
              "      <th>28</th>\n",
              "      <td>Orange Town</td>\n",
              "      <td>29</td>\n",
              "    </tr>\n",
              "    <tr>\n",
              "      <th>29</th>\n",
              "      <td>Pilgrimage to Israel</td>\n",
              "      <td>30</td>\n",
              "    </tr>\n",
              "    <tr>\n",
              "      <th>30</th>\n",
              "      <td>Richway</td>\n",
              "      <td>31</td>\n",
              "    </tr>\n",
              "    <tr>\n",
              "      <th>31</th>\n",
              "      <td>River of Grace Community Church</td>\n",
              "      <td>32</td>\n",
              "    </tr>\n",
              "    <tr>\n",
              "      <th>32</th>\n",
              "      <td>SMR Newly Planted Churches Group</td>\n",
              "      <td>33</td>\n",
              "    </tr>\n",
              "    <tr>\n",
              "      <th>33</th>\n",
              "      <td>Samsung Fire &amp; Marine Insurance</td>\n",
              "      <td>34</td>\n",
              "    </tr>\n",
              "    <tr>\n",
              "      <th>34</th>\n",
              "      <td>Samsung Medical Center</td>\n",
              "      <td>35</td>\n",
              "    </tr>\n",
              "    <tr>\n",
              "      <th>35</th>\n",
              "      <td>Seocho Family</td>\n",
              "      <td>36</td>\n",
              "    </tr>\n",
              "    <tr>\n",
              "      <th>36</th>\n",
              "      <td>Seongdong-gu APT</td>\n",
              "      <td>37</td>\n",
              "    </tr>\n",
              "    <tr>\n",
              "      <th>37</th>\n",
              "      <td>Seoul City Hall Station safety worker</td>\n",
              "      <td>38</td>\n",
              "    </tr>\n",
              "    <tr>\n",
              "      <th>38</th>\n",
              "      <td>Shincheonji Church</td>\n",
              "      <td>39</td>\n",
              "    </tr>\n",
              "    <tr>\n",
              "      <th>39</th>\n",
              "      <td>Suyeong-gu Kindergarten</td>\n",
              "      <td>40</td>\n",
              "    </tr>\n",
              "    <tr>\n",
              "      <th>40</th>\n",
              "      <td>Uiwang Logistics Center</td>\n",
              "      <td>41</td>\n",
              "    </tr>\n",
              "    <tr>\n",
              "      <th>41</th>\n",
              "      <td>Wangsung Church</td>\n",
              "      <td>42</td>\n",
              "    </tr>\n",
              "    <tr>\n",
              "      <th>42</th>\n",
              "      <td>Yangcheon Table Tennis Club</td>\n",
              "      <td>43</td>\n",
              "    </tr>\n",
              "    <tr>\n",
              "      <th>43</th>\n",
              "      <td>Yeonana News Class</td>\n",
              "      <td>44</td>\n",
              "    </tr>\n",
              "    <tr>\n",
              "      <th>44</th>\n",
              "      <td>Yeongdeungpo Learning Institute</td>\n",
              "      <td>45</td>\n",
              "    </tr>\n",
              "    <tr>\n",
              "      <th>45</th>\n",
              "      <td>Yongin Brothers</td>\n",
              "      <td>46</td>\n",
              "    </tr>\n",
              "    <tr>\n",
              "      <th>46</th>\n",
              "      <td>contact with patient</td>\n",
              "      <td>47</td>\n",
              "    </tr>\n",
              "    <tr>\n",
              "      <th>47</th>\n",
              "      <td>etc</td>\n",
              "      <td>48</td>\n",
              "    </tr>\n",
              "    <tr>\n",
              "      <th>48</th>\n",
              "      <td>gym facility in Cheonan</td>\n",
              "      <td>49</td>\n",
              "    </tr>\n",
              "    <tr>\n",
              "      <th>49</th>\n",
              "      <td>gym facility in Sejong</td>\n",
              "      <td>50</td>\n",
              "    </tr>\n",
              "    <tr>\n",
              "      <th>50</th>\n",
              "      <td>overseas inflow</td>\n",
              "      <td>51</td>\n",
              "    </tr>\n",
              "  </tbody>\n",
              "</table>\n",
              "</div>"
            ],
            "text/plain": [
              "                                   infection_case  infection_case_id\n",
              "0                      Anyang Gunpo Pastors Group                  1\n",
              "1                 Biblical Language study meeting                  2\n",
              "2                     Bonghwa Pureun Nursing Home                  3\n",
              "3                        Changnyeong Coin Karaoke                  4\n",
              "4                        Cheongdo Daenam Hospital                  5\n",
              "5                        Coupang Logistics Center                  6\n",
              "6                      Daejeon door-to-door sales                  7\n",
              "7                                 Daezayeon Korea                  8\n",
              "8                                 Day Care Center                  9\n",
              "9                                   Dongan Church                 10\n",
              "10                        Dunsan Electronics Town                 11\n",
              "11                  Eunpyeong St. Mary's Hospital                 12\n",
              "12                          Gangnam Dongin Church                 13\n",
              "13                 Gangnam Yeoksam-dong gathering                 14\n",
              "14                                Geochang Church                 15\n",
              "15  Geumcheon-gu rice milling machine manufacture                 16\n",
              "16                      Guri Collective Infection                 17\n",
              "17                            Guro-gu Call Center                 18\n",
              "18          Gyeongsan Cham Joeun Community Center                 19\n",
              "19                     Gyeongsan Jeil Silver Town                 20\n",
              "20                  Gyeongsan Seorin Nursing Home                 21\n",
              "21                                  Itaewon Clubs                 22\n",
              "22                              KB Life Insurance                 23\n",
              "23                 Korea Campus Crusade of Christ                 24\n",
              "24                                  Milal Shelter                 25\n",
              "25               Ministry of Oceans and Fisheries                 26\n",
              "26                                  Onchun Church                 27\n",
              "27                                    Orange Life                 28\n",
              "28                                    Orange Town                 29\n",
              "29                           Pilgrimage to Israel                 30\n",
              "30                                        Richway                 31\n",
              "31                River of Grace Community Church                 32\n",
              "32               SMR Newly Planted Churches Group                 33\n",
              "33                Samsung Fire & Marine Insurance                 34\n",
              "34                         Samsung Medical Center                 35\n",
              "35                                  Seocho Family                 36\n",
              "36                               Seongdong-gu APT                 37\n",
              "37          Seoul City Hall Station safety worker                 38\n",
              "38                             Shincheonji Church                 39\n",
              "39                        Suyeong-gu Kindergarten                 40\n",
              "40                        Uiwang Logistics Center                 41\n",
              "41                                Wangsung Church                 42\n",
              "42                    Yangcheon Table Tennis Club                 43\n",
              "43                             Yeonana News Class                 44\n",
              "44                Yeongdeungpo Learning Institute                 45\n",
              "45                                Yongin Brothers                 46\n",
              "46                           contact with patient                 47\n",
              "47                                            etc                 48\n",
              "48                        gym facility in Cheonan                 49\n",
              "49                         gym facility in Sejong                 50\n",
              "50                                overseas inflow                 51"
            ]
          },
          "metadata": {},
          "execution_count": 86
        }
      ]
    },
    {
      "cell_type": "code",
      "metadata": {
        "colab": {
          "base_uri": "https://localhost:8080/",
          "height": 415
        },
        "id": "BZZjFrtd_Z6E",
        "outputId": "6ce93ca4-40f7-4647-b31b-c933ef0f5c9d"
      },
      "source": [
        "Patient_Casedata = pd.merge(Patient_data_,city_id,on='infection_case')# เชื่อมตาราง  ด้วย .merge \n",
        "Patient_Casedata"
      ],
      "execution_count": 87,
      "outputs": [
        {
          "output_type": "execute_result",
          "data": {
            "text/html": [
              "<div>\n",
              "<style scoped>\n",
              "    .dataframe tbody tr th:only-of-type {\n",
              "        vertical-align: middle;\n",
              "    }\n",
              "\n",
              "    .dataframe tbody tr th {\n",
              "        vertical-align: top;\n",
              "    }\n",
              "\n",
              "    .dataframe thead th {\n",
              "        text-align: right;\n",
              "    }\n",
              "</style>\n",
              "<table border=\"1\" class=\"dataframe\">\n",
              "  <thead>\n",
              "    <tr style=\"text-align: right;\">\n",
              "      <th></th>\n",
              "      <th>patient_id</th>\n",
              "      <th>sex</th>\n",
              "      <th>age</th>\n",
              "      <th>city</th>\n",
              "      <th>infection_case</th>\n",
              "      <th>deceased_date</th>\n",
              "      <th>infection_case_id</th>\n",
              "    </tr>\n",
              "  </thead>\n",
              "  <tbody>\n",
              "    <tr>\n",
              "      <th>0</th>\n",
              "      <td>1000000001</td>\n",
              "      <td>0</td>\n",
              "      <td>5</td>\n",
              "      <td>Gangseo-gu</td>\n",
              "      <td>overseas inflow</td>\n",
              "      <td>0.0</td>\n",
              "      <td>51</td>\n",
              "    </tr>\n",
              "    <tr>\n",
              "      <th>1</th>\n",
              "      <td>1000000002</td>\n",
              "      <td>0</td>\n",
              "      <td>3</td>\n",
              "      <td>Jungnang-gu</td>\n",
              "      <td>overseas inflow</td>\n",
              "      <td>0.0</td>\n",
              "      <td>51</td>\n",
              "    </tr>\n",
              "    <tr>\n",
              "      <th>2</th>\n",
              "      <td>1000000004</td>\n",
              "      <td>0</td>\n",
              "      <td>2</td>\n",
              "      <td>Mapo-gu</td>\n",
              "      <td>overseas inflow</td>\n",
              "      <td>0.0</td>\n",
              "      <td>51</td>\n",
              "    </tr>\n",
              "    <tr>\n",
              "      <th>3</th>\n",
              "      <td>1000000008</td>\n",
              "      <td>0</td>\n",
              "      <td>2</td>\n",
              "      <td>etc</td>\n",
              "      <td>overseas inflow</td>\n",
              "      <td>0.0</td>\n",
              "      <td>51</td>\n",
              "    </tr>\n",
              "    <tr>\n",
              "      <th>4</th>\n",
              "      <td>1000000009</td>\n",
              "      <td>0</td>\n",
              "      <td>3</td>\n",
              "      <td>Songpa-gu</td>\n",
              "      <td>overseas inflow</td>\n",
              "      <td>0.0</td>\n",
              "      <td>51</td>\n",
              "    </tr>\n",
              "    <tr>\n",
              "      <th>...</th>\n",
              "      <td>...</td>\n",
              "      <td>...</td>\n",
              "      <td>...</td>\n",
              "      <td>...</td>\n",
              "      <td>...</td>\n",
              "      <td>...</td>\n",
              "      <td>...</td>\n",
              "    </tr>\n",
              "    <tr>\n",
              "      <th>5160</th>\n",
              "      <td>6100000059</td>\n",
              "      <td>1</td>\n",
              "      <td>5</td>\n",
              "      <td>Geochang-gun</td>\n",
              "      <td>Geochang Church</td>\n",
              "      <td>0.0</td>\n",
              "      <td>15</td>\n",
              "    </tr>\n",
              "    <tr>\n",
              "      <th>5161</th>\n",
              "      <td>6100000051</td>\n",
              "      <td>1</td>\n",
              "      <td>6</td>\n",
              "      <td>Changnyeong-gun</td>\n",
              "      <td>Changnyeong Coin Karaoke</td>\n",
              "      <td>0.0</td>\n",
              "      <td>4</td>\n",
              "    </tr>\n",
              "    <tr>\n",
              "      <th>5162</th>\n",
              "      <td>6100000070</td>\n",
              "      <td>0</td>\n",
              "      <td>2</td>\n",
              "      <td>Changnyeong-gun</td>\n",
              "      <td>Changnyeong Coin Karaoke</td>\n",
              "      <td>0.0</td>\n",
              "      <td>4</td>\n",
              "    </tr>\n",
              "    <tr>\n",
              "      <th>5163</th>\n",
              "      <td>6100000071</td>\n",
              "      <td>1</td>\n",
              "      <td>1</td>\n",
              "      <td>Changnyeong-gun</td>\n",
              "      <td>Changnyeong Coin Karaoke</td>\n",
              "      <td>0.0</td>\n",
              "      <td>4</td>\n",
              "    </tr>\n",
              "    <tr>\n",
              "      <th>5164</th>\n",
              "      <td>6100000076</td>\n",
              "      <td>0</td>\n",
              "      <td>2</td>\n",
              "      <td>Changnyeong-gun</td>\n",
              "      <td>Changnyeong Coin Karaoke</td>\n",
              "      <td>0.0</td>\n",
              "      <td>4</td>\n",
              "    </tr>\n",
              "  </tbody>\n",
              "</table>\n",
              "<p>5165 rows × 7 columns</p>\n",
              "</div>"
            ],
            "text/plain": [
              "      patient_id  sex  ...  deceased_date infection_case_id\n",
              "0     1000000001    0  ...            0.0                51\n",
              "1     1000000002    0  ...            0.0                51\n",
              "2     1000000004    0  ...            0.0                51\n",
              "3     1000000008    0  ...            0.0                51\n",
              "4     1000000009    0  ...            0.0                51\n",
              "...          ...  ...  ...            ...               ...\n",
              "5160  6100000059    1  ...            0.0                15\n",
              "5161  6100000051    1  ...            0.0                 4\n",
              "5162  6100000070    0  ...            0.0                 4\n",
              "5163  6100000071    1  ...            0.0                 4\n",
              "5164  6100000076    0  ...            0.0                 4\n",
              "\n",
              "[5165 rows x 7 columns]"
            ]
          },
          "metadata": {},
          "execution_count": 87
        }
      ]
    },
    {
      "cell_type": "code",
      "metadata": {
        "colab": {
          "base_uri": "https://localhost:8080/",
          "height": 415
        },
        "id": "KWHnuGbfAngd",
        "outputId": "a70873bc-840c-47cb-efbe-f8dd45835eac"
      },
      "source": [
        "Patient_Total = pd.merge(Patient_Casedata,city_id,on='city')# เชื่อมตาราง  ด้วย .merge \n",
        "Patient_Total"
      ],
      "execution_count": 89,
      "outputs": [
        {
          "output_type": "execute_result",
          "data": {
            "text/html": [
              "<div>\n",
              "<style scoped>\n",
              "    .dataframe tbody tr th:only-of-type {\n",
              "        vertical-align: middle;\n",
              "    }\n",
              "\n",
              "    .dataframe tbody tr th {\n",
              "        vertical-align: top;\n",
              "    }\n",
              "\n",
              "    .dataframe thead th {\n",
              "        text-align: right;\n",
              "    }\n",
              "</style>\n",
              "<table border=\"1\" class=\"dataframe\">\n",
              "  <thead>\n",
              "    <tr style=\"text-align: right;\">\n",
              "      <th></th>\n",
              "      <th>patient_id</th>\n",
              "      <th>sex</th>\n",
              "      <th>age</th>\n",
              "      <th>city</th>\n",
              "      <th>infection_case</th>\n",
              "      <th>deceased_date</th>\n",
              "      <th>infection_case_id</th>\n",
              "      <th>city_id</th>\n",
              "    </tr>\n",
              "  </thead>\n",
              "  <tbody>\n",
              "    <tr>\n",
              "      <th>0</th>\n",
              "      <td>1000000001</td>\n",
              "      <td>0</td>\n",
              "      <td>5</td>\n",
              "      <td>Gangseo-gu</td>\n",
              "      <td>overseas inflow</td>\n",
              "      <td>0.0</td>\n",
              "      <td>51</td>\n",
              "      <td>40</td>\n",
              "    </tr>\n",
              "    <tr>\n",
              "      <th>1</th>\n",
              "      <td>1000000027</td>\n",
              "      <td>0</td>\n",
              "      <td>5</td>\n",
              "      <td>Gangseo-gu</td>\n",
              "      <td>overseas inflow</td>\n",
              "      <td>0.0</td>\n",
              "      <td>51</td>\n",
              "      <td>40</td>\n",
              "    </tr>\n",
              "    <tr>\n",
              "      <th>2</th>\n",
              "      <td>1000000317</td>\n",
              "      <td>1</td>\n",
              "      <td>3</td>\n",
              "      <td>Gangseo-gu</td>\n",
              "      <td>overseas inflow</td>\n",
              "      <td>0.0</td>\n",
              "      <td>51</td>\n",
              "      <td>40</td>\n",
              "    </tr>\n",
              "    <tr>\n",
              "      <th>3</th>\n",
              "      <td>1000000327</td>\n",
              "      <td>1</td>\n",
              "      <td>2</td>\n",
              "      <td>Gangseo-gu</td>\n",
              "      <td>overseas inflow</td>\n",
              "      <td>0.0</td>\n",
              "      <td>51</td>\n",
              "      <td>40</td>\n",
              "    </tr>\n",
              "    <tr>\n",
              "      <th>4</th>\n",
              "      <td>1000000335</td>\n",
              "      <td>0</td>\n",
              "      <td>3</td>\n",
              "      <td>Gangseo-gu</td>\n",
              "      <td>overseas inflow</td>\n",
              "      <td>0.0</td>\n",
              "      <td>51</td>\n",
              "      <td>40</td>\n",
              "    </tr>\n",
              "    <tr>\n",
              "      <th>...</th>\n",
              "      <td>...</td>\n",
              "      <td>...</td>\n",
              "      <td>...</td>\n",
              "      <td>...</td>\n",
              "      <td>...</td>\n",
              "      <td>...</td>\n",
              "      <td>...</td>\n",
              "      <td>...</td>\n",
              "    </tr>\n",
              "    <tr>\n",
              "      <th>5160</th>\n",
              "      <td>6014000005</td>\n",
              "      <td>0</td>\n",
              "      <td>6</td>\n",
              "      <td>Yeongju-si</td>\n",
              "      <td>etc</td>\n",
              "      <td>0.0</td>\n",
              "      <td>48</td>\n",
              "      <td>153</td>\n",
              "    </tr>\n",
              "    <tr>\n",
              "      <th>5161</th>\n",
              "      <td>6100000089</td>\n",
              "      <td>0</td>\n",
              "      <td>6</td>\n",
              "      <td>Haman-gun</td>\n",
              "      <td>etc</td>\n",
              "      <td>0.0</td>\n",
              "      <td>48</td>\n",
              "      <td>74</td>\n",
              "    </tr>\n",
              "    <tr>\n",
              "      <th>5162</th>\n",
              "      <td>6100000104</td>\n",
              "      <td>1</td>\n",
              "      <td>7</td>\n",
              "      <td>Sancheong-gun</td>\n",
              "      <td>etc</td>\n",
              "      <td>0.0</td>\n",
              "      <td>48</td>\n",
              "      <td>117</td>\n",
              "    </tr>\n",
              "    <tr>\n",
              "      <th>5163</th>\n",
              "      <td>6100000013</td>\n",
              "      <td>1</td>\n",
              "      <td>7</td>\n",
              "      <td>Goseong-gun</td>\n",
              "      <td>Shincheonji Church</td>\n",
              "      <td>0.0</td>\n",
              "      <td>39</td>\n",
              "      <td>54</td>\n",
              "    </tr>\n",
              "    <tr>\n",
              "      <th>5164</th>\n",
              "      <td>6100000063</td>\n",
              "      <td>1</td>\n",
              "      <td>2</td>\n",
              "      <td>Goseong-gun</td>\n",
              "      <td>Shincheonji Church</td>\n",
              "      <td>0.0</td>\n",
              "      <td>39</td>\n",
              "      <td>54</td>\n",
              "    </tr>\n",
              "  </tbody>\n",
              "</table>\n",
              "<p>5165 rows × 8 columns</p>\n",
              "</div>"
            ],
            "text/plain": [
              "      patient_id  sex  age  ... deceased_date infection_case_id  city_id\n",
              "0     1000000001    0    5  ...           0.0                51       40\n",
              "1     1000000027    0    5  ...           0.0                51       40\n",
              "2     1000000317    1    3  ...           0.0                51       40\n",
              "3     1000000327    1    2  ...           0.0                51       40\n",
              "4     1000000335    0    3  ...           0.0                51       40\n",
              "...          ...  ...  ...  ...           ...               ...      ...\n",
              "5160  6014000005    0    6  ...           0.0                48      153\n",
              "5161  6100000089    0    6  ...           0.0                48       74\n",
              "5162  6100000104    1    7  ...           0.0                48      117\n",
              "5163  6100000013    1    7  ...           0.0                39       54\n",
              "5164  6100000063    1    2  ...           0.0                39       54\n",
              "\n",
              "[5165 rows x 8 columns]"
            ]
          },
          "metadata": {},
          "execution_count": 89
        }
      ]
    },
    {
      "cell_type": "code",
      "metadata": {
        "id": "1Q7Xn0fHA9lr"
      },
      "source": [
        ""
      ],
      "execution_count": null,
      "outputs": []
    }
  ]
}