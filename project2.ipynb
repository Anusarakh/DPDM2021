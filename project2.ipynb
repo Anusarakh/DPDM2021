{
  "nbformat": 4,
  "nbformat_minor": 0,
  "metadata": {
    "colab": {
      "name": "project2.ipynb",
      "provenance": [],
      "authorship_tag": "ABX9TyOY2yr+iIDhWlke9dNPUc5E",
      "include_colab_link": true
    },
    "kernelspec": {
      "name": "python3",
      "display_name": "Python 3"
    },
    "language_info": {
      "name": "python"
    }
  },
  "cells": [
    {
      "cell_type": "markdown",
      "metadata": {
        "id": "view-in-github",
        "colab_type": "text"
      },
      "source": [
        "<a href=\"https://colab.research.google.com/github/Anusarakh/DPDM2021/blob/main/project2.ipynb\" target=\"_parent\"><img src=\"https://colab.research.google.com/assets/colab-badge.svg\" alt=\"Open In Colab\"/></a>"
      ]
    },
    {
      "cell_type": "code",
      "metadata": {
        "id": "4R9loaAhAYdP"
      },
      "source": [
        "import pandas as pd\n"
      ],
      "execution_count": 21,
      "outputs": []
    },
    {
      "cell_type": "code",
      "metadata": {
        "colab": {
          "base_uri": "https://localhost:8080/"
        },
        "id": "cnkt7_sc_exy",
        "outputId": "3b0ff1ee-05ba-40d3-b0a3-99064f7c2b6b"
      },
      "source": [
        "from google.colab import drive\n",
        "drive.mount('/content/drive')"
      ],
      "execution_count": 25,
      "outputs": [
        {
          "output_type": "stream",
          "name": "stdout",
          "text": [
            "Mounted at /content/drive\n"
          ]
        }
      ]
    },
    {
      "cell_type": "code",
      "metadata": {
        "id": "f4zLTUQjA2se"
      },
      "source": [
        "import os"
      ],
      "execution_count": 26,
      "outputs": []
    },
    {
      "cell_type": "code",
      "metadata": {
        "colab": {
          "base_uri": "https://localhost:8080/",
          "height": 415
        },
        "id": "irjV6Wy4A43d",
        "outputId": "185d146f-04a5-4517-e482-7e1e9587c7d5"
      },
      "source": [
        "path = '/content/drive/My Drive/DPDM2021_DATA/Project' # เรียกข้อมูลจาก Drive \n",
        "data = pd.read_csv(os.path.join(path,'heart.csv'))\n",
        "data"
      ],
      "execution_count": 42,
      "outputs": [
        {
          "output_type": "execute_result",
          "data": {
            "text/html": [
              "<div>\n",
              "<style scoped>\n",
              "    .dataframe tbody tr th:only-of-type {\n",
              "        vertical-align: middle;\n",
              "    }\n",
              "\n",
              "    .dataframe tbody tr th {\n",
              "        vertical-align: top;\n",
              "    }\n",
              "\n",
              "    .dataframe thead th {\n",
              "        text-align: right;\n",
              "    }\n",
              "</style>\n",
              "<table border=\"1\" class=\"dataframe\">\n",
              "  <thead>\n",
              "    <tr style=\"text-align: right;\">\n",
              "      <th></th>\n",
              "      <th>age</th>\n",
              "      <th>sex</th>\n",
              "      <th>cp</th>\n",
              "      <th>trestbps</th>\n",
              "      <th>chol</th>\n",
              "      <th>fbs</th>\n",
              "      <th>restecg</th>\n",
              "      <th>thalach</th>\n",
              "      <th>exang</th>\n",
              "      <th>oldpeak</th>\n",
              "      <th>slope</th>\n",
              "      <th>ca</th>\n",
              "      <th>thal</th>\n",
              "      <th>target</th>\n",
              "    </tr>\n",
              "  </thead>\n",
              "  <tbody>\n",
              "    <tr>\n",
              "      <th>0</th>\n",
              "      <td>63</td>\n",
              "      <td>1</td>\n",
              "      <td>3</td>\n",
              "      <td>145</td>\n",
              "      <td>233</td>\n",
              "      <td>1</td>\n",
              "      <td>0</td>\n",
              "      <td>150</td>\n",
              "      <td>0</td>\n",
              "      <td>2.3</td>\n",
              "      <td>0</td>\n",
              "      <td>0</td>\n",
              "      <td>1</td>\n",
              "      <td>1</td>\n",
              "    </tr>\n",
              "    <tr>\n",
              "      <th>1</th>\n",
              "      <td>37</td>\n",
              "      <td>1</td>\n",
              "      <td>2</td>\n",
              "      <td>130</td>\n",
              "      <td>250</td>\n",
              "      <td>0</td>\n",
              "      <td>1</td>\n",
              "      <td>187</td>\n",
              "      <td>0</td>\n",
              "      <td>3.5</td>\n",
              "      <td>0</td>\n",
              "      <td>0</td>\n",
              "      <td>2</td>\n",
              "      <td>1</td>\n",
              "    </tr>\n",
              "    <tr>\n",
              "      <th>2</th>\n",
              "      <td>41</td>\n",
              "      <td>0</td>\n",
              "      <td>1</td>\n",
              "      <td>130</td>\n",
              "      <td>204</td>\n",
              "      <td>0</td>\n",
              "      <td>0</td>\n",
              "      <td>172</td>\n",
              "      <td>0</td>\n",
              "      <td>1.4</td>\n",
              "      <td>2</td>\n",
              "      <td>0</td>\n",
              "      <td>2</td>\n",
              "      <td>1</td>\n",
              "    </tr>\n",
              "    <tr>\n",
              "      <th>3</th>\n",
              "      <td>56</td>\n",
              "      <td>1</td>\n",
              "      <td>1</td>\n",
              "      <td>120</td>\n",
              "      <td>236</td>\n",
              "      <td>0</td>\n",
              "      <td>1</td>\n",
              "      <td>178</td>\n",
              "      <td>0</td>\n",
              "      <td>0.8</td>\n",
              "      <td>2</td>\n",
              "      <td>0</td>\n",
              "      <td>2</td>\n",
              "      <td>1</td>\n",
              "    </tr>\n",
              "    <tr>\n",
              "      <th>4</th>\n",
              "      <td>57</td>\n",
              "      <td>0</td>\n",
              "      <td>0</td>\n",
              "      <td>120</td>\n",
              "      <td>354</td>\n",
              "      <td>0</td>\n",
              "      <td>1</td>\n",
              "      <td>163</td>\n",
              "      <td>1</td>\n",
              "      <td>0.6</td>\n",
              "      <td>2</td>\n",
              "      <td>0</td>\n",
              "      <td>2</td>\n",
              "      <td>1</td>\n",
              "    </tr>\n",
              "    <tr>\n",
              "      <th>...</th>\n",
              "      <td>...</td>\n",
              "      <td>...</td>\n",
              "      <td>...</td>\n",
              "      <td>...</td>\n",
              "      <td>...</td>\n",
              "      <td>...</td>\n",
              "      <td>...</td>\n",
              "      <td>...</td>\n",
              "      <td>...</td>\n",
              "      <td>...</td>\n",
              "      <td>...</td>\n",
              "      <td>...</td>\n",
              "      <td>...</td>\n",
              "      <td>...</td>\n",
              "    </tr>\n",
              "    <tr>\n",
              "      <th>298</th>\n",
              "      <td>57</td>\n",
              "      <td>0</td>\n",
              "      <td>0</td>\n",
              "      <td>140</td>\n",
              "      <td>241</td>\n",
              "      <td>0</td>\n",
              "      <td>1</td>\n",
              "      <td>123</td>\n",
              "      <td>1</td>\n",
              "      <td>0.2</td>\n",
              "      <td>1</td>\n",
              "      <td>0</td>\n",
              "      <td>3</td>\n",
              "      <td>0</td>\n",
              "    </tr>\n",
              "    <tr>\n",
              "      <th>299</th>\n",
              "      <td>45</td>\n",
              "      <td>1</td>\n",
              "      <td>3</td>\n",
              "      <td>110</td>\n",
              "      <td>264</td>\n",
              "      <td>0</td>\n",
              "      <td>1</td>\n",
              "      <td>132</td>\n",
              "      <td>0</td>\n",
              "      <td>1.2</td>\n",
              "      <td>1</td>\n",
              "      <td>0</td>\n",
              "      <td>3</td>\n",
              "      <td>0</td>\n",
              "    </tr>\n",
              "    <tr>\n",
              "      <th>300</th>\n",
              "      <td>68</td>\n",
              "      <td>1</td>\n",
              "      <td>0</td>\n",
              "      <td>144</td>\n",
              "      <td>193</td>\n",
              "      <td>1</td>\n",
              "      <td>1</td>\n",
              "      <td>141</td>\n",
              "      <td>0</td>\n",
              "      <td>3.4</td>\n",
              "      <td>1</td>\n",
              "      <td>2</td>\n",
              "      <td>3</td>\n",
              "      <td>0</td>\n",
              "    </tr>\n",
              "    <tr>\n",
              "      <th>301</th>\n",
              "      <td>57</td>\n",
              "      <td>1</td>\n",
              "      <td>0</td>\n",
              "      <td>130</td>\n",
              "      <td>131</td>\n",
              "      <td>0</td>\n",
              "      <td>1</td>\n",
              "      <td>115</td>\n",
              "      <td>1</td>\n",
              "      <td>1.2</td>\n",
              "      <td>1</td>\n",
              "      <td>1</td>\n",
              "      <td>3</td>\n",
              "      <td>0</td>\n",
              "    </tr>\n",
              "    <tr>\n",
              "      <th>302</th>\n",
              "      <td>57</td>\n",
              "      <td>0</td>\n",
              "      <td>1</td>\n",
              "      <td>130</td>\n",
              "      <td>236</td>\n",
              "      <td>0</td>\n",
              "      <td>0</td>\n",
              "      <td>174</td>\n",
              "      <td>0</td>\n",
              "      <td>0.0</td>\n",
              "      <td>1</td>\n",
              "      <td>1</td>\n",
              "      <td>2</td>\n",
              "      <td>0</td>\n",
              "    </tr>\n",
              "  </tbody>\n",
              "</table>\n",
              "<p>303 rows × 14 columns</p>\n",
              "</div>"
            ],
            "text/plain": [
              "     age  sex  cp  trestbps  chol  fbs  ...  exang  oldpeak  slope  ca  thal  target\n",
              "0     63    1   3       145   233    1  ...      0      2.3      0   0     1       1\n",
              "1     37    1   2       130   250    0  ...      0      3.5      0   0     2       1\n",
              "2     41    0   1       130   204    0  ...      0      1.4      2   0     2       1\n",
              "3     56    1   1       120   236    0  ...      0      0.8      2   0     2       1\n",
              "4     57    0   0       120   354    0  ...      1      0.6      2   0     2       1\n",
              "..   ...  ...  ..       ...   ...  ...  ...    ...      ...    ...  ..   ...     ...\n",
              "298   57    0   0       140   241    0  ...      1      0.2      1   0     3       0\n",
              "299   45    1   3       110   264    0  ...      0      1.2      1   0     3       0\n",
              "300   68    1   0       144   193    1  ...      0      3.4      1   2     3       0\n",
              "301   57    1   0       130   131    0  ...      1      1.2      1   1     3       0\n",
              "302   57    0   1       130   236    0  ...      0      0.0      1   1     2       0\n",
              "\n",
              "[303 rows x 14 columns]"
            ]
          },
          "metadata": {},
          "execution_count": 42
        }
      ]
    },
    {
      "cell_type": "code",
      "metadata": {
        "colab": {
          "base_uri": "https://localhost:8080/",
          "height": 128
        },
        "id": "S_mtXrTzQXk9",
        "outputId": "4f04f6b9-0636-4b31-ae7b-53d3a4a27838"
      },
      "source": [
        "dw_mapping={\n",
        "    <40:'1'\n",
        "    >=40:'2'\n",
        "  \n",
        "   }\n",
        "data['age']=data['age'].map(dw_mapping) #"
      ],
      "execution_count": 80,
      "outputs": [
        {
          "output_type": "error",
          "ename": "SyntaxError",
          "evalue": "ignored",
          "traceback": [
            "\u001b[0;36m  File \u001b[0;32m\"<ipython-input-80-e7a372eeda4c>\"\u001b[0;36m, line \u001b[0;32m2\u001b[0m\n\u001b[0;31m    <40:'1'\u001b[0m\n\u001b[0m    ^\u001b[0m\n\u001b[0;31mSyntaxError\u001b[0m\u001b[0;31m:\u001b[0m invalid syntax\n"
          ]
        }
      ]
    },
    {
      "cell_type": "code",
      "metadata": {
        "colab": {
          "base_uri": "https://localhost:8080/"
        },
        "id": "iBwnLEQYDIOt",
        "outputId": "b368f733-2f2f-4cc5-9796-72feb050d334"
      },
      "source": [
        "data.isnull.any()"
      ],
      "execution_count": 43,
      "outputs": [
        {
          "output_type": "execute_result",
          "data": {
            "text/plain": [
              "age         False\n",
              "sex         False\n",
              "cp          False\n",
              "trestbps    False\n",
              "chol        False\n",
              "fbs         False\n",
              "restecg     False\n",
              "thalach     False\n",
              "exang       False\n",
              "oldpeak     False\n",
              "slope       False\n",
              "ca          False\n",
              "thal        False\n",
              "target      False\n",
              "dtype: bool"
            ]
          },
          "metadata": {},
          "execution_count": 43
        }
      ]
    },
    {
      "cell_type": "code",
      "metadata": {
        "colab": {
          "base_uri": "https://localhost:8080/"
        },
        "id": "XlFgjGPPFCoU",
        "outputId": "c41b5e55-bd7e-4a52-ade5-33576d97fe04"
      },
      "source": [
        "data.groupby('age')['target'].apply(list)"
      ],
      "execution_count": 44,
      "outputs": [
        {
          "output_type": "execute_result",
          "data": {
            "text/plain": [
              "age\n",
              "29                                                  [1]\n",
              "34                                               [1, 1]\n",
              "35                                         [1, 1, 0, 0]\n",
              "37                                               [1, 1]\n",
              "38                                            [1, 1, 0]\n",
              "39                                         [1, 1, 1, 0]\n",
              "40                                            [1, 0, 0]\n",
              "41                       [1, 1, 1, 1, 1, 1, 1, 1, 1, 0]\n",
              "42                             [1, 1, 1, 1, 1, 1, 1, 0]\n",
              "43                             [1, 1, 1, 1, 1, 0, 0, 0]\n",
              "44                    [1, 1, 1, 1, 1, 1, 1, 1, 0, 0, 0]\n",
              "45                             [1, 1, 1, 1, 1, 1, 0, 0]\n",
              "46                                [1, 1, 1, 1, 0, 0, 0]\n",
              "47                                      [1, 1, 1, 0, 0]\n",
              "48                                [1, 1, 1, 1, 0, 0, 0]\n",
              "49                                      [1, 1, 1, 0, 0]\n",
              "50                                [1, 1, 1, 1, 0, 0, 0]\n",
              "51                 [1, 1, 1, 1, 1, 1, 1, 1, 1, 0, 0, 0]\n",
              "52              [1, 1, 1, 1, 1, 1, 1, 1, 1, 0, 0, 0, 0]\n",
              "53                             [1, 1, 1, 1, 1, 1, 0, 0]\n",
              "54     [1, 1, 1, 1, 1, 1, 1, 1, 1, 1, 0, 0, 0, 0, 0, 0]\n",
              "55                             [1, 1, 1, 0, 0, 0, 0, 0]\n",
              "56                    [1, 1, 1, 1, 1, 0, 0, 0, 0, 0, 0]\n",
              "57    [1, 1, 1, 1, 1, 1, 1, 0, 0, 0, 0, 0, 0, 0, 0, ...\n",
              "58    [1, 1, 1, 1, 1, 1, 1, 0, 0, 0, 0, 0, 0, 0, 0, ...\n",
              "59           [1, 1, 1, 1, 1, 0, 0, 0, 0, 0, 0, 0, 0, 0]\n",
              "60                    [1, 1, 1, 0, 0, 0, 0, 0, 0, 0, 0]\n",
              "61                             [1, 0, 0, 0, 0, 0, 0, 0]\n",
              "62                    [1, 1, 1, 1, 0, 0, 0, 0, 0, 0, 0]\n",
              "63                          [1, 1, 1, 0, 0, 0, 0, 0, 0]\n",
              "64                       [1, 1, 1, 1, 1, 1, 0, 0, 0, 0]\n",
              "65                             [1, 1, 1, 1, 0, 0, 0, 0]\n",
              "66                                [1, 1, 1, 1, 0, 0, 0]\n",
              "67                          [1, 1, 1, 0, 0, 0, 0, 0, 0]\n",
              "68                                         [1, 1, 0, 0]\n",
              "69                                            [1, 1, 0]\n",
              "70                                         [1, 0, 0, 0]\n",
              "71                                            [1, 1, 1]\n",
              "74                                                  [1]\n",
              "76                                                  [1]\n",
              "77                                                  [0]\n",
              "Name: target, dtype: object"
            ]
          },
          "metadata": {},
          "execution_count": 44
        }
      ]
    },
    {
      "cell_type": "code",
      "metadata": {
        "id": "pUX8y1nwI137"
      },
      "source": [
        ""
      ],
      "execution_count": null,
      "outputs": []
    },
    {
      "cell_type": "code",
      "metadata": {
        "id": "OFZlvd1LEzFN"
      },
      "source": [
        "X = data['age']\n",
        "Y = data['target']"
      ],
      "execution_count": 45,
      "outputs": []
    },
    {
      "cell_type": "markdown",
      "metadata": {
        "id": "_idGq4tnFTSo"
      },
      "source": [
        "# Association Rules"
      ]
    },
    {
      "cell_type": "code",
      "metadata": {
        "colab": {
          "base_uri": "https://localhost:8080/"
        },
        "id": "ryoRs9oGE8Y1",
        "outputId": "3e31bae0-ebcc-45c9-8f36-5ca3b85a458e"
      },
      "source": [
        "!pip install apyori"
      ],
      "execution_count": 34,
      "outputs": [
        {
          "output_type": "stream",
          "name": "stdout",
          "text": [
            "Collecting apyori\n",
            "  Downloading apyori-1.1.2.tar.gz (8.6 kB)\n",
            "Building wheels for collected packages: apyori\n",
            "  Building wheel for apyori (setup.py) ... \u001b[?25l\u001b[?25hdone\n",
            "  Created wheel for apyori: filename=apyori-1.1.2-py3-none-any.whl size=5974 sha256=0b5e064a7d9ba12899dc6d3355a07cb076bce9478f412969729de4620fc0dbaf\n",
            "  Stored in directory: /root/.cache/pip/wheels/cb/f6/e1/57973c631d27efd1a2f375bd6a83b2a616c4021f24aab84080\n",
            "Successfully built apyori\n",
            "Installing collected packages: apyori\n",
            "Successfully installed apyori-1.1.2\n"
          ]
        }
      ]
    },
    {
      "cell_type": "code",
      "metadata": {
        "id": "7g7FCXQkFXPt"
      },
      "source": [
        "from apyori import apriori"
      ],
      "execution_count": 35,
      "outputs": []
    },
    {
      "cell_type": "code",
      "metadata": {
        "colab": {
          "base_uri": "https://localhost:8080/"
        },
        "id": "QtJgRf0GFZf0",
        "outputId": "cd7ba311-8f49-40b9-8803-cb2af0fb22e4"
      },
      "source": [
        "frequentItemsets = list(apriori(data,min_support = 0.05))\n",
        "frequentItemsets[-3]"
      ],
      "execution_count": 48,
      "outputs": [
        {
          "output_type": "execute_result",
          "data": {
            "text/plain": [
              "RelationRecord(items=frozenset({'t', 'c', 's', 'r', 'e', 'g'}), support=0.07142857142857142, ordered_statistics=[OrderedStatistic(items_base=frozenset(), items_add=frozenset({'t', 'c', 's', 'e', 'g', 'r'}), confidence=0.07142857142857142, lift=1.0), OrderedStatistic(items_base=frozenset({'c'}), items_add=frozenset({'t', 's', 'r', 'e', 'g'}), confidence=0.19999999999999998, lift=2.8), OrderedStatistic(items_base=frozenset({'e'}), items_add=frozenset({'t', 'c', 's', 'r', 'g'}), confidence=0.125, lift=1.75), OrderedStatistic(items_base=frozenset({'g'}), items_add=frozenset({'t', 'c', 's', 'r', 'e'}), confidence=0.25, lift=3.5), OrderedStatistic(items_base=frozenset({'r'}), items_add=frozenset({'t', 'c', 's', 'e', 'g'}), confidence=0.3333333333333333, lift=4.666666666666667), OrderedStatistic(items_base=frozenset({'s'}), items_add=frozenset({'t', 'c', 'r', 'e', 'g'}), confidence=0.19999999999999998, lift=2.8), OrderedStatistic(items_base=frozenset({'t'}), items_add=frozenset({'c', 's', 'r', 'e', 'g'}), confidence=0.19999999999999998, lift=2.8), OrderedStatistic(items_base=frozenset({'e', 'c'}), items_add=frozenset({'t', 'g', 's', 'r'}), confidence=1.0, lift=14.0), OrderedStatistic(items_base=frozenset({'c', 'g'}), items_add=frozenset({'t', 'e', 's', 'r'}), confidence=1.0, lift=7.0), OrderedStatistic(items_base=frozenset({'c', 'r'}), items_add=frozenset({'t', 'e', 's', 'g'}), confidence=1.0, lift=14.0), OrderedStatistic(items_base=frozenset({'c', 's'}), items_add=frozenset({'t', 'e', 'g', 'r'}), confidence=1.0, lift=7.0), OrderedStatistic(items_base=frozenset({'t', 'c'}), items_add=frozenset({'e', 'g', 's', 'r'}), confidence=0.5, lift=7.0), OrderedStatistic(items_base=frozenset({'e', 'g'}), items_add=frozenset({'t', 'c', 's', 'r'}), confidence=0.25, lift=3.5), OrderedStatistic(items_base=frozenset({'e', 'r'}), items_add=frozenset({'t', 'c', 's', 'g'}), confidence=0.3333333333333333, lift=4.666666666666667), OrderedStatistic(items_base=frozenset({'e', 's'}), items_add=frozenset({'t', 'c', 'g', 'r'}), confidence=0.25, lift=3.5), OrderedStatistic(items_base=frozenset({'e', 't'}), items_add=frozenset({'g', 'c', 's', 'r'}), confidence=0.3333333333333333, lift=4.666666666666667), OrderedStatistic(items_base=frozenset({'g', 'r'}), items_add=frozenset({'t', 'c', 's', 'e'}), confidence=0.5, lift=7.0), OrderedStatistic(items_base=frozenset({'s', 'g'}), items_add=frozenset({'t', 'c', 'e', 'r'}), confidence=1.0, lift=14.0), OrderedStatistic(items_base=frozenset({'t', 'g'}), items_add=frozenset({'e', 'c', 's', 'r'}), confidence=0.5, lift=7.0), OrderedStatistic(items_base=frozenset({'s', 'r'}), items_add=frozenset({'t', 'c', 'e', 'g'}), confidence=0.5, lift=7.0), OrderedStatistic(items_base=frozenset({'t', 'r'}), items_add=frozenset({'e', 'c', 's', 'g'}), confidence=0.3333333333333333, lift=4.666666666666667), OrderedStatistic(items_base=frozenset({'t', 's'}), items_add=frozenset({'e', 'c', 'g', 'r'}), confidence=0.5, lift=7.0), OrderedStatistic(items_base=frozenset({'e', 'c', 'g'}), items_add=frozenset({'t', 's', 'r'}), confidence=1.0, lift=7.0), OrderedStatistic(items_base=frozenset({'e', 'c', 'r'}), items_add=frozenset({'t', 'g', 's'}), confidence=1.0, lift=14.0), OrderedStatistic(items_base=frozenset({'e', 'c', 's'}), items_add=frozenset({'t', 'g', 'r'}), confidence=1.0, lift=7.0), OrderedStatistic(items_base=frozenset({'e', 'c', 't'}), items_add=frozenset({'g', 's', 'r'}), confidence=1.0, lift=14.0), OrderedStatistic(items_base=frozenset({'c', 'g', 'r'}), items_add=frozenset({'t', 'e', 's'}), confidence=1.0, lift=7.0), OrderedStatistic(items_base=frozenset({'c', 'g', 's'}), items_add=frozenset({'t', 'e', 'r'}), confidence=1.0, lift=4.666666666666667), OrderedStatistic(items_base=frozenset({'t', 'c', 'g'}), items_add=frozenset({'e', 's', 'r'}), confidence=1.0, lift=7.0), OrderedStatistic(items_base=frozenset({'c', 's', 'r'}), items_add=frozenset({'t', 'e', 'g'}), confidence=1.0, lift=7.0), OrderedStatistic(items_base=frozenset({'t', 'c', 'r'}), items_add=frozenset({'e', 'g', 's'}), confidence=1.0, lift=14.0), OrderedStatistic(items_base=frozenset({'t', 'c', 's'}), items_add=frozenset({'e', 'g', 'r'}), confidence=1.0, lift=7.0), OrderedStatistic(items_base=frozenset({'e', 'g', 'r'}), items_add=frozenset({'t', 'c', 's'}), confidence=0.5, lift=7.0), OrderedStatistic(items_base=frozenset({'e', 's', 'g'}), items_add=frozenset({'t', 'c', 'r'}), confidence=1.0, lift=14.0), OrderedStatistic(items_base=frozenset({'e', 'g', 't'}), items_add=frozenset({'c', 's', 'r'}), confidence=0.5, lift=7.0), OrderedStatistic(items_base=frozenset({'e', 's', 'r'}), items_add=frozenset({'t', 'c', 'g'}), confidence=0.5, lift=7.0), OrderedStatistic(items_base=frozenset({'e', 't', 'r'}), items_add=frozenset({'c', 's', 'g'}), confidence=0.3333333333333333, lift=4.666666666666667), OrderedStatistic(items_base=frozenset({'e', 's', 't'}), items_add=frozenset({'c', 'g', 'r'}), confidence=0.5, lift=7.0), OrderedStatistic(items_base=frozenset({'s', 'g', 'r'}), items_add=frozenset({'t', 'c', 'e'}), confidence=1.0, lift=14.0), OrderedStatistic(items_base=frozenset({'t', 'g', 'r'}), items_add=frozenset({'e', 'c', 's'}), confidence=0.5, lift=7.0), OrderedStatistic(items_base=frozenset({'t', 's', 'g'}), items_add=frozenset({'e', 'c', 'r'}), confidence=1.0, lift=14.0), OrderedStatistic(items_base=frozenset({'t', 's', 'r'}), items_add=frozenset({'e', 'c', 'g'}), confidence=0.5, lift=7.0), OrderedStatistic(items_base=frozenset({'e', 'c', 'g', 'r'}), items_add=frozenset({'t', 's'}), confidence=1.0, lift=7.0), OrderedStatistic(items_base=frozenset({'e', 'c', 'g', 's'}), items_add=frozenset({'t', 'r'}), confidence=1.0, lift=4.666666666666667), OrderedStatistic(items_base=frozenset({'e', 'c', 'g', 't'}), items_add=frozenset({'s', 'r'}), confidence=1.0, lift=7.0), OrderedStatistic(items_base=frozenset({'e', 'c', 's', 'r'}), items_add=frozenset({'t', 'g'}), confidence=1.0, lift=7.0), OrderedStatistic(items_base=frozenset({'e', 'c', 't', 'r'}), items_add=frozenset({'g', 's'}), confidence=1.0, lift=14.0), OrderedStatistic(items_base=frozenset({'e', 'c', 's', 't'}), items_add=frozenset({'g', 'r'}), confidence=1.0, lift=7.0), OrderedStatistic(items_base=frozenset({'s', 'c', 'g', 'r'}), items_add=frozenset({'t', 'e'}), confidence=1.0, lift=4.666666666666667), OrderedStatistic(items_base=frozenset({'t', 'c', 'g', 'r'}), items_add=frozenset({'e', 's'}), confidence=1.0, lift=3.5), OrderedStatistic(items_base=frozenset({'t', 'c', 'g', 's'}), items_add=frozenset({'e', 'r'}), confidence=1.0, lift=4.666666666666667), OrderedStatistic(items_base=frozenset({'t', 'c', 's', 'r'}), items_add=frozenset({'e', 'g'}), confidence=1.0, lift=3.5), OrderedStatistic(items_base=frozenset({'e', 's', 'g', 'r'}), items_add=frozenset({'t', 'c'}), confidence=1.0, lift=7.0), OrderedStatistic(items_base=frozenset({'e', 't', 'g', 'r'}), items_add=frozenset({'c', 's'}), confidence=0.5, lift=7.0), OrderedStatistic(items_base=frozenset({'e', 's', 'g', 't'}), items_add=frozenset({'c', 'r'}), confidence=1.0, lift=14.0), OrderedStatistic(items_base=frozenset({'e', 't', 's', 'r'}), items_add=frozenset({'c', 'g'}), confidence=0.5, lift=7.0), OrderedStatistic(items_base=frozenset({'t', 's', 'g', 'r'}), items_add=frozenset({'e', 'c'}), confidence=1.0, lift=14.0), OrderedStatistic(items_base=frozenset({'c', 's', 'r', 'e', 'g'}), items_add=frozenset({'t'}), confidence=1.0, lift=2.8), OrderedStatistic(items_base=frozenset({'t', 'c', 'r', 'e', 'g'}), items_add=frozenset({'s'}), confidence=1.0, lift=2.8), OrderedStatistic(items_base=frozenset({'t', 'c', 's', 'e', 'g'}), items_add=frozenset({'r'}), confidence=1.0, lift=4.666666666666667), OrderedStatistic(items_base=frozenset({'t', 'c', 's', 'r', 'e'}), items_add=frozenset({'g'}), confidence=1.0, lift=3.5), OrderedStatistic(items_base=frozenset({'t', 'c', 's', 'r', 'g'}), items_add=frozenset({'e'}), confidence=1.0, lift=1.75), OrderedStatistic(items_base=frozenset({'t', 's', 'r', 'e', 'g'}), items_add=frozenset({'c'}), confidence=1.0, lift=2.8)])"
            ]
          },
          "metadata": {},
          "execution_count": 48
        }
      ]
    },
    {
      "cell_type": "markdown",
      "metadata": {
        "id": "mTPTaWSfGfy4"
      },
      "source": [
        "## KNN"
      ]
    },
    {
      "cell_type": "markdown",
      "metadata": {
        "id": "GoIkjICEGhR8"
      },
      "source": [
        "### Split data"
      ]
    },
    {
      "cell_type": "code",
      "metadata": {
        "id": "yxQc-_gKFzC0"
      },
      "source": [
        "from sklearn.model_selection import train_test_split"
      ],
      "execution_count": 49,
      "outputs": []
    },
    {
      "cell_type": "code",
      "metadata": {
        "id": "Y5PIwV51Go-7"
      },
      "source": [
        "X_train, X_test, y_train, y_test = train_test_split(X, Y, test_size=0.5, random_state=6)"
      ],
      "execution_count": 50,
      "outputs": []
    },
    {
      "cell_type": "code",
      "metadata": {
        "id": "cgYO8_knGv2s"
      },
      "source": [
        "X_traintrain, X_val, y_traintrain, y_val = train_test_split(X_train, y_train, test_size=0.3, random_state=6)"
      ],
      "execution_count": 51,
      "outputs": []
    },
    {
      "cell_type": "markdown",
      "metadata": {
        "id": "FFRLUIAxG975"
      },
      "source": [
        "### import"
      ]
    },
    {
      "cell_type": "code",
      "metadata": {
        "colab": {
          "base_uri": "https://localhost:8080/"
        },
        "id": "RXWjYX2kH-2E",
        "outputId": "02fdc26d-5de8-4791-96db-ae2c0521df45"
      },
      "source": [
        "data.shape"
      ],
      "execution_count": 57,
      "outputs": [
        {
          "output_type": "execute_result",
          "data": {
            "text/plain": [
              "(303, 14)"
            ]
          },
          "metadata": {},
          "execution_count": 57
        }
      ]
    },
    {
      "cell_type": "code",
      "metadata": {
        "colab": {
          "base_uri": "https://localhost:8080/"
        },
        "id": "rzJa37aIHOn8",
        "outputId": "5116d622-ec94-4ccd-f297-2a6a28a826b3"
      },
      "source": [
        "set(data['age'])"
      ],
      "execution_count": 58,
      "outputs": [
        {
          "output_type": "execute_result",
          "data": {
            "text/plain": [
              "{29,\n",
              " 34,\n",
              " 35,\n",
              " 37,\n",
              " 38,\n",
              " 39,\n",
              " 40,\n",
              " 41,\n",
              " 42,\n",
              " 43,\n",
              " 44,\n",
              " 45,\n",
              " 46,\n",
              " 47,\n",
              " 48,\n",
              " 49,\n",
              " 50,\n",
              " 51,\n",
              " 52,\n",
              " 53,\n",
              " 54,\n",
              " 55,\n",
              " 56,\n",
              " 57,\n",
              " 58,\n",
              " 59,\n",
              " 60,\n",
              " 61,\n",
              " 62,\n",
              " 63,\n",
              " 64,\n",
              " 65,\n",
              " 66,\n",
              " 67,\n",
              " 68,\n",
              " 69,\n",
              " 70,\n",
              " 71,\n",
              " 74,\n",
              " 76,\n",
              " 77}"
            ]
          },
          "metadata": {},
          "execution_count": 58
        }
      ]
    },
    {
      "cell_type": "code",
      "metadata": {
        "id": "3klYi9XrIfvD"
      },
      "source": [
        "from sklearn.tree import DecisionTreeClassifier"
      ],
      "execution_count": 59,
      "outputs": []
    },
    {
      "cell_type": "code",
      "metadata": {
        "id": "Z8D08OWyJB4z"
      },
      "source": [
        "mytree = DecisionTreeClassifier()"
      ],
      "execution_count": 60,
      "outputs": []
    },
    {
      "cell_type": "code",
      "metadata": {
        "colab": {
          "base_uri": "https://localhost:8080/",
          "height": 620
        },
        "id": "M5r1lG3mJEp7",
        "outputId": "94787357-3c7b-4b4a-f1a2-2e9a0916e643"
      },
      "source": [
        "mytree.fit(X,Y)"
      ],
      "execution_count": 63,
      "outputs": [
        {
          "output_type": "error",
          "ename": "ValueError",
          "evalue": "ignored",
          "traceback": [
            "\u001b[0;31m---------------------------------------------------------------------------\u001b[0m",
            "\u001b[0;31mValueError\u001b[0m                                Traceback (most recent call last)",
            "\u001b[0;32m<ipython-input-63-46b69fa9d8ac>\u001b[0m in \u001b[0;36m<module>\u001b[0;34m()\u001b[0m\n\u001b[0;32m----> 1\u001b[0;31m \u001b[0mmytree\u001b[0m\u001b[0;34m.\u001b[0m\u001b[0mfit\u001b[0m\u001b[0;34m(\u001b[0m\u001b[0mX\u001b[0m\u001b[0;34m,\u001b[0m\u001b[0mY\u001b[0m\u001b[0;34m)\u001b[0m\u001b[0;34m\u001b[0m\u001b[0;34m\u001b[0m\u001b[0m\n\u001b[0m",
            "\u001b[0;32m/usr/local/lib/python3.7/dist-packages/sklearn/tree/_classes.py\u001b[0m in \u001b[0;36mfit\u001b[0;34m(self, X, y, sample_weight, check_input, X_idx_sorted)\u001b[0m\n\u001b[1;32m    875\u001b[0m             \u001b[0msample_weight\u001b[0m\u001b[0;34m=\u001b[0m\u001b[0msample_weight\u001b[0m\u001b[0;34m,\u001b[0m\u001b[0;34m\u001b[0m\u001b[0;34m\u001b[0m\u001b[0m\n\u001b[1;32m    876\u001b[0m             \u001b[0mcheck_input\u001b[0m\u001b[0;34m=\u001b[0m\u001b[0mcheck_input\u001b[0m\u001b[0;34m,\u001b[0m\u001b[0;34m\u001b[0m\u001b[0;34m\u001b[0m\u001b[0m\n\u001b[0;32m--> 877\u001b[0;31m             X_idx_sorted=X_idx_sorted)\n\u001b[0m\u001b[1;32m    878\u001b[0m         \u001b[0;32mreturn\u001b[0m \u001b[0mself\u001b[0m\u001b[0;34m\u001b[0m\u001b[0;34m\u001b[0m\u001b[0m\n\u001b[1;32m    879\u001b[0m \u001b[0;34m\u001b[0m\u001b[0m\n",
            "\u001b[0;32m/usr/local/lib/python3.7/dist-packages/sklearn/tree/_classes.py\u001b[0m in \u001b[0;36mfit\u001b[0;34m(self, X, y, sample_weight, check_input, X_idx_sorted)\u001b[0m\n\u001b[1;32m    147\u001b[0m \u001b[0;34m\u001b[0m\u001b[0m\n\u001b[1;32m    148\u001b[0m         \u001b[0;32mif\u001b[0m \u001b[0mcheck_input\u001b[0m\u001b[0;34m:\u001b[0m\u001b[0;34m\u001b[0m\u001b[0;34m\u001b[0m\u001b[0m\n\u001b[0;32m--> 149\u001b[0;31m             \u001b[0mX\u001b[0m \u001b[0;34m=\u001b[0m \u001b[0mcheck_array\u001b[0m\u001b[0;34m(\u001b[0m\u001b[0mX\u001b[0m\u001b[0;34m,\u001b[0m \u001b[0mdtype\u001b[0m\u001b[0;34m=\u001b[0m\u001b[0mDTYPE\u001b[0m\u001b[0;34m,\u001b[0m \u001b[0maccept_sparse\u001b[0m\u001b[0;34m=\u001b[0m\u001b[0;34m\"csc\"\u001b[0m\u001b[0;34m)\u001b[0m\u001b[0;34m\u001b[0m\u001b[0;34m\u001b[0m\u001b[0m\n\u001b[0m\u001b[1;32m    150\u001b[0m             \u001b[0my\u001b[0m \u001b[0;34m=\u001b[0m \u001b[0mcheck_array\u001b[0m\u001b[0;34m(\u001b[0m\u001b[0my\u001b[0m\u001b[0;34m,\u001b[0m \u001b[0mensure_2d\u001b[0m\u001b[0;34m=\u001b[0m\u001b[0;32mFalse\u001b[0m\u001b[0;34m,\u001b[0m \u001b[0mdtype\u001b[0m\u001b[0;34m=\u001b[0m\u001b[0;32mNone\u001b[0m\u001b[0;34m)\u001b[0m\u001b[0;34m\u001b[0m\u001b[0;34m\u001b[0m\u001b[0m\n\u001b[1;32m    151\u001b[0m             \u001b[0;32mif\u001b[0m \u001b[0missparse\u001b[0m\u001b[0;34m(\u001b[0m\u001b[0mX\u001b[0m\u001b[0;34m)\u001b[0m\u001b[0;34m:\u001b[0m\u001b[0;34m\u001b[0m\u001b[0;34m\u001b[0m\u001b[0m\n",
            "\u001b[0;32m/usr/local/lib/python3.7/dist-packages/sklearn/utils/validation.py\u001b[0m in \u001b[0;36mcheck_array\u001b[0;34m(array, accept_sparse, accept_large_sparse, dtype, order, copy, force_all_finite, ensure_2d, allow_nd, ensure_min_samples, ensure_min_features, warn_on_dtype, estimator)\u001b[0m\n\u001b[1;32m    554\u001b[0m                     \u001b[0;34m\"Reshape your data either using array.reshape(-1, 1) if \"\u001b[0m\u001b[0;34m\u001b[0m\u001b[0;34m\u001b[0m\u001b[0m\n\u001b[1;32m    555\u001b[0m                     \u001b[0;34m\"your data has a single feature or array.reshape(1, -1) \"\u001b[0m\u001b[0;34m\u001b[0m\u001b[0;34m\u001b[0m\u001b[0m\n\u001b[0;32m--> 556\u001b[0;31m                     \"if it contains a single sample.\".format(array))\n\u001b[0m\u001b[1;32m    557\u001b[0m \u001b[0;34m\u001b[0m\u001b[0m\n\u001b[1;32m    558\u001b[0m         \u001b[0;31m# in the future np.flexible dtypes will be handled like object dtypes\u001b[0m\u001b[0;34m\u001b[0m\u001b[0;34m\u001b[0m\u001b[0;34m\u001b[0m\u001b[0m\n",
            "\u001b[0;31mValueError\u001b[0m: Expected 2D array, got 1D array instead:\narray=[63. 37. 41. 56. 57. 57. 56. 44. 52. 57. 54. 48. 49. 64. 58. 50. 58. 66.\n 43. 69. 59. 44. 42. 61. 40. 71. 59. 51. 65. 53. 41. 65. 44. 54. 51. 46.\n 54. 54. 65. 65. 51. 48. 45. 53. 39. 52. 44. 47. 53. 53. 51. 66. 62. 44.\n 63. 52. 48. 45. 34. 57. 71. 54. 52. 41. 58. 35. 51. 45. 44. 62. 54. 51.\n 29. 51. 43. 55. 51. 59. 52. 58. 41. 45. 60. 52. 42. 67. 68. 46. 54. 58.\n 48. 57. 52. 54. 45. 53. 62. 52. 43. 53. 42. 59. 63. 42. 50. 68. 69. 45.\n 50. 50. 64. 57. 64. 43. 55. 37. 41. 56. 46. 46. 64. 59. 41. 54. 39. 34.\n 47. 67. 52. 74. 54. 49. 42. 41. 41. 49. 60. 62. 57. 64. 51. 43. 42. 67.\n 76. 70. 44. 60. 44. 42. 66. 71. 64. 66. 39. 58. 47. 35. 58. 56. 56. 55.\n 41. 38. 38. 67. 67. 62. 63. 53. 56. 48. 58. 58. 60. 40. 60. 64. 43. 57.\n 55. 65. 61. 58. 50. 44. 60. 54. 50. 41. 51. 58. 54. 60. 60. 59. 46. 67.\n 62. 65. 44. 60. 58. 68. 62. 52. 59. 60. 49. 59. 57. 61. 39. 61. 56. 43.\n 62. 63. 65. 48. 63. 55. 65. 56. 54. 70. 62. 35. 59. 64. 47. 57. 55. 64.\n 70. 51. 58. 60. 77. 35. 70. 59. 64. 57. 56. 48. 56. 66. 54. 69. 51. 43.\n 62. 67. 59. 45. 58. 50. 62. 38. 66. 52. 53. 63. 54. 66. 55. 49. 54. 56.\n 46. 61. 67. 58. 47. 52. 58. 57. 58. 61. 42. 52. 59. 40. 61. 46. 59. 57.\n 57. 55. 61. 58. 58. 67. 44. 63. 63. 59. 57. 45. 68. 57. 57.].\nReshape your data either using array.reshape(-1, 1) if your data has a single feature or array.reshape(1, -1) if it contains a single sample."
          ]
        }
      ]
    },
    {
      "cell_type": "code",
      "metadata": {
        "id": "igsH4DNbJG0q"
      },
      "source": [
        ""
      ],
      "execution_count": null,
      "outputs": []
    }
  ]
}