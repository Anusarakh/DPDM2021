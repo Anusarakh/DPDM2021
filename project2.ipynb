{
  "nbformat": 4,
  "nbformat_minor": 0,
  "metadata": {
    "colab": {
      "name": "project2.ipynb",
      "provenance": [],
      "authorship_tag": "ABX9TyN4TxIgyqrYI5PCaN9JLuoP",
      "include_colab_link": true
    },
    "kernelspec": {
      "name": "python3",
      "display_name": "Python 3"
    },
    "language_info": {
      "name": "python"
    }
  },
  "cells": [
    {
      "cell_type": "markdown",
      "metadata": {
        "id": "view-in-github",
        "colab_type": "text"
      },
      "source": [
        "<a href=\"https://colab.research.google.com/github/Anusarakh/DPDM2021/blob/main/project2.ipynb\" target=\"_parent\"><img src=\"https://colab.research.google.com/assets/colab-badge.svg\" alt=\"Open In Colab\"/></a>"
      ]
    },
    {
      "cell_type": "code",
      "metadata": {
        "id": "4R9loaAhAYdP"
      },
      "source": [
        "import pandas as pd\n"
      ],
      "execution_count": 1,
      "outputs": []
    },
    {
      "cell_type": "code",
      "metadata": {
        "colab": {
          "base_uri": "https://localhost:8080/"
        },
        "id": "cnkt7_sc_exy",
        "outputId": "31e15b5a-60be-450d-8349-5741bb3dad98"
      },
      "source": [
        "from google.colab import drive\n",
        "drive.mount('/content/drive')"
      ],
      "execution_count": 2,
      "outputs": [
        {
          "output_type": "stream",
          "name": "stdout",
          "text": [
            "Mounted at /content/drive\n"
          ]
        }
      ]
    },
    {
      "cell_type": "code",
      "metadata": {
        "id": "f4zLTUQjA2se"
      },
      "source": [
        "import os"
      ],
      "execution_count": 3,
      "outputs": []
    },
    {
      "cell_type": "code",
      "metadata": {
        "colab": {
          "base_uri": "https://localhost:8080/",
          "height": 415
        },
        "id": "irjV6Wy4A43d",
        "outputId": "4f47b72c-0d0e-413a-de0a-f7b4ddf7c80c"
      },
      "source": [
        "path = '/content/drive/My Drive/DPDM2021_DATA/Project' # เรียกข้อมูลจาก Drive \n",
        "data = pd.read_csv(os.path.join(path,'heart.csv'))\n",
        "data"
      ],
      "execution_count": 48,
      "outputs": [
        {
          "output_type": "execute_result",
          "data": {
            "text/html": [
              "<div>\n",
              "<style scoped>\n",
              "    .dataframe tbody tr th:only-of-type {\n",
              "        vertical-align: middle;\n",
              "    }\n",
              "\n",
              "    .dataframe tbody tr th {\n",
              "        vertical-align: top;\n",
              "    }\n",
              "\n",
              "    .dataframe thead th {\n",
              "        text-align: right;\n",
              "    }\n",
              "</style>\n",
              "<table border=\"1\" class=\"dataframe\">\n",
              "  <thead>\n",
              "    <tr style=\"text-align: right;\">\n",
              "      <th></th>\n",
              "      <th>age</th>\n",
              "      <th>sex</th>\n",
              "      <th>cp</th>\n",
              "      <th>trestbps</th>\n",
              "      <th>chol</th>\n",
              "      <th>fbs</th>\n",
              "      <th>restecg</th>\n",
              "      <th>thalach</th>\n",
              "      <th>exang</th>\n",
              "      <th>oldpeak</th>\n",
              "      <th>slope</th>\n",
              "      <th>ca</th>\n",
              "      <th>thal</th>\n",
              "      <th>target</th>\n",
              "    </tr>\n",
              "  </thead>\n",
              "  <tbody>\n",
              "    <tr>\n",
              "      <th>0</th>\n",
              "      <td>63</td>\n",
              "      <td>1</td>\n",
              "      <td>3</td>\n",
              "      <td>145</td>\n",
              "      <td>233</td>\n",
              "      <td>1</td>\n",
              "      <td>0</td>\n",
              "      <td>150</td>\n",
              "      <td>0</td>\n",
              "      <td>2.3</td>\n",
              "      <td>0</td>\n",
              "      <td>0</td>\n",
              "      <td>1</td>\n",
              "      <td>1</td>\n",
              "    </tr>\n",
              "    <tr>\n",
              "      <th>1</th>\n",
              "      <td>37</td>\n",
              "      <td>1</td>\n",
              "      <td>2</td>\n",
              "      <td>130</td>\n",
              "      <td>250</td>\n",
              "      <td>0</td>\n",
              "      <td>1</td>\n",
              "      <td>187</td>\n",
              "      <td>0</td>\n",
              "      <td>3.5</td>\n",
              "      <td>0</td>\n",
              "      <td>0</td>\n",
              "      <td>2</td>\n",
              "      <td>1</td>\n",
              "    </tr>\n",
              "    <tr>\n",
              "      <th>2</th>\n",
              "      <td>41</td>\n",
              "      <td>0</td>\n",
              "      <td>1</td>\n",
              "      <td>130</td>\n",
              "      <td>204</td>\n",
              "      <td>0</td>\n",
              "      <td>0</td>\n",
              "      <td>172</td>\n",
              "      <td>0</td>\n",
              "      <td>1.4</td>\n",
              "      <td>2</td>\n",
              "      <td>0</td>\n",
              "      <td>2</td>\n",
              "      <td>1</td>\n",
              "    </tr>\n",
              "    <tr>\n",
              "      <th>3</th>\n",
              "      <td>56</td>\n",
              "      <td>1</td>\n",
              "      <td>1</td>\n",
              "      <td>120</td>\n",
              "      <td>236</td>\n",
              "      <td>0</td>\n",
              "      <td>1</td>\n",
              "      <td>178</td>\n",
              "      <td>0</td>\n",
              "      <td>0.8</td>\n",
              "      <td>2</td>\n",
              "      <td>0</td>\n",
              "      <td>2</td>\n",
              "      <td>1</td>\n",
              "    </tr>\n",
              "    <tr>\n",
              "      <th>4</th>\n",
              "      <td>57</td>\n",
              "      <td>0</td>\n",
              "      <td>0</td>\n",
              "      <td>120</td>\n",
              "      <td>354</td>\n",
              "      <td>0</td>\n",
              "      <td>1</td>\n",
              "      <td>163</td>\n",
              "      <td>1</td>\n",
              "      <td>0.6</td>\n",
              "      <td>2</td>\n",
              "      <td>0</td>\n",
              "      <td>2</td>\n",
              "      <td>1</td>\n",
              "    </tr>\n",
              "    <tr>\n",
              "      <th>...</th>\n",
              "      <td>...</td>\n",
              "      <td>...</td>\n",
              "      <td>...</td>\n",
              "      <td>...</td>\n",
              "      <td>...</td>\n",
              "      <td>...</td>\n",
              "      <td>...</td>\n",
              "      <td>...</td>\n",
              "      <td>...</td>\n",
              "      <td>...</td>\n",
              "      <td>...</td>\n",
              "      <td>...</td>\n",
              "      <td>...</td>\n",
              "      <td>...</td>\n",
              "    </tr>\n",
              "    <tr>\n",
              "      <th>298</th>\n",
              "      <td>57</td>\n",
              "      <td>0</td>\n",
              "      <td>0</td>\n",
              "      <td>140</td>\n",
              "      <td>241</td>\n",
              "      <td>0</td>\n",
              "      <td>1</td>\n",
              "      <td>123</td>\n",
              "      <td>1</td>\n",
              "      <td>0.2</td>\n",
              "      <td>1</td>\n",
              "      <td>0</td>\n",
              "      <td>3</td>\n",
              "      <td>0</td>\n",
              "    </tr>\n",
              "    <tr>\n",
              "      <th>299</th>\n",
              "      <td>45</td>\n",
              "      <td>1</td>\n",
              "      <td>3</td>\n",
              "      <td>110</td>\n",
              "      <td>264</td>\n",
              "      <td>0</td>\n",
              "      <td>1</td>\n",
              "      <td>132</td>\n",
              "      <td>0</td>\n",
              "      <td>1.2</td>\n",
              "      <td>1</td>\n",
              "      <td>0</td>\n",
              "      <td>3</td>\n",
              "      <td>0</td>\n",
              "    </tr>\n",
              "    <tr>\n",
              "      <th>300</th>\n",
              "      <td>68</td>\n",
              "      <td>1</td>\n",
              "      <td>0</td>\n",
              "      <td>144</td>\n",
              "      <td>193</td>\n",
              "      <td>1</td>\n",
              "      <td>1</td>\n",
              "      <td>141</td>\n",
              "      <td>0</td>\n",
              "      <td>3.4</td>\n",
              "      <td>1</td>\n",
              "      <td>2</td>\n",
              "      <td>3</td>\n",
              "      <td>0</td>\n",
              "    </tr>\n",
              "    <tr>\n",
              "      <th>301</th>\n",
              "      <td>57</td>\n",
              "      <td>1</td>\n",
              "      <td>0</td>\n",
              "      <td>130</td>\n",
              "      <td>131</td>\n",
              "      <td>0</td>\n",
              "      <td>1</td>\n",
              "      <td>115</td>\n",
              "      <td>1</td>\n",
              "      <td>1.2</td>\n",
              "      <td>1</td>\n",
              "      <td>1</td>\n",
              "      <td>3</td>\n",
              "      <td>0</td>\n",
              "    </tr>\n",
              "    <tr>\n",
              "      <th>302</th>\n",
              "      <td>57</td>\n",
              "      <td>0</td>\n",
              "      <td>1</td>\n",
              "      <td>130</td>\n",
              "      <td>236</td>\n",
              "      <td>0</td>\n",
              "      <td>0</td>\n",
              "      <td>174</td>\n",
              "      <td>0</td>\n",
              "      <td>0.0</td>\n",
              "      <td>1</td>\n",
              "      <td>1</td>\n",
              "      <td>2</td>\n",
              "      <td>0</td>\n",
              "    </tr>\n",
              "  </tbody>\n",
              "</table>\n",
              "<p>303 rows × 14 columns</p>\n",
              "</div>"
            ],
            "text/plain": [
              "     age  sex  cp  trestbps  chol  fbs  ...  exang  oldpeak  slope  ca  thal  target\n",
              "0     63    1   3       145   233    1  ...      0      2.3      0   0     1       1\n",
              "1     37    1   2       130   250    0  ...      0      3.5      0   0     2       1\n",
              "2     41    0   1       130   204    0  ...      0      1.4      2   0     2       1\n",
              "3     56    1   1       120   236    0  ...      0      0.8      2   0     2       1\n",
              "4     57    0   0       120   354    0  ...      1      0.6      2   0     2       1\n",
              "..   ...  ...  ..       ...   ...  ...  ...    ...      ...    ...  ..   ...     ...\n",
              "298   57    0   0       140   241    0  ...      1      0.2      1   0     3       0\n",
              "299   45    1   3       110   264    0  ...      0      1.2      1   0     3       0\n",
              "300   68    1   0       144   193    1  ...      0      3.4      1   2     3       0\n",
              "301   57    1   0       130   131    0  ...      1      1.2      1   1     3       0\n",
              "302   57    0   1       130   236    0  ...      0      0.0      1   1     2       0\n",
              "\n",
              "[303 rows x 14 columns]"
            ]
          },
          "metadata": {},
          "execution_count": 48
        }
      ]
    },
    {
      "cell_type": "code",
      "metadata": {
        "colab": {
          "base_uri": "https://localhost:8080/"
        },
        "id": "iBwnLEQYDIOt",
        "outputId": "dfd1a894-ff5c-46ae-a574-120aa56196c7"
      },
      "source": [
        "data.isnull().any()"
      ],
      "execution_count": 49,
      "outputs": [
        {
          "output_type": "execute_result",
          "data": {
            "text/plain": [
              "age         False\n",
              "sex         False\n",
              "cp          False\n",
              "trestbps    False\n",
              "chol        False\n",
              "fbs         False\n",
              "restecg     False\n",
              "thalach     False\n",
              "exang       False\n",
              "oldpeak     False\n",
              "slope       False\n",
              "ca          False\n",
              "thal        False\n",
              "target      False\n",
              "dtype: bool"
            ]
          },
          "metadata": {},
          "execution_count": 49
        }
      ]
    },
    {
      "cell_type": "code",
      "metadata": {
        "colab": {
          "base_uri": "https://localhost:8080/"
        },
        "id": "XlFgjGPPFCoU",
        "outputId": "36b32aea-5f3a-4e8f-f1f3-f19c3c40398f"
      },
      "source": [
        "data.groupby('age')['target'].apply(list)"
      ],
      "execution_count": 50,
      "outputs": [
        {
          "output_type": "execute_result",
          "data": {
            "text/plain": [
              "age\n",
              "29                                                  [1]\n",
              "34                                               [1, 1]\n",
              "35                                         [1, 1, 0, 0]\n",
              "37                                               [1, 1]\n",
              "38                                            [1, 1, 0]\n",
              "39                                         [1, 1, 1, 0]\n",
              "40                                            [1, 0, 0]\n",
              "41                       [1, 1, 1, 1, 1, 1, 1, 1, 1, 0]\n",
              "42                             [1, 1, 1, 1, 1, 1, 1, 0]\n",
              "43                             [1, 1, 1, 1, 1, 0, 0, 0]\n",
              "44                    [1, 1, 1, 1, 1, 1, 1, 1, 0, 0, 0]\n",
              "45                             [1, 1, 1, 1, 1, 1, 0, 0]\n",
              "46                                [1, 1, 1, 1, 0, 0, 0]\n",
              "47                                      [1, 1, 1, 0, 0]\n",
              "48                                [1, 1, 1, 1, 0, 0, 0]\n",
              "49                                      [1, 1, 1, 0, 0]\n",
              "50                                [1, 1, 1, 1, 0, 0, 0]\n",
              "51                 [1, 1, 1, 1, 1, 1, 1, 1, 1, 0, 0, 0]\n",
              "52              [1, 1, 1, 1, 1, 1, 1, 1, 1, 0, 0, 0, 0]\n",
              "53                             [1, 1, 1, 1, 1, 1, 0, 0]\n",
              "54     [1, 1, 1, 1, 1, 1, 1, 1, 1, 1, 0, 0, 0, 0, 0, 0]\n",
              "55                             [1, 1, 1, 0, 0, 0, 0, 0]\n",
              "56                    [1, 1, 1, 1, 1, 0, 0, 0, 0, 0, 0]\n",
              "57    [1, 1, 1, 1, 1, 1, 1, 0, 0, 0, 0, 0, 0, 0, 0, ...\n",
              "58    [1, 1, 1, 1, 1, 1, 1, 0, 0, 0, 0, 0, 0, 0, 0, ...\n",
              "59           [1, 1, 1, 1, 1, 0, 0, 0, 0, 0, 0, 0, 0, 0]\n",
              "60                    [1, 1, 1, 0, 0, 0, 0, 0, 0, 0, 0]\n",
              "61                             [1, 0, 0, 0, 0, 0, 0, 0]\n",
              "62                    [1, 1, 1, 1, 0, 0, 0, 0, 0, 0, 0]\n",
              "63                          [1, 1, 1, 0, 0, 0, 0, 0, 0]\n",
              "64                       [1, 1, 1, 1, 1, 1, 0, 0, 0, 0]\n",
              "65                             [1, 1, 1, 1, 0, 0, 0, 0]\n",
              "66                                [1, 1, 1, 1, 0, 0, 0]\n",
              "67                          [1, 1, 1, 0, 0, 0, 0, 0, 0]\n",
              "68                                         [1, 1, 0, 0]\n",
              "69                                            [1, 1, 0]\n",
              "70                                         [1, 0, 0, 0]\n",
              "71                                            [1, 1, 1]\n",
              "74                                                  [1]\n",
              "76                                                  [1]\n",
              "77                                                  [0]\n",
              "Name: target, dtype: object"
            ]
          },
          "metadata": {},
          "execution_count": 50
        }
      ]
    },
    {
      "cell_type": "code",
      "metadata": {
        "id": "LV_KER0tupTo"
      },
      "source": [
        "\n",
        "import numpy as np"
      ],
      "execution_count": 51,
      "outputs": []
    },
    {
      "cell_type": "code",
      "metadata": {
        "id": "OFZlvd1LEzFN"
      },
      "source": [
        "X=np.array(data[['cp','trestbps','chol']])\n",
        "Y = data['target']"
      ],
      "execution_count": 56,
      "outputs": []
    },
    {
      "cell_type": "markdown",
      "metadata": {
        "id": "_idGq4tnFTSo"
      },
      "source": [
        "# Association Rules"
      ]
    },
    {
      "cell_type": "code",
      "metadata": {
        "colab": {
          "base_uri": "https://localhost:8080/"
        },
        "id": "ryoRs9oGE8Y1",
        "outputId": "b2f7a021-4ac3-4377-f581-7100e9709767"
      },
      "source": [
        "!pip install apyori"
      ],
      "execution_count": 11,
      "outputs": [
        {
          "output_type": "stream",
          "name": "stdout",
          "text": [
            "Collecting apyori\n",
            "  Downloading apyori-1.1.2.tar.gz (8.6 kB)\n",
            "Building wheels for collected packages: apyori\n",
            "  Building wheel for apyori (setup.py) ... \u001b[?25l\u001b[?25hdone\n",
            "  Created wheel for apyori: filename=apyori-1.1.2-py3-none-any.whl size=5974 sha256=9c6ac43fdc518cc535462d0357f53c758838fc0cc8e318da20806ce0a8bc4218\n",
            "  Stored in directory: /root/.cache/pip/wheels/cb/f6/e1/57973c631d27efd1a2f375bd6a83b2a616c4021f24aab84080\n",
            "Successfully built apyori\n",
            "Installing collected packages: apyori\n",
            "Successfully installed apyori-1.1.2\n"
          ]
        }
      ]
    },
    {
      "cell_type": "code",
      "metadata": {
        "id": "7g7FCXQkFXPt"
      },
      "source": [
        "from apyori import apriori"
      ],
      "execution_count": 12,
      "outputs": []
    },
    {
      "cell_type": "code",
      "metadata": {
        "colab": {
          "base_uri": "https://localhost:8080/"
        },
        "id": "QtJgRf0GFZf0",
        "outputId": "35fa711e-20a9-46e6-fda9-5bbcad9beddb"
      },
      "source": [
        "frequentItemsets = list(apriori(data,min_support = 0.02))\n",
        "frequentItemsets[-1]"
      ],
      "execution_count": 15,
      "outputs": [
        {
          "output_type": "execute_result",
          "data": {
            "text/plain": [
              "RelationRecord(items=frozenset({'e', 'p', 'd', 'l', 'k', 'o', 'a'}), support=0.07142857142857142, ordered_statistics=[OrderedStatistic(items_base=frozenset(), items_add=frozenset({'d', 'l', 'k', 'o', 'a', 'e', 'p'}), confidence=0.07142857142857142, lift=1.0), OrderedStatistic(items_base=frozenset({'a'}), items_add=frozenset({'e', 'p', 'd', 'l', 'k', 'o'}), confidence=0.14285714285714285, lift=2.0), OrderedStatistic(items_base=frozenset({'d'}), items_add=frozenset({'e', 'p', 'k', 'l', 'o', 'a'}), confidence=1.0, lift=14.0), OrderedStatistic(items_base=frozenset({'e'}), items_add=frozenset({'p', 'd', 'l', 'o', 'k', 'a'}), confidence=0.125, lift=1.75), OrderedStatistic(items_base=frozenset({'k'}), items_add=frozenset({'e', 'p', 'd', 'l', 'o', 'a'}), confidence=1.0, lift=14.0), OrderedStatistic(items_base=frozenset({'l'}), items_add=frozenset({'e', 'p', 'd', 'o', 'k', 'a'}), confidence=0.19999999999999998, lift=2.8), OrderedStatistic(items_base=frozenset({'o'}), items_add=frozenset({'e', 'p', 'd', 'l', 'k', 'a'}), confidence=0.3333333333333333, lift=4.666666666666667), OrderedStatistic(items_base=frozenset({'p'}), items_add=frozenset({'e', 'd', 'l', 'k', 'o', 'a'}), confidence=0.25, lift=3.5), OrderedStatistic(items_base=frozenset({'d', 'a'}), items_add=frozenset({'e', 'p', 'k', 'l', 'o'}), confidence=1.0, lift=14.0), OrderedStatistic(items_base=frozenset({'e', 'a'}), items_add=frozenset({'p', 'd', 'l', 'o', 'k'}), confidence=0.25, lift=3.5), OrderedStatistic(items_base=frozenset({'k', 'a'}), items_add=frozenset({'e', 'p', 'd', 'l', 'o'}), confidence=1.0, lift=14.0), OrderedStatistic(items_base=frozenset({'l', 'a'}), items_add=frozenset({'e', 'p', 'd', 'o', 'k'}), confidence=0.3333333333333333, lift=4.666666666666667), OrderedStatistic(items_base=frozenset({'o', 'a'}), items_add=frozenset({'e', 'p', 'd', 'l', 'k'}), confidence=1.0, lift=14.0), OrderedStatistic(items_base=frozenset({'p', 'a'}), items_add=frozenset({'e', 'd', 'l', 'k', 'o'}), confidence=1.0, lift=14.0), OrderedStatistic(items_base=frozenset({'e', 'd'}), items_add=frozenset({'p', 'k', 'l', 'o', 'a'}), confidence=1.0, lift=14.0), OrderedStatistic(items_base=frozenset({'d', 'k'}), items_add=frozenset({'e', 'p', 'o', 'l', 'a'}), confidence=1.0, lift=14.0), OrderedStatistic(items_base=frozenset({'d', 'l'}), items_add=frozenset({'e', 'p', 'k', 'o', 'a'}), confidence=1.0, lift=14.0), OrderedStatistic(items_base=frozenset({'d', 'o'}), items_add=frozenset({'e', 'p', 'k', 'l', 'a'}), confidence=1.0, lift=14.0), OrderedStatistic(items_base=frozenset({'d', 'p'}), items_add=frozenset({'e', 'k', 'l', 'o', 'a'}), confidence=1.0, lift=14.0), OrderedStatistic(items_base=frozenset({'e', 'k'}), items_add=frozenset({'p', 'd', 'l', 'o', 'a'}), confidence=1.0, lift=14.0), OrderedStatistic(items_base=frozenset({'e', 'l'}), items_add=frozenset({'p', 'd', 'o', 'k', 'a'}), confidence=0.5, lift=7.0), OrderedStatistic(items_base=frozenset({'e', 'o'}), items_add=frozenset({'p', 'd', 'l', 'k', 'a'}), confidence=0.5, lift=7.0), OrderedStatistic(items_base=frozenset({'e', 'p'}), items_add=frozenset({'d', 'l', 'k', 'o', 'a'}), confidence=0.3333333333333333, lift=4.666666666666667), OrderedStatistic(items_base=frozenset({'k', 'l'}), items_add=frozenset({'e', 'p', 'd', 'o', 'a'}), confidence=1.0, lift=14.0), OrderedStatistic(items_base=frozenset({'k', 'o'}), items_add=frozenset({'e', 'p', 'd', 'l', 'a'}), confidence=1.0, lift=14.0), OrderedStatistic(items_base=frozenset({'k', 'p'}), items_add=frozenset({'e', 'd', 'l', 'o', 'a'}), confidence=1.0, lift=14.0), OrderedStatistic(items_base=frozenset({'o', 'l'}), items_add=frozenset({'e', 'p', 'd', 'k', 'a'}), confidence=0.3333333333333333, lift=4.666666666666667), OrderedStatistic(items_base=frozenset({'l', 'p'}), items_add=frozenset({'e', 'd', 'k', 'o', 'a'}), confidence=0.5, lift=7.0), OrderedStatistic(items_base=frozenset({'o', 'p'}), items_add=frozenset({'e', 'd', 'l', 'k', 'a'}), confidence=0.5, lift=7.0), OrderedStatistic(items_base=frozenset({'e', 'd', 'a'}), items_add=frozenset({'k', 'l', 'p', 'o'}), confidence=1.0, lift=14.0), OrderedStatistic(items_base=frozenset({'d', 'k', 'a'}), items_add=frozenset({'e', 'o', 'l', 'p'}), confidence=1.0, lift=7.0), OrderedStatistic(items_base=frozenset({'d', 'l', 'a'}), items_add=frozenset({'e', 'k', 'p', 'o'}), confidence=1.0, lift=14.0), OrderedStatistic(items_base=frozenset({'d', 'o', 'a'}), items_add=frozenset({'e', 'k', 'l', 'p'}), confidence=1.0, lift=14.0), OrderedStatistic(items_base=frozenset({'d', 'p', 'a'}), items_add=frozenset({'e', 'k', 'l', 'o'}), confidence=1.0, lift=14.0), OrderedStatistic(items_base=frozenset({'e', 'k', 'a'}), items_add=frozenset({'d', 'l', 'p', 'o'}), confidence=1.0, lift=14.0), OrderedStatistic(items_base=frozenset({'e', 'l', 'a'}), items_add=frozenset({'d', 'p', 'o', 'k'}), confidence=1.0, lift=14.0), OrderedStatistic(items_base=frozenset({'e', 'o', 'a'}), items_add=frozenset({'d', 'l', 'p', 'k'}), confidence=1.0, lift=14.0), OrderedStatistic(items_base=frozenset({'e', 'p', 'a'}), items_add=frozenset({'d', 'l', 'k', 'o'}), confidence=1.0, lift=14.0), OrderedStatistic(items_base=frozenset({'k', 'l', 'a'}), items_add=frozenset({'e', 'd', 'p', 'o'}), confidence=1.0, lift=14.0), OrderedStatistic(items_base=frozenset({'k', 'o', 'a'}), items_add=frozenset({'e', 'd', 'l', 'p'}), confidence=1.0, lift=14.0), OrderedStatistic(items_base=frozenset({'k', 'p', 'a'}), items_add=frozenset({'e', 'd', 'l', 'o'}), confidence=1.0, lift=14.0), OrderedStatistic(items_base=frozenset({'o', 'l', 'a'}), items_add=frozenset({'e', 'd', 'p', 'k'}), confidence=1.0, lift=14.0), OrderedStatistic(items_base=frozenset({'l', 'p', 'a'}), items_add=frozenset({'e', 'd', 'k', 'o'}), confidence=1.0, lift=14.0), OrderedStatistic(items_base=frozenset({'o', 'p', 'a'}), items_add=frozenset({'e', 'd', 'l', 'k'}), confidence=1.0, lift=14.0), OrderedStatistic(items_base=frozenset({'e', 'd', 'k'}), items_add=frozenset({'o', 'l', 'p', 'a'}), confidence=1.0, lift=14.0), OrderedStatistic(items_base=frozenset({'e', 'd', 'l'}), items_add=frozenset({'k', 'p', 'o', 'a'}), confidence=1.0, lift=14.0), OrderedStatistic(items_base=frozenset({'e', 'd', 'o'}), items_add=frozenset({'k', 'l', 'p', 'a'}), confidence=1.0, lift=14.0), OrderedStatistic(items_base=frozenset({'e', 'd', 'p'}), items_add=frozenset({'k', 'l', 'o', 'a'}), confidence=1.0, lift=14.0), OrderedStatistic(items_base=frozenset({'d', 'l', 'k'}), items_add=frozenset({'e', 'o', 'p', 'a'}), confidence=1.0, lift=14.0), OrderedStatistic(items_base=frozenset({'d', 'k', 'o'}), items_add=frozenset({'e', 'l', 'p', 'a'}), confidence=1.0, lift=14.0), OrderedStatistic(items_base=frozenset({'d', 'k', 'p'}), items_add=frozenset({'e', 'o', 'l', 'a'}), confidence=1.0, lift=14.0), OrderedStatistic(items_base=frozenset({'d', 'l', 'o'}), items_add=frozenset({'e', 'k', 'p', 'a'}), confidence=1.0, lift=14.0), OrderedStatistic(items_base=frozenset({'d', 'l', 'p'}), items_add=frozenset({'e', 'k', 'o', 'a'}), confidence=1.0, lift=14.0), OrderedStatistic(items_base=frozenset({'d', 'p', 'o'}), items_add=frozenset({'e', 'k', 'l', 'a'}), confidence=1.0, lift=14.0), OrderedStatistic(items_base=frozenset({'e', 'k', 'l'}), items_add=frozenset({'d', 'p', 'o', 'a'}), confidence=1.0, lift=14.0), OrderedStatistic(items_base=frozenset({'e', 'k', 'o'}), items_add=frozenset({'d', 'l', 'p', 'a'}), confidence=1.0, lift=14.0), OrderedStatistic(items_base=frozenset({'e', 'k', 'p'}), items_add=frozenset({'d', 'l', 'o', 'a'}), confidence=1.0, lift=14.0), OrderedStatistic(items_base=frozenset({'e', 'o', 'l'}), items_add=frozenset({'a', 'd', 'p', 'k'}), confidence=0.5, lift=7.0), OrderedStatistic(items_base=frozenset({'e', 'l', 'p'}), items_add=frozenset({'d', 'k', 'o', 'a'}), confidence=0.5, lift=7.0), OrderedStatistic(items_base=frozenset({'e', 'o', 'p'}), items_add=frozenset({'d', 'l', 'k', 'a'}), confidence=0.5, lift=7.0), OrderedStatistic(items_base=frozenset({'k', 'l', 'o'}), items_add=frozenset({'e', 'd', 'p', 'a'}), confidence=1.0, lift=14.0), OrderedStatistic(items_base=frozenset({'k', 'l', 'p'}), items_add=frozenset({'e', 'd', 'o', 'a'}), confidence=1.0, lift=14.0), OrderedStatistic(items_base=frozenset({'k', 'p', 'o'}), items_add=frozenset({'e', 'd', 'l', 'a'}), confidence=1.0, lift=14.0), OrderedStatistic(items_base=frozenset({'o', 'l', 'p'}), items_add=frozenset({'e', 'd', 'k', 'a'}), confidence=0.5, lift=7.0), OrderedStatistic(items_base=frozenset({'e', 'd', 'k', 'a'}), items_add=frozenset({'o', 'l', 'p'}), confidence=1.0, lift=7.0), OrderedStatistic(items_base=frozenset({'e', 'd', 'l', 'a'}), items_add=frozenset({'k', 'p', 'o'}), confidence=1.0, lift=14.0), OrderedStatistic(items_base=frozenset({'e', 'd', 'o', 'a'}), items_add=frozenset({'k', 'l', 'p'}), confidence=1.0, lift=14.0), OrderedStatistic(items_base=frozenset({'e', 'd', 'p', 'a'}), items_add=frozenset({'k', 'l', 'o'}), confidence=1.0, lift=14.0), OrderedStatistic(items_base=frozenset({'d', 'l', 'k', 'a'}), items_add=frozenset({'e', 'o', 'p'}), confidence=1.0, lift=7.0), OrderedStatistic(items_base=frozenset({'d', 'k', 'o', 'a'}), items_add=frozenset({'e', 'l', 'p'}), confidence=1.0, lift=7.0), OrderedStatistic(items_base=frozenset({'d', 'k', 'p', 'a'}), items_add=frozenset({'e', 'o', 'l'}), confidence=1.0, lift=7.0), OrderedStatistic(items_base=frozenset({'d', 'l', 'o', 'a'}), items_add=frozenset({'e', 'k', 'p'}), confidence=1.0, lift=14.0), OrderedStatistic(items_base=frozenset({'d', 'l', 'p', 'a'}), items_add=frozenset({'e', 'k', 'o'}), confidence=1.0, lift=14.0), OrderedStatistic(items_base=frozenset({'d', 'p', 'o', 'a'}), items_add=frozenset({'e', 'k', 'l'}), confidence=1.0, lift=14.0), OrderedStatistic(items_base=frozenset({'e', 'k', 'l', 'a'}), items_add=frozenset({'d', 'p', 'o'}), confidence=1.0, lift=14.0), OrderedStatistic(items_base=frozenset({'e', 'k', 'o', 'a'}), items_add=frozenset({'d', 'l', 'p'}), confidence=1.0, lift=14.0), OrderedStatistic(items_base=frozenset({'e', 'k', 'p', 'a'}), items_add=frozenset({'d', 'l', 'o'}), confidence=1.0, lift=14.0), OrderedStatistic(items_base=frozenset({'e', 'o', 'l', 'a'}), items_add=frozenset({'d', 'p', 'k'}), confidence=1.0, lift=14.0), OrderedStatistic(items_base=frozenset({'e', 'l', 'p', 'a'}), items_add=frozenset({'d', 'k', 'o'}), confidence=1.0, lift=14.0), OrderedStatistic(items_base=frozenset({'e', 'o', 'p', 'a'}), items_add=frozenset({'d', 'l', 'k'}), confidence=1.0, lift=14.0), OrderedStatistic(items_base=frozenset({'k', 'l', 'o', 'a'}), items_add=frozenset({'e', 'd', 'p'}), confidence=1.0, lift=14.0), OrderedStatistic(items_base=frozenset({'k', 'l', 'p', 'a'}), items_add=frozenset({'e', 'd', 'o'}), confidence=1.0, lift=14.0), OrderedStatistic(items_base=frozenset({'k', 'p', 'o', 'a'}), items_add=frozenset({'e', 'd', 'l'}), confidence=1.0, lift=14.0), OrderedStatistic(items_base=frozenset({'o', 'l', 'p', 'a'}), items_add=frozenset({'e', 'd', 'k'}), confidence=1.0, lift=14.0), OrderedStatistic(items_base=frozenset({'e', 'd', 'l', 'k'}), items_add=frozenset({'o', 'p', 'a'}), confidence=1.0, lift=14.0), OrderedStatistic(items_base=frozenset({'e', 'd', 'k', 'o'}), items_add=frozenset({'l', 'p', 'a'}), confidence=1.0, lift=14.0), OrderedStatistic(items_base=frozenset({'e', 'd', 'k', 'p'}), items_add=frozenset({'o', 'l', 'a'}), confidence=1.0, lift=14.0), OrderedStatistic(items_base=frozenset({'e', 'd', 'l', 'o'}), items_add=frozenset({'k', 'p', 'a'}), confidence=1.0, lift=14.0), OrderedStatistic(items_base=frozenset({'e', 'd', 'l', 'p'}), items_add=frozenset({'k', 'o', 'a'}), confidence=1.0, lift=14.0), OrderedStatistic(items_base=frozenset({'e', 'd', 'p', 'o'}), items_add=frozenset({'k', 'l', 'a'}), confidence=1.0, lift=14.0), OrderedStatistic(items_base=frozenset({'d', 'l', 'k', 'o'}), items_add=frozenset({'e', 'p', 'a'}), confidence=1.0, lift=14.0), OrderedStatistic(items_base=frozenset({'d', 'l', 'k', 'p'}), items_add=frozenset({'e', 'o', 'a'}), confidence=1.0, lift=14.0), OrderedStatistic(items_base=frozenset({'d', 'k', 'o', 'p'}), items_add=frozenset({'e', 'l', 'a'}), confidence=1.0, lift=14.0), OrderedStatistic(items_base=frozenset({'d', 'l', 'p', 'o'}), items_add=frozenset({'e', 'k', 'a'}), confidence=1.0, lift=14.0), OrderedStatistic(items_base=frozenset({'e', 'k', 'l', 'o'}), items_add=frozenset({'d', 'p', 'a'}), confidence=1.0, lift=14.0), OrderedStatistic(items_base=frozenset({'e', 'k', 'l', 'p'}), items_add=frozenset({'d', 'o', 'a'}), confidence=1.0, lift=14.0), OrderedStatistic(items_base=frozenset({'e', 'k', 'p', 'o'}), items_add=frozenset({'d', 'l', 'a'}), confidence=1.0, lift=14.0), OrderedStatistic(items_base=frozenset({'e', 'o', 'l', 'p'}), items_add=frozenset({'d', 'k', 'a'}), confidence=0.5, lift=7.0), OrderedStatistic(items_base=frozenset({'k', 'l', 'p', 'o'}), items_add=frozenset({'e', 'd', 'a'}), confidence=1.0, lift=14.0), OrderedStatistic(items_base=frozenset({'e', 'd', 'l', 'k', 'a'}), items_add=frozenset({'o', 'p'}), confidence=1.0, lift=7.0), OrderedStatistic(items_base=frozenset({'e', 'd', 'k', 'o', 'a'}), items_add=frozenset({'l', 'p'}), confidence=1.0, lift=7.0), OrderedStatistic(items_base=frozenset({'e', 'p', 'd', 'k', 'a'}), items_add=frozenset({'o', 'l'}), confidence=1.0, lift=4.666666666666667), OrderedStatistic(items_base=frozenset({'e', 'd', 'l', 'o', 'a'}), items_add=frozenset({'k', 'p'}), confidence=1.0, lift=14.0), OrderedStatistic(items_base=frozenset({'e', 'p', 'd', 'l', 'a'}), items_add=frozenset({'k', 'o'}), confidence=1.0, lift=14.0), OrderedStatistic(items_base=frozenset({'e', 'p', 'd', 'o', 'a'}), items_add=frozenset({'k', 'l'}), confidence=1.0, lift=14.0), OrderedStatistic(items_base=frozenset({'d', 'l', 'k', 'o', 'a'}), items_add=frozenset({'e', 'p'}), confidence=1.0, lift=4.666666666666667), OrderedStatistic(items_base=frozenset({'p', 'd', 'l', 'k', 'a'}), items_add=frozenset({'e', 'o'}), confidence=1.0, lift=7.0), OrderedStatistic(items_base=frozenset({'p', 'd', 'k', 'o', 'a'}), items_add=frozenset({'e', 'l'}), confidence=1.0, lift=7.0), OrderedStatistic(items_base=frozenset({'p', 'd', 'l', 'o', 'a'}), items_add=frozenset({'e', 'k'}), confidence=1.0, lift=14.0), OrderedStatistic(items_base=frozenset({'e', 'k', 'l', 'o', 'a'}), items_add=frozenset({'d', 'p'}), confidence=1.0, lift=14.0), OrderedStatistic(items_base=frozenset({'e', 'p', 'k', 'l', 'a'}), items_add=frozenset({'d', 'o'}), confidence=1.0, lift=14.0), OrderedStatistic(items_base=frozenset({'e', 'p', 'k', 'o', 'a'}), items_add=frozenset({'d', 'l'}), confidence=1.0, lift=14.0), OrderedStatistic(items_base=frozenset({'e', 'p', 'o', 'l', 'a'}), items_add=frozenset({'d', 'k'}), confidence=1.0, lift=14.0), OrderedStatistic(items_base=frozenset({'p', 'k', 'l', 'o', 'a'}), items_add=frozenset({'e', 'd'}), confidence=1.0, lift=14.0), OrderedStatistic(items_base=frozenset({'e', 'd', 'l', 'k', 'o'}), items_add=frozenset({'p', 'a'}), confidence=1.0, lift=14.0), OrderedStatistic(items_base=frozenset({'e', 'p', 'd', 'l', 'k'}), items_add=frozenset({'o', 'a'}), confidence=1.0, lift=14.0), OrderedStatistic(items_base=frozenset({'e', 'p', 'd', 'k', 'o'}), items_add=frozenset({'l', 'a'}), confidence=1.0, lift=4.666666666666667), OrderedStatistic(items_base=frozenset({'e', 'p', 'd', 'l', 'o'}), items_add=frozenset({'k', 'a'}), confidence=1.0, lift=14.0), OrderedStatistic(items_base=frozenset({'p', 'd', 'l', 'k', 'o'}), items_add=frozenset({'e', 'a'}), confidence=1.0, lift=3.5), OrderedStatistic(items_base=frozenset({'e', 'p', 'k', 'l', 'o'}), items_add=frozenset({'d', 'a'}), confidence=1.0, lift=14.0), OrderedStatistic(items_base=frozenset({'e', 'd', 'l', 'k', 'o', 'a'}), items_add=frozenset({'p'}), confidence=1.0, lift=3.5), OrderedStatistic(items_base=frozenset({'e', 'p', 'd', 'l', 'k', 'a'}), items_add=frozenset({'o'}), confidence=1.0, lift=4.666666666666667), OrderedStatistic(items_base=frozenset({'e', 'p', 'd', 'k', 'o', 'a'}), items_add=frozenset({'l'}), confidence=1.0, lift=2.8), OrderedStatistic(items_base=frozenset({'e', 'p', 'd', 'l', 'o', 'a'}), items_add=frozenset({'k'}), confidence=1.0, lift=14.0), OrderedStatistic(items_base=frozenset({'p', 'd', 'l', 'k', 'o', 'a'}), items_add=frozenset({'e'}), confidence=1.0, lift=1.75), OrderedStatistic(items_base=frozenset({'e', 'p', 'k', 'l', 'o', 'a'}), items_add=frozenset({'d'}), confidence=1.0, lift=14.0), OrderedStatistic(items_base=frozenset({'e', 'p', 'd', 'l', 'k', 'o'}), items_add=frozenset({'a'}), confidence=1.0, lift=2.0)])"
            ]
          },
          "metadata": {},
          "execution_count": 15
        }
      ]
    },
    {
      "cell_type": "markdown",
      "metadata": {
        "id": "mTPTaWSfGfy4"
      },
      "source": [
        "## KNN"
      ]
    },
    {
      "cell_type": "markdown",
      "metadata": {
        "id": "GoIkjICEGhR8"
      },
      "source": [
        "### Split data"
      ]
    },
    {
      "cell_type": "code",
      "metadata": {
        "id": "yxQc-_gKFzC0"
      },
      "source": [
        "from sklearn.model_selection import train_test_split"
      ],
      "execution_count": 57,
      "outputs": []
    },
    {
      "cell_type": "code",
      "metadata": {
        "id": "Y5PIwV51Go-7"
      },
      "source": [
        "X_train, X_test, y_train, y_test = train_test_split(X, Y, test_size=0.5, random_state=6)"
      ],
      "execution_count": 58,
      "outputs": []
    },
    {
      "cell_type": "code",
      "metadata": {
        "id": "cgYO8_knGv2s"
      },
      "source": [
        "X_traintrain, X_val, y_traintrain, y_val = train_test_split(X_train, y_train, test_size=0.3, random_state=6)"
      ],
      "execution_count": 59,
      "outputs": []
    },
    {
      "cell_type": "markdown",
      "metadata": {
        "id": "FFRLUIAxG975"
      },
      "source": [
        "### import"
      ]
    },
    {
      "cell_type": "code",
      "metadata": {
        "id": "fTmRLRRkvyMX"
      },
      "source": [
        "from sklearn.neighbors import KNeighborsClassifier"
      ],
      "execution_count": 60,
      "outputs": []
    },
    {
      "cell_type": "markdown",
      "metadata": {
        "id": "NLXHieJ9wgMJ"
      },
      "source": [
        "## Define-Train Model1"
      ]
    },
    {
      "cell_type": "code",
      "metadata": {
        "id": "WdEA-v6tvqMP",
        "outputId": "bc4c6882-327d-4e07-9bd9-114cc5e5d0fd",
        "colab": {
          "base_uri": "https://localhost:8080/"
        }
      },
      "source": [
        "neigh1 = KNeighborsClassifier(n_neighbors=1) #เชื่อใกล้สุดแค่คนเดียว\n",
        "neigh1.fit(X_traintrain,y_traintrain)"
      ],
      "execution_count": 68,
      "outputs": [
        {
          "output_type": "execute_result",
          "data": {
            "text/plain": [
              "KNeighborsClassifier(algorithm='auto', leaf_size=30, metric='minkowski',\n",
              "                     metric_params=None, n_jobs=None, n_neighbors=1, p=2,\n",
              "                     weights='uniform')"
            ]
          },
          "metadata": {},
          "execution_count": 68
        }
      ]
    },
    {
      "cell_type": "markdown",
      "metadata": {
        "id": "50eMy9tswlie"
      },
      "source": [
        "## Define-Train Model 2"
      ]
    },
    {
      "cell_type": "code",
      "metadata": {
        "id": "1PG03z4FwWcV",
        "outputId": "fd0fdd79-2b3d-4ef8-9589-9457c3f8b780",
        "colab": {
          "base_uri": "https://localhost:8080/"
        }
      },
      "source": [
        "neigh2 = KNeighborsClassifier(n_neighbors=3) #เชื่อใกล้สุด3 คน\n",
        "neigh2.fit(X_traintrain,y_traintrain)"
      ],
      "execution_count": 69,
      "outputs": [
        {
          "output_type": "execute_result",
          "data": {
            "text/plain": [
              "KNeighborsClassifier(algorithm='auto', leaf_size=30, metric='minkowski',\n",
              "                     metric_params=None, n_jobs=None, n_neighbors=3, p=2,\n",
              "                     weights='uniform')"
            ]
          },
          "metadata": {},
          "execution_count": 69
        }
      ]
    },
    {
      "cell_type": "markdown",
      "metadata": {
        "id": "FjsgwpvTx7M_"
      },
      "source": [
        "## Define-Train Model 3"
      ]
    },
    {
      "cell_type": "code",
      "metadata": {
        "id": "JM0VsmNYxwyn",
        "outputId": "39282c44-bc31-487f-dbe3-fb26faa6cce4",
        "colab": {
          "base_uri": "https://localhost:8080/"
        }
      },
      "source": [
        "neigh3 = KNeighborsClassifier(n_neighbors=7) #เชื่อใกล้สุด7 คน\n",
        "neigh3.fit(X_traintrain,y_traintrain)"
      ],
      "execution_count": 72,
      "outputs": [
        {
          "output_type": "execute_result",
          "data": {
            "text/plain": [
              "KNeighborsClassifier(algorithm='auto', leaf_size=30, metric='minkowski',\n",
              "                     metric_params=None, n_jobs=None, n_neighbors=7, p=2,\n",
              "                     weights='uniform')"
            ]
          },
          "metadata": {},
          "execution_count": 72
        }
      ]
    },
    {
      "cell_type": "markdown",
      "metadata": {
        "id": "wsBgn8YPxCvi"
      },
      "source": [
        "## Define-Train Model 4"
      ]
    },
    {
      "cell_type": "code",
      "metadata": {
        "id": "qE27SC-axB7Y",
        "outputId": "5f121555-f5a6-41d3-9b10-f1c03539f304",
        "colab": {
          "base_uri": "https://localhost:8080/"
        }
      },
      "source": [
        "neigh4 = KNeighborsClassifier(n_neighbors=9,weights='distance') #เชื่อทุกคนเท่ากัน\n",
        "neigh4.fit(X_traintrain,y_traintrain)"
      ],
      "execution_count": 73,
      "outputs": [
        {
          "output_type": "execute_result",
          "data": {
            "text/plain": [
              "KNeighborsClassifier(algorithm='auto', leaf_size=30, metric='minkowski',\n",
              "                     metric_params=None, n_jobs=None, n_neighbors=9, p=2,\n",
              "                     weights='distance')"
            ]
          },
          "metadata": {},
          "execution_count": 73
        }
      ]
    },
    {
      "cell_type": "markdown",
      "metadata": {
        "id": "lW0qlDqey_sD"
      },
      "source": [
        "## Define-Train Model 5"
      ]
    },
    {
      "cell_type": "code",
      "metadata": {
        "id": "sA9Az9G_yzr7",
        "outputId": "b01386eb-2f45-423f-a098-6d82df2f778c",
        "colab": {
          "base_uri": "https://localhost:8080/"
        }
      },
      "source": [
        "neigh5 = KNeighborsClassifier(n_neighbors=11,weights='distance') #เชื่อทุกคนเท่ากัน\n",
        "neigh5.fit(X_traintrain,y_traintrain)"
      ],
      "execution_count": 78,
      "outputs": [
        {
          "output_type": "execute_result",
          "data": {
            "text/plain": [
              "KNeighborsClassifier(algorithm='auto', leaf_size=30, metric='minkowski',\n",
              "                     metric_params=None, n_jobs=None, n_neighbors=11, p=2,\n",
              "                     weights='distance')"
            ]
          },
          "metadata": {},
          "execution_count": 78
        }
      ]
    },
    {
      "cell_type": "markdown",
      "metadata": {
        "id": "6A0Igc9QxMt9"
      },
      "source": [
        "# Validate model  วัดผลแต่ละ Model"
      ]
    },
    {
      "cell_type": "code",
      "metadata": {
        "id": "0h85gQRkxMEP"
      },
      "source": [
        "from sklearn.metrics import accuracy_score"
      ],
      "execution_count": 65,
      "outputs": []
    },
    {
      "cell_type": "code",
      "metadata": {
        "id": "u4K2vcsyxRXy",
        "outputId": "b7036712-66f5-4b0d-ccbc-8c932829ad51",
        "colab": {
          "base_uri": "https://localhost:8080/"
        }
      },
      "source": [
        "knn1_result = neigh1.predict(X_val)\n",
        "accuracy_score(y_val,knn1_result)"
      ],
      "execution_count": 74,
      "outputs": [
        {
          "output_type": "execute_result",
          "data": {
            "text/plain": [
              "0.43478260869565216"
            ]
          },
          "metadata": {},
          "execution_count": 74
        }
      ]
    },
    {
      "cell_type": "code",
      "metadata": {
        "id": "PsrDYYc2xXX2",
        "outputId": "823b46e1-a470-4b9c-c6d2-d03b15be7b3a",
        "colab": {
          "base_uri": "https://localhost:8080/"
        }
      },
      "source": [
        "knn2_result = neigh2.predict(X_val)\n",
        "accuracy_score(y_val,knn2_result)"
      ],
      "execution_count": 75,
      "outputs": [
        {
          "output_type": "execute_result",
          "data": {
            "text/plain": [
              "0.45652173913043476"
            ]
          },
          "metadata": {},
          "execution_count": 75
        }
      ]
    },
    {
      "cell_type": "code",
      "metadata": {
        "id": "IQlgYnGoxmxb",
        "outputId": "fbd97e74-bf79-495e-e32c-f6a2eab77a6f",
        "colab": {
          "base_uri": "https://localhost:8080/"
        }
      },
      "source": [
        "knn3_result = neigh3.predict(X_val)\n",
        "accuracy_score(y_val,knn3_result)"
      ],
      "execution_count": 76,
      "outputs": [
        {
          "output_type": "execute_result",
          "data": {
            "text/plain": [
              "0.4782608695652174"
            ]
          },
          "metadata": {},
          "execution_count": 76
        }
      ]
    },
    {
      "cell_type": "code",
      "metadata": {
        "id": "HGRnUolZx_Gv",
        "outputId": "90dd994d-08e3-4540-b03e-2db34998e817",
        "colab": {
          "base_uri": "https://localhost:8080/"
        }
      },
      "source": [
        "knn4_result = neigh4.predict(X_val)\n",
        "accuracy_score(y_val,knn4_result)"
      ],
      "execution_count": 77,
      "outputs": [
        {
          "output_type": "execute_result",
          "data": {
            "text/plain": [
              "0.5869565217391305"
            ]
          },
          "metadata": {},
          "execution_count": 77
        }
      ]
    },
    {
      "cell_type": "code",
      "metadata": {
        "id": "BGgmv24cy33-",
        "outputId": "375359b3-47f0-4a3c-b29e-0862cfa18f99",
        "colab": {
          "base_uri": "https://localhost:8080/"
        }
      },
      "source": [
        "knn5_result = neigh5.predict(X_val)\n",
        "accuracy_score(y_val,knn5_result)"
      ],
      "execution_count": 79,
      "outputs": [
        {
          "output_type": "execute_result",
          "data": {
            "text/plain": [
              "0.5652173913043478"
            ]
          },
          "metadata": {},
          "execution_count": 79
        }
      ]
    },
    {
      "cell_type": "markdown",
      "metadata": {
        "id": "hegnd-64yiyM"
      },
      "source": [
        "### สรุปผล Model ที่ให้ความแม่นยำ ด้วยวิธี KNN  คือ Model ที่ 4 กำหนดตัวอย่าง 9 คน และเชื่อทุกคน ความแม่นยำ 58%"
      ]
    },
    {
      "cell_type": "markdown",
      "metadata": {
        "id": "vLpWt3nnzSwy"
      },
      "source": [
        "## \n",
        "Evaluation"
      ]
    },
    {
      "cell_type": "code",
      "metadata": {
        "id": "DfuMFJp1zUZI",
        "outputId": "b9b5eebb-e264-4d26-c0f5-ed7802575c58",
        "colab": {
          "base_uri": "https://localhost:8080/"
        }
      },
      "source": [
        "neigh4full = KNeighborsClassifier(n_neighbors=9,weights='distance') #เชื่อคนใกล้มากว่าคนไกล\n",
        "neigh4full.fit(X_train,y_train)"
      ],
      "execution_count": 80,
      "outputs": [
        {
          "output_type": "execute_result",
          "data": {
            "text/plain": [
              "KNeighborsClassifier(algorithm='auto', leaf_size=30, metric='minkowski',\n",
              "                     metric_params=None, n_jobs=None, n_neighbors=9, p=2,\n",
              "                     weights='distance')"
            ]
          },
          "metadata": {},
          "execution_count": 80
        }
      ]
    },
    {
      "cell_type": "code",
      "metadata": {
        "id": "oJrX9z2xzxBa"
      },
      "source": [
        "from sklearn.metrics import classification_report, confusion_matrix"
      ],
      "execution_count": 81,
      "outputs": []
    },
    {
      "cell_type": "code",
      "metadata": {
        "id": "nLNBT3r-z56S",
        "outputId": "cf9ea02c-0659-4154-e39e-1a4cd0c79e29",
        "colab": {
          "base_uri": "https://localhost:8080/"
        }
      },
      "source": [
        "\n",
        "cm4 = confusion_matrix(y_test,neigh4full.predict(X_test))\n",
        "cm4"
      ],
      "execution_count": 83,
      "outputs": [
        {
          "output_type": "execute_result",
          "data": {
            "text/plain": [
              "array([[28, 48],\n",
              "       [19, 57]])"
            ]
          },
          "metadata": {},
          "execution_count": 83
        }
      ]
    },
    {
      "cell_type": "code",
      "metadata": {
        "id": "_hNl46UF0OGn",
        "outputId": "ce5ceed0-6750-48c2-a6c8-5715e33cc64b",
        "colab": {
          "base_uri": "https://localhost:8080/"
        }
      },
      "source": [
        "cr4 = classification_report(y_test,neigh4full.predict(X_test))\n",
        "print(cr4)"
      ],
      "execution_count": 85,
      "outputs": [
        {
          "output_type": "stream",
          "name": "stdout",
          "text": [
            "              precision    recall  f1-score   support\n",
            "\n",
            "           0       0.60      0.37      0.46        76\n",
            "           1       0.54      0.75      0.63        76\n",
            "\n",
            "    accuracy                           0.56       152\n",
            "   macro avg       0.57      0.56      0.54       152\n",
            "weighted avg       0.57      0.56      0.54       152\n",
            "\n"
          ]
        }
      ]
    },
    {
      "cell_type": "markdown",
      "metadata": {
        "id": "SON3l0Dt0kiB"
      },
      "source": [
        "# Decision Tree"
      ]
    },
    {
      "cell_type": "markdown",
      "metadata": {
        "id": "IR6ktNcY0yD0"
      },
      "source": [
        "## import"
      ]
    },
    {
      "cell_type": "code",
      "metadata": {
        "id": "3klYi9XrIfvD"
      },
      "source": [
        "from sklearn.tree import DecisionTreeClassifier"
      ],
      "execution_count": 86,
      "outputs": []
    },
    {
      "cell_type": "markdown",
      "metadata": {
        "id": "S1CX3blh0whS"
      },
      "source": [
        "## define train model 1"
      ]
    },
    {
      "cell_type": "code",
      "metadata": {
        "id": "E2HaWyHW0wEj"
      },
      "source": [
        "mytree = DecisionTreeClassifier(criterion='entropy',min_samples_leaf=4)"
      ],
      "execution_count": 158,
      "outputs": []
    },
    {
      "cell_type": "markdown",
      "metadata": {
        "id": "z8NoS_Se2Aiy"
      },
      "source": [
        "## define train model 2"
      ]
    },
    {
      "cell_type": "markdown",
      "metadata": {
        "id": "OLiEDOsy7C_E"
      },
      "source": [
        ""
      ]
    },
    {
      "cell_type": "code",
      "metadata": {
        "id": "1sd6Txjc1-59"
      },
      "source": [
        "mytree2 = DecisionTreeClassifier(criterion='entropy',max_leaf_nodes=5)"
      ],
      "execution_count": 159,
      "outputs": []
    },
    {
      "cell_type": "markdown",
      "metadata": {
        "id": "js4-6CGA2wnK"
      },
      "source": [
        "## define train model 3"
      ]
    },
    {
      "cell_type": "code",
      "metadata": {
        "id": "mpualgCE2z4V"
      },
      "source": [
        "mytree3 = DecisionTreeClassifier(criterion='entropy',max_depth=7)"
      ],
      "execution_count": 160,
      "outputs": []
    },
    {
      "cell_type": "markdown",
      "metadata": {
        "id": "yzuQhqrl6mOS"
      },
      "source": [
        "## define train model 4"
      ]
    },
    {
      "cell_type": "code",
      "metadata": {
        "id": "5prSWiGG6iVb"
      },
      "source": [
        "mytree4 = DecisionTreeClassifier()"
      ],
      "execution_count": 161,
      "outputs": []
    },
    {
      "cell_type": "markdown",
      "metadata": {
        "id": "mNH4JEvr1APc"
      },
      "source": [
        "## train"
      ]
    },
    {
      "cell_type": "code",
      "metadata": {
        "colab": {
          "base_uri": "https://localhost:8080/"
        },
        "id": "M5r1lG3mJEp7",
        "outputId": "81fed37e-4534-499c-bed5-03b951b4e749"
      },
      "source": [
        "mytree.fit(X,Y)"
      ],
      "execution_count": 162,
      "outputs": [
        {
          "output_type": "execute_result",
          "data": {
            "text/plain": [
              "DecisionTreeClassifier(ccp_alpha=0.0, class_weight=None, criterion='entropy',\n",
              "                       max_depth=None, max_features=None, max_leaf_nodes=None,\n",
              "                       min_impurity_decrease=0.0, min_impurity_split=None,\n",
              "                       min_samples_leaf=4, min_samples_split=2,\n",
              "                       min_weight_fraction_leaf=0.0, presort='deprecated',\n",
              "                       random_state=None, splitter='best')"
            ]
          },
          "metadata": {},
          "execution_count": 162
        }
      ]
    },
    {
      "cell_type": "code",
      "metadata": {
        "id": "YA91UuBI2kAt",
        "outputId": "0107c297-30f5-42ca-9cf4-5565ad2e6885",
        "colab": {
          "base_uri": "https://localhost:8080/"
        }
      },
      "source": [
        "mytree2.fit(X,Y)"
      ],
      "execution_count": 163,
      "outputs": [
        {
          "output_type": "execute_result",
          "data": {
            "text/plain": [
              "DecisionTreeClassifier(ccp_alpha=0.0, class_weight=None, criterion='entropy',\n",
              "                       max_depth=None, max_features=None, max_leaf_nodes=5,\n",
              "                       min_impurity_decrease=0.0, min_impurity_split=None,\n",
              "                       min_samples_leaf=1, min_samples_split=2,\n",
              "                       min_weight_fraction_leaf=0.0, presort='deprecated',\n",
              "                       random_state=None, splitter='best')"
            ]
          },
          "metadata": {},
          "execution_count": 163
        }
      ]
    },
    {
      "cell_type": "code",
      "metadata": {
        "id": "nwlOcYnc29hg",
        "outputId": "c5025f4a-ecf7-46f0-98f5-0227d0eb5866",
        "colab": {
          "base_uri": "https://localhost:8080/"
        }
      },
      "source": [
        "mytree3.fit(X,Y)"
      ],
      "execution_count": 164,
      "outputs": [
        {
          "output_type": "execute_result",
          "data": {
            "text/plain": [
              "DecisionTreeClassifier(ccp_alpha=0.0, class_weight=None, criterion='entropy',\n",
              "                       max_depth=7, max_features=None, max_leaf_nodes=None,\n",
              "                       min_impurity_decrease=0.0, min_impurity_split=None,\n",
              "                       min_samples_leaf=1, min_samples_split=2,\n",
              "                       min_weight_fraction_leaf=0.0, presort='deprecated',\n",
              "                       random_state=None, splitter='best')"
            ]
          },
          "metadata": {},
          "execution_count": 164
        }
      ]
    },
    {
      "cell_type": "code",
      "metadata": {
        "id": "t84ZWfEb6oV_",
        "outputId": "b8187588-335d-4990-99dd-5a1f51ffd4ae",
        "colab": {
          "base_uri": "https://localhost:8080/"
        }
      },
      "source": [
        "mytree4.fit(X,Y)"
      ],
      "execution_count": 165,
      "outputs": [
        {
          "output_type": "execute_result",
          "data": {
            "text/plain": [
              "DecisionTreeClassifier(ccp_alpha=0.0, class_weight=None, criterion='gini',\n",
              "                       max_depth=None, max_features=None, max_leaf_nodes=None,\n",
              "                       min_impurity_decrease=0.0, min_impurity_split=None,\n",
              "                       min_samples_leaf=1, min_samples_split=2,\n",
              "                       min_weight_fraction_leaf=0.0, presort='deprecated',\n",
              "                       random_state=None, splitter='best')"
            ]
          },
          "metadata": {},
          "execution_count": 165
        }
      ]
    },
    {
      "cell_type": "markdown",
      "metadata": {
        "id": "N3s-fnWz1H-0"
      },
      "source": [
        "## plot tree"
      ]
    },
    {
      "cell_type": "code",
      "metadata": {
        "id": "6OwnRzohozN9",
        "outputId": "e346ba1c-e690-46ca-a9e7-9a9dea09cdb8",
        "colab": {
          "base_uri": "https://localhost:8080/",
          "height": 1000
        }
      },
      "source": [
        "from sklearn.tree import plot_tree\n",
        "plot_tree(mytree)"
      ],
      "execution_count": 166,
      "outputs": [
        {
          "output_type": "execute_result",
          "data": {
            "text/plain": [
              "[Text(174.05795454545455, 210.192, 'X[0] <= 0.5\\nentropy = 0.994\\nsamples = 303\\nvalue = [138, 165]'),\n",
              " Text(117.94090909090909, 195.696, 'X[1] <= 143.0\\nentropy = 0.845\\nsamples = 143\\nvalue = [104, 39]'),\n",
              " Text(91.30909090909091, 181.2, 'X[2] <= 272.5\\nentropy = 0.906\\nsamples = 112\\nvalue = [76, 36]'),\n",
              " Text(60.872727272727275, 166.704, 'X[1] <= 107.0\\nentropy = 0.954\\nsamples = 80\\nvalue = [50, 30]'),\n",
              " Text(53.263636363636365, 152.208, 'entropy = 0.722\\nsamples = 5\\nvalue = [1, 4]'),\n",
              " Text(68.48181818181818, 152.208, 'X[1] <= 133.5\\nentropy = 0.931\\nsamples = 75\\nvalue = [49, 26]'),\n",
              " Text(38.04545454545455, 137.712, 'X[1] <= 116.0\\nentropy = 0.845\\nsamples = 55\\nvalue = [40, 15]'),\n",
              " Text(22.827272727272728, 123.216, 'X[1] <= 111.0\\nentropy = 0.977\\nsamples = 17\\nvalue = [10, 7]'),\n",
              " Text(15.218181818181819, 108.72, 'X[2] <= 208.5\\nentropy = 0.918\\nsamples = 12\\nvalue = [8, 4]'),\n",
              " Text(7.609090909090909, 94.22399999999999, 'entropy = 0.722\\nsamples = 5\\nvalue = [4, 1]'),\n",
              " Text(22.827272727272728, 94.22399999999999, 'entropy = 0.985\\nsamples = 7\\nvalue = [4, 3]'),\n",
              " Text(30.436363636363637, 108.72, 'entropy = 0.971\\nsamples = 5\\nvalue = [2, 3]'),\n",
              " Text(53.263636363636365, 123.216, 'X[2] <= 261.5\\nentropy = 0.742\\nsamples = 38\\nvalue = [30, 8]'),\n",
              " Text(45.654545454545456, 108.72, 'X[2] <= 225.5\\nentropy = 0.614\\nsamples = 33\\nvalue = [28, 5]'),\n",
              " Text(38.04545454545455, 94.22399999999999, 'X[2] <= 206.5\\nentropy = 0.852\\nsamples = 18\\nvalue = [13, 5]'),\n",
              " Text(30.436363636363637, 79.72799999999998, 'X[2] <= 197.5\\nentropy = 0.65\\nsamples = 12\\nvalue = [10, 2]'),\n",
              " Text(22.827272727272728, 65.232, 'X[1] <= 122.0\\nentropy = 0.811\\nsamples = 8\\nvalue = [6, 2]'),\n",
              " Text(15.218181818181819, 50.73599999999999, 'entropy = 0.811\\nsamples = 4\\nvalue = [3, 1]'),\n",
              " Text(30.436363636363637, 50.73599999999999, 'entropy = 0.811\\nsamples = 4\\nvalue = [3, 1]'),\n",
              " Text(38.04545454545455, 65.232, 'entropy = 0.0\\nsamples = 4\\nvalue = [4, 0]'),\n",
              " Text(45.654545454545456, 79.72799999999998, 'entropy = 1.0\\nsamples = 6\\nvalue = [3, 3]'),\n",
              " Text(53.263636363636365, 94.22399999999999, 'entropy = 0.0\\nsamples = 15\\nvalue = [15, 0]'),\n",
              " Text(60.872727272727275, 108.72, 'entropy = 0.971\\nsamples = 5\\nvalue = [2, 3]'),\n",
              " Text(98.91818181818182, 137.712, 'X[2] <= 221.5\\nentropy = 0.993\\nsamples = 20\\nvalue = [9, 11]'),\n",
              " Text(83.7, 123.216, 'X[2] <= 189.5\\nentropy = 0.811\\nsamples = 8\\nvalue = [6, 2]'),\n",
              " Text(76.0909090909091, 108.72, 'entropy = 0.811\\nsamples = 4\\nvalue = [3, 1]'),\n",
              " Text(91.30909090909091, 108.72, 'entropy = 0.811\\nsamples = 4\\nvalue = [3, 1]'),\n",
              " Text(114.13636363636364, 123.216, 'X[2] <= 240.0\\nentropy = 0.811\\nsamples = 12\\nvalue = [3, 9]'),\n",
              " Text(106.52727272727273, 108.72, 'entropy = 0.0\\nsamples = 6\\nvalue = [0, 6]'),\n",
              " Text(121.74545454545455, 108.72, 'entropy = 1.0\\nsamples = 6\\nvalue = [3, 3]'),\n",
              " Text(121.74545454545455, 166.704, 'X[2] <= 301.0\\nentropy = 0.696\\nsamples = 32\\nvalue = [26, 6]'),\n",
              " Text(114.13636363636364, 152.208, 'entropy = 0.0\\nsamples = 13\\nvalue = [13, 0]'),\n",
              " Text(129.35454545454547, 152.208, 'X[2] <= 303.5\\nentropy = 0.9\\nsamples = 19\\nvalue = [13, 6]'),\n",
              " Text(121.74545454545455, 137.712, 'entropy = 0.0\\nsamples = 4\\nvalue = [0, 4]'),\n",
              " Text(136.96363636363637, 137.712, 'X[2] <= 347.0\\nentropy = 0.567\\nsamples = 15\\nvalue = [13, 2]'),\n",
              " Text(129.35454545454547, 123.216, 'entropy = 0.0\\nsamples = 11\\nvalue = [11, 0]'),\n",
              " Text(144.57272727272726, 123.216, 'entropy = 1.0\\nsamples = 4\\nvalue = [2, 2]'),\n",
              " Text(144.57272727272726, 181.2, 'X[2] <= 226.5\\nentropy = 0.459\\nsamples = 31\\nvalue = [28, 3]'),\n",
              " Text(136.96363636363637, 166.704, 'entropy = 0.0\\nsamples = 11\\nvalue = [11, 0]'),\n",
              " Text(152.1818181818182, 166.704, 'X[2] <= 248.0\\nentropy = 0.61\\nsamples = 20\\nvalue = [17, 3]'),\n",
              " Text(144.57272727272726, 152.208, 'entropy = 0.971\\nsamples = 5\\nvalue = [3, 2]'),\n",
              " Text(159.7909090909091, 152.208, 'X[2] <= 316.0\\nentropy = 0.353\\nsamples = 15\\nvalue = [14, 1]'),\n",
              " Text(152.1818181818182, 137.712, 'entropy = 0.0\\nsamples = 11\\nvalue = [11, 0]'),\n",
              " Text(167.4, 137.712, 'entropy = 0.811\\nsamples = 4\\nvalue = [3, 1]'),\n",
              " Text(230.175, 195.696, 'X[2] <= 223.5\\nentropy = 0.746\\nsamples = 160\\nvalue = [34, 126]'),\n",
              " Text(182.61818181818182, 181.2, 'X[0] <= 1.5\\nentropy = 0.469\\nsamples = 60\\nvalue = [6, 54]'),\n",
              " Text(175.0090909090909, 166.704, 'entropy = 0.0\\nsamples = 19\\nvalue = [0, 19]'),\n",
              " Text(190.22727272727275, 166.704, 'X[1] <= 114.0\\nentropy = 0.601\\nsamples = 41\\nvalue = [6, 35]'),\n",
              " Text(182.61818181818182, 152.208, 'entropy = 0.0\\nsamples = 6\\nvalue = [0, 6]'),\n",
              " Text(197.83636363636364, 152.208, 'X[2] <= 190.5\\nentropy = 0.661\\nsamples = 35\\nvalue = [6, 29]'),\n",
              " Text(182.61818181818182, 137.712, 'X[2] <= 181.0\\nentropy = 0.811\\nsamples = 12\\nvalue = [3, 9]'),\n",
              " Text(175.0090909090909, 123.216, 'entropy = 0.544\\nsamples = 8\\nvalue = [1, 7]'),\n",
              " Text(190.22727272727275, 123.216, 'entropy = 1.0\\nsamples = 4\\nvalue = [2, 2]'),\n",
              " Text(213.05454545454546, 137.712, 'X[2] <= 202.5\\nentropy = 0.559\\nsamples = 23\\nvalue = [3, 20]'),\n",
              " Text(205.44545454545454, 123.216, 'entropy = 0.0\\nsamples = 8\\nvalue = [0, 8]'),\n",
              " Text(220.66363636363639, 123.216, 'X[1] <= 125.5\\nentropy = 0.722\\nsamples = 15\\nvalue = [3, 12]'),\n",
              " Text(213.05454545454546, 108.72, 'entropy = 0.0\\nsamples = 6\\nvalue = [0, 6]'),\n",
              " Text(228.27272727272728, 108.72, 'X[2] <= 213.0\\nentropy = 0.918\\nsamples = 9\\nvalue = [3, 6]'),\n",
              " Text(220.66363636363639, 94.22399999999999, 'entropy = 1.0\\nsamples = 4\\nvalue = [2, 2]'),\n",
              " Text(235.88181818181818, 94.22399999999999, 'entropy = 0.722\\nsamples = 5\\nvalue = [1, 4]'),\n",
              " Text(277.7318181818182, 181.2, 'X[2] <= 232.5\\nentropy = 0.855\\nsamples = 100\\nvalue = [28, 72]'),\n",
              " Text(251.10000000000002, 166.704, 'X[2] <= 228.0\\nentropy = 0.996\\nsamples = 13\\nvalue = [7, 6]'),\n",
              " Text(243.4909090909091, 152.208, 'entropy = 0.722\\nsamples = 5\\nvalue = [1, 4]'),\n",
              " Text(258.70909090909095, 152.208, 'X[1] <= 129.0\\nentropy = 0.811\\nsamples = 8\\nvalue = [6, 2]'),\n",
              " Text(251.10000000000002, 137.712, 'entropy = 0.0\\nsamples = 4\\nvalue = [4, 0]'),\n",
              " Text(266.3181818181818, 137.712, 'entropy = 1.0\\nsamples = 4\\nvalue = [2, 2]'),\n",
              " Text(304.3636363636364, 166.704, 'X[1] <= 158.0\\nentropy = 0.797\\nsamples = 87\\nvalue = [21, 66]'),\n",
              " Text(289.1454545454545, 152.208, 'X[1] <= 142.5\\nentropy = 0.711\\nsamples = 77\\nvalue = [15, 62]'),\n",
              " Text(281.53636363636366, 137.712, 'X[0] <= 2.5\\nentropy = 0.767\\nsamples = 67\\nvalue = [15, 52]'),\n",
              " Text(273.92727272727274, 123.216, 'X[1] <= 135.5\\nentropy = 0.702\\nsamples = 63\\nvalue = [12, 51]'),\n",
              " Text(258.70909090909095, 108.72, 'X[2] <= 312.0\\nentropy = 0.619\\nsamples = 52\\nvalue = [8, 44]'),\n",
              " Text(251.10000000000002, 94.22399999999999, 'X[1] <= 131.0\\nentropy = 0.667\\nsamples = 46\\nvalue = [8, 38]'),\n",
              " Text(243.4909090909091, 79.72799999999998, 'X[2] <= 279.0\\nentropy = 0.712\\nsamples = 41\\nvalue = [8, 33]'),\n",
              " Text(228.27272727272728, 65.232, 'X[2] <= 264.0\\nentropy = 0.614\\nsamples = 33\\nvalue = [5, 28]'),\n",
              " Text(220.66363636363639, 50.73599999999999, 'X[2] <= 255.5\\nentropy = 0.722\\nsamples = 25\\nvalue = [5, 20]'),\n",
              " Text(213.05454545454546, 36.23999999999998, 'X[2] <= 243.5\\nentropy = 0.503\\nsamples = 18\\nvalue = [2, 16]'),\n",
              " Text(205.44545454545454, 21.744, 'X[1] <= 119.0\\nentropy = 0.722\\nsamples = 10\\nvalue = [2, 8]'),\n",
              " Text(197.83636363636364, 7.2479999999999905, 'entropy = 0.811\\nsamples = 4\\nvalue = [1, 3]'),\n",
              " Text(213.05454545454546, 7.2479999999999905, 'entropy = 0.65\\nsamples = 6\\nvalue = [1, 5]'),\n",
              " Text(220.66363636363639, 21.744, 'entropy = 0.0\\nsamples = 8\\nvalue = [0, 8]'),\n",
              " Text(228.27272727272728, 36.23999999999998, 'entropy = 0.985\\nsamples = 7\\nvalue = [3, 4]'),\n",
              " Text(235.88181818181818, 50.73599999999999, 'entropy = 0.0\\nsamples = 8\\nvalue = [0, 8]'),\n",
              " Text(258.70909090909095, 65.232, 'X[2] <= 300.5\\nentropy = 0.954\\nsamples = 8\\nvalue = [3, 5]'),\n",
              " Text(251.10000000000002, 50.73599999999999, 'entropy = 1.0\\nsamples = 4\\nvalue = [2, 2]'),\n",
              " Text(266.3181818181818, 50.73599999999999, 'entropy = 0.811\\nsamples = 4\\nvalue = [1, 3]'),\n",
              " Text(258.70909090909095, 79.72799999999998, 'entropy = 0.0\\nsamples = 5\\nvalue = [0, 5]'),\n",
              " Text(266.3181818181818, 94.22399999999999, 'entropy = 0.0\\nsamples = 6\\nvalue = [0, 6]'),\n",
              " Text(289.1454545454545, 108.72, 'X[2] <= 275.5\\nentropy = 0.946\\nsamples = 11\\nvalue = [4, 7]'),\n",
              " Text(281.53636363636366, 94.22399999999999, 'entropy = 1.0\\nsamples = 4\\nvalue = [2, 2]'),\n",
              " Text(296.75454545454545, 94.22399999999999, 'entropy = 0.863\\nsamples = 7\\nvalue = [2, 5]'),\n",
              " Text(289.1454545454545, 123.216, 'entropy = 0.811\\nsamples = 4\\nvalue = [3, 1]'),\n",
              " Text(296.75454545454545, 137.712, 'entropy = 0.0\\nsamples = 10\\nvalue = [0, 10]'),\n",
              " Text(319.5818181818182, 152.208, 'X[1] <= 165.0\\nentropy = 0.971\\nsamples = 10\\nvalue = [6, 4]'),\n",
              " Text(311.9727272727273, 137.712, 'entropy = 1.0\\nsamples = 6\\nvalue = [3, 3]'),\n",
              " Text(327.1909090909091, 137.712, 'entropy = 0.811\\nsamples = 4\\nvalue = [3, 1]')]"
            ]
          },
          "metadata": {},
          "execution_count": 166
        },
        {
          "output_type": "display_data",
          "data": {
            "image/png": "[encoded data removed]",
            "text/plain": [
              "<Figure size 432x288 with 1 Axes>"
            ]
          },
          "metadata": {
            "needs_background": "light"
          }
        }
      ]
    },
    {
      "cell_type": "code",
      "metadata": {
        "id": "-YpCfGT31I34",
        "outputId": "0b302c9f-5421-48dc-e696-8378c5d8309c",
        "colab": {
          "base_uri": "https://localhost:8080/",
          "height": 398
        }
      },
      "source": [
        "plot_tree(mytree2)"
      ],
      "execution_count": 167,
      "outputs": [
        {
          "output_type": "execute_result",
          "data": {
            "text/plain": [
              "[Text(148.8, 190.26, 'X[0] <= 0.5\\nentropy = 0.994\\nsamples = 303\\nvalue = [138, 165]'),\n",
              " Text(74.4, 135.9, 'X[1] <= 143.0\\nentropy = 0.845\\nsamples = 143\\nvalue = [104, 39]'),\n",
              " Text(37.2, 81.53999999999999, 'entropy = 0.906\\nsamples = 112\\nvalue = [76, 36]'),\n",
              " Text(111.60000000000001, 81.53999999999999, 'entropy = 0.459\\nsamples = 31\\nvalue = [28, 3]'),\n",
              " Text(223.20000000000002, 135.9, 'X[2] <= 223.5\\nentropy = 0.746\\nsamples = 160\\nvalue = [34, 126]'),\n",
              " Text(186.0, 81.53999999999999, 'entropy = 0.469\\nsamples = 60\\nvalue = [6, 54]'),\n",
              " Text(260.40000000000003, 81.53999999999999, 'X[1] <= 179.0\\nentropy = 0.855\\nsamples = 100\\nvalue = [28, 72]'),\n",
              " Text(223.20000000000002, 27.180000000000007, 'entropy = 0.835\\nsamples = 98\\nvalue = [26, 72]'),\n",
              " Text(297.6, 27.180000000000007, 'entropy = 0.0\\nsamples = 2\\nvalue = [2, 0]')]"
            ]
          },
          "metadata": {},
          "execution_count": 167
        },
        {
          "output_type": "display_data",
          "data": {
            "image/png": "[encoded data removed]",
            "text/plain": [
              "<Figure size 432x288 with 1 Axes>"
            ]
          },
          "metadata": {
            "needs_background": "light"
          }
        }
      ]
    },
    {
      "cell_type": "code",
      "metadata": {
        "id": "d7PnHFE02oZV",
        "outputId": "98a410d2-3508-43b9-f12e-3a361b2a89e9",
        "colab": {
          "base_uri": "https://localhost:8080/",
          "height": 1000
        }
      },
      "source": [
        "plot_tree(mytree3)"
      ],
      "execution_count": 168,
      "outputs": [
        {
          "output_type": "execute_result",
          "data": {
            "text/plain": [
              "[Text(179.2575, 203.85, 'X[0] <= 0.5\\nentropy = 0.994\\nsamples = 303\\nvalue = [138, 165]'),\n",
              " Text(112.995, 176.67000000000002, 'X[1] <= 143.0\\nentropy = 0.845\\nsamples = 143\\nvalue = [104, 39]'),\n",
              " Text(69.75, 149.49, 'X[2] <= 272.5\\nentropy = 0.906\\nsamples = 112\\nvalue = [76, 36]'),\n",
              " Text(39.06, 122.31, 'X[1] <= 107.0\\nentropy = 0.954\\nsamples = 80\\nvalue = [50, 30]'),\n",
              " Text(16.740000000000002, 95.13, 'X[1] <= 101.0\\nentropy = 0.722\\nsamples = 5\\nvalue = [1, 4]'),\n",
              " Text(11.16, 67.94999999999999, 'X[2] <= 241.0\\nentropy = 1.0\\nsamples = 2\\nvalue = [1, 1]'),\n",
              " Text(5.58, 40.77000000000001, 'entropy = 0.0\\nsamples = 1\\nvalue = [1, 0]'),\n",
              " Text(16.740000000000002, 40.77000000000001, 'entropy = 0.0\\nsamples = 1\\nvalue = [0, 1]'),\n",
              " Text(22.32, 67.94999999999999, 'entropy = 0.0\\nsamples = 3\\nvalue = [0, 3]'),\n",
              " Text(61.38, 95.13, 'X[1] <= 133.5\\nentropy = 0.931\\nsamples = 75\\nvalue = [49, 26]'),\n",
              " Text(39.06, 67.94999999999999, 'X[1] <= 116.0\\nentropy = 0.845\\nsamples = 55\\nvalue = [40, 15]'),\n",
              " Text(27.9, 40.77000000000001, 'X[2] <= 158.0\\nentropy = 0.977\\nsamples = 17\\nvalue = [10, 7]'),\n",
              " Text(22.32, 13.590000000000003, 'entropy = 0.0\\nsamples = 1\\nvalue = [0, 1]'),\n",
              " Text(33.480000000000004, 13.590000000000003, 'entropy = 0.954\\nsamples = 16\\nvalue = [10, 6]'),\n",
              " Text(50.22, 40.77000000000001, 'X[2] <= 261.5\\nentropy = 0.742\\nsamples = 38\\nvalue = [30, 8]'),\n",
              " Text(44.64, 13.590000000000003, 'entropy = 0.614\\nsamples = 33\\nvalue = [28, 5]'),\n",
              " Text(55.8, 13.590000000000003, 'entropy = 0.971\\nsamples = 5\\nvalue = [2, 3]'),\n",
              " Text(83.7, 67.94999999999999, 'X[2] <= 221.5\\nentropy = 0.993\\nsamples = 20\\nvalue = [9, 11]'),\n",
              " Text(72.54, 40.77000000000001, 'X[2] <= 197.5\\nentropy = 0.811\\nsamples = 8\\nvalue = [6, 2]'),\n",
              " Text(66.96000000000001, 13.590000000000003, 'entropy = 0.971\\nsamples = 5\\nvalue = [3, 2]'),\n",
              " Text(78.12, 13.590000000000003, 'entropy = 0.0\\nsamples = 3\\nvalue = [3, 0]'),\n",
              " Text(94.86, 40.77000000000001, 'X[2] <= 240.0\\nentropy = 0.811\\nsamples = 12\\nvalue = [3, 9]'),\n",
              " Text(89.28, 13.590000000000003, 'entropy = 0.0\\nsamples = 6\\nvalue = [0, 6]'),\n",
              " Text(100.44, 13.590000000000003, 'entropy = 1.0\\nsamples = 6\\nvalue = [3, 3]'),\n",
              " Text(100.44, 122.31, 'X[2] <= 301.0\\nentropy = 0.696\\nsamples = 32\\nvalue = [26, 6]'),\n",
              " Text(94.86, 95.13, 'entropy = 0.0\\nsamples = 13\\nvalue = [13, 0]'),\n",
              " Text(106.02, 95.13, 'X[2] <= 303.5\\nentropy = 0.9\\nsamples = 19\\nvalue = [13, 6]'),\n",
              " Text(100.44, 67.94999999999999, 'entropy = 0.0\\nsamples = 4\\nvalue = [0, 4]'),\n",
              " Text(111.6, 67.94999999999999, 'X[2] <= 353.5\\nentropy = 0.567\\nsamples = 15\\nvalue = [13, 2]'),\n",
              " Text(106.02, 40.77000000000001, 'entropy = 0.0\\nsamples = 12\\nvalue = [12, 0]'),\n",
              " Text(117.18, 40.77000000000001, 'X[2] <= 401.5\\nentropy = 0.918\\nsamples = 3\\nvalue = [1, 2]'),\n",
              " Text(111.6, 13.590000000000003, 'entropy = 0.0\\nsamples = 2\\nvalue = [0, 2]'),\n",
              " Text(122.76, 13.590000000000003, 'entropy = 0.0\\nsamples = 1\\nvalue = [1, 0]'),\n",
              " Text(156.24, 149.49, 'X[2] <= 226.5\\nentropy = 0.459\\nsamples = 31\\nvalue = [28, 3]'),\n",
              " Text(150.66, 122.31, 'entropy = 0.0\\nsamples = 11\\nvalue = [11, 0]'),\n",
              " Text(161.82, 122.31, 'X[2] <= 248.0\\nentropy = 0.61\\nsamples = 20\\nvalue = [17, 3]'),\n",
              " Text(150.66, 95.13, 'X[2] <= 245.5\\nentropy = 0.971\\nsamples = 5\\nvalue = [3, 2]'),\n",
              " Text(145.08, 67.94999999999999, 'X[2] <= 235.5\\nentropy = 0.811\\nsamples = 4\\nvalue = [3, 1]'),\n",
              " Text(139.5, 40.77000000000001, 'X[1] <= 169.0\\nentropy = 1.0\\nsamples = 2\\nvalue = [1, 1]'),\n",
              " Text(133.92000000000002, 13.590000000000003, 'entropy = 0.0\\nsamples = 1\\nvalue = [0, 1]'),\n",
              " Text(145.08, 13.590000000000003, 'entropy = 0.0\\nsamples = 1\\nvalue = [1, 0]'),\n",
              " Text(150.66, 40.77000000000001, 'entropy = 0.0\\nsamples = 2\\nvalue = [2, 0]'),\n",
              " Text(156.24, 67.94999999999999, 'entropy = 0.0\\nsamples = 1\\nvalue = [0, 1]'),\n",
              " Text(172.98, 95.13, 'X[1] <= 177.0\\nentropy = 0.353\\nsamples = 15\\nvalue = [14, 1]'),\n",
              " Text(167.4, 67.94999999999999, 'entropy = 0.0\\nsamples = 12\\nvalue = [12, 0]'),\n",
              " Text(178.56, 67.94999999999999, 'X[2] <= 306.5\\nentropy = 0.918\\nsamples = 3\\nvalue = [2, 1]'),\n",
              " Text(172.98, 40.77000000000001, 'entropy = 0.0\\nsamples = 1\\nvalue = [1, 0]'),\n",
              " Text(184.14000000000001, 40.77000000000001, 'X[2] <= 326.0\\nentropy = 1.0\\nsamples = 2\\nvalue = [1, 1]'),\n",
              " Text(178.56, 13.590000000000003, 'entropy = 0.0\\nsamples = 1\\nvalue = [0, 1]'),\n",
              " Text(189.72, 13.590000000000003, 'entropy = 0.0\\nsamples = 1\\nvalue = [1, 0]'),\n",
              " Text(245.52, 176.67000000000002, 'X[2] <= 223.5\\nentropy = 0.746\\nsamples = 160\\nvalue = [34, 126]'),\n",
              " Text(200.88, 149.49, 'X[0] <= 1.5\\nentropy = 0.469\\nsamples = 60\\nvalue = [6, 54]'),\n",
              " Text(195.3, 122.31, 'entropy = 0.0\\nsamples = 19\\nvalue = [0, 19]'),\n",
              " Text(206.46, 122.31, 'X[1] <= 114.0\\nentropy = 0.601\\nsamples = 41\\nvalue = [6, 35]'),\n",
              " Text(200.88, 95.13, 'entropy = 0.0\\nsamples = 6\\nvalue = [0, 6]'),\n",
              " Text(212.04, 95.13, 'X[2] <= 158.5\\nentropy = 0.661\\nsamples = 35\\nvalue = [6, 29]'),\n",
              " Text(200.88, 67.94999999999999, 'X[1] <= 134.0\\nentropy = 1.0\\nsamples = 2\\nvalue = [1, 1]'),\n",
              " Text(195.3, 40.77000000000001, 'entropy = 0.0\\nsamples = 1\\nvalue = [1, 0]'),\n",
              " Text(206.46, 40.77000000000001, 'entropy = 0.0\\nsamples = 1\\nvalue = [0, 1]'),\n",
              " Text(223.2, 67.94999999999999, 'X[2] <= 183.5\\nentropy = 0.614\\nsamples = 33\\nvalue = [5, 28]'),\n",
              " Text(217.62, 40.77000000000001, 'entropy = 0.0\\nsamples = 7\\nvalue = [0, 7]'),\n",
              " Text(228.78, 40.77000000000001, 'X[2] <= 190.5\\nentropy = 0.706\\nsamples = 26\\nvalue = [5, 21]'),\n",
              " Text(223.2, 13.590000000000003, 'entropy = 0.918\\nsamples = 3\\nvalue = [2, 1]'),\n",
              " Text(234.36, 13.590000000000003, 'entropy = 0.559\\nsamples = 23\\nvalue = [3, 20]'),\n",
              " Text(290.16, 149.49, 'X[1] <= 179.0\\nentropy = 0.855\\nsamples = 100\\nvalue = [28, 72]'),\n",
              " Text(284.58, 122.31, 'X[2] <= 232.5\\nentropy = 0.835\\nsamples = 98\\nvalue = [26, 72]'),\n",
              " Text(256.68, 95.13, 'X[2] <= 228.0\\nentropy = 0.996\\nsamples = 13\\nvalue = [7, 6]'),\n",
              " Text(245.52, 67.94999999999999, 'X[2] <= 225.0\\nentropy = 0.722\\nsamples = 5\\nvalue = [1, 4]'),\n",
              " Text(239.94, 40.77000000000001, 'entropy = 0.0\\nsamples = 1\\nvalue = [1, 0]'),\n",
              " Text(251.1, 40.77000000000001, 'entropy = 0.0\\nsamples = 4\\nvalue = [0, 4]'),\n",
              " Text(267.84000000000003, 67.94999999999999, 'X[1] <= 129.0\\nentropy = 0.811\\nsamples = 8\\nvalue = [6, 2]'),\n",
              " Text(262.26, 40.77000000000001, 'entropy = 0.0\\nsamples = 4\\nvalue = [4, 0]'),\n",
              " Text(273.42, 40.77000000000001, 'X[0] <= 1.5\\nentropy = 1.0\\nsamples = 4\\nvalue = [2, 2]'),\n",
              " Text(267.84000000000003, 13.590000000000003, 'entropy = 0.0\\nsamples = 1\\nvalue = [1, 0]'),\n",
              " Text(279.0, 13.590000000000003, 'entropy = 0.918\\nsamples = 3\\nvalue = [1, 2]'),\n",
              " Text(312.48, 95.13, 'X[1] <= 158.0\\nentropy = 0.767\\nsamples = 85\\nvalue = [19, 66]'),\n",
              " Text(301.32, 67.94999999999999, 'X[1] <= 142.5\\nentropy = 0.711\\nsamples = 77\\nvalue = [15, 62]'),\n",
              " Text(295.74, 40.77000000000001, 'X[0] <= 2.5\\nentropy = 0.767\\nsamples = 67\\nvalue = [15, 52]'),\n",
              " Text(290.16, 13.590000000000003, 'entropy = 0.702\\nsamples = 63\\nvalue = [12, 51]'),\n",
              " Text(301.32, 13.590000000000003, 'entropy = 0.811\\nsamples = 4\\nvalue = [3, 1]'),\n",
              " Text(306.9, 40.77000000000001, 'entropy = 0.0\\nsamples = 10\\nvalue = [0, 10]'),\n",
              " Text(323.64, 67.94999999999999, 'X[2] <= 295.0\\nentropy = 1.0\\nsamples = 8\\nvalue = [4, 4]'),\n",
              " Text(318.06, 40.77000000000001, 'X[2] <= 240.0\\nentropy = 0.918\\nsamples = 6\\nvalue = [4, 2]'),\n",
              " Text(312.48, 13.590000000000003, 'entropy = 0.0\\nsamples = 1\\nvalue = [0, 1]'),\n",
              " Text(323.64, 13.590000000000003, 'entropy = 0.722\\nsamples = 5\\nvalue = [4, 1]'),\n",
              " Text(329.22, 40.77000000000001, 'entropy = 0.0\\nsamples = 2\\nvalue = [0, 2]'),\n",
              " Text(295.74, 122.31, 'entropy = 0.0\\nsamples = 2\\nvalue = [2, 0]')]"
            ]
          },
          "metadata": {},
          "execution_count": 168
        },
        {
          "output_type": "display_data",
          "data": {
            "image/png": "[encoded data removed]",
            "text/plain": [
              "<Figure size 432x288 with 1 Axes>"
            ]
          },
          "metadata": {
            "needs_background": "light"
          }
        }
      ]
    },
    {
      "cell_type": "code",
      "metadata": {
        "id": "LiKD8HTO4pfR"
      },
      "source": [
        "from sklearn.model_selection import train_test_split"
      ],
      "execution_count": 169,
      "outputs": []
    },
    {
      "cell_type": "code",
      "metadata": {
        "id": "5I8C0_-c4ta9"
      },
      "source": [
        "X_train,X_test,y_train,y_test = train_test_split(X,y,test_size=0.5, random_state=6)"
      ],
      "execution_count": 170,
      "outputs": []
    },
    {
      "cell_type": "code",
      "metadata": {
        "id": "K8-JZerl47nq",
        "outputId": "713262c1-920b-4a83-8237-1c9ef1900d8f",
        "colab": {
          "base_uri": "https://localhost:8080/"
        }
      },
      "source": [
        "X_train[:5,:6]"
      ],
      "execution_count": 171,
      "outputs": [
        {
          "output_type": "execute_result",
          "data": {
            "text/plain": [
              "array([[  0, 135, 234],\n",
              "       [  3, 150, 283],\n",
              "       [  2, 138, 175],\n",
              "       [  1, 130, 204],\n",
              "       [  2, 142, 177]])"
            ]
          },
          "metadata": {},
          "execution_count": 171
        }
      ]
    },
    {
      "cell_type": "code",
      "metadata": {
        "id": "jnf4bwcF5VOI"
      },
      "source": [
        "X_traintrain,X_val,y_traintrain,y_val = train_test_split(X_train,y_train,test_size=0.3, random_state=6)"
      ],
      "execution_count": 172,
      "outputs": []
    },
    {
      "cell_type": "code",
      "metadata": {
        "id": "XoV9QD3L5c51",
        "outputId": "9451c4f8-4182-43a8-e17d-f7419272e6b7",
        "colab": {
          "base_uri": "https://localhost:8080/"
        }
      },
      "source": [
        "X_traintrain"
      ],
      "execution_count": 173,
      "outputs": [
        {
          "output_type": "execute_result",
          "data": {
            "text/plain": [
              "array([[  1, 120, 284],\n",
              "       [  0, 112, 204],\n",
              "       [  0, 130, 206],\n",
              "       [  0, 145, 212],\n",
              "       [  0, 135, 254],\n",
              "       [  1, 135, 203],\n",
              "       [  0, 140, 187],\n",
              "       [  0, 120, 188],\n",
              "       [  3, 140, 199],\n",
              "       [  1, 130, 204],\n",
              "       [  0, 170, 326],\n",
              "       [  2,  94, 227],\n",
              "       [  1, 134, 201],\n",
              "       [  0, 164, 176],\n",
              "       [  0, 150, 244],\n",
              "       [  2, 140, 417],\n",
              "       [  2, 150, 168],\n",
              "       [  2, 118, 149],\n",
              "       [  2, 140, 308],\n",
              "       [  2, 100, 222],\n",
              "       [  1, 130, 204],\n",
              "       [  2, 120, 258],\n",
              "       [  0, 140, 192],\n",
              "       [  2, 150, 232],\n",
              "       [  2, 128, 229],\n",
              "       [  3, 134, 234],\n",
              "       [  2, 150, 212],\n",
              "       [  0, 125, 254],\n",
              "       [  3, 160, 234],\n",
              "       [  2, 130, 253],\n",
              "       [  0, 150, 270],\n",
              "       [  0, 180, 325],\n",
              "       [  2, 112, 250],\n",
              "       [  0, 117, 230],\n",
              "       [  0, 146, 218],\n",
              "       [  2, 150, 243],\n",
              "       [  1, 154, 232],\n",
              "       [  2, 108, 267],\n",
              "       [  0, 142, 226],\n",
              "       [  0, 120, 177],\n",
              "       [  1, 130, 245],\n",
              "       [  1, 120, 295],\n",
              "       [  0, 145, 282],\n",
              "       [  0, 160, 164],\n",
              "       [  3, 170, 227],\n",
              "       [  0, 112, 149],\n",
              "       [  2, 138, 223],\n",
              "       [  0, 125, 300],\n",
              "       [  0, 110, 275],\n",
              "       [  1, 101, 197],\n",
              "       [  2, 125, 273],\n",
              "       [  3, 110, 264],\n",
              "       [  1, 120, 263],\n",
              "       [  0, 130, 197],\n",
              "       [  2, 125, 245],\n",
              "       [  0, 120, 302],\n",
              "       [  1, 120, 240],\n",
              "       [  1, 122, 192],\n",
              "       [  1, 132, 342],\n",
              "       [  0, 130, 305],\n",
              "       [  0, 115, 260],\n",
              "       [  0, 138, 271],\n",
              "       [  0, 140, 394],\n",
              "       [  2,  94, 199],\n",
              "       [  0, 130, 283],\n",
              "       [  2, 130, 250],\n",
              "       [  1, 140, 195],\n",
              "       [  0, 174, 249],\n",
              "       [  1, 120, 325],\n",
              "       [  0, 120, 169],\n",
              "       [  0, 110, 206],\n",
              "       [  1, 156, 245],\n",
              "       [  2, 140, 197],\n",
              "       [  2, 140, 235],\n",
              "       [  0, 130, 303],\n",
              "       [  0, 138, 236],\n",
              "       [  0, 128, 205],\n",
              "       [  1, 110, 235],\n",
              "       [  0, 144, 200],\n",
              "       [  3, 150, 240],\n",
              "       [  0, 120, 267],\n",
              "       [  1, 135, 250],\n",
              "       [  0, 112, 290],\n",
              "       [  2, 102, 318],\n",
              "       [  0, 142, 309],\n",
              "       [  2, 130, 246],\n",
              "       [  2, 115, 564],\n",
              "       [  1, 130, 262],\n",
              "       [  2, 140, 254],\n",
              "       [  3, 118, 186],\n",
              "       [  0, 140, 298],\n",
              "       [  2, 150, 126],\n",
              "       [  0, 104, 208],\n",
              "       [  3, 120, 231],\n",
              "       [  0, 112, 230],\n",
              "       [  2, 110, 265],\n",
              "       [  3, 150, 283],\n",
              "       [  0, 140, 203],\n",
              "       [  0, 150, 407],\n",
              "       [  0, 140, 226],\n",
              "       [  0, 120, 198],\n",
              "       [  1, 120, 236],\n",
              "       [  2, 135, 304],\n",
              "       [  1, 120, 220],\n",
              "       [  2, 160, 201]])"
            ]
          },
          "metadata": {},
          "execution_count": 173
        }
      ]
    },
    {
      "cell_type": "markdown",
      "metadata": {
        "id": "FpoLD0vv3NRU"
      },
      "source": [
        "## ทดสอบหาโมเดลที่ดีที่สุดด้วย validation set"
      ]
    },
    {
      "cell_type": "markdown",
      "metadata": {
        "id": "rckGf9lW3XN5"
      },
      "source": [
        "### import"
      ]
    },
    {
      "cell_type": "code",
      "metadata": {
        "id": "qbn-mrWR3EMT"
      },
      "source": [
        "from sklearn.metrics import accuracy_score"
      ],
      "execution_count": 174,
      "outputs": []
    },
    {
      "cell_type": "code",
      "metadata": {
        "id": "EjqyrZN83sF0"
      },
      "source": [
        "t_result = mytree.predict(X_val)"
      ],
      "execution_count": 175,
      "outputs": []
    },
    {
      "cell_type": "code",
      "metadata": {
        "id": "R8QaIVrO5yZ9",
        "outputId": "f0ac6378-828e-42cf-89ac-ad1d59b35f5d",
        "colab": {
          "base_uri": "https://localhost:8080/"
        }
      },
      "source": [
        "t_result"
      ],
      "execution_count": 176,
      "outputs": [
        {
          "output_type": "execute_result",
          "data": {
            "text/plain": [
              "array([1, 0, 1, 0, 1, 0, 1, 0, 0, 1, 1, 1, 1, 0, 0, 0, 0, 0, 0, 0, 1, 0,\n",
              "       0, 1, 0, 0, 1, 0, 0, 1, 0, 0, 0, 0, 1, 0, 1, 0, 0, 0, 0, 1, 1, 1,\n",
              "       0, 0])"
            ]
          },
          "metadata": {},
          "execution_count": 176
        }
      ]
    },
    {
      "cell_type": "code",
      "metadata": {
        "id": "opfKOQoK51Q8",
        "outputId": "bbe589b2-5162-4fc5-a259-e30b97c32fb9",
        "colab": {
          "base_uri": "https://localhost:8080/"
        }
      },
      "source": [
        "y_val"
      ],
      "execution_count": 177,
      "outputs": [
        {
          "output_type": "execute_result",
          "data": {
            "text/plain": [
              "array([2, 2, 0, 1, 0, 0, 2, 0, 1, 0, 1, 0, 2, 2, 1, 0, 2, 0, 0, 2, 0, 0,\n",
              "       2, 0, 0, 2, 1, 1, 1, 0, 2, 0, 0, 2, 2, 2, 2, 2, 1, 0, 0, 0, 0, 2,\n",
              "       0, 1])"
            ]
          },
          "metadata": {},
          "execution_count": 177
        }
      ]
    },
    {
      "cell_type": "code",
      "metadata": {
        "id": "49cLLcaD3WbY",
        "outputId": "7b4f9eae-c04f-4405-9f44-159b18e447c3",
        "colab": {
          "base_uri": "https://localhost:8080/"
        }
      },
      "source": [
        "accuracy_score(y_val,t_result)"
      ],
      "execution_count": 178,
      "outputs": [
        {
          "output_type": "execute_result",
          "data": {
            "text/plain": [
              "0.30434782608695654"
            ]
          },
          "metadata": {},
          "execution_count": 178
        }
      ]
    },
    {
      "cell_type": "code",
      "metadata": {
        "id": "d_maBOW03cvA",
        "outputId": "54ba63ba-8f92-47c2-ef72-d00d7f73f5a9",
        "colab": {
          "base_uri": "https://localhost:8080/"
        }
      },
      "source": [
        "t2_result = mytree2.predict(X_val)\n",
        "accuracy_score(y_val,t2_result)"
      ],
      "execution_count": 179,
      "outputs": [
        {
          "output_type": "execute_result",
          "data": {
            "text/plain": [
              "0.32608695652173914"
            ]
          },
          "metadata": {},
          "execution_count": 179
        }
      ]
    },
    {
      "cell_type": "code",
      "metadata": {
        "id": "loBrHxmI6Eik",
        "outputId": "c2b88607-c998-4468-afd4-4b48a2c9ce15",
        "colab": {
          "base_uri": "https://localhost:8080/"
        }
      },
      "source": [
        "t3_result = mytree3.predict(X_val)\n",
        "accuracy_score(y_val,t3_result)"
      ],
      "execution_count": 180,
      "outputs": [
        {
          "output_type": "execute_result",
          "data": {
            "text/plain": [
              "0.30434782608695654"
            ]
          },
          "metadata": {},
          "execution_count": 180
        }
      ]
    },
    {
      "cell_type": "code",
      "metadata": {
        "id": "7bERLCQw6UwO",
        "outputId": "3cb41830-6de7-46e0-e44e-d8276646375c",
        "colab": {
          "base_uri": "https://localhost:8080/"
        }
      },
      "source": [
        "t4_result = mytree4.predict(X_val)\n",
        "accuracy_score(y_val,t4_result)"
      ],
      "execution_count": 181,
      "outputs": [
        {
          "output_type": "execute_result",
          "data": {
            "text/plain": [
              "0.21739130434782608"
            ]
          },
          "metadata": {},
          "execution_count": 181
        }
      ]
    },
    {
      "cell_type": "markdown",
      "metadata": {
        "id": "Bcl2BX1860fH"
      },
      "source": [
        "## mytree2 ให้ % ที่ดีที่สุดจึงนำมาสร้าง model "
      ]
    },
    {
      "cell_type": "code",
      "metadata": {
        "id": "7lnAGlgD6YA-",
        "outputId": "1feac891-0238-4279-f01b-6c7d34ba4492",
        "colab": {
          "base_uri": "https://localhost:8080/"
        }
      },
      "source": [
        "mytree2Full = DecisionTreeClassifier(criterion='entropy',max_leaf_nodes=5)\n",
        "mytree2Full.fit(X_train,y_train)"
      ],
      "execution_count": 182,
      "outputs": [
        {
          "output_type": "execute_result",
          "data": {
            "text/plain": [
              "DecisionTreeClassifier(ccp_alpha=0.0, class_weight=None, criterion='entropy',\n",
              "                       max_depth=None, max_features=None, max_leaf_nodes=5,\n",
              "                       min_impurity_decrease=0.0, min_impurity_split=None,\n",
              "                       min_samples_leaf=1, min_samples_split=2,\n",
              "                       min_weight_fraction_leaf=0.0, presort='deprecated',\n",
              "                       random_state=None, splitter='best')"
            ]
          },
          "metadata": {},
          "execution_count": 182
        }
      ]
    },
    {
      "cell_type": "markdown",
      "metadata": {
        "id": "d5tEsw8A7zuT"
      },
      "source": [
        "## การวัดผล"
      ]
    },
    {
      "cell_type": "code",
      "metadata": {
        "id": "Nzu3Y9bo7vsA",
        "outputId": "edeee337-d76b-4f1d-ad8e-356ac6ebfaae",
        "colab": {
          "base_uri": "https://localhost:8080/"
        }
      },
      "source": [
        "final_resule = mytree2Full.predict(X_test)\n",
        "accuracy_score(y_test,final_resule)"
      ],
      "execution_count": 185,
      "outputs": [
        {
          "output_type": "execute_result",
          "data": {
            "text/plain": [
              "0.35526315789473684"
            ]
          },
          "metadata": {},
          "execution_count": 185
        }
      ]
    },
    {
      "cell_type": "markdown",
      "metadata": {
        "id": "62larJiM8b0H"
      },
      "source": [
        "### สรุปผล การทำนายด้วยต้นไม้ตัดสินใจ ให้ความแม่นยำ 35 % "
      ]
    },
    {
      "cell_type": "markdown",
      "metadata": {
        "id": "vZ3Sx66x8GUJ"
      },
      "source": [
        "# Naive Bayes"
      ]
    },
    {
      "cell_type": "code",
      "metadata": {
        "id": "PRSqRYPa73mY"
      },
      "source": [
        "import pandas as pd"
      ],
      "execution_count": 186,
      "outputs": []
    },
    {
      "cell_type": "code",
      "metadata": {
        "id": "PHuXZZow8JOn"
      },
      "source": [
        "from sklearn.model_selection import train_test_split\n",
        "from sklearn.naive_bayes import MultinomialNB"
      ],
      "execution_count": 187,
      "outputs": []
    },
    {
      "cell_type": "code",
      "metadata": {
        "id": "hO8Bk5UT8Ohv"
      },
      "source": [
        "mnb = MultinomialNB()\n",
        "y_pred = mnb.fit(X_traintrain, y_traintrain).predict(X_val)"
      ],
      "execution_count": 188,
      "outputs": []
    },
    {
      "cell_type": "code",
      "metadata": {
        "id": "Z-0VwNGY8Szf",
        "outputId": "9c464d96-e422-4621-a4f7-9c0ea5cf7f79",
        "colab": {
          "base_uri": "https://localhost:8080/"
        }
      },
      "source": [
        "accuracy_score(y_val,y_pred)"
      ],
      "execution_count": 189,
      "outputs": [
        {
          "output_type": "execute_result",
          "data": {
            "text/plain": [
              "0.2608695652173913"
            ]
          },
          "metadata": {},
          "execution_count": 189
        }
      ]
    },
    {
      "cell_type": "markdown",
      "metadata": {
        "id": "Hss7L2Jo8okM"
      },
      "source": [
        "### สรุปผล การทำนายด้วยเทคนิค  Naive Bayes ให้ความแม่นยำ 26 %"
      ]
    },
    {
      "cell_type": "markdown",
      "metadata": {
        "id": "3Lr1n-Kj9J4n"
      },
      "source": [
        "#  KMeans"
      ]
    },
    {
      "cell_type": "markdown",
      "metadata": {
        "id": "APRkWG0Z9QNr"
      },
      "source": [
        "## Import"
      ]
    },
    {
      "cell_type": "code",
      "metadata": {
        "id": "DLojK7HI8Tf3"
      },
      "source": [
        "from sklearn.cluster import KMeans"
      ],
      "execution_count": 190,
      "outputs": []
    },
    {
      "cell_type": "markdown",
      "metadata": {
        "id": "v07tpoga9RrD"
      },
      "source": [
        "## Define"
      ]
    },
    {
      "cell_type": "code",
      "metadata": {
        "id": "WgD3Ug2L9M8e"
      },
      "source": [
        "kmeans = KMeans(n_clusters=3, random_state=4)"
      ],
      "execution_count": 195,
      "outputs": []
    },
    {
      "cell_type": "markdown",
      "metadata": {
        "id": "8o4YFZjX9lc4"
      },
      "source": [
        "## Fit-Predict"
      ]
    },
    {
      "cell_type": "code",
      "metadata": {
        "id": "Ug9uGeQ99X2_",
        "outputId": "59769721-b02b-40cd-a090-48a7246b7c9a",
        "colab": {
          "base_uri": "https://localhost:8080/"
        }
      },
      "source": [
        "y_clust = kmeans.fit_predict(X)\n",
        "y_clust"
      ],
      "execution_count": 196,
      "outputs": [
        {
          "output_type": "execute_result",
          "data": {
            "text/plain": [
              "array([0, 0, 1, 0, 2, 1, 2, 0, 1, 1, 0, 0, 0, 1, 0, 1, 2, 0, 0, 0, 0, 0,\n",
              "       0, 0, 1, 2, 1, 1, 2, 1, 1, 1, 1, 0, 1, 1, 2, 0, 0, 2, 2, 0, 1, 0,\n",
              "       2, 2, 0, 0, 1, 0, 0, 2, 0, 1, 0, 1, 1, 0, 1, 2, 0, 2, 1, 1, 1, 1,\n",
              "       1, 0, 1, 1, 0, 0, 1, 0, 1, 0, 0, 1, 1, 0, 0, 2, 2, 2, 0, 2, 0, 1,\n",
              "       1, 0, 0, 1, 0, 2, 1, 0, 2, 0, 2, 0, 0, 0, 1, 0, 1, 1, 0, 0, 0, 0,\n",
              "       2, 1, 2, 1, 0, 1, 1, 1, 1, 0, 2, 0, 0, 0, 1, 1, 1, 0, 1, 0, 1, 0,\n",
              "       2, 0, 2, 0, 1, 1, 1, 0, 2, 2, 1, 1, 1, 0, 0, 0, 0, 1, 0, 1, 0, 0,\n",
              "       1, 1, 0, 1, 1, 1, 0, 2, 1, 1, 1, 2, 0, 0, 0, 1, 0, 0, 0, 0, 1, 1,\n",
              "       0, 2, 1, 0, 2, 0, 2, 0, 0, 2, 0, 0, 0, 1, 2, 1, 1, 0, 1, 2, 0, 0,\n",
              "       0, 0, 1, 0, 0, 0, 1, 0, 0, 0, 1, 1, 0, 0, 1, 2, 0, 2, 0, 2, 0, 0,\n",
              "       2, 1, 0, 2, 0, 1, 0, 1, 2, 2, 0, 2, 2, 0, 2, 2, 2, 2, 2, 0, 0, 0,\n",
              "       1, 0, 1, 0, 2, 0, 2, 0, 2, 0, 2, 2, 0, 2, 0, 1, 0, 0, 0, 0, 0, 0,\n",
              "       1, 1, 2, 1, 0, 0, 0, 0, 0, 0, 0, 1, 1, 0, 2, 1, 2, 1, 1, 0, 1, 2,\n",
              "       1, 0, 2, 1, 1, 2, 0, 1, 1, 1, 1, 1, 0, 0, 1, 1, 0], dtype=int32)"
            ]
          },
          "metadata": {},
          "execution_count": 196
        }
      ]
    },
    {
      "cell_type": "code",
      "metadata": {
        "id": "PlNQZuAE9aWn",
        "outputId": "b1ed1d4c-343e-4bb1-bd75-a94198375239",
        "colab": {
          "base_uri": "https://localhost:8080/",
          "height": 281
        }
      },
      "source": [
        "plt.scatter(X[:,0],X[:,1],c=y_clust)"
      ],
      "execution_count": 197,
      "outputs": [
        {
          "output_type": "execute_result",
          "data": {
            "text/plain": [
              "<matplotlib.collections.PathCollection at 0x7f2631d303d0>"
            ]
          },
          "metadata": {},
          "execution_count": 197
        },
        {
          "output_type": "display_data",
          "data": {
            "image/png": "[encoded data removed]",
            "text/plain": [
              "<Figure size 432x288 with 1 Axes>"
            ]
          },
          "metadata": {
            "needs_background": "light"
          }
        }
      ]
    },
    {
      "cell_type": "code",
      "metadata": {
        "id": "c5pgHl4D9p89"
      },
      "source": [
        ""
      ],
      "execution_count": null,
      "outputs": []
    }
  ]
}