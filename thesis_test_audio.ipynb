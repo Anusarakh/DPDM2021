{
  "nbformat": 4,
  "nbformat_minor": 0,
  "metadata": {
    "colab": {
      "provenance": [],
      "include_colab_link": true
    },
    "kernelspec": {
      "name": "python3",
      "display_name": "Python 3"
    },
    "language_info": {
      "name": "python"
    }
  },
  "cells": [
    {
      "cell_type": "markdown",
      "metadata": {
        "id": "view-in-github",
        "colab_type": "text"
      },
      "source": [
        "<a href=\"https://colab.research.google.com/github/Anusarakh/DPDM2021/blob/main/thesis_test_audio.ipynb\" target=\"_parent\"><img src=\"https://colab.research.google.com/assets/colab-badge.svg\" alt=\"Open In Colab\"/></a>"
      ]
    },
    {
      "cell_type": "code",
      "source": [
        "import numpy as np\n",
        "import matplotlib.pyplot as plt\n",
        "%matplotlib inline\n",
        "import IPython.display\n",
        "import librosa\n",
        "import librosa.display"
      ],
      "metadata": {
        "id": "XjX3WhpW4X6A"
      },
      "execution_count": 2,
      "outputs": []
    },
    {
      "cell_type": "code",
      "source": [
        "from google.colab import drive # เชื่อม google drive\n",
        "drive.mount('/content/drive')\n",
        "     "
      ],
      "metadata": {
        "colab": {
          "base_uri": "https://localhost:8080/"
        },
        "id": "hfhejkPRtzeL",
        "outputId": "175e7ad0-4473-4d15-cded-c36390ae3e64"
      },
      "execution_count": 23,
      "outputs": [
        {
          "output_type": "stream",
          "name": "stdout",
          "text": [
            "Drive already mounted at /content/drive; to attempt to forcibly remount, call drive.mount(\"/content/drive\", force_remount=True).\n"
          ]
        }
      ]
    },
    {
      "cell_type": "code",
      "source": [
        "import os"
      ],
      "metadata": {
        "id": "AGB1zH4wt-27"
      },
      "execution_count": 10,
      "outputs": []
    },
    {
      "cell_type": "code",
      "source": [
        "audio_path = '/content/drive/My Drive/Thesis/music/audio-path.mp3'"
      ],
      "metadata": {
        "id": "JkjR83fB6VdV"
      },
      "execution_count": 19,
      "outputs": []
    },
    {
      "cell_type": "code",
      "source": [
        "audio_path"
      ],
      "metadata": {
        "id": "1lfGsEhkEU3y",
        "outputId": "14fdfbea-d10d-4b47-fe11-8bc1b8238dbf",
        "colab": {
          "base_uri": "https://localhost:8080/",
          "height": 36
        }
      },
      "execution_count": 20,
      "outputs": [
        {
          "output_type": "execute_result",
          "data": {
            "text/plain": [
              "'/content/drive/My Drive/Thesis/music/audio-path.mp3'"
            ],
            "application/vnd.google.colaboratory.intrinsic+json": {
              "type": "string"
            }
          },
          "metadata": {},
          "execution_count": 20
        }
      ]
    },
    {
      "cell_type": "markdown",
      "source": [
        "#Chromagram"
      ],
      "metadata": {
        "id": "4tM5syMtGx_S"
      }
    },
    {
      "cell_type": "code",
      "source": [
        "y, sr = librosa.load(librosa.ex('nutcracker'), duration=15)\n",
        "librosa.feature.chroma_stft(y=y, sr=sr)"
      ],
      "metadata": {
        "id": "sxODKWPxEvgO",
        "outputId": "b4fecb02-c8c9-42fa-8601-97da17889599",
        "colab": {
          "base_uri": "https://localhost:8080/"
        }
      },
      "execution_count": 14,
      "outputs": [
        {
          "output_type": "stream",
          "name": "stderr",
          "text": [
            "Downloading file 'Kevin_MacLeod_-_P_I_Tchaikovsky_Dance_of_the_Sugar_Plum_Fairy.ogg' from 'https://librosa.org/data/audio/Kevin_MacLeod_-_P_I_Tchaikovsky_Dance_of_the_Sugar_Plum_Fairy.ogg' to '/root/.cache/librosa'.\n"
          ]
        },
        {
          "output_type": "execute_result",
          "data": {
            "text/plain": [
              "array([[1.        , 0.95935124, 0.7387883 , ..., 0.00755056, 0.01836643,\n",
              "        0.08567178],\n",
              "       [0.6882955 , 0.7543166 , 0.5998206 , ..., 0.01626088, 0.04049946,\n",
              "        0.25854728],\n",
              "       [0.9198348 , 1.        , 1.        , ..., 0.00449658, 0.02254797,\n",
              "        0.22924352],\n",
              "       ...,\n",
              "       [0.66130984, 0.8103734 , 0.6553525 , ..., 0.22221026, 0.25886995,\n",
              "        0.24321483],\n",
              "       [0.48657253, 0.61233157, 0.83408636, ..., 1.        , 1.        ,\n",
              "        1.        ],\n",
              "       [0.6687189 , 0.6947152 , 0.9653259 , ..., 0.1949442 , 0.20514247,\n",
              "        0.31011918]], dtype=float32)"
            ]
          },
          "metadata": {},
          "execution_count": 14
        }
      ]
    },
    {
      "cell_type": "code",
      "source": [
        "S = np.abs(librosa.stft(y))\n",
        "chroma = librosa.feature.chroma_stft(S=S, sr=sr)\n",
        "chroma"
      ],
      "metadata": {
        "id": "VcBx-NskE6g6",
        "outputId": "eda62e45-e120-45e3-e77d-fff7e9ed6167",
        "colab": {
          "base_uri": "https://localhost:8080/"
        }
      },
      "execution_count": 15,
      "outputs": [
        {
          "output_type": "execute_result",
          "data": {
            "text/plain": [
              "array([[1.        , 0.9661165 , 0.7772282 , ..., 0.13318835, 0.18989752,\n",
              "        0.3935394 ],\n",
              "       [0.78305167, 0.8113872 , 0.68416506, ..., 0.20976837, 0.31590322,\n",
              "        0.5803333 ],\n",
              "       [0.98052114, 1.        , 1.        , ..., 0.09608693, 0.22252622,\n",
              "        0.5267887 ],\n",
              "       ...,\n",
              "       [0.78441614, 0.84875655, 0.761384  , ..., 0.3298685 , 0.41746518,\n",
              "        0.5233873 ],\n",
              "       [0.6365439 , 0.73317903, 0.86697483, ..., 1.        , 1.        ,\n",
              "        1.        ],\n",
              "       [0.72599566, 0.79662144, 0.8945896 , ..., 0.349559  , 0.39161816,\n",
              "        0.57734025]], dtype=float32)"
            ]
          },
          "metadata": {},
          "execution_count": 15
        }
      ]
    },
    {
      "cell_type": "code",
      "source": [
        "S = np.abs(librosa.stft(y, n_fft=4096))**2\n",
        "chroma = librosa.feature.chroma_stft(S=S, sr=sr)\n",
        "chroma"
      ],
      "metadata": {
        "id": "R0zWVgyZFIUk",
        "outputId": "e76b3299-0bd4-491c-a5b6-e7972a0ecbde",
        "colab": {
          "base_uri": "https://localhost:8080/"
        }
      },
      "execution_count": 16,
      "outputs": [
        {
          "output_type": "execute_result",
          "data": {
            "text/plain": [
              "array([[0.9815306 , 0.8530636 , 0.9129591 , ..., 0.0085975 , 0.0067877 ,\n",
              "        0.01750344],\n",
              "       [0.72599363, 0.63452905, 0.6162038 , ..., 0.0268957 , 0.02085953,\n",
              "        0.05817895],\n",
              "       [1.        , 1.        , 0.7568739 , ..., 0.0046199 , 0.0042472 ,\n",
              "        0.03661858],\n",
              "       ...,\n",
              "       [0.7490459 , 0.8445298 , 0.7528402 , ..., 0.184292  , 0.1752314 ,\n",
              "        0.19496618],\n",
              "       [0.59976447, 0.9504211 , 0.8419024 , ..., 1.        , 1.        ,\n",
              "        1.        ],\n",
              "       [0.73709357, 0.936421  , 0.8768868 , ..., 0.14062138, 0.14834358,\n",
              "        0.17013586]], dtype=float32)"
            ]
          },
          "metadata": {},
          "execution_count": 16
        }
      ]
    },
    {
      "cell_type": "code",
      "source": [
        "import matplotlib.pyplot as plt\n",
        "fig, ax = plt.subplots(nrows=2, sharex=True)\n",
        "img = librosa.display.specshow(librosa.amplitude_to_db(S, ref=np.max),\n",
        "                               y_axis='log', x_axis='time', ax=ax[0])\n",
        "fig.colorbar(img, ax=[ax[0]])\n",
        "ax[0].label_outer()\n",
        "img = librosa.display.specshow(chroma, y_axis='chroma', x_axis='time', ax=ax[1])\n",
        "fig.colorbar(img, ax=[ax[1]])"
      ],
      "metadata": {
        "id": "1ByW-C1iJ65u",
        "outputId": "a118c734-4570-45b8-d50e-bfc33447b768",
        "colab": {
          "base_uri": "https://localhost:8080/",
          "height": 472
        }
      },
      "execution_count": 28,
      "outputs": [
        {
          "output_type": "execute_result",
          "data": {
            "text/plain": [
              "<matplotlib.colorbar.Colorbar at 0x7f28b9786070>"
            ]
          },
          "metadata": {},
          "execution_count": 28
        },
        {
          "output_type": "display_data",
          "data": {
            "text/plain": [
              "<Figure size 640x480 with 4 Axes>"
            ],
            "image/png": "[encoded data removed]"
          },
          "metadata": {}
        }
      ]
    },
    {
      "cell_type": "markdown",
      "source": [
        "#Mel-frequencu cepstral coeffients (MFCC) \n",
        " สัมประสิทธิ์เซปตรัมสเกลเมล เป็นการปรับสเปกตรัมให้อยู่ในสเกลที่เหมาะสมสำหรับการรับฟังของมนุษย์"
      ],
      "metadata": {
        "id": "No9LsUWMHPMK"
      }
    },
    {
      "cell_type": "code",
      "source": [
        "y, sr = librosa.load(librosa.ex('nutcracker'))\n",
        "librosa.feature.mfcc(y=y, sr=sr)"
      ],
      "metadata": {
        "id": "_8yaMbE1HDNh",
        "outputId": "b34f2cbc-0f19-44cc-c007-f5034d92aaf1",
        "colab": {
          "base_uri": "https://localhost:8080/"
        }
      },
      "execution_count": 24,
      "outputs": [
        {
          "output_type": "execute_result",
          "data": {
            "text/plain": [
              "array([[-602.36005, -602.36005, -602.36005, ..., -602.36005, -602.36005,\n",
              "        -602.36005],\n",
              "       [   0.     ,    0.     ,    0.     , ...,    0.     ,    0.     ,\n",
              "           0.     ],\n",
              "       [   0.     ,    0.     ,    0.     , ...,    0.     ,    0.     ,\n",
              "           0.     ],\n",
              "       ...,\n",
              "       [   0.     ,    0.     ,    0.     , ...,    0.     ,    0.     ,\n",
              "           0.     ],\n",
              "       [   0.     ,    0.     ,    0.     , ...,    0.     ,    0.     ,\n",
              "           0.     ],\n",
              "       [   0.     ,    0.     ,    0.     , ...,    0.     ,    0.     ,\n",
              "           0.     ]], dtype=float32)"
            ]
          },
          "metadata": {},
          "execution_count": 24
        }
      ]
    },
    {
      "cell_type": "markdown",
      "source": [
        "##Using a different hop length and HTK-style Mel frequencies"
      ],
      "metadata": {
        "id": "rD9HFxjdH7SG"
      }
    },
    {
      "cell_type": "code",
      "source": [
        "librosa.feature.mfcc(y=y, sr=sr, hop_length=1024, htk=True)"
      ],
      "metadata": {
        "id": "7tu74NdeH9jd",
        "outputId": "d7dbc1fa-3290-44c7-8426-7b627bdb2fb7",
        "colab": {
          "base_uri": "https://localhost:8080/"
        }
      },
      "execution_count": 25,
      "outputs": [
        {
          "output_type": "execute_result",
          "data": {
            "text/plain": [
              "array([[-578.1849, -578.1849, -578.1849, ..., -578.1849, -578.1849,\n",
              "        -578.1849],\n",
              "       [   0.    ,    0.    ,    0.    , ...,    0.    ,    0.    ,\n",
              "           0.    ],\n",
              "       [   0.    ,    0.    ,    0.    , ...,    0.    ,    0.    ,\n",
              "           0.    ],\n",
              "       ...,\n",
              "       [   0.    ,    0.    ,    0.    , ...,    0.    ,    0.    ,\n",
              "           0.    ],\n",
              "       [   0.    ,    0.    ,    0.    , ...,    0.    ,    0.    ,\n",
              "           0.    ],\n",
              "       [   0.    ,    0.    ,    0.    , ...,    0.    ,    0.    ,\n",
              "           0.    ]], dtype=float32)"
            ]
          },
          "metadata": {},
          "execution_count": 25
        }
      ]
    },
    {
      "cell_type": "markdown",
      "source": [
        "##Use a pre-computed log-power Mel spectrogram"
      ],
      "metadata": {
        "id": "Hp5crIfbIwb-"
      }
    },
    {
      "cell_type": "code",
      "source": [
        "S = librosa.feature.melspectrogram(y=y, sr=sr, n_mels=128,\n",
        "                                   fmax=8000)\n",
        "librosa.feature.mfcc(S=librosa.power_to_db(S))"
      ],
      "metadata": {
        "id": "yqW6mbP8IyGu",
        "outputId": "86961d11-eb02-4bf4-ac99-c550560fc1d7",
        "colab": {
          "base_uri": "https://localhost:8080/"
        }
      },
      "execution_count": 26,
      "outputs": [
        {
          "output_type": "execute_result",
          "data": {
            "text/plain": [
              "array([[-603.1944, -603.1944, -603.1944, ..., -603.1944, -603.1944,\n",
              "        -603.1944],\n",
              "       [   0.    ,    0.    ,    0.    , ...,    0.    ,    0.    ,\n",
              "           0.    ],\n",
              "       [   0.    ,    0.    ,    0.    , ...,    0.    ,    0.    ,\n",
              "           0.    ],\n",
              "       ...,\n",
              "       [   0.    ,    0.    ,    0.    , ...,    0.    ,    0.    ,\n",
              "           0.    ],\n",
              "       [   0.    ,    0.    ,    0.    , ...,    0.    ,    0.    ,\n",
              "           0.    ],\n",
              "       [   0.    ,    0.    ,    0.    , ...,    0.    ,    0.    ,\n",
              "           0.    ]], dtype=float32)"
            ]
          },
          "metadata": {},
          "execution_count": 26
        }
      ]
    },
    {
      "cell_type": "code",
      "source": [
        "mfccs = librosa.feature.mfcc(y=y, sr=sr, n_mfcc=40)\n",
        "mfccs"
      ],
      "metadata": {
        "id": "trHcMISdI-qp",
        "outputId": "e471a35b-0fe9-4ec0-85f5-16439994d653",
        "colab": {
          "base_uri": "https://localhost:8080/"
        }
      },
      "execution_count": 27,
      "outputs": [
        {
          "output_type": "execute_result",
          "data": {
            "text/plain": [
              "array([[-602.36005, -602.36005, -602.36005, ..., -602.36005, -602.36005,\n",
              "        -602.36005],\n",
              "       [   0.     ,    0.     ,    0.     , ...,    0.     ,    0.     ,\n",
              "           0.     ],\n",
              "       [   0.     ,    0.     ,    0.     , ...,    0.     ,    0.     ,\n",
              "           0.     ],\n",
              "       ...,\n",
              "       [   0.     ,    0.     ,    0.     , ...,    0.     ,    0.     ,\n",
              "           0.     ],\n",
              "       [   0.     ,    0.     ,    0.     , ...,    0.     ,    0.     ,\n",
              "           0.     ],\n",
              "       [   0.     ,    0.     ,    0.     , ...,    0.     ,    0.     ,\n",
              "           0.     ]], dtype=float32)"
            ]
          },
          "metadata": {},
          "execution_count": 27
        }
      ]
    },
    {
      "cell_type": "code",
      "source": [
        "print(type(y), type(sr))"
      ],
      "metadata": {
        "colab": {
          "base_uri": "https://localhost:8080/"
        },
        "id": "BgBIlDrrwsss",
        "outputId": "70917ded-11e8-446c-bfdd-6939702f2302"
      },
      "execution_count": 21,
      "outputs": [
        {
          "output_type": "stream",
          "name": "stdout",
          "text": [
            "<class 'numpy.ndarray'> <class 'int'>\n"
          ]
        }
      ]
    },
    {
      "cell_type": "code",
      "source": [
        "librosa.load(audio_path, sr=44100) #ถอดรหัสเสียง 1 มิติ  #ต้องทำความเข้าใจตัวเลขในarray"
      ],
      "metadata": {
        "colab": {
          "base_uri": "https://localhost:8080/",
          "height": 571
        },
        "id": "b5CMqZnMxGha",
        "outputId": "4a30a9e3-55ca-4283-fc2a-8c859a9c17e5"
      },
      "execution_count": 22,
      "outputs": [
        {
          "output_type": "stream",
          "name": "stderr",
          "text": [
            "<ipython-input-22-289752fa308a>:1: UserWarning: PySoundFile failed. Trying audioread instead.\n",
            "  librosa.load(audio_path, sr=44100) #ถอดรหัสเสียง 1 มิติ  #ต้องทำความเข้าใจตัวเลขในarray\n",
            "/usr/local/lib/python3.9/dist-packages/librosa/core/audio.py:184: FutureWarning: librosa.core.audio.__audioread_load\n",
            "\tDeprecated as of librosa version 0.10.0.\n",
            "\tIt will be removed in librosa version 1.0.\n",
            "  y, sr_native = __audioread_load(path, offset, duration, dtype)\n"
          ]
        },
        {
          "output_type": "error",
          "ename": "FileNotFoundError",
          "evalue": "ignored",
          "traceback": [
            "\u001b[0;31m---------------------------------------------------------------------------\u001b[0m",
            "\u001b[0;31mLibsndfileError\u001b[0m                           Traceback (most recent call last)",
            "\u001b[0;32m/usr/local/lib/python3.9/dist-packages/librosa/core/audio.py\u001b[0m in \u001b[0;36mload\u001b[0;34m(path, sr, mono, offset, duration, dtype, res_type)\u001b[0m\n\u001b[1;32m    175\u001b[0m         \u001b[0;32mtry\u001b[0m\u001b[0;34m:\u001b[0m\u001b[0;34m\u001b[0m\u001b[0;34m\u001b[0m\u001b[0m\n\u001b[0;32m--> 176\u001b[0;31m             \u001b[0my\u001b[0m\u001b[0;34m,\u001b[0m \u001b[0msr_native\u001b[0m \u001b[0;34m=\u001b[0m \u001b[0m__soundfile_load\u001b[0m\u001b[0;34m(\u001b[0m\u001b[0mpath\u001b[0m\u001b[0;34m,\u001b[0m \u001b[0moffset\u001b[0m\u001b[0;34m,\u001b[0m \u001b[0mduration\u001b[0m\u001b[0;34m,\u001b[0m \u001b[0mdtype\u001b[0m\u001b[0;34m)\u001b[0m\u001b[0;34m\u001b[0m\u001b[0;34m\u001b[0m\u001b[0m\n\u001b[0m\u001b[1;32m    177\u001b[0m \u001b[0;34m\u001b[0m\u001b[0m\n",
            "\u001b[0;32m/usr/local/lib/python3.9/dist-packages/librosa/core/audio.py\u001b[0m in \u001b[0;36m__soundfile_load\u001b[0;34m(path, offset, duration, dtype)\u001b[0m\n\u001b[1;32m    208\u001b[0m         \u001b[0;31m# Otherwise, create the soundfile object\u001b[0m\u001b[0;34m\u001b[0m\u001b[0;34m\u001b[0m\u001b[0m\n\u001b[0;32m--> 209\u001b[0;31m         \u001b[0mcontext\u001b[0m \u001b[0;34m=\u001b[0m \u001b[0msf\u001b[0m\u001b[0;34m.\u001b[0m\u001b[0mSoundFile\u001b[0m\u001b[0;34m(\u001b[0m\u001b[0mpath\u001b[0m\u001b[0;34m)\u001b[0m\u001b[0;34m\u001b[0m\u001b[0;34m\u001b[0m\u001b[0m\n\u001b[0m\u001b[1;32m    210\u001b[0m \u001b[0;34m\u001b[0m\u001b[0m\n",
            "\u001b[0;32m/usr/local/lib/python3.9/dist-packages/soundfile.py\u001b[0m in \u001b[0;36m__init__\u001b[0;34m(self, file, mode, samplerate, channels, subtype, endian, format, closefd)\u001b[0m\n\u001b[1;32m    657\u001b[0m                                          format, subtype, endian)\n\u001b[0;32m--> 658\u001b[0;31m         \u001b[0mself\u001b[0m\u001b[0;34m.\u001b[0m\u001b[0m_file\u001b[0m \u001b[0;34m=\u001b[0m \u001b[0mself\u001b[0m\u001b[0;34m.\u001b[0m\u001b[0m_open\u001b[0m\u001b[0;34m(\u001b[0m\u001b[0mfile\u001b[0m\u001b[0;34m,\u001b[0m \u001b[0mmode_int\u001b[0m\u001b[0;34m,\u001b[0m \u001b[0mclosefd\u001b[0m\u001b[0;34m)\u001b[0m\u001b[0;34m\u001b[0m\u001b[0;34m\u001b[0m\u001b[0m\n\u001b[0m\u001b[1;32m    659\u001b[0m         \u001b[0;32mif\u001b[0m \u001b[0mset\u001b[0m\u001b[0;34m(\u001b[0m\u001b[0mmode\u001b[0m\u001b[0;34m)\u001b[0m\u001b[0;34m.\u001b[0m\u001b[0missuperset\u001b[0m\u001b[0;34m(\u001b[0m\u001b[0;34m'r+'\u001b[0m\u001b[0;34m)\u001b[0m \u001b[0;32mand\u001b[0m \u001b[0mself\u001b[0m\u001b[0;34m.\u001b[0m\u001b[0mseekable\u001b[0m\u001b[0;34m(\u001b[0m\u001b[0;34m)\u001b[0m\u001b[0;34m:\u001b[0m\u001b[0;34m\u001b[0m\u001b[0;34m\u001b[0m\u001b[0m\n",
            "\u001b[0;32m/usr/local/lib/python3.9/dist-packages/soundfile.py\u001b[0m in \u001b[0;36m_open\u001b[0;34m(self, file, mode_int, closefd)\u001b[0m\n\u001b[1;32m   1215\u001b[0m             \u001b[0merr\u001b[0m \u001b[0;34m=\u001b[0m \u001b[0m_snd\u001b[0m\u001b[0;34m.\u001b[0m\u001b[0msf_error\u001b[0m\u001b[0;34m(\u001b[0m\u001b[0mfile_ptr\u001b[0m\u001b[0;34m)\u001b[0m\u001b[0;34m\u001b[0m\u001b[0;34m\u001b[0m\u001b[0m\n\u001b[0;32m-> 1216\u001b[0;31m             \u001b[0;32mraise\u001b[0m \u001b[0mLibsndfileError\u001b[0m\u001b[0;34m(\u001b[0m\u001b[0merr\u001b[0m\u001b[0;34m,\u001b[0m \u001b[0mprefix\u001b[0m\u001b[0;34m=\u001b[0m\u001b[0;34m\"Error opening {0!r}: \"\u001b[0m\u001b[0;34m.\u001b[0m\u001b[0mformat\u001b[0m\u001b[0;34m(\u001b[0m\u001b[0mself\u001b[0m\u001b[0;34m.\u001b[0m\u001b[0mname\u001b[0m\u001b[0;34m)\u001b[0m\u001b[0;34m)\u001b[0m\u001b[0;34m\u001b[0m\u001b[0;34m\u001b[0m\u001b[0m\n\u001b[0m\u001b[1;32m   1217\u001b[0m         \u001b[0;32mif\u001b[0m \u001b[0mmode_int\u001b[0m \u001b[0;34m==\u001b[0m \u001b[0m_snd\u001b[0m\u001b[0;34m.\u001b[0m\u001b[0mSFM_WRITE\u001b[0m\u001b[0;34m:\u001b[0m\u001b[0;34m\u001b[0m\u001b[0;34m\u001b[0m\u001b[0m\n",
            "\u001b[0;31mLibsndfileError\u001b[0m: Error opening '/content/drive/My Drive/Thesis/music/audio-path.mp3': System error.",
            "\nDuring handling of the above exception, another exception occurred:\n",
            "\u001b[0;31mFileNotFoundError\u001b[0m                         Traceback (most recent call last)",
            "\u001b[0;32m<ipython-input-22-289752fa308a>\u001b[0m in \u001b[0;36m<cell line: 1>\u001b[0;34m()\u001b[0m\n\u001b[0;32m----> 1\u001b[0;31m \u001b[0mlibrosa\u001b[0m\u001b[0;34m.\u001b[0m\u001b[0mload\u001b[0m\u001b[0;34m(\u001b[0m\u001b[0maudio_path\u001b[0m\u001b[0;34m,\u001b[0m \u001b[0msr\u001b[0m\u001b[0;34m=\u001b[0m\u001b[0;36m44100\u001b[0m\u001b[0;34m)\u001b[0m \u001b[0;31m#ถอดรหัสเสียง 1 มิติ  #ต้องทำความเข้าใจตัวเลขในarray\u001b[0m\u001b[0;34m\u001b[0m\u001b[0;34m\u001b[0m\u001b[0m\n\u001b[0m",
            "\u001b[0;32m/usr/local/lib/python3.9/dist-packages/librosa/core/audio.py\u001b[0m in \u001b[0;36mload\u001b[0;34m(path, sr, mono, offset, duration, dtype, res_type)\u001b[0m\n\u001b[1;32m    182\u001b[0m                     \u001b[0;34m\"PySoundFile failed. Trying audioread instead.\"\u001b[0m\u001b[0;34m,\u001b[0m \u001b[0mstacklevel\u001b[0m\u001b[0;34m=\u001b[0m\u001b[0;36m2\u001b[0m\u001b[0;34m\u001b[0m\u001b[0;34m\u001b[0m\u001b[0m\n\u001b[1;32m    183\u001b[0m                 )\n\u001b[0;32m--> 184\u001b[0;31m                 \u001b[0my\u001b[0m\u001b[0;34m,\u001b[0m \u001b[0msr_native\u001b[0m \u001b[0;34m=\u001b[0m \u001b[0m__audioread_load\u001b[0m\u001b[0;34m(\u001b[0m\u001b[0mpath\u001b[0m\u001b[0;34m,\u001b[0m \u001b[0moffset\u001b[0m\u001b[0;34m,\u001b[0m \u001b[0mduration\u001b[0m\u001b[0;34m,\u001b[0m \u001b[0mdtype\u001b[0m\u001b[0;34m)\u001b[0m\u001b[0;34m\u001b[0m\u001b[0;34m\u001b[0m\u001b[0m\n\u001b[0m\u001b[1;32m    185\u001b[0m             \u001b[0;32melse\u001b[0m\u001b[0;34m:\u001b[0m\u001b[0;34m\u001b[0m\u001b[0;34m\u001b[0m\u001b[0m\n\u001b[1;32m    186\u001b[0m                 \u001b[0;32mraise\u001b[0m \u001b[0mexc\u001b[0m\u001b[0;34m\u001b[0m\u001b[0;34m\u001b[0m\u001b[0m\n",
            "\u001b[0;32m<decorator-gen-119>\u001b[0m in \u001b[0;36m__audioread_load\u001b[0;34m(path, offset, duration, dtype)\u001b[0m\n",
            "\u001b[0;32m/usr/local/lib/python3.9/dist-packages/librosa/util/decorators.py\u001b[0m in \u001b[0;36m__wrapper\u001b[0;34m(func, *args, **kwargs)\u001b[0m\n\u001b[1;32m     58\u001b[0m             \u001b[0mstacklevel\u001b[0m\u001b[0;34m=\u001b[0m\u001b[0;36m3\u001b[0m\u001b[0;34m,\u001b[0m  \u001b[0;31m# Would be 2, but the decorator adds a level\u001b[0m\u001b[0;34m\u001b[0m\u001b[0;34m\u001b[0m\u001b[0m\n\u001b[1;32m     59\u001b[0m         )\n\u001b[0;32m---> 60\u001b[0;31m         \u001b[0;32mreturn\u001b[0m \u001b[0mfunc\u001b[0m\u001b[0;34m(\u001b[0m\u001b[0;34m*\u001b[0m\u001b[0margs\u001b[0m\u001b[0;34m,\u001b[0m \u001b[0;34m**\u001b[0m\u001b[0mkwargs\u001b[0m\u001b[0;34m)\u001b[0m\u001b[0;34m\u001b[0m\u001b[0;34m\u001b[0m\u001b[0m\n\u001b[0m\u001b[1;32m     61\u001b[0m \u001b[0;34m\u001b[0m\u001b[0m\n\u001b[1;32m     62\u001b[0m     \u001b[0;32mreturn\u001b[0m \u001b[0mdecorator\u001b[0m\u001b[0;34m(\u001b[0m\u001b[0m__wrapper\u001b[0m\u001b[0;34m)\u001b[0m\u001b[0;34m\u001b[0m\u001b[0;34m\u001b[0m\u001b[0m\n",
            "\u001b[0;32m/usr/local/lib/python3.9/dist-packages/librosa/core/audio.py\u001b[0m in \u001b[0;36m__audioread_load\u001b[0;34m(path, offset, duration, dtype)\u001b[0m\n\u001b[1;32m    239\u001b[0m     \u001b[0;32melse\u001b[0m\u001b[0;34m:\u001b[0m\u001b[0;34m\u001b[0m\u001b[0;34m\u001b[0m\u001b[0m\n\u001b[1;32m    240\u001b[0m         \u001b[0;31m# If the input was not an audioread object, try to open it\u001b[0m\u001b[0;34m\u001b[0m\u001b[0;34m\u001b[0m\u001b[0m\n\u001b[0;32m--> 241\u001b[0;31m         \u001b[0mreader\u001b[0m \u001b[0;34m=\u001b[0m \u001b[0maudioread\u001b[0m\u001b[0;34m.\u001b[0m\u001b[0maudio_open\u001b[0m\u001b[0;34m(\u001b[0m\u001b[0mpath\u001b[0m\u001b[0;34m)\u001b[0m\u001b[0;34m\u001b[0m\u001b[0;34m\u001b[0m\u001b[0m\n\u001b[0m\u001b[1;32m    242\u001b[0m \u001b[0;34m\u001b[0m\u001b[0m\n\u001b[1;32m    243\u001b[0m     \u001b[0;32mwith\u001b[0m \u001b[0mreader\u001b[0m \u001b[0;32mas\u001b[0m \u001b[0minput_file\u001b[0m\u001b[0;34m:\u001b[0m\u001b[0;34m\u001b[0m\u001b[0;34m\u001b[0m\u001b[0m\n",
            "\u001b[0;32m/usr/local/lib/python3.9/dist-packages/audioread/__init__.py\u001b[0m in \u001b[0;36maudio_open\u001b[0;34m(path, backends)\u001b[0m\n\u001b[1;32m    125\u001b[0m     \u001b[0;32mfor\u001b[0m \u001b[0mBackendClass\u001b[0m \u001b[0;32min\u001b[0m \u001b[0mbackends\u001b[0m\u001b[0;34m:\u001b[0m\u001b[0;34m\u001b[0m\u001b[0;34m\u001b[0m\u001b[0m\n\u001b[1;32m    126\u001b[0m         \u001b[0;32mtry\u001b[0m\u001b[0;34m:\u001b[0m\u001b[0;34m\u001b[0m\u001b[0;34m\u001b[0m\u001b[0m\n\u001b[0;32m--> 127\u001b[0;31m             \u001b[0;32mreturn\u001b[0m \u001b[0mBackendClass\u001b[0m\u001b[0;34m(\u001b[0m\u001b[0mpath\u001b[0m\u001b[0;34m)\u001b[0m\u001b[0;34m\u001b[0m\u001b[0;34m\u001b[0m\u001b[0m\n\u001b[0m\u001b[1;32m    128\u001b[0m         \u001b[0;32mexcept\u001b[0m \u001b[0mDecodeError\u001b[0m\u001b[0;34m:\u001b[0m\u001b[0;34m\u001b[0m\u001b[0;34m\u001b[0m\u001b[0m\n\u001b[1;32m    129\u001b[0m             \u001b[0;32mpass\u001b[0m\u001b[0;34m\u001b[0m\u001b[0;34m\u001b[0m\u001b[0m\n",
            "\u001b[0;32m/usr/local/lib/python3.9/dist-packages/audioread/rawread.py\u001b[0m in \u001b[0;36m__init__\u001b[0;34m(self, filename)\u001b[0m\n\u001b[1;32m     57\u001b[0m     \"\"\"\n\u001b[1;32m     58\u001b[0m     \u001b[0;32mdef\u001b[0m \u001b[0m__init__\u001b[0m\u001b[0;34m(\u001b[0m\u001b[0mself\u001b[0m\u001b[0;34m,\u001b[0m \u001b[0mfilename\u001b[0m\u001b[0;34m)\u001b[0m\u001b[0;34m:\u001b[0m\u001b[0;34m\u001b[0m\u001b[0;34m\u001b[0m\u001b[0m\n\u001b[0;32m---> 59\u001b[0;31m         \u001b[0mself\u001b[0m\u001b[0;34m.\u001b[0m\u001b[0m_fh\u001b[0m \u001b[0;34m=\u001b[0m \u001b[0mopen\u001b[0m\u001b[0;34m(\u001b[0m\u001b[0mfilename\u001b[0m\u001b[0;34m,\u001b[0m \u001b[0;34m'rb'\u001b[0m\u001b[0;34m)\u001b[0m\u001b[0;34m\u001b[0m\u001b[0;34m\u001b[0m\u001b[0m\n\u001b[0m\u001b[1;32m     60\u001b[0m \u001b[0;34m\u001b[0m\u001b[0m\n\u001b[1;32m     61\u001b[0m         \u001b[0;32mtry\u001b[0m\u001b[0;34m:\u001b[0m\u001b[0;34m\u001b[0m\u001b[0;34m\u001b[0m\u001b[0m\n",
            "\u001b[0;31mFileNotFoundError\u001b[0m: [Errno 2] No such file or directory: '/content/drive/My Drive/Thesis/music/audio-path.mp3'"
          ]
        }
      ]
    },
    {
      "cell_type": "code",
      "source": [
        "import IPython.display as ipd\n",
        "ipd.Audio(audio_path)"
      ],
      "metadata": {
        "id": "JD9PpAaOyt9S"
      },
      "execution_count": null,
      "outputs": []
    },
    {
      "cell_type": "code",
      "source": [
        "#display waveform\n",
        "%matplotlib inline\n",
        "import matplotlib.pyplot as plt\n",
        "import librosa.display\n",
        "plt.figure(figsize=(14, 5))"
      ],
      "metadata": {
        "id": "sPpa2p1Sy7YR"
      },
      "execution_count": null,
      "outputs": []
    },
    {
      "cell_type": "code",
      "source": [
        "librosa.display.waveshow(y, sr=sr)"
      ],
      "metadata": {
        "id": "OMtmsYl8zRgV"
      },
      "execution_count": null,
      "outputs": []
    },
    {
      "cell_type": "code",
      "source": [
        "#display Spectrogram\n",
        "X = librosa.stft(y)\n",
        "Xdb = librosa.amplitude_to_db(abs(X))\n",
        "plt.figure(figsize=(14, 5))\n"
      ],
      "metadata": {
        "id": "3CYpOZUIz4pZ"
      },
      "execution_count": null,
      "outputs": []
    },
    {
      "cell_type": "code",
      "source": [
        "plt.figure(figsize=(14, 5))"
      ],
      "metadata": {
        "id": "-uQvj4BICftN"
      },
      "execution_count": null,
      "outputs": []
    },
    {
      "cell_type": "code",
      "source": [
        "librosa.display.specshow(Xdb, sr=sr, x_axis='time', y_axis='hz') \n",
        "#If to pring log of frequencies  \n",
        "#librosa.display.specshow(Xdb, sr=sr, x_axis='time', y_axis='log')\n"
      ],
      "metadata": {
        "id": "mKMnMz4OB-GZ"
      },
      "execution_count": null,
      "outputs": []
    },
    {
      "cell_type": "code",
      "source": [
        "plt.colorbar()"
      ],
      "metadata": {
        "id": "M-V_1MxlCTSx"
      },
      "execution_count": null,
      "outputs": []
    }
  ]
}