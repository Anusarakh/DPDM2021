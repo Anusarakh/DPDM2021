{
  "nbformat": 4,
  "nbformat_minor": 0,
  "metadata": {
    "colab": {
      "provenance": [],
      "authorship_tag": "ABX9TyMgwjdsg4ahXW4Q4LZ1FtZa",
      "include_colab_link": true
    },
    "kernelspec": {
      "name": "python3",
      "display_name": "Python 3"
    },
    "language_info": {
      "name": "python"
    }
  },
  "cells": [
    {
      "cell_type": "markdown",
      "metadata": {
        "id": "view-in-github",
        "colab_type": "text"
      },
      "source": [
        "<a href=\"https://colab.research.google.com/github/Anusarakh/DPDM2021/blob/main/thesis_test_audio.ipynb\" target=\"_parent\"><img src=\"https://colab.research.google.com/assets/colab-badge.svg\" alt=\"Open In Colab\"/></a>"
      ]
    },
    {
      "cell_type": "code",
      "source": [
        "import numpy as np\n",
        "import matplotlib.pyplot as plt\n",
        "%matplotlib inline\n",
        "import IPython.display\n",
        "import librosa\n",
        "import librosa.display"
      ],
      "metadata": {
        "id": "XjX3WhpW4X6A"
      },
      "execution_count": 13,
      "outputs": []
    },
    {
      "cell_type": "code",
      "source": [
        "from google.colab import drive # เชื่อม google drive\n",
        "drive.mount('/content/drive')\n",
        "     "
      ],
      "metadata": {
        "colab": {
          "base_uri": "https://localhost:8080/"
        },
        "id": "hfhejkPRtzeL",
        "outputId": "2f9bacac-c923-4a99-e58c-6680ca19e80e"
      },
      "execution_count": 14,
      "outputs": [
        {
          "output_type": "stream",
          "name": "stdout",
          "text": [
            "Drive already mounted at /content/drive; to attempt to forcibly remount, call drive.mount(\"/content/drive\", force_remount=True).\n"
          ]
        }
      ]
    },
    {
      "cell_type": "code",
      "source": [
        "import os"
      ],
      "metadata": {
        "id": "AGB1zH4wt-27"
      },
      "execution_count": 15,
      "outputs": []
    },
    {
      "cell_type": "code",
      "source": [
        "audio_path = '/content/drive/My Drive/Thesis/music/audio-path.mp3'"
      ],
      "metadata": {
        "id": "JkjR83fB6VdV"
      },
      "execution_count": 16,
      "outputs": []
    },
    {
      "cell_type": "code",
      "source": [
        "y , sr = librosa.load(audio_path)"
      ],
      "metadata": {
        "id": "nnbPSniEunV3"
      },
      "execution_count": 17,
      "outputs": []
    },
    {
      "cell_type": "code",
      "source": [
        "print(type(y), type(sr))"
      ],
      "metadata": {
        "colab": {
          "base_uri": "https://localhost:8080/"
        },
        "id": "BgBIlDrrwsss",
        "outputId": "1fffa5b0-2d95-41ca-e874-5996802d4b63"
      },
      "execution_count": 18,
      "outputs": [
        {
          "output_type": "stream",
          "name": "stdout",
          "text": [
            "<class 'numpy.ndarray'> <class 'int'>\n"
          ]
        }
      ]
    },
    {
      "cell_type": "code",
      "source": [
        "librosa.load(audio_path, sr=44100) #ถอดรหัสเสียง 1 มิติ  #ต้องทำความเข้าใจตัวเลขในarray"
      ],
      "metadata": {
        "colab": {
          "base_uri": "https://localhost:8080/"
        },
        "id": "b5CMqZnMxGha",
        "outputId": "f32f23e3-8435-48cf-b42d-df03a17ba4ac"
      },
      "execution_count": 19,
      "outputs": [
        {
          "output_type": "execute_result",
          "data": {
            "text/plain": [
              "(array([ 0.0000000e+00, -6.8437822e-16,  2.9958782e-16, ...,\n",
              "         4.5630366e-02,  4.4769701e-02,  4.3944925e-02], dtype=float32),\n",
              " 44100)"
            ]
          },
          "metadata": {},
          "execution_count": 19
        }
      ]
    },
    {
      "cell_type": "code",
      "source": [
        "import IPython.display as ipd\n",
        "ipd.Audio(audio_path)"
      ],
      "metadata": {
        "id": "JD9PpAaOyt9S"
      },
      "execution_count": 20,
      "outputs": []
    },
    {
      "cell_type": "code",
      "source": [
        "#display waveform\n",
        "%matplotlib inline\n",
        "import matplotlib.pyplot as plt\n",
        "import librosa.display\n",
        "plt.figure(figsize=(14, 5))"
      ],
      "metadata": {
        "id": "sPpa2p1Sy7YR"
      },
      "execution_count": 21,
      "outputs": []
    },
    {
      "cell_type": "code",
      "source": [
        "librosa.display.waveshow(y, sr=sr)"
      ],
      "metadata": {
        "id": "OMtmsYl8zRgV"
      },
      "execution_count": null,
      "outputs": []
    },
    {
      "cell_type": "code",
      "source": [
        "#display Spectrogram\n",
        "X = librosa.stft(y)\n",
        "Xdb = librosa.amplitude_to_db(abs(X))\n",
        "plt.figure(figsize=(14, 5))\n"
      ],
      "metadata": {
        "id": "3CYpOZUIz4pZ"
      },
      "execution_count": null,
      "outputs": []
    },
    {
      "cell_type": "code",
      "source": [
        "plt.figure(figsize=(14, 5))"
      ],
      "metadata": {
        "id": "-uQvj4BICftN"
      },
      "execution_count": null,
      "outputs": []
    },
    {
      "cell_type": "code",
      "source": [
        "librosa.display.specshow(Xdb, sr=sr, x_axis='time', y_axis='hz') \n",
        "#If to pring log of frequencies  \n",
        "#librosa.display.specshow(Xdb, sr=sr, x_axis='time', y_axis='log')\n"
      ],
      "metadata": {
        "id": "mKMnMz4OB-GZ"
      },
      "execution_count": null,
      "outputs": []
    },
    {
      "cell_type": "code",
      "source": [
        "plt.colorbar()"
      ],
      "metadata": {
        "id": "M-V_1MxlCTSx"
      },
      "execution_count": null,
      "outputs": []
    }
  ]
}